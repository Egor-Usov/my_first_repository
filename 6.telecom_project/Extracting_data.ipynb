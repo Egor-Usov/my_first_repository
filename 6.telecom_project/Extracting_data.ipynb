{
 "cells": [
  {
   "cell_type": "code",
   "execution_count": 2,
   "source": [
    "import pandas as pd\r\n",
    "from sqlalchemy import create_engine"
   ],
   "outputs": [],
   "metadata": {}
  },
  {
   "cell_type": "code",
   "execution_count": 12,
   "source": [
    "path_to_db = '/datasets/telecomm_csi.db' # путь к файлу\r\n",
    "engine = create_engine(f'sqlite:///C:\\python\\yandex_data\\second_combined_project\\\\telecomm_csi.db', echo = False)\r\n",
    "\r\n",
    "query = \"\"\"\r\n",
    "SELECT user_id,\r\n",
    "       lt_day,\r\n",
    "       case when lt_day < 365 then 'new'\r\n",
    "            else 'old'\r\n",
    "            END as is_new,\r\n",
    "       age,\r\n",
    "       case WHEN gender_segment = 1 THEN 'man'\r\n",
    "            ELSE 'woman'\r\n",
    "            END as gender_segment,\r\n",
    "       os_name,\r\n",
    "       cpe_type_name,\r\n",
    "       country,\r\n",
    "       city,\r\n",
    "       SUBSTR(age_segment.title,3) as age_segment,\r\n",
    "       SUBSTR(traffic_segment.title,3) as traffic_segment,\r\n",
    "       SUBSTR(lifetime_segment.title,3) as life_time_segment,\r\n",
    "       nps_score,\r\n",
    "       CASE WHEN nps_score > 8 THEN 'promoters'\r\n",
    "            WHEN nps_score > 6 THEN 'passives'\r\n",
    "            ELSE 'detractors'\r\n",
    "            END as nps_group\r\n",
    "FROM user\r\n",
    "INNER JOIN location USING(location_id)\r\n",
    "INNER JOIN age_segment USING(age_gr_id)\r\n",
    "INNER JOIN traffic_segment USING(tr_gr_id)\r\n",
    "INNER JOIN lifetime_segment USING(lt_gr_id)\r\n",
    "\"\"\"\r\n",
    "\r\n",
    "df = pd.read_sql(query, engine)"
   ],
   "outputs": [],
   "metadata": {}
  },
  {
   "cell_type": "code",
   "execution_count": 13,
   "source": [
    "df.isna().mean()"
   ],
   "outputs": [
    {
     "output_type": "execute_result",
     "data": {
      "text/plain": [
       "user_id              0.000000\n",
       "lt_day               0.000000\n",
       "is_new               0.000000\n",
       "age                  0.001103\n",
       "gender_segment       0.000000\n",
       "os_name              0.000000\n",
       "cpe_type_name        0.000000\n",
       "country              0.000000\n",
       "city                 0.000000\n",
       "age_segment          0.000000\n",
       "traffic_segment      0.000000\n",
       "life_time_segment    0.000000\n",
       "nps_score            0.000000\n",
       "nps_group            0.000000\n",
       "dtype: float64"
      ]
     },
     "metadata": {},
     "execution_count": 13
    }
   ],
   "metadata": {}
  },
  {
   "cell_type": "markdown",
   "source": [
    "Количество пропусков незначительно, можно от них избавится."
   ],
   "metadata": {}
  },
  {
   "cell_type": "code",
   "execution_count": 14,
   "source": [
    "df = df.dropna()"
   ],
   "outputs": [],
   "metadata": {}
  },
  {
   "cell_type": "code",
   "execution_count": 15,
   "source": [
    "df.isna().mean()"
   ],
   "outputs": [
    {
     "output_type": "execute_result",
     "data": {
      "text/plain": [
       "user_id              0.0\n",
       "lt_day               0.0\n",
       "is_new               0.0\n",
       "age                  0.0\n",
       "gender_segment       0.0\n",
       "os_name              0.0\n",
       "cpe_type_name        0.0\n",
       "country              0.0\n",
       "city                 0.0\n",
       "age_segment          0.0\n",
       "traffic_segment      0.0\n",
       "life_time_segment    0.0\n",
       "nps_score            0.0\n",
       "nps_group            0.0\n",
       "dtype: float64"
      ]
     },
     "metadata": {},
     "execution_count": 15
    }
   ],
   "metadata": {}
  },
  {
   "cell_type": "code",
   "execution_count": 11,
   "source": [
    "df.to_csv('comb_project_data.csv', index=False)"
   ],
   "outputs": [],
   "metadata": {}
  }
 ],
 "metadata": {
  "orig_nbformat": 4,
  "language_info": {
   "name": "python",
   "version": "3.9.2",
   "mimetype": "text/x-python",
   "codemirror_mode": {
    "name": "ipython",
    "version": 3
   },
   "pygments_lexer": "ipython3",
   "nbconvert_exporter": "python",
   "file_extension": ".py"
  },
  "kernelspec": {
   "name": "python3",
   "display_name": "Python 3.9.2 32-bit"
  },
  "interpreter": {
   "hash": "5e02d0efff813a9368c354e505ea65821711dca306094a6f79d155d3e22f7a88"
  }
 },
 "nbformat": 4,
 "nbformat_minor": 2
}