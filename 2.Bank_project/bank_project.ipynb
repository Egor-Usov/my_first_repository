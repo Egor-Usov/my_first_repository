{
 "cells": [
  {
   "cell_type": "markdown",
   "source": [
    "# Исследование надёжности заёмщиков\n",
    "\n",
    "Заказчик — кредитный отдел банка. Нужно разобраться, влияет ли семейное положение и количество детей клиента на факт погашения кредита в срок. Входные данные от банка — статистика о платёжеспособности клиентов.\n",
    "\n",
    "Результаты исследования будут учтены при построении модели **кредитного скоринга** — специальной системы, которая оценивает способность потенциального заёмщика вернуть кредит банку."
   ],
   "metadata": {}
  },
  {
   "cell_type": "markdown",
   "source": [
    "## Откройте файл с данными и изучите общую информацию"
   ],
   "metadata": {}
  },
  {
   "cell_type": "markdown",
   "source": [
    "Загружаем библиотеки, которые планируем использовать"
   ],
   "metadata": {}
  },
  {
   "cell_type": "code",
   "execution_count": 1,
   "source": [
    "import pandas as pd\r\n",
    "import seaborn\r\n",
    "from scipy.stats.mstats import mode\r\n",
    "import matplotlib.pyplot as plt\r\n",
    "from pymystem3 import Mystem"
   ],
   "outputs": [],
   "metadata": {}
  },
  {
   "cell_type": "markdown",
   "source": [
    "Открываем файл с данными"
   ],
   "metadata": {}
  },
  {
   "cell_type": "code",
   "execution_count": 2,
   "source": [
    "loaners_data = pd.read_csv('~/data.csv')"
   ],
   "outputs": [],
   "metadata": {}
  },
  {
   "cell_type": "code",
   "execution_count": 3,
   "source": [
    "loaners_data.head(10)"
   ],
   "outputs": [
    {
     "output_type": "execute_result",
     "data": {
      "text/plain": [
       "   children  days_employed  dob_years education  education_id  \\\n",
       "0         1   -8437.673028         42    высшее             0   \n",
       "1         1   -4024.803754         36   среднее             1   \n",
       "2         0   -5623.422610         33   Среднее             1   \n",
       "3         3   -4124.747207         32   среднее             1   \n",
       "4         0  340266.072047         53   среднее             1   \n",
       "5         0    -926.185831         27    высшее             0   \n",
       "6         0   -2879.202052         43    высшее             0   \n",
       "7         0    -152.779569         50   СРЕДНЕЕ             1   \n",
       "8         2   -6929.865299         35    ВЫСШЕЕ             0   \n",
       "9         0   -2188.756445         41   среднее             1   \n",
       "\n",
       "      family_status  family_status_id gender income_type  debt   total_income  \\\n",
       "0   женат / замужем                 0      F   сотрудник     0  253875.639453   \n",
       "1   женат / замужем                 0      F   сотрудник     0  112080.014102   \n",
       "2   женат / замужем                 0      M   сотрудник     0  145885.952297   \n",
       "3   женат / замужем                 0      M   сотрудник     0  267628.550329   \n",
       "4  гражданский брак                 1      F   пенсионер     0  158616.077870   \n",
       "5  гражданский брак                 1      M   компаньон     0  255763.565419   \n",
       "6   женат / замужем                 0      F   компаньон     0  240525.971920   \n",
       "7   женат / замужем                 0      M   сотрудник     0  135823.934197   \n",
       "8  гражданский брак                 1      F   сотрудник     0   95856.832424   \n",
       "9   женат / замужем                 0      M   сотрудник     0  144425.938277   \n",
       "\n",
       "                      purpose  \n",
       "0               покупка жилья  \n",
       "1     приобретение автомобиля  \n",
       "2               покупка жилья  \n",
       "3  дополнительное образование  \n",
       "4             сыграть свадьбу  \n",
       "5               покупка жилья  \n",
       "6           операции с жильем  \n",
       "7                 образование  \n",
       "8       на проведение свадьбы  \n",
       "9     покупка жилья для семьи  "
      ],
      "text/html": [
       "<div>\n",
       "<style scoped>\n",
       "    .dataframe tbody tr th:only-of-type {\n",
       "        vertical-align: middle;\n",
       "    }\n",
       "\n",
       "    .dataframe tbody tr th {\n",
       "        vertical-align: top;\n",
       "    }\n",
       "\n",
       "    .dataframe thead th {\n",
       "        text-align: right;\n",
       "    }\n",
       "</style>\n",
       "<table border=\"1\" class=\"dataframe\">\n",
       "  <thead>\n",
       "    <tr style=\"text-align: right;\">\n",
       "      <th></th>\n",
       "      <th>children</th>\n",
       "      <th>days_employed</th>\n",
       "      <th>dob_years</th>\n",
       "      <th>education</th>\n",
       "      <th>education_id</th>\n",
       "      <th>family_status</th>\n",
       "      <th>family_status_id</th>\n",
       "      <th>gender</th>\n",
       "      <th>income_type</th>\n",
       "      <th>debt</th>\n",
       "      <th>total_income</th>\n",
       "      <th>purpose</th>\n",
       "    </tr>\n",
       "  </thead>\n",
       "  <tbody>\n",
       "    <tr>\n",
       "      <td>0</td>\n",
       "      <td>1</td>\n",
       "      <td>-8437.673028</td>\n",
       "      <td>42</td>\n",
       "      <td>высшее</td>\n",
       "      <td>0</td>\n",
       "      <td>женат / замужем</td>\n",
       "      <td>0</td>\n",
       "      <td>F</td>\n",
       "      <td>сотрудник</td>\n",
       "      <td>0</td>\n",
       "      <td>253875.639453</td>\n",
       "      <td>покупка жилья</td>\n",
       "    </tr>\n",
       "    <tr>\n",
       "      <td>1</td>\n",
       "      <td>1</td>\n",
       "      <td>-4024.803754</td>\n",
       "      <td>36</td>\n",
       "      <td>среднее</td>\n",
       "      <td>1</td>\n",
       "      <td>женат / замужем</td>\n",
       "      <td>0</td>\n",
       "      <td>F</td>\n",
       "      <td>сотрудник</td>\n",
       "      <td>0</td>\n",
       "      <td>112080.014102</td>\n",
       "      <td>приобретение автомобиля</td>\n",
       "    </tr>\n",
       "    <tr>\n",
       "      <td>2</td>\n",
       "      <td>0</td>\n",
       "      <td>-5623.422610</td>\n",
       "      <td>33</td>\n",
       "      <td>Среднее</td>\n",
       "      <td>1</td>\n",
       "      <td>женат / замужем</td>\n",
       "      <td>0</td>\n",
       "      <td>M</td>\n",
       "      <td>сотрудник</td>\n",
       "      <td>0</td>\n",
       "      <td>145885.952297</td>\n",
       "      <td>покупка жилья</td>\n",
       "    </tr>\n",
       "    <tr>\n",
       "      <td>3</td>\n",
       "      <td>3</td>\n",
       "      <td>-4124.747207</td>\n",
       "      <td>32</td>\n",
       "      <td>среднее</td>\n",
       "      <td>1</td>\n",
       "      <td>женат / замужем</td>\n",
       "      <td>0</td>\n",
       "      <td>M</td>\n",
       "      <td>сотрудник</td>\n",
       "      <td>0</td>\n",
       "      <td>267628.550329</td>\n",
       "      <td>дополнительное образование</td>\n",
       "    </tr>\n",
       "    <tr>\n",
       "      <td>4</td>\n",
       "      <td>0</td>\n",
       "      <td>340266.072047</td>\n",
       "      <td>53</td>\n",
       "      <td>среднее</td>\n",
       "      <td>1</td>\n",
       "      <td>гражданский брак</td>\n",
       "      <td>1</td>\n",
       "      <td>F</td>\n",
       "      <td>пенсионер</td>\n",
       "      <td>0</td>\n",
       "      <td>158616.077870</td>\n",
       "      <td>сыграть свадьбу</td>\n",
       "    </tr>\n",
       "    <tr>\n",
       "      <td>5</td>\n",
       "      <td>0</td>\n",
       "      <td>-926.185831</td>\n",
       "      <td>27</td>\n",
       "      <td>высшее</td>\n",
       "      <td>0</td>\n",
       "      <td>гражданский брак</td>\n",
       "      <td>1</td>\n",
       "      <td>M</td>\n",
       "      <td>компаньон</td>\n",
       "      <td>0</td>\n",
       "      <td>255763.565419</td>\n",
       "      <td>покупка жилья</td>\n",
       "    </tr>\n",
       "    <tr>\n",
       "      <td>6</td>\n",
       "      <td>0</td>\n",
       "      <td>-2879.202052</td>\n",
       "      <td>43</td>\n",
       "      <td>высшее</td>\n",
       "      <td>0</td>\n",
       "      <td>женат / замужем</td>\n",
       "      <td>0</td>\n",
       "      <td>F</td>\n",
       "      <td>компаньон</td>\n",
       "      <td>0</td>\n",
       "      <td>240525.971920</td>\n",
       "      <td>операции с жильем</td>\n",
       "    </tr>\n",
       "    <tr>\n",
       "      <td>7</td>\n",
       "      <td>0</td>\n",
       "      <td>-152.779569</td>\n",
       "      <td>50</td>\n",
       "      <td>СРЕДНЕЕ</td>\n",
       "      <td>1</td>\n",
       "      <td>женат / замужем</td>\n",
       "      <td>0</td>\n",
       "      <td>M</td>\n",
       "      <td>сотрудник</td>\n",
       "      <td>0</td>\n",
       "      <td>135823.934197</td>\n",
       "      <td>образование</td>\n",
       "    </tr>\n",
       "    <tr>\n",
       "      <td>8</td>\n",
       "      <td>2</td>\n",
       "      <td>-6929.865299</td>\n",
       "      <td>35</td>\n",
       "      <td>ВЫСШЕЕ</td>\n",
       "      <td>0</td>\n",
       "      <td>гражданский брак</td>\n",
       "      <td>1</td>\n",
       "      <td>F</td>\n",
       "      <td>сотрудник</td>\n",
       "      <td>0</td>\n",
       "      <td>95856.832424</td>\n",
       "      <td>на проведение свадьбы</td>\n",
       "    </tr>\n",
       "    <tr>\n",
       "      <td>9</td>\n",
       "      <td>0</td>\n",
       "      <td>-2188.756445</td>\n",
       "      <td>41</td>\n",
       "      <td>среднее</td>\n",
       "      <td>1</td>\n",
       "      <td>женат / замужем</td>\n",
       "      <td>0</td>\n",
       "      <td>M</td>\n",
       "      <td>сотрудник</td>\n",
       "      <td>0</td>\n",
       "      <td>144425.938277</td>\n",
       "      <td>покупка жилья для семьи</td>\n",
       "    </tr>\n",
       "  </tbody>\n",
       "</table>\n",
       "</div>"
      ]
     },
     "metadata": {},
     "execution_count": 3
    }
   ],
   "metadata": {}
  },
  {
   "cell_type": "markdown",
   "source": [
    "Проведем предварительный обзор данных. По всей видимости данных достаточно для ответа на поставленные заказчиком вопросы."
   ],
   "metadata": {}
  },
  {
   "cell_type": "code",
   "execution_count": 4,
   "source": [
    "loaners_data.info()"
   ],
   "outputs": [
    {
     "output_type": "stream",
     "name": "stdout",
     "text": [
      "<class 'pandas.core.frame.DataFrame'>\n",
      "RangeIndex: 21525 entries, 0 to 21524\n",
      "Data columns (total 12 columns):\n",
      "children            21525 non-null int64\n",
      "days_employed       19351 non-null float64\n",
      "dob_years           21525 non-null int64\n",
      "education           21525 non-null object\n",
      "education_id        21525 non-null int64\n",
      "family_status       21525 non-null object\n",
      "family_status_id    21525 non-null int64\n",
      "gender              21525 non-null object\n",
      "income_type         21525 non-null object\n",
      "debt                21525 non-null int64\n",
      "total_income        19351 non-null float64\n",
      "purpose             21525 non-null object\n",
      "dtypes: float64(2), int64(5), object(5)\n",
      "memory usage: 2.0+ MB\n"
     ]
    }
   ],
   "metadata": {}
  },
  {
   "cell_type": "markdown",
   "source": [
    "Таблица имеет 12 столбцов и содержит 21525 строк.\n",
    "\n",
    "Для столбцов предоставлено следующее описание:\n",
    "\n",
    "- children — количество детей в семье (тип данных int64)\n",
    "\n",
    "- days_employed — общий трудовой стаж в днях (тип данных float64) **имеются пропуски значений**\n",
    "\n",
    "- dob_years — возраст клиента в годах (тип данных int64)\n",
    "\n",
    "- education — уровень образования клиента (тип данных object)\n",
    "\n",
    "- education_id — идентификатор уровня образования (тип данных int64)\n",
    "\n",
    "- family_status — семейное положение (тип данных object)\n",
    "\n",
    "- family_status_id — идентификатор семейного положения (тип данных int64)\n",
    "\n",
    "- gender — пол клиента (тип данных object)\n",
    "\n",
    "- income_type — тип занятости (тип данных object)\n",
    "\n",
    "- debt — имел ли задолженность по возврату кредитов (тип данных int64)\n",
    "\n",
    "- total_income — ежемесячный доход (тип данных float64) **имеются пропуски значений, количество пропусков значений равно количеству пропусков в столбце days_employed**\n",
    "\n",
    "- purpose — цель получения кредита (тип данных object)\n"
   ],
   "metadata": {}
  },
  {
   "cell_type": "code",
   "execution_count": 5,
   "source": [
    "loaners_data.describe()"
   ],
   "outputs": [
    {
     "output_type": "execute_result",
     "data": {
      "text/plain": [
       "           children  days_employed     dob_years  education_id  \\\n",
       "count  21525.000000   19351.000000  21525.000000  21525.000000   \n",
       "mean       0.538908   63046.497661     43.293380      0.817236   \n",
       "std        1.381587  140827.311974     12.574584      0.548138   \n",
       "min       -1.000000  -18388.949901      0.000000      0.000000   \n",
       "25%        0.000000   -2747.423625     33.000000      1.000000   \n",
       "50%        0.000000   -1203.369529     42.000000      1.000000   \n",
       "75%        1.000000    -291.095954     53.000000      1.000000   \n",
       "max       20.000000  401755.400475     75.000000      4.000000   \n",
       "\n",
       "       family_status_id          debt  total_income  \n",
       "count      21525.000000  21525.000000  1.935100e+04  \n",
       "mean           0.972544      0.080883  1.674223e+05  \n",
       "std            1.420324      0.272661  1.029716e+05  \n",
       "min            0.000000      0.000000  2.066726e+04  \n",
       "25%            0.000000      0.000000  1.030532e+05  \n",
       "50%            0.000000      0.000000  1.450179e+05  \n",
       "75%            1.000000      0.000000  2.034351e+05  \n",
       "max            4.000000      1.000000  2.265604e+06  "
      ],
      "text/html": [
       "<div>\n",
       "<style scoped>\n",
       "    .dataframe tbody tr th:only-of-type {\n",
       "        vertical-align: middle;\n",
       "    }\n",
       "\n",
       "    .dataframe tbody tr th {\n",
       "        vertical-align: top;\n",
       "    }\n",
       "\n",
       "    .dataframe thead th {\n",
       "        text-align: right;\n",
       "    }\n",
       "</style>\n",
       "<table border=\"1\" class=\"dataframe\">\n",
       "  <thead>\n",
       "    <tr style=\"text-align: right;\">\n",
       "      <th></th>\n",
       "      <th>children</th>\n",
       "      <th>days_employed</th>\n",
       "      <th>dob_years</th>\n",
       "      <th>education_id</th>\n",
       "      <th>family_status_id</th>\n",
       "      <th>debt</th>\n",
       "      <th>total_income</th>\n",
       "    </tr>\n",
       "  </thead>\n",
       "  <tbody>\n",
       "    <tr>\n",
       "      <td>count</td>\n",
       "      <td>21525.000000</td>\n",
       "      <td>19351.000000</td>\n",
       "      <td>21525.000000</td>\n",
       "      <td>21525.000000</td>\n",
       "      <td>21525.000000</td>\n",
       "      <td>21525.000000</td>\n",
       "      <td>1.935100e+04</td>\n",
       "    </tr>\n",
       "    <tr>\n",
       "      <td>mean</td>\n",
       "      <td>0.538908</td>\n",
       "      <td>63046.497661</td>\n",
       "      <td>43.293380</td>\n",
       "      <td>0.817236</td>\n",
       "      <td>0.972544</td>\n",
       "      <td>0.080883</td>\n",
       "      <td>1.674223e+05</td>\n",
       "    </tr>\n",
       "    <tr>\n",
       "      <td>std</td>\n",
       "      <td>1.381587</td>\n",
       "      <td>140827.311974</td>\n",
       "      <td>12.574584</td>\n",
       "      <td>0.548138</td>\n",
       "      <td>1.420324</td>\n",
       "      <td>0.272661</td>\n",
       "      <td>1.029716e+05</td>\n",
       "    </tr>\n",
       "    <tr>\n",
       "      <td>min</td>\n",
       "      <td>-1.000000</td>\n",
       "      <td>-18388.949901</td>\n",
       "      <td>0.000000</td>\n",
       "      <td>0.000000</td>\n",
       "      <td>0.000000</td>\n",
       "      <td>0.000000</td>\n",
       "      <td>2.066726e+04</td>\n",
       "    </tr>\n",
       "    <tr>\n",
       "      <td>25%</td>\n",
       "      <td>0.000000</td>\n",
       "      <td>-2747.423625</td>\n",
       "      <td>33.000000</td>\n",
       "      <td>1.000000</td>\n",
       "      <td>0.000000</td>\n",
       "      <td>0.000000</td>\n",
       "      <td>1.030532e+05</td>\n",
       "    </tr>\n",
       "    <tr>\n",
       "      <td>50%</td>\n",
       "      <td>0.000000</td>\n",
       "      <td>-1203.369529</td>\n",
       "      <td>42.000000</td>\n",
       "      <td>1.000000</td>\n",
       "      <td>0.000000</td>\n",
       "      <td>0.000000</td>\n",
       "      <td>1.450179e+05</td>\n",
       "    </tr>\n",
       "    <tr>\n",
       "      <td>75%</td>\n",
       "      <td>1.000000</td>\n",
       "      <td>-291.095954</td>\n",
       "      <td>53.000000</td>\n",
       "      <td>1.000000</td>\n",
       "      <td>1.000000</td>\n",
       "      <td>0.000000</td>\n",
       "      <td>2.034351e+05</td>\n",
       "    </tr>\n",
       "    <tr>\n",
       "      <td>max</td>\n",
       "      <td>20.000000</td>\n",
       "      <td>401755.400475</td>\n",
       "      <td>75.000000</td>\n",
       "      <td>4.000000</td>\n",
       "      <td>4.000000</td>\n",
       "      <td>1.000000</td>\n",
       "      <td>2.265604e+06</td>\n",
       "    </tr>\n",
       "  </tbody>\n",
       "</table>\n",
       "</div>"
      ]
     },
     "metadata": {},
     "execution_count": 5
    }
   ],
   "metadata": {}
  },
  {
   "cell_type": "markdown",
   "source": [
    "По описанию числовых значений в таблице можно сделать следующие предположения:\n",
    "- В столбце children имеются значения 20 и -1, которые вероятнее всего являются опечатками, которые нужно исправить на этапе предобработки, поскольку данные этого столбца важны для ответа на вопрос заказчика\n",
    "- В столбце days_emloyed содержатся странные значения, которые не соответствуют описанию данных, предоставленных заказчиком, для более детального описания необходимо взглянуть на значения в столбце более пристально. Хотя возможно это не потребуется, поскольку заказчика в настоящее время не интересует зависимость возврата долга от текущего трудового стажа. Так же в этом столбце присутствут пропуски.\n",
    "- В столбце dob_years настораживает только значения равные 0, для более точного предположения необходимо взглянуть на столбец отдельно. Так же логично было бы перевести значения к типу целых чисел, поскольку описание предполагает, что столбец содержит количество полных лет. В целом же заказчика не интересует зависимость возврата кредита от возраста заемщика.\n",
    "- В столбце education_id содержатся значения кодов для видов образования. На первый взгляд данные хорошие.\n",
    "- В столбце family_status_id содержатся значения кодов для видов семейного пложения. На первый взгляд данные хорошие.\n",
    "- В столбце debt содержатся сведения о просрочке платежа по кредиту. Самый важный столбец, по которому будет проводится все исследование. На первый взгляд данные хорошие. Уже на этом этапе видно, что в среднем по выборке доля кредитов с просроченными платежами составляет приблизительно 8.1%.\n",
    "- В столбце total_income содержатся данные о доходе заемщиков. По первому взгляду на описание сложно сказать все ли с хорошо со значениями, необходимо взглянуть на столбец внимательнее"
   ],
   "metadata": {}
  },
  {
   "cell_type": "code",
   "execution_count": 6,
   "source": [
    "loaners_data.education.value_counts()"
   ],
   "outputs": [
    {
     "output_type": "execute_result",
     "data": {
      "text/plain": [
       "среднее                13750\n",
       "высшее                  4718\n",
       "СРЕДНЕЕ                  772\n",
       "Среднее                  711\n",
       "неоконченное высшее      668\n",
       "ВЫСШЕЕ                   274\n",
       "Высшее                   268\n",
       "начальное                250\n",
       "Неоконченное высшее       47\n",
       "НЕОКОНЧЕННОЕ ВЫСШЕЕ       29\n",
       "НАЧАЛЬНОЕ                 17\n",
       "Начальное                 15\n",
       "ученая степень             4\n",
       "УЧЕНАЯ СТЕПЕНЬ             1\n",
       "Ученая степень             1\n",
       "Name: education, dtype: int64"
      ]
     },
     "metadata": {},
     "execution_count": 6
    }
   ],
   "metadata": {}
  },
  {
   "cell_type": "markdown",
   "source": [
    "В столбце education большое количество неявных дубликатов."
   ],
   "metadata": {}
  },
  {
   "cell_type": "code",
   "execution_count": 7,
   "source": [
    "loaners_data.family_status.value_counts()"
   ],
   "outputs": [
    {
     "output_type": "execute_result",
     "data": {
      "text/plain": [
       "женат / замужем          12380\n",
       "гражданский брак          4177\n",
       "Не женат / не замужем     2813\n",
       "в разводе                 1195\n",
       "вдовец / вдова             960\n",
       "Name: family_status, dtype: int64"
      ]
     },
     "metadata": {},
     "execution_count": 7
    }
   ],
   "metadata": {}
  },
  {
   "cell_type": "markdown",
   "source": [
    "В столбце family_status неявных дубликатов невыявлено. Столбец можно использовать для выделения категорий."
   ],
   "metadata": {}
  },
  {
   "cell_type": "code",
   "execution_count": 8,
   "source": [
    "loaners_data.gender.value_counts()"
   ],
   "outputs": [
    {
     "output_type": "execute_result",
     "data": {
      "text/plain": [
       "F      14236\n",
       "M       7288\n",
       "XNA        1\n",
       "Name: gender, dtype: int64"
      ]
     },
     "metadata": {},
     "execution_count": 8
    }
   ],
   "metadata": {}
  },
  {
   "cell_type": "markdown",
   "source": [
    "В столбце gender данные выглядят хорошо, за исключением одного значения, возможно стоить заменить его на F поскольку в выборке значение F встречается чаще"
   ],
   "metadata": {}
  },
  {
   "cell_type": "code",
   "execution_count": 9,
   "source": [
    "loaners_data.income_type.value_counts()"
   ],
   "outputs": [
    {
     "output_type": "execute_result",
     "data": {
      "text/plain": [
       "сотрудник          11119\n",
       "компаньон           5085\n",
       "пенсионер           3856\n",
       "госслужащий         1459\n",
       "безработный            2\n",
       "предприниматель        2\n",
       "студент                1\n",
       "в декрете              1\n",
       "Name: income_type, dtype: int64"
      ]
     },
     "metadata": {},
     "execution_count": 9
    }
   ],
   "metadata": {}
  },
  {
   "cell_type": "markdown",
   "source": [
    "В столбце income_type имеются единичные значения, необходимо проверить как эти значения влияют на распределение среднего дохода по выборке."
   ],
   "metadata": {}
  },
  {
   "cell_type": "code",
   "execution_count": 10,
   "source": [
    "income_plot = seaborn.barplot(x=loaners_data.income_type, y=loaners_data.total_income)\r\n",
    "income_plot.set(xlabel='Вид дохода', ylabel='Значение дохода', title='Распределение размера дохода по видам дохода')\r\n",
    "plt.xticks(rotation=45)\r\n",
    "plt.show()"
   ],
   "outputs": [
    {
     "output_type": "display_data",
     "data": {
      "text/plain": [
       "<Figure size 432x288 with 1 Axes>"
      ],
      "image/png": "[encoded data removed]"
     },
     "metadata": {
      "needs_background": "light"
     }
    }
   ],
   "metadata": {}
  },
  {
   "cell_type": "markdown",
   "source": [
    "На графике видно, что доход предпринимателей значительно превышает доход всех остальных категорий, а значение в декрете значительно меньше остальных. Такие выбросы сильно исказят среднее значение по всей выборке. Для заполнения пропусков необходимо использовать среднее значение по каждой категории отдельно."
   ],
   "metadata": {}
  },
  {
   "cell_type": "code",
   "execution_count": 11,
   "source": [
    "loaners_data.purpose.value_counts()"
   ],
   "outputs": [
    {
     "output_type": "execute_result",
     "data": {
      "text/plain": [
       "свадьба                                   797\n",
       "на проведение свадьбы                     777\n",
       "сыграть свадьбу                           774\n",
       "операции с недвижимостью                  676\n",
       "покупка коммерческой недвижимости         664\n",
       "покупка жилья для сдачи                   653\n",
       "операции с жильем                         653\n",
       "операции с коммерческой недвижимостью     651\n",
       "покупка жилья                             647\n",
       "жилье                                     647\n",
       "покупка жилья для семьи                   641\n",
       "строительство собственной недвижимости    635\n",
       "недвижимость                              634\n",
       "операции со своей недвижимостью           630\n",
       "строительство жилой недвижимости          626\n",
       "покупка недвижимости                      624\n",
       "покупка своего жилья                      620\n",
       "строительство недвижимости                620\n",
       "ремонт жилью                              612\n",
       "покупка жилой недвижимости                607\n",
       "на покупку своего автомобиля              505\n",
       "заняться высшим образованием              496\n",
       "автомобиль                                495\n",
       "сделка с подержанным автомобилем          489\n",
       "свой автомобиль                           480\n",
       "на покупку подержанного автомобиля        479\n",
       "автомобили                                478\n",
       "на покупку автомобиля                     472\n",
       "приобретение автомобиля                   462\n",
       "дополнительное образование                462\n",
       "сделка с автомобилем                      455\n",
       "высшее образование                        453\n",
       "образование                               447\n",
       "получение дополнительного образования     447\n",
       "получение образования                     443\n",
       "профильное образование                    436\n",
       "получение высшего образования             426\n",
       "заняться образованием                     412\n",
       "Name: purpose, dtype: int64"
      ]
     },
     "metadata": {},
     "execution_count": 11
    }
   ],
   "metadata": {}
  },
  {
   "cell_type": "markdown",
   "source": [
    "Столбец purpose содержит большое количество различных целей кредита, при этом есть возможность свести это количество к более общим категориям.\n",
    "\n",
    "Я планирую выделить 4 категории:\n",
    "* Свадьба\n",
    "* Недвижимость и жилье (планирую объеденить в одну категорию и жилье и коммерческую недвижимость, потому что недвижимость любая - это хороший залог для кредита, для более детального исследовани можно поделить эти категории и посмотреть различие между коммерческой недвижимостью и жилой)\n",
    "* Авто\n",
    "* Образование"
   ],
   "metadata": {}
  },
  {
   "cell_type": "markdown",
   "source": [
    "**Вывод**\n",
    "Таблица содержит достаточно данных для ответа на вопросы заказчика, однако преварительно необходимо провести предобработку данных.\n",
    "- Необходимо исправить опечатки в стобце children.\n",
    "- Необходимо заполнить пропуски в столбце total_income, поскольку пропуски составляют примерно 10% выборки, и формулирование выводов без пропущенных значений может исказить реальные результаты. Для заполнения пропусков необходимо выяснить к какому типу дохода(income_type) относятся пропущенные значения и заполнить средним по категории.\n",
    "- Необходимо выявить соответствие между education_id и текстовым представлением вида образования в education, чтобы правильно сформировать категории образования.\n",
    "- Необходимо провести лемматизацию, чтобы сформировать категории целей кредита.\n",
    "\n"
   ],
   "metadata": {}
  },
  {
   "cell_type": "markdown",
   "source": [
    "## Предобработка данных"
   ],
   "metadata": {}
  },
  {
   "cell_type": "markdown",
   "source": [
    "**Исправление опечаток в столбце children**\n",
    "\n",
    "Поскольку на этапе предаврительного просмотра были выявлены значения в столбце children, появление которых в реальной жизни невозможно или крайне маловероятно, необходимо заменить их на наиболее вероятные."
   ],
   "metadata": {}
  },
  {
   "cell_type": "code",
   "execution_count": 12,
   "source": [
    "loaners_data.children = loaners_data.children.replace(to_replace={20:2, -1:1})"
   ],
   "outputs": [],
   "metadata": {}
  },
  {
   "cell_type": "code",
   "execution_count": 13,
   "source": [
    "loaners_data.children.value_counts()"
   ],
   "outputs": [
    {
     "output_type": "execute_result",
     "data": {
      "text/plain": [
       "0    14149\n",
       "1     4865\n",
       "2     2131\n",
       "3      330\n",
       "4       41\n",
       "5        9\n",
       "Name: children, dtype: int64"
      ]
     },
     "metadata": {},
     "execution_count": 13
    }
   ],
   "metadata": {}
  },
  {
   "cell_type": "markdown",
   "source": [
    "### Обработка пропусков"
   ],
   "metadata": {}
  },
  {
   "cell_type": "markdown",
   "source": [
    "В первую очередь заполним пропуски в столбце total_income, потому что значения из этого столбца будут использоваться в исследовании для оценки качества кредита от дохода заемщика."
   ],
   "metadata": {}
  },
  {
   "cell_type": "code",
   "execution_count": 14,
   "source": [
    "na_data = loaners_data[loaners_data.total_income.isna()] # выделим в отдельную таблицу строки с пропущенными значениями в столбце total_income\n",
    "types_to_fill = na_data.income_type.unique() # в отдельную переменную сохраним уникальные значения типа дохода с пропущенными значениями в столбце total_income\n",
    "\n"
   ],
   "outputs": [],
   "metadata": {}
  },
  {
   "cell_type": "code",
   "execution_count": 15,
   "source": [
    "mean_income_groupedby_income_type = loaners_data.groupby('income_type')['total_income'].mean() # в переменную сохраним средние значения общего дохода сгруппированные по виду дохода\n"
   ],
   "outputs": [],
   "metadata": {}
  },
  {
   "cell_type": "code",
   "execution_count": 16,
   "source": [
    "def fill_na_income_with_mean(df, type_to_fill, mean_income):\n",
    "    '''функция принимает датафрейм в котором нужно заменить пропущенные значения в столбце total_income, следом принимает наименования типов дохода, в которых были выявлены пропущенные значения, третьим аргументом принимает объект содержащий средние значения по типам дохода без учета пропущенных значений\n",
    "    На выходе получаем обновленный датафрейм с пропущенными значениями заполненными средним по виду дохода\n",
    "    '''\n",
    "    for item in type_to_fill:\n",
    "        df.loc[(df.income_type == item) & (df.total_income.isna()), 'total_income'] = mean_income[item]"
   ],
   "outputs": [],
   "metadata": {}
  },
  {
   "cell_type": "markdown",
   "source": [
    "Применим функцию для нашей таблицы, вторым аргументом подадим значения уникальных видов дохода, в которых найдены пропущенные значения, третьим аргументом средние значения по виду, которые нужно подставить."
   ],
   "metadata": {}
  },
  {
   "cell_type": "code",
   "execution_count": 17,
   "source": [
    "fill_na_income_with_mean(loaners_data, types_to_fill, mean_income_groupedby_income_type)\n",
    "\n"
   ],
   "outputs": [],
   "metadata": {}
  },
  {
   "cell_type": "code",
   "execution_count": 18,
   "source": [
    "loaners_data.isna().sum()"
   ],
   "outputs": [
    {
     "output_type": "execute_result",
     "data": {
      "text/plain": [
       "children               0\n",
       "days_employed       2174\n",
       "dob_years              0\n",
       "education              0\n",
       "education_id           0\n",
       "family_status          0\n",
       "family_status_id       0\n",
       "gender                 0\n",
       "income_type            0\n",
       "debt                   0\n",
       "total_income           0\n",
       "purpose                0\n",
       "dtype: int64"
      ]
     },
     "metadata": {},
     "execution_count": 18
    }
   ],
   "metadata": {}
  },
  {
   "cell_type": "markdown",
   "source": [
    "Пропущенные значения в столбце total_income заполнены"
   ],
   "metadata": {}
  },
  {
   "cell_type": "markdown",
   "source": [
    "Для целей исследования обрабатывать пропущенные значения в столбце days_employed не обязательно, но вероятно эти данные также можно использовать для построения скоринговой модели. В ходе проекта мы заменим пропущенные значения на медианное количество рабочих дней по возрасту работника.\n"
   ],
   "metadata": {}
  },
  {
   "cell_type": "code",
   "execution_count": 19,
   "source": [
    "ages_with_na = loaners_data[loaners_data.days_employed.isna()].dob_years.unique() # находим уникальные значения возраста заемщиков с пропущенными значениями в столбце days_employed\r\n",
    "median_days_employed_by_age = loaners_data.groupby('dob_years')['days_employed'].median() # сохраняем в переменную значения медианы для каждого возраста\r\n"
   ],
   "outputs": [],
   "metadata": {}
  },
  {
   "cell_type": "code",
   "execution_count": 20,
   "source": [
    "def fill_na_days_with_median(df, age_to_fill, median_to_fill):\r\n",
    "    ''' Функция принимает три аргумента, датафрейм, значения возраста заемщика и медианное значение по возрасту\r\n",
    "        В результате работы функции пропущенные значения в датафреме заменяются на медианное значение по соответсвующему значению в столбце возраст\r\n",
    "    '''\r\n",
    "    for age in age_to_fill:\r\n",
    "        df.loc[(df.dob_years == age) & (df.days_employed.isna()), 'days_employed'] = median_to_fill[age]"
   ],
   "outputs": [],
   "metadata": {}
  },
  {
   "cell_type": "code",
   "execution_count": 21,
   "source": [
    "fill_na_days_with_median(loaners_data, ages_with_na, median_days_employed_by_age) # подставляем в функцию значения наших переменных"
   ],
   "outputs": [],
   "metadata": {}
  },
  {
   "cell_type": "code",
   "execution_count": 22,
   "source": [
    "loaners_data.isna().sum() # проверяем наличие пропусков"
   ],
   "outputs": [
    {
     "output_type": "execute_result",
     "data": {
      "text/plain": [
       "children            0\n",
       "days_employed       0\n",
       "dob_years           0\n",
       "education           0\n",
       "education_id        0\n",
       "family_status       0\n",
       "family_status_id    0\n",
       "gender              0\n",
       "income_type         0\n",
       "debt                0\n",
       "total_income        0\n",
       "purpose             0\n",
       "dtype: int64"
      ]
     },
     "metadata": {},
     "execution_count": 22
    }
   ],
   "metadata": {}
  },
  {
   "cell_type": "markdown",
   "source": [
    "**Вывод**\n",
    "Проведена работа по заполнению пропущенных значений. Вероятно пропущенные значения появились по технической причине, так как пропуски появились в двух столбцах одновременно.\n",
    "- Значения в столбце total_income заполнены средним значением по типу занятости заемщика\n",
    "- Значения в столбце days_employed заполнены медианной значений по возрасту заемщика\n",
    "\n",
    "Значения в столбце days_employed выглядят странно, если по отрицательным значениям можно предположить, что это количество дней от даты получения кредита до даты приема на текущую работу в обратную сторону (со знаком минус), то по положительным значениям предположить происхождение сложно, цифры слишком большие (максимальное значение составляет 400000, что в переводе на годы даст более 1000 лет, нужно общаться с заказчиком по поводу происхождения таких значений)"
   ],
   "metadata": {}
  },
  {
   "cell_type": "markdown",
   "source": [],
   "metadata": {}
  },
  {
   "cell_type": "markdown",
   "source": [
    "### Замена типа данных"
   ],
   "metadata": {}
  },
  {
   "cell_type": "markdown",
   "source": [
    "В описании к данным сказано, что значения в столбце days_employed хранят целое количество дней трудового стажа. В реальности данные имеют тип float. Чтобы привести данные к целочисленному изменим тип значений в столбце."
   ],
   "metadata": {}
  },
  {
   "cell_type": "code",
   "execution_count": 23,
   "source": [
    "try:\r\n",
    "    loaners_data['days_employed'] = loaners_data['days_employed'].astype(int)\r\n",
    "except:\r\n",
    "    print('Что-то не так')"
   ],
   "outputs": [],
   "metadata": {}
  },
  {
   "cell_type": "code",
   "execution_count": 24,
   "source": [
    "loaners_data.info()"
   ],
   "outputs": [
    {
     "output_type": "stream",
     "name": "stdout",
     "text": [
      "<class 'pandas.core.frame.DataFrame'>\n",
      "RangeIndex: 21525 entries, 0 to 21524\n",
      "Data columns (total 12 columns):\n",
      "children            21525 non-null int64\n",
      "days_employed       21525 non-null int64\n",
      "dob_years           21525 non-null int64\n",
      "education           21525 non-null object\n",
      "education_id        21525 non-null int64\n",
      "family_status       21525 non-null object\n",
      "family_status_id    21525 non-null int64\n",
      "gender              21525 non-null object\n",
      "income_type         21525 non-null object\n",
      "debt                21525 non-null int64\n",
      "total_income        21525 non-null float64\n",
      "purpose             21525 non-null object\n",
      "dtypes: float64(1), int64(6), object(5)\n",
      "memory usage: 2.0+ MB\n"
     ]
    }
   ],
   "metadata": {}
  },
  {
   "cell_type": "markdown",
   "source": [
    "**Вывод**"
   ],
   "metadata": {}
  },
  {
   "cell_type": "markdown",
   "source": [
    "Значения в столбце days_employed приведено к целочисленному типу данных"
   ],
   "metadata": {}
  },
  {
   "cell_type": "markdown",
   "source": [
    "### Обработка дубликатов\n",
    "\n",
    "В столбце education выявлено наличие неявных дубликатов, на первый взгляд кажется, что значения идентичны, но занесены в разном регистре. Вероятно отсутствует единый подход к заполнению данных. Попробуем заменить значения в столбце, теми же самыми значениями, только в нижнем регистре."
   ],
   "metadata": {}
  },
  {
   "cell_type": "code",
   "execution_count": 25,
   "source": [
    "loaners_data['education'] = loaners_data.education.str.lower()\n"
   ],
   "outputs": [],
   "metadata": {}
  },
  {
   "cell_type": "code",
   "execution_count": 26,
   "source": [
    "loaners_data.education.value_counts()"
   ],
   "outputs": [
    {
     "output_type": "execute_result",
     "data": {
      "text/plain": [
       "среднее                15233\n",
       "высшее                  5260\n",
       "неоконченное высшее      744\n",
       "начальное                282\n",
       "ученая степень             6\n",
       "Name: education, dtype: int64"
      ]
     },
     "metadata": {},
     "execution_count": 26
    }
   ],
   "metadata": {}
  },
  {
   "cell_type": "markdown",
   "source": [
    "**Вывод**\n",
    "\n",
    "Неявные дубликаты в столбце education устранены."
   ],
   "metadata": {}
  },
  {
   "cell_type": "markdown",
   "source": [],
   "metadata": {}
  },
  {
   "cell_type": "markdown",
   "source": [
    "### Лемматизация"
   ],
   "metadata": {}
  },
  {
   "cell_type": "markdown",
   "source": [
    "\n",
    "Проведем лемматизацию для уникальных значений в столбце цель получения кредита (purpose)"
   ],
   "metadata": {}
  },
  {
   "cell_type": "code",
   "execution_count": 27,
   "source": [
    "m = Mystem()\n",
    "lemmas = {}\n",
    "unique_purposes = loaners_data.purpose.unique().tolist()\n",
    "for purpose in unique_purposes:\n",
    "    lemmas[purpose] = m.lemmatize(purpose.strip())\n",
    "\n"
   ],
   "outputs": [],
   "metadata": {}
  },
  {
   "cell_type": "code",
   "execution_count": 28,
   "source": [
    "category_dict = {'недвижимость': [], 'авто': [], 'свадьба': [], 'образование': []}\n",
    "for key in lemmas:\n",
    "    if 'недвижимость' in lemmas[key] or 'жилье' in lemmas[key]:\n",
    "        category_dict['недвижимость'].append(key)\n",
    "    if 'автомобиль' in lemmas[key]:\n",
    "        category_dict['авто'].append(key)\n",
    "    if 'свадьба' in lemmas[key]:\n",
    "        category_dict['свадьба'].append(key)\n",
    "    if 'образование' in lemmas[key]:\n",
    "        category_dict['образование'].append(key)\n"
   ],
   "outputs": [],
   "metadata": {}
  },
  {
   "cell_type": "markdown",
   "source": [
    "Развернем получившийся словарь так, чтобы каждому значению уникальной цели соответствовало значение определенной категории"
   ],
   "metadata": {}
  },
  {
   "cell_type": "code",
   "execution_count": 29,
   "source": [
    "dict_to_replace = {item: key for key, value in category_dict.items() for item in value}\n"
   ],
   "outputs": [],
   "metadata": {}
  },
  {
   "cell_type": "markdown",
   "source": [
    "Полученный словарь используем для заполнения нового столбца в датафрейме, который в дельнейшем можно будет использовать для ответа на вопросы заказчика"
   ],
   "metadata": {}
  },
  {
   "cell_type": "code",
   "execution_count": 30,
   "source": [
    "loaners_data['purpose_category'] = loaners_data['purpose']\r\n",
    "loaners_data['purpose_category'] = loaners_data['purpose_category'].replace(to_replace=dict_to_replace)\r\n",
    "loaners_data.purpose_category.value_counts()"
   ],
   "outputs": [
    {
     "output_type": "execute_result",
     "data": {
      "text/plain": [
       "недвижимость    10840\n",
       "авто             4315\n",
       "образование      4022\n",
       "свадьба          2348\n",
       "Name: purpose_category, dtype: int64"
      ]
     },
     "metadata": {},
     "execution_count": 30
    }
   ],
   "metadata": {}
  },
  {
   "cell_type": "markdown",
   "source": [
    "**Вывод**"
   ],
   "metadata": {}
  },
  {
   "cell_type": "markdown",
   "source": [
    "На данном этапе проведена лемматизация значений в столбце цель кредита, получены леммы, и выделены общие категории, по которым можно провести исследование о зависимости цели кредита и вероятности наличия пропущенных платежей."
   ],
   "metadata": {}
  },
  {
   "cell_type": "markdown",
   "source": [
    "### Категоризация данных"
   ],
   "metadata": {}
  },
  {
   "cell_type": "markdown",
   "source": [
    "На данном этапе проведем категоризацию значений в двух столбцах:\n",
    "- Для столбца children выделим две категории - \"есть дети\" и \"нет детей\", чтобы ответить на вопрос заказчика о зависимости наличия детей на наличие пропущенных платежей по кредиту.\n",
    "- Для столбца total_income выделим три категории в зависимости от значений уровня дохода - нижние 30%, между 30 и 70 % и верхние 70%. Для выделения категорий используем квантили."
   ],
   "metadata": {}
  },
  {
   "cell_type": "markdown",
   "source": [
    "Определим функцию для категорий наличия детей"
   ],
   "metadata": {}
  },
  {
   "cell_type": "code",
   "execution_count": 31,
   "source": [
    "def children_catogory(children):\n",
    "    if children < 1:\n",
    "        return 'Нет детей'\n",
    "    else:\n",
    "        return 'Есть дети'"
   ],
   "outputs": [],
   "metadata": {}
  },
  {
   "cell_type": "markdown",
   "source": [
    "Создадим новый столбец в таблице для категории наличия детей"
   ],
   "metadata": {}
  },
  {
   "cell_type": "code",
   "execution_count": 32,
   "source": [
    "loaners_data['children_category'] = loaners_data.children.apply(children_catogory)\n",
    "loaners_data['children_category'].value_counts()"
   ],
   "outputs": [
    {
     "output_type": "execute_result",
     "data": {
      "text/plain": [
       "Нет детей    14149\n",
       "Есть дети     7376\n",
       "Name: children_category, dtype: int64"
      ]
     },
     "metadata": {},
     "execution_count": 32
    }
   ],
   "metadata": {}
  },
  {
   "cell_type": "markdown",
   "source": [
    "Запишем в переменные значения 30 и 70 квантилей по уровню дохода"
   ],
   "metadata": {}
  },
  {
   "cell_type": "code",
   "execution_count": 33,
   "source": [
    "quantile_30 = loaners_data.total_income.quantile(q=0.3)\n",
    "quantile_70 = loaners_data.total_income.quantile(q=0.7)"
   ],
   "outputs": [],
   "metadata": {}
  },
  {
   "cell_type": "markdown",
   "source": [
    "Определим функцию для выделения категорий по уровню дохода"
   ],
   "metadata": {}
  },
  {
   "cell_type": "code",
   "execution_count": 34,
   "source": [
    "def income_category(total_income):\n",
    "    if total_income <= quantile_30:\n",
    "        return 'Нижние 30 %'\n",
    "    elif total_income <= quantile_70:\n",
    "        return 'Между 30 и 70 %'\n",
    "    else:\n",
    "        return 'Верхние 70 %'"
   ],
   "outputs": [],
   "metadata": {}
  },
  {
   "cell_type": "markdown",
   "source": [
    "Применим функцию к столбцу total_income для образования категорий"
   ],
   "metadata": {}
  },
  {
   "cell_type": "code",
   "execution_count": 35,
   "source": [
    "loaners_data['income_category'] = loaners_data.total_income.apply(income_category)\n",
    "loaners_data['income_category'].value_counts()"
   ],
   "outputs": [
    {
     "output_type": "execute_result",
     "data": {
      "text/plain": [
       "Между 30 и 70 %    8609\n",
       "Нижние 30 %        6458\n",
       "Верхние 70 %       6458\n",
       "Name: income_category, dtype: int64"
      ]
     },
     "metadata": {},
     "execution_count": 35
    }
   ],
   "metadata": {}
  },
  {
   "cell_type": "markdown",
   "source": [
    "**Вывод**\n",
    "\n",
    "На данном этапе были выделены категории по значениям столбцов children и total_income данные категории будем использовать при ответе на вопросы заказчика"
   ],
   "metadata": {}
  },
  {
   "cell_type": "markdown",
   "source": [
    "## Ответьте на вопросы"
   ],
   "metadata": {}
  },
  {
   "cell_type": "markdown",
   "source": [
    "Для начала сохраним в переменную среднее по выборке значение просроченных платежей, с которой будем проводить сравнение наших данных."
   ],
   "metadata": {}
  },
  {
   "cell_type": "code",
   "execution_count": 36,
   "source": [
    "apriory_mean = loaners_data.debt.mean()\n"
   ],
   "outputs": [],
   "metadata": {}
  },
  {
   "cell_type": "code",
   "execution_count": 37,
   "source": [
    "def comparison_df(df, column):\n",
    "    mean_series = df.groupby(column)['debt'].mean()\n",
    "    comparison = pd.DataFrame(data=mean_series)\n",
    "    comparison['apriory'] = apriory_mean\n",
    "    comparison.columns = ['Вероятность просроченного платежа в зависимости от категории', 'Средняя вероятность просроченного     платежа']\n",
    "    return (comparison\n",
    "    .style\n",
    "    .format(\"{:.2%}\")\n",
    "    .background_gradient(cmap='Blues', axis=1))"
   ],
   "outputs": [],
   "metadata": {}
  },
  {
   "cell_type": "markdown",
   "source": [
    "- Есть ли зависимость между наличием детей и возвратом кредита в срок?"
   ],
   "metadata": {}
  },
  {
   "cell_type": "code",
   "execution_count": 38,
   "source": [
    "comparison_df(loaners_data,'children_category')"
   ],
   "outputs": [
    {
     "output_type": "execute_result",
     "data": {
      "text/plain": [
       "<pandas.io.formats.style.Styler at 0x7fa2d537f090>"
      ],
      "text/html": [
       "<style  type=\"text/css\" >\n",
       "    #T_ad82d342_ea23_11eb_a37d_02420a39dd10row0_col0 {\n",
       "            background-color:  #08306b;\n",
       "            color:  #f1f1f1;\n",
       "        }    #T_ad82d342_ea23_11eb_a37d_02420a39dd10row0_col1 {\n",
       "            background-color:  #f7fbff;\n",
       "            color:  #000000;\n",
       "        }    #T_ad82d342_ea23_11eb_a37d_02420a39dd10row1_col0 {\n",
       "            background-color:  #f7fbff;\n",
       "            color:  #000000;\n",
       "        }    #T_ad82d342_ea23_11eb_a37d_02420a39dd10row1_col1 {\n",
       "            background-color:  #08306b;\n",
       "            color:  #f1f1f1;\n",
       "        }</style><table id=\"T_ad82d342_ea23_11eb_a37d_02420a39dd10\" ><thead>    <tr>        <th class=\"blank level0\" ></th>        <th class=\"col_heading level0 col0\" >Вероятность просроченного платежа в зависимости от категории</th>        <th class=\"col_heading level0 col1\" >Средняя вероятность просроченного     платежа</th>    </tr>    <tr>        <th class=\"index_name level0\" >children_category</th>        <th class=\"blank\" ></th>        <th class=\"blank\" ></th>    </tr></thead><tbody>\n",
       "                <tr>\n",
       "                        <th id=\"T_ad82d342_ea23_11eb_a37d_02420a39dd10level0_row0\" class=\"row_heading level0 row0\" >Есть дети</th>\n",
       "                        <td id=\"T_ad82d342_ea23_11eb_a37d_02420a39dd10row0_col0\" class=\"data row0 col0\" >9.19%</td>\n",
       "                        <td id=\"T_ad82d342_ea23_11eb_a37d_02420a39dd10row0_col1\" class=\"data row0 col1\" >8.09%</td>\n",
       "            </tr>\n",
       "            <tr>\n",
       "                        <th id=\"T_ad82d342_ea23_11eb_a37d_02420a39dd10level0_row1\" class=\"row_heading level0 row1\" >Нет детей</th>\n",
       "                        <td id=\"T_ad82d342_ea23_11eb_a37d_02420a39dd10row1_col0\" class=\"data row1 col0\" >7.51%</td>\n",
       "                        <td id=\"T_ad82d342_ea23_11eb_a37d_02420a39dd10row1_col1\" class=\"data row1 col1\" >8.09%</td>\n",
       "            </tr>\n",
       "    </tbody></table>"
      ]
     },
     "metadata": {},
     "execution_count": 38
    }
   ],
   "metadata": {}
  },
  {
   "cell_type": "code",
   "execution_count": 39,
   "source": [
    "comparison_df(loaners_data,'children')"
   ],
   "outputs": [
    {
     "output_type": "execute_result",
     "data": {
      "text/plain": [
       "<pandas.io.formats.style.Styler at 0x7fa345ad2e90>"
      ],
      "text/html": [
       "<style  type=\"text/css\" >\n",
       "    #T_ad8ab9b8_ea23_11eb_a37d_02420a39dd10row0_col0 {\n",
       "            background-color:  #f7fbff;\n",
       "            color:  #000000;\n",
       "        }    #T_ad8ab9b8_ea23_11eb_a37d_02420a39dd10row0_col1 {\n",
       "            background-color:  #08306b;\n",
       "            color:  #f1f1f1;\n",
       "        }    #T_ad8ab9b8_ea23_11eb_a37d_02420a39dd10row1_col0 {\n",
       "            background-color:  #08306b;\n",
       "            color:  #f1f1f1;\n",
       "        }    #T_ad8ab9b8_ea23_11eb_a37d_02420a39dd10row1_col1 {\n",
       "            background-color:  #f7fbff;\n",
       "            color:  #000000;\n",
       "        }    #T_ad8ab9b8_ea23_11eb_a37d_02420a39dd10row2_col0 {\n",
       "            background-color:  #08306b;\n",
       "            color:  #f1f1f1;\n",
       "        }    #T_ad8ab9b8_ea23_11eb_a37d_02420a39dd10row2_col1 {\n",
       "            background-color:  #f7fbff;\n",
       "            color:  #000000;\n",
       "        }    #T_ad8ab9b8_ea23_11eb_a37d_02420a39dd10row3_col0 {\n",
       "            background-color:  #08306b;\n",
       "            color:  #f1f1f1;\n",
       "        }    #T_ad8ab9b8_ea23_11eb_a37d_02420a39dd10row3_col1 {\n",
       "            background-color:  #f7fbff;\n",
       "            color:  #000000;\n",
       "        }    #T_ad8ab9b8_ea23_11eb_a37d_02420a39dd10row4_col0 {\n",
       "            background-color:  #08306b;\n",
       "            color:  #f1f1f1;\n",
       "        }    #T_ad8ab9b8_ea23_11eb_a37d_02420a39dd10row4_col1 {\n",
       "            background-color:  #f7fbff;\n",
       "            color:  #000000;\n",
       "        }    #T_ad8ab9b8_ea23_11eb_a37d_02420a39dd10row5_col0 {\n",
       "            background-color:  #f7fbff;\n",
       "            color:  #000000;\n",
       "        }    #T_ad8ab9b8_ea23_11eb_a37d_02420a39dd10row5_col1 {\n",
       "            background-color:  #08306b;\n",
       "            color:  #f1f1f1;\n",
       "        }</style><table id=\"T_ad8ab9b8_ea23_11eb_a37d_02420a39dd10\" ><thead>    <tr>        <th class=\"blank level0\" ></th>        <th class=\"col_heading level0 col0\" >Вероятность просроченного платежа в зависимости от категории</th>        <th class=\"col_heading level0 col1\" >Средняя вероятность просроченного     платежа</th>    </tr>    <tr>        <th class=\"index_name level0\" >children</th>        <th class=\"blank\" ></th>        <th class=\"blank\" ></th>    </tr></thead><tbody>\n",
       "                <tr>\n",
       "                        <th id=\"T_ad8ab9b8_ea23_11eb_a37d_02420a39dd10level0_row0\" class=\"row_heading level0 row0\" >0</th>\n",
       "                        <td id=\"T_ad8ab9b8_ea23_11eb_a37d_02420a39dd10row0_col0\" class=\"data row0 col0\" >7.51%</td>\n",
       "                        <td id=\"T_ad8ab9b8_ea23_11eb_a37d_02420a39dd10row0_col1\" class=\"data row0 col1\" >8.09%</td>\n",
       "            </tr>\n",
       "            <tr>\n",
       "                        <th id=\"T_ad8ab9b8_ea23_11eb_a37d_02420a39dd10level0_row1\" class=\"row_heading level0 row1\" >1</th>\n",
       "                        <td id=\"T_ad8ab9b8_ea23_11eb_a37d_02420a39dd10row1_col0\" class=\"data row1 col0\" >9.15%</td>\n",
       "                        <td id=\"T_ad8ab9b8_ea23_11eb_a37d_02420a39dd10row1_col1\" class=\"data row1 col1\" >8.09%</td>\n",
       "            </tr>\n",
       "            <tr>\n",
       "                        <th id=\"T_ad8ab9b8_ea23_11eb_a37d_02420a39dd10level0_row2\" class=\"row_heading level0 row2\" >2</th>\n",
       "                        <td id=\"T_ad8ab9b8_ea23_11eb_a37d_02420a39dd10row2_col0\" class=\"data row2 col0\" >9.48%</td>\n",
       "                        <td id=\"T_ad8ab9b8_ea23_11eb_a37d_02420a39dd10row2_col1\" class=\"data row2 col1\" >8.09%</td>\n",
       "            </tr>\n",
       "            <tr>\n",
       "                        <th id=\"T_ad8ab9b8_ea23_11eb_a37d_02420a39dd10level0_row3\" class=\"row_heading level0 row3\" >3</th>\n",
       "                        <td id=\"T_ad8ab9b8_ea23_11eb_a37d_02420a39dd10row3_col0\" class=\"data row3 col0\" >8.18%</td>\n",
       "                        <td id=\"T_ad8ab9b8_ea23_11eb_a37d_02420a39dd10row3_col1\" class=\"data row3 col1\" >8.09%</td>\n",
       "            </tr>\n",
       "            <tr>\n",
       "                        <th id=\"T_ad8ab9b8_ea23_11eb_a37d_02420a39dd10level0_row4\" class=\"row_heading level0 row4\" >4</th>\n",
       "                        <td id=\"T_ad8ab9b8_ea23_11eb_a37d_02420a39dd10row4_col0\" class=\"data row4 col0\" >9.76%</td>\n",
       "                        <td id=\"T_ad8ab9b8_ea23_11eb_a37d_02420a39dd10row4_col1\" class=\"data row4 col1\" >8.09%</td>\n",
       "            </tr>\n",
       "            <tr>\n",
       "                        <th id=\"T_ad8ab9b8_ea23_11eb_a37d_02420a39dd10level0_row5\" class=\"row_heading level0 row5\" >5</th>\n",
       "                        <td id=\"T_ad8ab9b8_ea23_11eb_a37d_02420a39dd10row5_col0\" class=\"data row5 col0\" >0.00%</td>\n",
       "                        <td id=\"T_ad8ab9b8_ea23_11eb_a37d_02420a39dd10row5_col1\" class=\"data row5 col1\" >8.09%</td>\n",
       "            </tr>\n",
       "    </tbody></table>"
      ]
     },
     "metadata": {},
     "execution_count": 39
    }
   ],
   "metadata": {}
  },
  {
   "cell_type": "markdown",
   "source": [
    "**Вывод**\n",
    "\n",
    "Зависимость между возвратом кредита в срок и наличем детей есть. У заемщиков с детьми выше вероятность просрочить платеж по кредиту."
   ],
   "metadata": {}
  },
  {
   "cell_type": "markdown",
   "source": [
    "- Есть ли зависимость между семейным положением и возвратом кредита в срок?"
   ],
   "metadata": {}
  },
  {
   "cell_type": "code",
   "execution_count": 40,
   "source": [
    "comparison_df(loaners_data,'family_status')"
   ],
   "outputs": [
    {
     "output_type": "execute_result",
     "data": {
      "text/plain": [
       "<pandas.io.formats.style.Styler at 0x7fa345b30bd0>"
      ],
      "text/html": [
       "<style  type=\"text/css\" >\n",
       "    #T_ad93c7a6_ea23_11eb_a37d_02420a39dd10row0_col0 {\n",
       "            background-color:  #08306b;\n",
       "            color:  #f1f1f1;\n",
       "        }    #T_ad93c7a6_ea23_11eb_a37d_02420a39dd10row0_col1 {\n",
       "            background-color:  #f7fbff;\n",
       "            color:  #000000;\n",
       "        }    #T_ad93c7a6_ea23_11eb_a37d_02420a39dd10row1_col0 {\n",
       "            background-color:  #f7fbff;\n",
       "            color:  #000000;\n",
       "        }    #T_ad93c7a6_ea23_11eb_a37d_02420a39dd10row1_col1 {\n",
       "            background-color:  #08306b;\n",
       "            color:  #f1f1f1;\n",
       "        }    #T_ad93c7a6_ea23_11eb_a37d_02420a39dd10row2_col0 {\n",
       "            background-color:  #f7fbff;\n",
       "            color:  #000000;\n",
       "        }    #T_ad93c7a6_ea23_11eb_a37d_02420a39dd10row2_col1 {\n",
       "            background-color:  #08306b;\n",
       "            color:  #f1f1f1;\n",
       "        }    #T_ad93c7a6_ea23_11eb_a37d_02420a39dd10row3_col0 {\n",
       "            background-color:  #08306b;\n",
       "            color:  #f1f1f1;\n",
       "        }    #T_ad93c7a6_ea23_11eb_a37d_02420a39dd10row3_col1 {\n",
       "            background-color:  #f7fbff;\n",
       "            color:  #000000;\n",
       "        }    #T_ad93c7a6_ea23_11eb_a37d_02420a39dd10row4_col0 {\n",
       "            background-color:  #f7fbff;\n",
       "            color:  #000000;\n",
       "        }    #T_ad93c7a6_ea23_11eb_a37d_02420a39dd10row4_col1 {\n",
       "            background-color:  #08306b;\n",
       "            color:  #f1f1f1;\n",
       "        }</style><table id=\"T_ad93c7a6_ea23_11eb_a37d_02420a39dd10\" ><thead>    <tr>        <th class=\"blank level0\" ></th>        <th class=\"col_heading level0 col0\" >Вероятность просроченного платежа в зависимости от категории</th>        <th class=\"col_heading level0 col1\" >Средняя вероятность просроченного     платежа</th>    </tr>    <tr>        <th class=\"index_name level0\" >family_status</th>        <th class=\"blank\" ></th>        <th class=\"blank\" ></th>    </tr></thead><tbody>\n",
       "                <tr>\n",
       "                        <th id=\"T_ad93c7a6_ea23_11eb_a37d_02420a39dd10level0_row0\" class=\"row_heading level0 row0\" >Не женат / не замужем</th>\n",
       "                        <td id=\"T_ad93c7a6_ea23_11eb_a37d_02420a39dd10row0_col0\" class=\"data row0 col0\" >9.74%</td>\n",
       "                        <td id=\"T_ad93c7a6_ea23_11eb_a37d_02420a39dd10row0_col1\" class=\"data row0 col1\" >8.09%</td>\n",
       "            </tr>\n",
       "            <tr>\n",
       "                        <th id=\"T_ad93c7a6_ea23_11eb_a37d_02420a39dd10level0_row1\" class=\"row_heading level0 row1\" >в разводе</th>\n",
       "                        <td id=\"T_ad93c7a6_ea23_11eb_a37d_02420a39dd10row1_col0\" class=\"data row1 col0\" >7.11%</td>\n",
       "                        <td id=\"T_ad93c7a6_ea23_11eb_a37d_02420a39dd10row1_col1\" class=\"data row1 col1\" >8.09%</td>\n",
       "            </tr>\n",
       "            <tr>\n",
       "                        <th id=\"T_ad93c7a6_ea23_11eb_a37d_02420a39dd10level0_row2\" class=\"row_heading level0 row2\" >вдовец / вдова</th>\n",
       "                        <td id=\"T_ad93c7a6_ea23_11eb_a37d_02420a39dd10row2_col0\" class=\"data row2 col0\" >6.56%</td>\n",
       "                        <td id=\"T_ad93c7a6_ea23_11eb_a37d_02420a39dd10row2_col1\" class=\"data row2 col1\" >8.09%</td>\n",
       "            </tr>\n",
       "            <tr>\n",
       "                        <th id=\"T_ad93c7a6_ea23_11eb_a37d_02420a39dd10level0_row3\" class=\"row_heading level0 row3\" >гражданский брак</th>\n",
       "                        <td id=\"T_ad93c7a6_ea23_11eb_a37d_02420a39dd10row3_col0\" class=\"data row3 col0\" >9.29%</td>\n",
       "                        <td id=\"T_ad93c7a6_ea23_11eb_a37d_02420a39dd10row3_col1\" class=\"data row3 col1\" >8.09%</td>\n",
       "            </tr>\n",
       "            <tr>\n",
       "                        <th id=\"T_ad93c7a6_ea23_11eb_a37d_02420a39dd10level0_row4\" class=\"row_heading level0 row4\" >женат / замужем</th>\n",
       "                        <td id=\"T_ad93c7a6_ea23_11eb_a37d_02420a39dd10row4_col0\" class=\"data row4 col0\" >7.52%</td>\n",
       "                        <td id=\"T_ad93c7a6_ea23_11eb_a37d_02420a39dd10row4_col1\" class=\"data row4 col1\" >8.09%</td>\n",
       "            </tr>\n",
       "    </tbody></table>"
      ]
     },
     "metadata": {},
     "execution_count": 40
    }
   ],
   "metadata": {}
  },
  {
   "cell_type": "markdown",
   "source": [
    "**Вывод**\n",
    "Зависимость от семейного положения и возвратом кредита в срок есть. Заемщики, которые находящиеся в официальном браке и которые были в официальном браке возвращают кредит лучше."
   ],
   "metadata": {}
  },
  {
   "cell_type": "markdown",
   "source": [
    "- Есть ли зависимость между уровнем дохода и возвратом кредита в срок?"
   ],
   "metadata": {}
  },
  {
   "cell_type": "code",
   "execution_count": 41,
   "source": [
    "comparison_df(loaners_data,'income_category')"
   ],
   "outputs": [
    {
     "output_type": "execute_result",
     "data": {
      "text/plain": [
       "<pandas.io.formats.style.Styler at 0x7fa345b281d0>"
      ],
      "text/html": [
       "<style  type=\"text/css\" >\n",
       "    #T_ad99a16c_ea23_11eb_a37d_02420a39dd10row0_col0 {\n",
       "            background-color:  #f7fbff;\n",
       "            color:  #000000;\n",
       "        }    #T_ad99a16c_ea23_11eb_a37d_02420a39dd10row0_col1 {\n",
       "            background-color:  #08306b;\n",
       "            color:  #f1f1f1;\n",
       "        }    #T_ad99a16c_ea23_11eb_a37d_02420a39dd10row1_col0 {\n",
       "            background-color:  #08306b;\n",
       "            color:  #f1f1f1;\n",
       "        }    #T_ad99a16c_ea23_11eb_a37d_02420a39dd10row1_col1 {\n",
       "            background-color:  #f7fbff;\n",
       "            color:  #000000;\n",
       "        }    #T_ad99a16c_ea23_11eb_a37d_02420a39dd10row2_col0 {\n",
       "            background-color:  #08306b;\n",
       "            color:  #f1f1f1;\n",
       "        }    #T_ad99a16c_ea23_11eb_a37d_02420a39dd10row2_col1 {\n",
       "            background-color:  #f7fbff;\n",
       "            color:  #000000;\n",
       "        }</style><table id=\"T_ad99a16c_ea23_11eb_a37d_02420a39dd10\" ><thead>    <tr>        <th class=\"blank level0\" ></th>        <th class=\"col_heading level0 col0\" >Вероятность просроченного платежа в зависимости от категории</th>        <th class=\"col_heading level0 col1\" >Средняя вероятность просроченного     платежа</th>    </tr>    <tr>        <th class=\"index_name level0\" >income_category</th>        <th class=\"blank\" ></th>        <th class=\"blank\" ></th>    </tr></thead><tbody>\n",
       "                <tr>\n",
       "                        <th id=\"T_ad99a16c_ea23_11eb_a37d_02420a39dd10level0_row0\" class=\"row_heading level0 row0\" >Верхние 70 %</th>\n",
       "                        <td id=\"T_ad99a16c_ea23_11eb_a37d_02420a39dd10row0_col0\" class=\"data row0 col0\" >7.26%</td>\n",
       "                        <td id=\"T_ad99a16c_ea23_11eb_a37d_02420a39dd10row0_col1\" class=\"data row0 col1\" >8.09%</td>\n",
       "            </tr>\n",
       "            <tr>\n",
       "                        <th id=\"T_ad99a16c_ea23_11eb_a37d_02420a39dd10level0_row1\" class=\"row_heading level0 row1\" >Между 30 и 70 %</th>\n",
       "                        <td id=\"T_ad99a16c_ea23_11eb_a37d_02420a39dd10row1_col0\" class=\"data row1 col0\" >8.69%</td>\n",
       "                        <td id=\"T_ad99a16c_ea23_11eb_a37d_02420a39dd10row1_col1\" class=\"data row1 col1\" >8.09%</td>\n",
       "            </tr>\n",
       "            <tr>\n",
       "                        <th id=\"T_ad99a16c_ea23_11eb_a37d_02420a39dd10level0_row2\" class=\"row_heading level0 row2\" >Нижние 30 %</th>\n",
       "                        <td id=\"T_ad99a16c_ea23_11eb_a37d_02420a39dd10row2_col0\" class=\"data row2 col0\" >8.11%</td>\n",
       "                        <td id=\"T_ad99a16c_ea23_11eb_a37d_02420a39dd10row2_col1\" class=\"data row2 col1\" >8.09%</td>\n",
       "            </tr>\n",
       "    </tbody></table>"
      ]
     },
     "metadata": {},
     "execution_count": 41
    }
   ],
   "metadata": {}
  },
  {
   "cell_type": "markdown",
   "source": [
    "**Вывод**\n",
    "\n",
    "Зависимость между уровнем дохода и возвратом кредита в срок есть, заемщики, которые уровень дохода которых выше 70 % по выборке возвращают кредит лучше. При этом остальные заемщики возвращают кредит не значительно хуже, чем в среднем по всей выборке."
   ],
   "metadata": {}
  },
  {
   "cell_type": "markdown",
   "source": [
    "- Как разные цели кредита влияют на его возврат в срок?"
   ],
   "metadata": {}
  },
  {
   "cell_type": "code",
   "execution_count": 42,
   "source": [
    "comparison_df(loaners_data,'purpose_category')"
   ],
   "outputs": [
    {
     "output_type": "execute_result",
     "data": {
      "text/plain": [
       "<pandas.io.formats.style.Styler at 0x7fa345b44190>"
      ],
      "text/html": [
       "<style  type=\"text/css\" >\n",
       "    #T_ada30004_ea23_11eb_a37d_02420a39dd10row0_col0 {\n",
       "            background-color:  #08306b;\n",
       "            color:  #f1f1f1;\n",
       "        }    #T_ada30004_ea23_11eb_a37d_02420a39dd10row0_col1 {\n",
       "            background-color:  #f7fbff;\n",
       "            color:  #000000;\n",
       "        }    #T_ada30004_ea23_11eb_a37d_02420a39dd10row1_col0 {\n",
       "            background-color:  #f7fbff;\n",
       "            color:  #000000;\n",
       "        }    #T_ada30004_ea23_11eb_a37d_02420a39dd10row1_col1 {\n",
       "            background-color:  #08306b;\n",
       "            color:  #f1f1f1;\n",
       "        }    #T_ada30004_ea23_11eb_a37d_02420a39dd10row2_col0 {\n",
       "            background-color:  #08306b;\n",
       "            color:  #f1f1f1;\n",
       "        }    #T_ada30004_ea23_11eb_a37d_02420a39dd10row2_col1 {\n",
       "            background-color:  #f7fbff;\n",
       "            color:  #000000;\n",
       "        }    #T_ada30004_ea23_11eb_a37d_02420a39dd10row3_col0 {\n",
       "            background-color:  #f7fbff;\n",
       "            color:  #000000;\n",
       "        }    #T_ada30004_ea23_11eb_a37d_02420a39dd10row3_col1 {\n",
       "            background-color:  #08306b;\n",
       "            color:  #f1f1f1;\n",
       "        }</style><table id=\"T_ada30004_ea23_11eb_a37d_02420a39dd10\" ><thead>    <tr>        <th class=\"blank level0\" ></th>        <th class=\"col_heading level0 col0\" >Вероятность просроченного платежа в зависимости от категории</th>        <th class=\"col_heading level0 col1\" >Средняя вероятность просроченного     платежа</th>    </tr>    <tr>        <th class=\"index_name level0\" >purpose_category</th>        <th class=\"blank\" ></th>        <th class=\"blank\" ></th>    </tr></thead><tbody>\n",
       "                <tr>\n",
       "                        <th id=\"T_ada30004_ea23_11eb_a37d_02420a39dd10level0_row0\" class=\"row_heading level0 row0\" >авто</th>\n",
       "                        <td id=\"T_ada30004_ea23_11eb_a37d_02420a39dd10row0_col0\" class=\"data row0 col0\" >9.34%</td>\n",
       "                        <td id=\"T_ada30004_ea23_11eb_a37d_02420a39dd10row0_col1\" class=\"data row0 col1\" >8.09%</td>\n",
       "            </tr>\n",
       "            <tr>\n",
       "                        <th id=\"T_ada30004_ea23_11eb_a37d_02420a39dd10level0_row1\" class=\"row_heading level0 row1\" >недвижимость</th>\n",
       "                        <td id=\"T_ada30004_ea23_11eb_a37d_02420a39dd10row1_col0\" class=\"data row1 col0\" >7.21%</td>\n",
       "                        <td id=\"T_ada30004_ea23_11eb_a37d_02420a39dd10row1_col1\" class=\"data row1 col1\" >8.09%</td>\n",
       "            </tr>\n",
       "            <tr>\n",
       "                        <th id=\"T_ada30004_ea23_11eb_a37d_02420a39dd10level0_row2\" class=\"row_heading level0 row2\" >образование</th>\n",
       "                        <td id=\"T_ada30004_ea23_11eb_a37d_02420a39dd10row2_col0\" class=\"data row2 col0\" >9.20%</td>\n",
       "                        <td id=\"T_ada30004_ea23_11eb_a37d_02420a39dd10row2_col1\" class=\"data row2 col1\" >8.09%</td>\n",
       "            </tr>\n",
       "            <tr>\n",
       "                        <th id=\"T_ada30004_ea23_11eb_a37d_02420a39dd10level0_row3\" class=\"row_heading level0 row3\" >свадьба</th>\n",
       "                        <td id=\"T_ada30004_ea23_11eb_a37d_02420a39dd10row3_col0\" class=\"data row3 col0\" >7.92%</td>\n",
       "                        <td id=\"T_ada30004_ea23_11eb_a37d_02420a39dd10row3_col1\" class=\"data row3 col1\" >8.09%</td>\n",
       "            </tr>\n",
       "    </tbody></table>"
      ]
     },
     "metadata": {},
     "execution_count": 42
    }
   ],
   "metadata": {}
  },
  {
   "cell_type": "markdown",
   "source": [
    "**Вывод**\n",
    "Кредиты на авто и образование возвращают хуже, чем в среднем по выборке. Кредит на недвижимость возвращают лучше. Кредит на свадьбу возвращают незначительно лучше, чем в средненм по выборке."
   ],
   "metadata": {}
  },
  {
   "cell_type": "markdown",
   "source": [
    "## Общий вывод"
   ],
   "metadata": {}
  },
  {
   "cell_type": "markdown",
   "source": [
    "В ходе исследования были проверены 4 гипотезы:\n",
    "\n",
    "1. Есть ли зависимость между наличием у заемщика детей и возвратом кредита в срок.\n",
    "\n",
    "Гипотеза подтвердилась зависимость есть, наличие детей повышает вероятность пропустить платеж по кредиту.\n",
    "\n",
    "2. Есть ли зависимость между семейным положением и возвратом кредита в срок.\n",
    "\n",
    "Гипотеза подтвердилась, зависимость есть. Заемщики, которые находятся или были в официальном браке возвращают кредит лучше, чем незамужние и находящиеся в гражданском браке.\n",
    "\n",
    "3. Есть ли зависимость между уровнем дохода и возвратом кредита в срок.\n",
    "\n",
    "Гипотеза подтвердилась, 30 процентов заемщиков, зарабатывающих больше остальных, возвращают кредит лучше.\n",
    "\n",
    "4. Как разные цели кредита влияют на его возврат в срок.\n",
    "\n",
    "Цель кредита влияет на возврат кредита в срок. Кредиты на недвижимость возвращают лучше. Кредиты на авто и образование возвращают хуже. Кредит на свадьбу возвращают чуть лучше, чем в среднем по всем кредитам."
   ],
   "metadata": {}
  }
 ],
 "metadata": {
  "ExecuteTimeLog": [
   {
    "duration": 1116,
    "start_time": "2021-06-09T19:34:17.699Z"
   },
   {
    "duration": 145,
    "start_time": "2021-06-09T19:34:18.817Z"
   },
   {
    "duration": 23,
    "start_time": "2021-06-09T19:34:18.964Z"
   },
   {
    "duration": 15,
    "start_time": "2021-06-09T19:34:18.990Z"
   },
   {
    "duration": 31,
    "start_time": "2021-06-09T19:34:19.007Z"
   },
   {
    "duration": 7,
    "start_time": "2021-06-09T19:34:19.039Z"
   },
   {
    "duration": 8,
    "start_time": "2021-06-09T19:34:19.047Z"
   },
   {
    "duration": 32,
    "start_time": "2021-06-09T19:34:19.057Z"
   },
   {
    "duration": 9,
    "start_time": "2021-06-09T19:34:19.091Z"
   },
   {
    "duration": 678,
    "start_time": "2021-06-09T19:34:19.102Z"
   },
   {
    "duration": 11,
    "start_time": "2021-06-09T19:34:19.781Z"
   },
   {
    "duration": 11,
    "start_time": "2021-06-09T19:34:19.794Z"
   },
   {
    "duration": 6,
    "start_time": "2021-06-09T19:34:19.806Z"
   },
   {
    "duration": 4,
    "start_time": "2021-06-09T19:34:19.814Z"
   },
   {
    "duration": 7,
    "start_time": "2021-06-09T19:34:19.819Z"
   },
   {
    "duration": 4,
    "start_time": "2021-06-09T19:34:19.827Z"
   },
   {
    "duration": 21,
    "start_time": "2021-06-09T19:34:19.832Z"
   },
   {
    "duration": 33,
    "start_time": "2021-06-09T19:34:19.855Z"
   },
   {
    "duration": 9,
    "start_time": "2021-06-09T19:34:19.889Z"
   },
   {
    "duration": 7,
    "start_time": "2021-06-09T19:34:19.901Z"
   },
   {
    "duration": 121,
    "start_time": "2021-06-09T19:34:19.910Z"
   },
   {
    "duration": 9,
    "start_time": "2021-06-09T19:34:20.033Z"
   },
   {
    "duration": 4,
    "start_time": "2021-06-09T19:34:20.045Z"
   },
   {
    "duration": 14,
    "start_time": "2021-06-09T19:34:20.051Z"
   },
   {
    "duration": 11,
    "start_time": "2021-06-09T19:34:20.084Z"
   },
   {
    "duration": 16,
    "start_time": "2021-06-09T19:34:20.097Z"
   },
   {
    "duration": 683,
    "start_time": "2021-06-09T19:34:20.115Z"
   },
   {
    "duration": 4,
    "start_time": "2021-06-09T19:34:20.801Z"
   },
   {
    "duration": 5,
    "start_time": "2021-06-09T19:34:20.807Z"
   },
   {
    "duration": 32,
    "start_time": "2021-06-09T19:34:20.813Z"
   },
   {
    "duration": 3,
    "start_time": "2021-06-09T19:34:20.846Z"
   },
   {
    "duration": 14,
    "start_time": "2021-06-09T19:34:20.850Z"
   },
   {
    "duration": 24,
    "start_time": "2021-06-09T19:34:20.865Z"
   },
   {
    "duration": 3,
    "start_time": "2021-06-09T19:34:20.892Z"
   },
   {
    "duration": 29,
    "start_time": "2021-06-09T19:34:20.897Z"
   },
   {
    "duration": 2,
    "start_time": "2021-06-09T19:34:20.928Z"
   },
   {
    "duration": 4,
    "start_time": "2021-06-09T19:34:20.932Z"
   },
   {
    "duration": 345,
    "start_time": "2021-06-09T19:34:20.937Z"
   },
   {
    "duration": 24,
    "start_time": "2021-06-09T19:34:21.284Z"
   },
   {
    "duration": 16,
    "start_time": "2021-06-09T19:34:21.310Z"
   },
   {
    "duration": 14,
    "start_time": "2021-06-09T19:34:21.327Z"
   },
   {
    "duration": 15,
    "start_time": "2021-06-09T19:34:21.342Z"
   },
   {
    "duration": 1406,
    "start_time": "2021-07-21T13:00:46.234Z"
   },
   {
    "duration": 241,
    "start_time": "2021-07-21T13:00:47.643Z"
   },
   {
    "duration": 24,
    "start_time": "2021-07-21T13:00:47.888Z"
   },
   {
    "duration": 40,
    "start_time": "2021-07-21T13:00:47.914Z"
   },
   {
    "duration": 51,
    "start_time": "2021-07-21T13:00:47.957Z"
   },
   {
    "duration": 9,
    "start_time": "2021-07-21T13:00:48.011Z"
   },
   {
    "duration": 10,
    "start_time": "2021-07-21T13:00:48.023Z"
   },
   {
    "duration": 37,
    "start_time": "2021-07-21T13:00:48.037Z"
   },
   {
    "duration": 10,
    "start_time": "2021-07-21T13:00:48.079Z"
   },
   {
    "duration": 1484,
    "start_time": "2021-07-21T13:00:48.092Z"
   },
   {
    "duration": 10,
    "start_time": "2021-07-21T13:00:49.579Z"
   },
   {
    "duration": 8,
    "start_time": "2021-07-21T13:00:49.591Z"
   },
   {
    "duration": 11,
    "start_time": "2021-07-21T13:00:49.602Z"
   },
   {
    "duration": 6,
    "start_time": "2021-07-21T13:00:49.615Z"
   },
   {
    "duration": 13,
    "start_time": "2021-07-21T13:00:49.624Z"
   },
   {
    "duration": 4,
    "start_time": "2021-07-21T13:00:49.640Z"
   },
   {
    "duration": 37,
    "start_time": "2021-07-21T13:00:49.647Z"
   },
   {
    "duration": 12,
    "start_time": "2021-07-21T13:00:49.687Z"
   },
   {
    "duration": 9,
    "start_time": "2021-07-21T13:00:49.701Z"
   },
   {
    "duration": 15,
    "start_time": "2021-07-21T13:00:49.712Z"
   },
   {
    "duration": 185,
    "start_time": "2021-07-21T13:00:49.729Z"
   },
   {
    "duration": 12,
    "start_time": "2021-07-21T13:00:49.916Z"
   },
   {
    "duration": 5,
    "start_time": "2021-07-21T13:00:49.933Z"
   },
   {
    "duration": 28,
    "start_time": "2021-07-21T13:00:49.941Z"
   },
   {
    "duration": 16,
    "start_time": "2021-07-21T13:00:49.971Z"
   },
   {
    "duration": 11,
    "start_time": "2021-07-21T13:00:49.990Z"
   },
   {
    "duration": 1066,
    "start_time": "2021-07-21T13:00:50.003Z"
   },
   {
    "duration": 7,
    "start_time": "2021-07-21T13:00:51.072Z"
   },
   {
    "duration": 24,
    "start_time": "2021-07-21T13:00:51.082Z"
   },
   {
    "duration": 99,
    "start_time": "2021-07-21T13:00:51.108Z"
   },
   {
    "duration": 54,
    "start_time": "2021-07-21T13:00:51.211Z"
   },
   {
    "duration": 26,
    "start_time": "2021-07-21T13:00:51.268Z"
   },
   {
    "duration": 15,
    "start_time": "2021-07-21T13:00:51.296Z"
   },
   {
    "duration": 5,
    "start_time": "2021-07-21T13:00:51.314Z"
   },
   {
    "duration": 59,
    "start_time": "2021-07-21T13:00:51.322Z"
   },
   {
    "duration": 4,
    "start_time": "2021-07-21T13:00:51.383Z"
   },
   {
    "duration": 10,
    "start_time": "2021-07-21T13:00:51.390Z"
   },
   {
    "duration": 679,
    "start_time": "2021-07-21T13:00:51.402Z"
   },
   {
    "duration": 46,
    "start_time": "2021-07-21T13:00:52.084Z"
   },
   {
    "duration": 56,
    "start_time": "2021-07-21T13:00:52.133Z"
   },
   {
    "duration": 35,
    "start_time": "2021-07-21T13:00:52.192Z"
   },
   {
    "duration": 57,
    "start_time": "2021-07-21T13:00:52.230Z"
   }
  ],
  "kernelspec": {
   "display_name": "Python 3",
   "language": "python",
   "name": "python3"
  },
  "language_info": {
   "codemirror_mode": {
    "name": "ipython",
    "version": 3
   },
   "file_extension": ".py",
   "mimetype": "text/x-python",
   "name": "python",
   "nbconvert_exporter": "python",
   "pygments_lexer": "ipython3",
   "version": "3.7.8"
  },
  "toc": {
   "base_numbering": 1,
   "nav_menu": {},
   "number_sections": true,
   "sideBar": true,
   "skip_h1_title": true,
   "title_cell": "Table of Contents",
   "title_sidebar": "Contents",
   "toc_cell": false,
   "toc_position": {},
   "toc_section_display": true,
   "toc_window_display": false
  }
 },
 "nbformat": 4,
 "nbformat_minor": 2
}