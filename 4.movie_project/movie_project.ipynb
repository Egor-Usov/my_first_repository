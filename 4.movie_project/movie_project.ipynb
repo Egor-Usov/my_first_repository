{
 "cells": [
  {
   "cell_type": "markdown",
   "metadata": {},
   "source": [
    "# Цель проекта"
   ]
  },
  {
   "cell_type": "markdown",
   "metadata": {},
   "source": [
    "По заказу Министерства Культуры Российской Федерации необходимо исследовать рынок кинопроката. \n",
    "\n",
    "Выявить предпочтения зрителей.\n",
    "\n",
    "Проанализировать данные о фильмах с господдержкой и оценить востребованность таких фильмов.\n",
    "\n"
   ]
  },
  {
   "cell_type": "markdown",
   "metadata": {
    "id": "sIfNaMOxgFyK"
   },
   "source": [
    "# Исследование данных о российском кинопрокате\n",
    "\n"
   ]
  },
  {
   "cell_type": "markdown",
   "metadata": {
    "id": "3bSlkCsbgFyL"
   },
   "source": [
    "## Откройте файлы с данными и объедините их в один датафрейм. \n",
    "\n",
    "Объедините данные таким образом, чтобы все объекты из датасета `mkrf_movies` обязательно вошли в получившийся датафрейм. \n",
    "\n",
    "<div id=\"accordion\">\n",
    "    <div class=\"card\">\n",
    "        <div class=\"card-header\" id=\"headingThree\">\n",
    "            <button class=\"btn btn-link collapsed\" data-toggle=\"collapse\" data-target=\"#collapseHint_0\" aria-expanded=\"false\" aria-controls=\"collapseHint_0\">Подсказка</button>\n",
    "        </div>\n",
    "        <div id=\"collapseHint_0\" class=\"collapse\" aria-labelledby=\"headingThree\" data-parent=\"#accordion\">\n",
    "            <div class=\"card-body\">\n",
    "Обратите внимание на тип данных столбца, по которому будете соединять датафреймы. Тип данных этих столбцов должен быть одинаковым в обоих датафреймах.\n",
    "            </div>\n",
    "        </div>\n",
    "    </div>\n",
    "</div>"
   ]
  },
  {
   "cell_type": "markdown",
   "metadata": {},
   "source": [
    "### Обзор данных"
   ]
  },
  {
   "cell_type": "code",
   "execution_count": 2,
   "metadata": {
    "id": "dw87FlzMgFyM"
   },
   "outputs": [],
   "source": [
    "import pandas as pd\n",
    "import seaborn as sns\n",
    "import matplotlib.pyplot as plt\n",
    "import numpy as np\n"
   ]
  },
  {
   "cell_type": "code",
   "execution_count": 3,
   "metadata": {},
   "outputs": [],
   "source": [
    "try:\n",
    "    movies_data = pd.read_csv('https://code.s3.yandex.net/datasets/mkrf_movies.csv')\n",
    "    shows_data = pd.read_csv('https://code.s3.yandex.net/datasets/mkrf_shows.csv')\n",
    "except:\n",
    "    movies_data = pd.read_csv('/datasets/mkrf_movies.csv')\n",
    "    shows_data = pd.read_csv('/datasets/mkrf_shows.csv')"
   ]
  },
  {
   "cell_type": "code",
   "execution_count": 4,
   "metadata": {
    "scrolled": true
   },
   "outputs": [
    {
     "name": "stdout",
     "output_type": "stream",
     "text": [
      "<class 'pandas.core.frame.DataFrame'>\n",
      "RangeIndex: 7486 entries, 0 to 7485\n",
      "Data columns (total 15 columns):\n",
      " #   Column                 Non-Null Count  Dtype  \n",
      "---  ------                 --------------  -----  \n",
      " 0   title                  7486 non-null   object \n",
      " 1   puNumber               7486 non-null   object \n",
      " 2   show_start_date        7486 non-null   object \n",
      " 3   type                   7486 non-null   object \n",
      " 4   film_studio            7468 non-null   object \n",
      " 5   production_country     7484 non-null   object \n",
      " 6   director               7477 non-null   object \n",
      " 7   producer               6918 non-null   object \n",
      " 8   age_restriction        7486 non-null   object \n",
      " 9   refundable_support     332 non-null    float64\n",
      " 10  nonrefundable_support  332 non-null    float64\n",
      " 11  budget                 332 non-null    float64\n",
      " 12  financing_source       332 non-null    object \n",
      " 13  ratings                6519 non-null   object \n",
      " 14  genres                 6510 non-null   object \n",
      "dtypes: float64(3), object(12)\n",
      "memory usage: 526.4+ KB\n"
     ]
    }
   ],
   "source": [
    "movies_data.info()"
   ]
  },
  {
   "cell_type": "code",
   "execution_count": 5,
   "metadata": {},
   "outputs": [
    {
     "data": {
      "text/html": [
       "<div>\n",
       "<style scoped>\n",
       "    .dataframe tbody tr th:only-of-type {\n",
       "        vertical-align: middle;\n",
       "    }\n",
       "\n",
       "    .dataframe tbody tr th {\n",
       "        vertical-align: top;\n",
       "    }\n",
       "\n",
       "    .dataframe thead th {\n",
       "        text-align: right;\n",
       "    }\n",
       "</style>\n",
       "<table border=\"1\" class=\"dataframe\">\n",
       "  <thead>\n",
       "    <tr style=\"text-align: right;\">\n",
       "      <th></th>\n",
       "      <th>title</th>\n",
       "      <th>puNumber</th>\n",
       "      <th>show_start_date</th>\n",
       "      <th>type</th>\n",
       "      <th>film_studio</th>\n",
       "      <th>production_country</th>\n",
       "      <th>director</th>\n",
       "      <th>producer</th>\n",
       "      <th>age_restriction</th>\n",
       "      <th>refundable_support</th>\n",
       "      <th>nonrefundable_support</th>\n",
       "      <th>budget</th>\n",
       "      <th>financing_source</th>\n",
       "      <th>ratings</th>\n",
       "      <th>genres</th>\n",
       "    </tr>\n",
       "  </thead>\n",
       "  <tbody>\n",
       "    <tr>\n",
       "      <th>0</th>\n",
       "      <td>Открытый простор</td>\n",
       "      <td>221048915</td>\n",
       "      <td>2015-11-27T12:00:00.000Z</td>\n",
       "      <td>Художественный</td>\n",
       "      <td>Тачстоун Пикчерз, Кобальт Пикчерз, Бикон Пикче...</td>\n",
       "      <td>США</td>\n",
       "      <td>Кевин Костнер</td>\n",
       "      <td>Дэвид Валдес, Кевин Костнер, Джейк Эбертс</td>\n",
       "      <td>«18+» - запрещено для детей</td>\n",
       "      <td>NaN</td>\n",
       "      <td>NaN</td>\n",
       "      <td>NaN</td>\n",
       "      <td>NaN</td>\n",
       "      <td>7.2</td>\n",
       "      <td>боевик,драма,мелодрама</td>\n",
       "    </tr>\n",
       "    <tr>\n",
       "      <th>1</th>\n",
       "      <td>Особо важное задание</td>\n",
       "      <td>111013716</td>\n",
       "      <td>2016-09-13T12:00:00.000Z</td>\n",
       "      <td>Художественный</td>\n",
       "      <td>Киностудия \"Мосфильм\"</td>\n",
       "      <td>СССР</td>\n",
       "      <td>Е.Матвеев</td>\n",
       "      <td>NaN</td>\n",
       "      <td>«6+» - для детей старше 6 лет</td>\n",
       "      <td>NaN</td>\n",
       "      <td>NaN</td>\n",
       "      <td>NaN</td>\n",
       "      <td>NaN</td>\n",
       "      <td>6.6</td>\n",
       "      <td>драма,военный</td>\n",
       "    </tr>\n",
       "    <tr>\n",
       "      <th>2</th>\n",
       "      <td>Особо опасен</td>\n",
       "      <td>221038416</td>\n",
       "      <td>2016-10-10T12:00:00.000Z</td>\n",
       "      <td>Художественный</td>\n",
       "      <td>Юниверсал Пикчерз, Кикстарт Продакшнз, Марк Пл...</td>\n",
       "      <td>США</td>\n",
       "      <td>Тимур Бекмамбетов</td>\n",
       "      <td>Джим Лемли, Джейсон Нетер, Марк Е.Платт, Яйн Смит</td>\n",
       "      <td>«18+» - запрещено для детей</td>\n",
       "      <td>NaN</td>\n",
       "      <td>NaN</td>\n",
       "      <td>NaN</td>\n",
       "      <td>NaN</td>\n",
       "      <td>6.8</td>\n",
       "      <td>фантастика,боевик,триллер</td>\n",
       "    </tr>\n",
       "    <tr>\n",
       "      <th>3</th>\n",
       "      <td>Особо опасен</td>\n",
       "      <td>221026916</td>\n",
       "      <td>2016-06-10T12:00:00.000Z</td>\n",
       "      <td>Художественный</td>\n",
       "      <td>Юниверсал Пикчерз, Кикстарт Продакшнз, Марк Пл...</td>\n",
       "      <td>США</td>\n",
       "      <td>Тимур Бекмамбетов</td>\n",
       "      <td>Джим Лемли, Джейсон Нетер, Марк Е.Платт, Яйн Смит</td>\n",
       "      <td>«18+» - запрещено для детей</td>\n",
       "      <td>NaN</td>\n",
       "      <td>NaN</td>\n",
       "      <td>NaN</td>\n",
       "      <td>NaN</td>\n",
       "      <td>6.8</td>\n",
       "      <td>фантастика,боевик,триллер</td>\n",
       "    </tr>\n",
       "    <tr>\n",
       "      <th>4</th>\n",
       "      <td>Особо опасен</td>\n",
       "      <td>221030815</td>\n",
       "      <td>2015-07-29T12:00:00.000Z</td>\n",
       "      <td>Художественный</td>\n",
       "      <td>Юниверсал Пикчерз, Кикстарт Продакшнз, Марк Пл...</td>\n",
       "      <td>США</td>\n",
       "      <td>Тимур Бекмамбетов</td>\n",
       "      <td>Джим Лемли, Джейсон Нетер, Марк Е.Платт, Яйн Смит</td>\n",
       "      <td>«18+» - запрещено для детей</td>\n",
       "      <td>NaN</td>\n",
       "      <td>NaN</td>\n",
       "      <td>NaN</td>\n",
       "      <td>NaN</td>\n",
       "      <td>6.8</td>\n",
       "      <td>фантастика,боевик,триллер</td>\n",
       "    </tr>\n",
       "  </tbody>\n",
       "</table>\n",
       "</div>"
      ],
      "text/plain": [
       "                  title   puNumber           show_start_date            type  \\\n",
       "0      Открытый простор  221048915  2015-11-27T12:00:00.000Z  Художественный   \n",
       "1  Особо важное задание  111013716  2016-09-13T12:00:00.000Z  Художественный   \n",
       "2          Особо опасен  221038416  2016-10-10T12:00:00.000Z  Художественный   \n",
       "3          Особо опасен  221026916  2016-06-10T12:00:00.000Z  Художественный   \n",
       "4          Особо опасен  221030815  2015-07-29T12:00:00.000Z  Художественный   \n",
       "\n",
       "                                         film_studio production_country  \\\n",
       "0  Тачстоун Пикчерз, Кобальт Пикчерз, Бикон Пикче...                США   \n",
       "1                              Киностудия \"Мосфильм\"               СССР   \n",
       "2  Юниверсал Пикчерз, Кикстарт Продакшнз, Марк Пл...                США   \n",
       "3  Юниверсал Пикчерз, Кикстарт Продакшнз, Марк Пл...                США   \n",
       "4  Юниверсал Пикчерз, Кикстарт Продакшнз, Марк Пл...                США   \n",
       "\n",
       "            director                                           producer  \\\n",
       "0      Кевин Костнер          Дэвид Валдес, Кевин Костнер, Джейк Эбертс   \n",
       "1          Е.Матвеев                                                NaN   \n",
       "2  Тимур Бекмамбетов  Джим Лемли, Джейсон Нетер, Марк Е.Платт, Яйн Смит   \n",
       "3  Тимур Бекмамбетов  Джим Лемли, Джейсон Нетер, Марк Е.Платт, Яйн Смит   \n",
       "4  Тимур Бекмамбетов  Джим Лемли, Джейсон Нетер, Марк Е.Платт, Яйн Смит   \n",
       "\n",
       "                 age_restriction  refundable_support  nonrefundable_support  \\\n",
       "0    «18+» - запрещено для детей                 NaN                    NaN   \n",
       "1  «6+» - для детей старше 6 лет                 NaN                    NaN   \n",
       "2    «18+» - запрещено для детей                 NaN                    NaN   \n",
       "3    «18+» - запрещено для детей                 NaN                    NaN   \n",
       "4    «18+» - запрещено для детей                 NaN                    NaN   \n",
       "\n",
       "   budget financing_source ratings                     genres  \n",
       "0     NaN              NaN     7.2     боевик,драма,мелодрама  \n",
       "1     NaN              NaN     6.6              драма,военный  \n",
       "2     NaN              NaN     6.8  фантастика,боевик,триллер  \n",
       "3     NaN              NaN     6.8  фантастика,боевик,триллер  \n",
       "4     NaN              NaN     6.8  фантастика,боевик,триллер  "
      ]
     },
     "execution_count": 5,
     "metadata": {},
     "output_type": "execute_result"
    }
   ],
   "source": [
    "movies_data.head()"
   ]
  },
  {
   "cell_type": "markdown",
   "metadata": {},
   "source": [
    "Таблица с данными по фильмам состоит из 15 столбцов:\n",
    "- Название тип данных object\n",
    "- Номер прокатного удостовеления тип данных object (необходимо заменить на тип данных int)\n",
    "- Дата начала проката тип данных object (необходимо перевести к формату даты)\n",
    "- Тип тип данных object, содержит категориальные данные (необходимо проверить на наличие неявных дубликатов)\n",
    "- Студия тип данных object\n",
    "- Страна производитель тип данных object (необходимо проверить на наличие неявных дубликатов)\n",
    "- Режисер тип данных object\n",
    "- Продюсер тип данных object\n",
    "- Возрастное ограничение тип данных object, содержит категориальные данные, необходимо проверить на наличие неявных дубликатов\n",
    "- Возвратная господдержка тип данных float\n",
    "- Невозвратная господдержка тип данных float\n",
    "- Бюджет господдержки фильма тип данных float\n",
    "- Источник финасирования тип данных object\n",
    "- Рейтинг тип данных object(необходимо привести к формату данных float)\n",
    "- Жанры тип данных object"
   ]
  },
  {
   "cell_type": "code",
   "execution_count": 6,
   "metadata": {
    "scrolled": true
   },
   "outputs": [
    {
     "name": "stdout",
     "output_type": "stream",
     "text": [
      "<class 'pandas.core.frame.DataFrame'>\n",
      "RangeIndex: 3158 entries, 0 to 3157\n",
      "Data columns (total 2 columns):\n",
      " #   Column      Non-Null Count  Dtype  \n",
      "---  ------      --------------  -----  \n",
      " 0   puNumber    3158 non-null   int64  \n",
      " 1   box_office  3158 non-null   float64\n",
      "dtypes: float64(1), int64(1)\n",
      "memory usage: 49.4 KB\n"
     ]
    }
   ],
   "source": [
    "shows_data.info()"
   ]
  },
  {
   "cell_type": "code",
   "execution_count": 7,
   "metadata": {},
   "outputs": [
    {
     "data": {
      "text/html": [
       "<div>\n",
       "<style scoped>\n",
       "    .dataframe tbody tr th:only-of-type {\n",
       "        vertical-align: middle;\n",
       "    }\n",
       "\n",
       "    .dataframe tbody tr th {\n",
       "        vertical-align: top;\n",
       "    }\n",
       "\n",
       "    .dataframe thead th {\n",
       "        text-align: right;\n",
       "    }\n",
       "</style>\n",
       "<table border=\"1\" class=\"dataframe\">\n",
       "  <thead>\n",
       "    <tr style=\"text-align: right;\">\n",
       "      <th></th>\n",
       "      <th>puNumber</th>\n",
       "      <th>box_office</th>\n",
       "    </tr>\n",
       "  </thead>\n",
       "  <tbody>\n",
       "    <tr>\n",
       "      <th>0</th>\n",
       "      <td>111000113</td>\n",
       "      <td>2.450000e+03</td>\n",
       "    </tr>\n",
       "    <tr>\n",
       "      <th>1</th>\n",
       "      <td>111000115</td>\n",
       "      <td>6.104000e+04</td>\n",
       "    </tr>\n",
       "    <tr>\n",
       "      <th>2</th>\n",
       "      <td>111000116</td>\n",
       "      <td>1.530300e+08</td>\n",
       "    </tr>\n",
       "    <tr>\n",
       "      <th>3</th>\n",
       "      <td>111000117</td>\n",
       "      <td>1.226096e+07</td>\n",
       "    </tr>\n",
       "    <tr>\n",
       "      <th>4</th>\n",
       "      <td>111000118</td>\n",
       "      <td>1.636841e+08</td>\n",
       "    </tr>\n",
       "  </tbody>\n",
       "</table>\n",
       "</div>"
      ],
      "text/plain": [
       "    puNumber    box_office\n",
       "0  111000113  2.450000e+03\n",
       "1  111000115  6.104000e+04\n",
       "2  111000116  1.530300e+08\n",
       "3  111000117  1.226096e+07\n",
       "4  111000118  1.636841e+08"
      ]
     },
     "execution_count": 7,
     "metadata": {},
     "output_type": "execute_result"
    }
   ],
   "source": [
    "shows_data.head()"
   ]
  },
  {
   "cell_type": "markdown",
   "metadata": {},
   "source": [
    "Таблица со сведениями о показах состоит из двух столбцов:\n",
    "- Номер прокатного удостоверения тип данных int\n",
    "- Сумма прокатных сборов в кинотеатрах тип данных float"
   ]
  },
  {
   "cell_type": "markdown",
   "metadata": {},
   "source": [
    "Видно, что типы данных в столбце с номером прокатного удостоверения двух таблиц отличаются. Необходимо исправить тип данных в таблице фильмов, чтобы провести успешное объединение двух таблиц."
   ]
  },
  {
   "cell_type": "markdown",
   "metadata": {},
   "source": [
    "Попытка сходу исправить формат данных выводит ошибку из-за наличия значения 'нет' в одной из ячеек.\n",
    "\n",
    "Заменим значения ячеек состоящие только из букв на 0."
   ]
  },
  {
   "cell_type": "code",
   "execution_count": 8,
   "metadata": {},
   "outputs": [],
   "source": [
    "movies_data.loc[movies_data.puNumber.str.isalpha(), 'puNumber'] = 0"
   ]
  },
  {
   "cell_type": "code",
   "execution_count": 9,
   "metadata": {},
   "outputs": [],
   "source": [
    "movies_data['puNumber'] = movies_data['puNumber'].astype(int)"
   ]
  },
  {
   "cell_type": "markdown",
   "metadata": {},
   "source": [
    "Тип данных для значения номера прокатного удостоверения успешно изменен."
   ]
  },
  {
   "cell_type": "markdown",
   "metadata": {},
   "source": [
    "Проведем слияние двух таблиц, таким образом, чтобы в итоговой таблице сохранились все записи из таблицы фильмов."
   ]
  },
  {
   "cell_type": "code",
   "execution_count": 10,
   "metadata": {},
   "outputs": [],
   "source": [
    "total_data = movies_data.merge(shows_data, on='puNumber', how='outer')"
   ]
  },
  {
   "cell_type": "code",
   "execution_count": 11,
   "metadata": {},
   "outputs": [
    {
     "name": "stdout",
     "output_type": "stream",
     "text": [
      "<class 'pandas.core.frame.DataFrame'>\n",
      "Int64Index: 7486 entries, 0 to 7485\n",
      "Data columns (total 16 columns):\n",
      " #   Column                 Non-Null Count  Dtype  \n",
      "---  ------                 --------------  -----  \n",
      " 0   title                  7486 non-null   object \n",
      " 1   puNumber               7486 non-null   int32  \n",
      " 2   show_start_date        7486 non-null   object \n",
      " 3   type                   7486 non-null   object \n",
      " 4   film_studio            7468 non-null   object \n",
      " 5   production_country     7484 non-null   object \n",
      " 6   director               7477 non-null   object \n",
      " 7   producer               6918 non-null   object \n",
      " 8   age_restriction        7486 non-null   object \n",
      " 9   refundable_support     332 non-null    float64\n",
      " 10  nonrefundable_support  332 non-null    float64\n",
      " 11  budget                 332 non-null    float64\n",
      " 12  financing_source       332 non-null    object \n",
      " 13  ratings                6519 non-null   object \n",
      " 14  genres                 6510 non-null   object \n",
      " 15  box_office             3158 non-null   float64\n",
      "dtypes: float64(4), int32(1), object(11)\n",
      "memory usage: 643.3+ KB\n"
     ]
    }
   ],
   "source": [
    "total_data.info()"
   ]
  },
  {
   "cell_type": "markdown",
   "metadata": {},
   "source": [
    "Таблицы успешно объединены."
   ]
  },
  {
   "cell_type": "code",
   "execution_count": 12,
   "metadata": {
    "scrolled": true
   },
   "outputs": [
    {
     "data": {
      "image/png": "[encoded data removed]",
      "text/plain": [
       "<Figure size 432x288 with 2 Axes>"
      ]
     },
     "metadata": {
      "needs_background": "light"
     },
     "output_type": "display_data"
    }
   ],
   "source": [
    "sns.heatmap(total_data.isna());"
   ]
  },
  {
   "cell_type": "code",
   "execution_count": 13,
   "metadata": {
    "scrolled": true
   },
   "outputs": [
    {
     "data": {
      "text/html": [
       "<style  type=\"text/css\" >\n",
       "#T_1f2db_row0_col0,#T_1f2db_row1_col0,#T_1f2db_row2_col0,#T_1f2db_row3_col0,#T_1f2db_row4_col0,#T_1f2db_row5_col0,#T_1f2db_row6_col0,#T_1f2db_row8_col0{\n",
       "            background-color:  #3b4cc0;\n",
       "            color:  #f1f1f1;\n",
       "        }#T_1f2db_row7_col0{\n",
       "            background-color:  #536edd;\n",
       "            color:  #000000;\n",
       "        }#T_1f2db_row9_col0,#T_1f2db_row10_col0,#T_1f2db_row11_col0,#T_1f2db_row12_col0{\n",
       "            background-color:  #b40426;\n",
       "            color:  #f1f1f1;\n",
       "        }#T_1f2db_row13_col0,#T_1f2db_row14_col0{\n",
       "            background-color:  #6485ec;\n",
       "            color:  #000000;\n",
       "        }#T_1f2db_row15_col0{\n",
       "            background-color:  #f2cab5;\n",
       "            color:  #000000;\n",
       "        }</style><table id=\"T_1f2db_\" ><thead>    <tr>        <th class=\"blank level0\" ></th>        <th class=\"col_heading level0 col0\" >0</th>    </tr></thead><tbody>\n",
       "                <tr>\n",
       "                        <th id=\"T_1f2db_level0_row0\" class=\"row_heading level0 row0\" >title</th>\n",
       "                        <td id=\"T_1f2db_row0_col0\" class=\"data row0 col0\" >0.000000</td>\n",
       "            </tr>\n",
       "            <tr>\n",
       "                        <th id=\"T_1f2db_level0_row1\" class=\"row_heading level0 row1\" >puNumber</th>\n",
       "                        <td id=\"T_1f2db_row1_col0\" class=\"data row1 col0\" >0.000000</td>\n",
       "            </tr>\n",
       "            <tr>\n",
       "                        <th id=\"T_1f2db_level0_row2\" class=\"row_heading level0 row2\" >show_start_date</th>\n",
       "                        <td id=\"T_1f2db_row2_col0\" class=\"data row2 col0\" >0.000000</td>\n",
       "            </tr>\n",
       "            <tr>\n",
       "                        <th id=\"T_1f2db_level0_row3\" class=\"row_heading level0 row3\" >type</th>\n",
       "                        <td id=\"T_1f2db_row3_col0\" class=\"data row3 col0\" >0.000000</td>\n",
       "            </tr>\n",
       "            <tr>\n",
       "                        <th id=\"T_1f2db_level0_row4\" class=\"row_heading level0 row4\" >film_studio</th>\n",
       "                        <td id=\"T_1f2db_row4_col0\" class=\"data row4 col0\" >0.002404</td>\n",
       "            </tr>\n",
       "            <tr>\n",
       "                        <th id=\"T_1f2db_level0_row5\" class=\"row_heading level0 row5\" >production_country</th>\n",
       "                        <td id=\"T_1f2db_row5_col0\" class=\"data row5 col0\" >0.000267</td>\n",
       "            </tr>\n",
       "            <tr>\n",
       "                        <th id=\"T_1f2db_level0_row6\" class=\"row_heading level0 row6\" >director</th>\n",
       "                        <td id=\"T_1f2db_row6_col0\" class=\"data row6 col0\" >0.001202</td>\n",
       "            </tr>\n",
       "            <tr>\n",
       "                        <th id=\"T_1f2db_level0_row7\" class=\"row_heading level0 row7\" >producer</th>\n",
       "                        <td id=\"T_1f2db_row7_col0\" class=\"data row7 col0\" >0.075875</td>\n",
       "            </tr>\n",
       "            <tr>\n",
       "                        <th id=\"T_1f2db_level0_row8\" class=\"row_heading level0 row8\" >age_restriction</th>\n",
       "                        <td id=\"T_1f2db_row8_col0\" class=\"data row8 col0\" >0.000000</td>\n",
       "            </tr>\n",
       "            <tr>\n",
       "                        <th id=\"T_1f2db_level0_row9\" class=\"row_heading level0 row9\" >refundable_support</th>\n",
       "                        <td id=\"T_1f2db_row9_col0\" class=\"data row9 col0\" >0.955651</td>\n",
       "            </tr>\n",
       "            <tr>\n",
       "                        <th id=\"T_1f2db_level0_row10\" class=\"row_heading level0 row10\" >nonrefundable_support</th>\n",
       "                        <td id=\"T_1f2db_row10_col0\" class=\"data row10 col0\" >0.955651</td>\n",
       "            </tr>\n",
       "            <tr>\n",
       "                        <th id=\"T_1f2db_level0_row11\" class=\"row_heading level0 row11\" >budget</th>\n",
       "                        <td id=\"T_1f2db_row11_col0\" class=\"data row11 col0\" >0.955651</td>\n",
       "            </tr>\n",
       "            <tr>\n",
       "                        <th id=\"T_1f2db_level0_row12\" class=\"row_heading level0 row12\" >financing_source</th>\n",
       "                        <td id=\"T_1f2db_row12_col0\" class=\"data row12 col0\" >0.955651</td>\n",
       "            </tr>\n",
       "            <tr>\n",
       "                        <th id=\"T_1f2db_level0_row13\" class=\"row_heading level0 row13\" >ratings</th>\n",
       "                        <td id=\"T_1f2db_row13_col0\" class=\"data row13 col0\" >0.129174</td>\n",
       "            </tr>\n",
       "            <tr>\n",
       "                        <th id=\"T_1f2db_level0_row14\" class=\"row_heading level0 row14\" >genres</th>\n",
       "                        <td id=\"T_1f2db_row14_col0\" class=\"data row14 col0\" >0.130377</td>\n",
       "            </tr>\n",
       "            <tr>\n",
       "                        <th id=\"T_1f2db_level0_row15\" class=\"row_heading level0 row15\" >box_office</th>\n",
       "                        <td id=\"T_1f2db_row15_col0\" class=\"data row15 col0\" >0.578146</td>\n",
       "            </tr>\n",
       "    </tbody></table>"
      ],
      "text/plain": [
       "<pandas.io.formats.style.Styler at 0x1157fa78>"
      ]
     },
     "execution_count": 13,
     "metadata": {},
     "output_type": "execute_result"
    }
   ],
   "source": [
    "pd.DataFrame(total_data.isna().mean()).style.background_gradient('coolwarm')"
   ]
  },
  {
   "cell_type": "markdown",
   "metadata": {},
   "source": [
    "В данных имеются пропуски.\n",
    "- количество пропусков в столбцах film_studio, production_country, director незначительно их можно отбростить\n",
    "- количество пропусков в столбце producer составляет более 7 %. Пропуски следует заменить на значение unknown, чтобы не терять данные.\n",
    "- количество пропусков в столбцах refundable_support, nonrefundable_support, budget. financing_source составляет более 95%, заполнять эти пропуски не стоит. Логично, что господдержку получают далеко не все фильмы выходящие в прокат. В данном случае пропущенные значения можно заменить на 0.\n",
    "- количество пропусков в столбце ratings составляет 12.9%. Этот столбец играет ключевую роль в исследовании. На этапе предобработки можно попробовать посмотреть зависимость рейтинга от различных категорий. Но на первый взгляд трогать этот столбец не стоит.\n",
    "- количество пропусков в столбце genres составляет 13%. Значения этого столбца можно заменить на unknown.\n",
    "- количество пропусков в столбце box_office составляет 57%. Для большей части данных нет сведений о выручке проката. Пропущенные значения можно заменить на 0."
   ]
  },
  {
   "cell_type": "code",
   "execution_count": 14,
   "metadata": {},
   "outputs": [],
   "source": [
    "nas_to_drop = ['film_studio', 'production_country', 'director']"
   ]
  },
  {
   "cell_type": "code",
   "execution_count": 15,
   "metadata": {},
   "outputs": [],
   "source": [
    "nas_to_zero = ['refundable_support', 'nonrefundable_support', 'budget', 'box_office']"
   ]
  },
  {
   "cell_type": "code",
   "execution_count": 16,
   "metadata": {},
   "outputs": [],
   "source": [
    "nas_to_unknown = ['genres', 'producer', 'financing_source']"
   ]
  },
  {
   "cell_type": "code",
   "execution_count": 17,
   "metadata": {},
   "outputs": [],
   "source": [
    "categorial_columns = ['type', 'production_country', 'age_restriction']"
   ]
  },
  {
   "cell_type": "markdown",
   "metadata": {},
   "source": [
    "#### Выводы\n",
    "\n",
    "На этапе обзора данных было осуществлено следующее:\n",
    "- Была устранена проблема с данными о прокатных удостоверениях фильмов и таблицы были успешно объединены.\n",
    "- Были установлены столбцы с пропущенными значениями и выделены в отдельные списки для заполнения пропусков на этапе предобработки.\n",
    "- Также были выявлены проблемы в данных которые необходимо устранить в ходе предобработки (изменение типов данных отдельных столбцов)"
   ]
  },
  {
   "cell_type": "markdown",
   "metadata": {
    "id": "KLDGpPG0gFyM"
   },
   "source": [
    "## Предобработка данных"
   ]
  },
  {
   "cell_type": "markdown",
   "metadata": {
    "id": "ssWwKXsxgFyO"
   },
   "source": [
    "### Проверьте типы данных\n",
    "\n",
    "- Проверьте типы данных в датафрейме и преобразуйте их там, где это необходимо."
   ]
  },
  {
   "cell_type": "markdown",
   "metadata": {},
   "source": [
    "Преобразуем дату начала показа к типу данных datetime"
   ]
  },
  {
   "cell_type": "code",
   "execution_count": 18,
   "metadata": {},
   "outputs": [],
   "source": [
    "total_data['show_start_date'] = pd.to_datetime(total_data['show_start_date'], format='%Y-%m-%dT%H:%M:%S')"
   ]
  },
  {
   "cell_type": "code",
   "execution_count": 19,
   "metadata": {
    "scrolled": true
   },
   "outputs": [
    {
     "name": "stdout",
     "output_type": "stream",
     "text": [
      "Первый год наблюдений:2010. Последний год наблюдений :2019. Период наблюдений:9 лет.\n"
     ]
    }
   ],
   "source": [
    "first_date = total_data['show_start_date'].dt.year.min()\n",
    "last_date = total_data['show_start_date'].dt.year.max()\n",
    "time_span = last_date - first_date\n",
    "print(f'Первый год наблюдений:{first_date}. Последний год наблюдений :{last_date}. Период наблюдений:{time_span} лет.')"
   ]
  },
  {
   "cell_type": "markdown",
   "metadata": {},
   "source": [
    "Приведем столбец с рейтингом к типу данных float. Для этого исправим значения рейтинга указанное в процентах. Приведем проценты к 10 бальной системе."
   ]
  },
  {
   "cell_type": "code",
   "execution_count": 20,
   "metadata": {},
   "outputs": [],
   "source": [
    "def percent_to_rating(string):\n",
    "    '''функция принимает строку и если в строке есть знак %, то первый и второй элемент строки разделяются точкой'''\n",
    "    try:\n",
    "        if string.find('%') != -1:\n",
    "            string = string[0] + '.' + string[1]\n",
    "        return string\n",
    "    except:\n",
    "        pass\n"
   ]
  },
  {
   "cell_type": "code",
   "execution_count": 21,
   "metadata": {},
   "outputs": [],
   "source": [
    "total_data['ratings'] = total_data['ratings'].apply(percent_to_rating)"
   ]
  },
  {
   "cell_type": "code",
   "execution_count": 22,
   "metadata": {},
   "outputs": [],
   "source": [
    "total_data['ratings'] = total_data['ratings'].astype(float)\n"
   ]
  },
  {
   "cell_type": "markdown",
   "metadata": {},
   "source": [
    "Рейтинг фильмов успешно преобразован к типу данных float"
   ]
  },
  {
   "cell_type": "markdown",
   "metadata": {},
   "source": [
    "#### Выводы\n",
    "\n",
    "Для колонок с датой и рейтингом типы данных были успешно преобразованы."
   ]
  },
  {
   "cell_type": "markdown",
   "metadata": {
    "id": "i0MOLbF-gFyP"
   },
   "source": [
    "### Изучите пропуски в датафрейме\n",
    "\n",
    "- Объясните, почему заполнили пропуски определённым образом или почему не стали этого делать."
   ]
  },
  {
   "cell_type": "markdown",
   "metadata": {},
   "source": [
    "На этапе обзора столбцы с пропущенными значениями были разделены на несколько категорий.\n",
    "\n",
    "Поскольку в столбцах с суммами сборов и суммами поддержки пропусков очень много, то можно заменить пропуски на 0 или оставить значения как есть. Я заполню пропуски нулями.\n",
    "\n",
    "Для строковых столбцов можно заменить пропущенные значения на unknown.\n",
    "\n",
    "Для пропусков в столбце с рейтингом нужно проверить возможную зависимость от категории фильма, чтобы попробовать заполнить пропуски чем-нибудь. Если зависимость выявлена не будет, то этот столбец лучше оставить как есть."
   ]
  },
  {
   "cell_type": "markdown",
   "metadata": {},
   "source": [
    "Удалим незначительное количество пропущенных значений, определенных на этапе обзора."
   ]
  },
  {
   "cell_type": "code",
   "execution_count": 23,
   "metadata": {},
   "outputs": [],
   "source": [
    "total_data.dropna(subset=nas_to_drop, inplace=True)"
   ]
  },
  {
   "cell_type": "code",
   "execution_count": 24,
   "metadata": {},
   "outputs": [
    {
     "name": "stdout",
     "output_type": "stream",
     "text": [
      "<class 'pandas.core.frame.DataFrame'>\n",
      "Int64Index: 7459 entries, 0 to 7485\n",
      "Data columns (total 16 columns):\n",
      " #   Column                 Non-Null Count  Dtype              \n",
      "---  ------                 --------------  -----              \n",
      " 0   title                  7459 non-null   object             \n",
      " 1   puNumber               7459 non-null   int32              \n",
      " 2   show_start_date        7459 non-null   datetime64[ns, UTC]\n",
      " 3   type                   7459 non-null   object             \n",
      " 4   film_studio            7459 non-null   object             \n",
      " 5   production_country     7459 non-null   object             \n",
      " 6   director               7459 non-null   object             \n",
      " 7   producer               6895 non-null   object             \n",
      " 8   age_restriction        7459 non-null   object             \n",
      " 9   refundable_support     332 non-null    float64            \n",
      " 10  nonrefundable_support  332 non-null    float64            \n",
      " 11  budget                 332 non-null    float64            \n",
      " 12  financing_source       332 non-null    object             \n",
      " 13  ratings                6511 non-null   float64            \n",
      " 14  genres                 6502 non-null   object             \n",
      " 15  box_office             3155 non-null   float64            \n",
      "dtypes: datetime64[ns, UTC](1), float64(5), int32(1), object(9)\n",
      "memory usage: 699.3+ KB\n"
     ]
    }
   ],
   "source": [
    "total_data.info()"
   ]
  },
  {
   "cell_type": "code",
   "execution_count": 25,
   "metadata": {},
   "outputs": [],
   "source": [
    "def fill_na(df, column, value='unknown'):\n",
    "    df[column] = df[column].fillna(value)"
   ]
  },
  {
   "cell_type": "code",
   "execution_count": 26,
   "metadata": {},
   "outputs": [],
   "source": [
    "for column in nas_to_zero:\n",
    "    fill_na(total_data, column, value=0)\n"
   ]
  },
  {
   "cell_type": "code",
   "execution_count": 27,
   "metadata": {},
   "outputs": [],
   "source": [
    "for column in nas_to_unknown:\n",
    "    fill_na(total_data, column)"
   ]
  },
  {
   "cell_type": "code",
   "execution_count": 28,
   "metadata": {
    "scrolled": true
   },
   "outputs": [
    {
     "name": "stdout",
     "output_type": "stream",
     "text": [
      "<class 'pandas.core.frame.DataFrame'>\n",
      "Int64Index: 7459 entries, 0 to 7485\n",
      "Data columns (total 16 columns):\n",
      " #   Column                 Non-Null Count  Dtype              \n",
      "---  ------                 --------------  -----              \n",
      " 0   title                  7459 non-null   object             \n",
      " 1   puNumber               7459 non-null   int32              \n",
      " 2   show_start_date        7459 non-null   datetime64[ns, UTC]\n",
      " 3   type                   7459 non-null   object             \n",
      " 4   film_studio            7459 non-null   object             \n",
      " 5   production_country     7459 non-null   object             \n",
      " 6   director               7459 non-null   object             \n",
      " 7   producer               7459 non-null   object             \n",
      " 8   age_restriction        7459 non-null   object             \n",
      " 9   refundable_support     7459 non-null   float64            \n",
      " 10  nonrefundable_support  7459 non-null   float64            \n",
      " 11  budget                 7459 non-null   float64            \n",
      " 12  financing_source       7459 non-null   object             \n",
      " 13  ratings                6511 non-null   float64            \n",
      " 14  genres                 7459 non-null   object             \n",
      " 15  box_office             7459 non-null   float64            \n",
      "dtypes: datetime64[ns, UTC](1), float64(5), int32(1), object(9)\n",
      "memory usage: 699.3+ KB\n"
     ]
    }
   ],
   "source": [
    "total_data.info()"
   ]
  },
  {
   "cell_type": "code",
   "execution_count": 29,
   "metadata": {
    "scrolled": true
   },
   "outputs": [
    {
     "data": {
      "text/plain": [
       "type\n",
       " Анимационный                 6.4\n",
       " Художественный               6.4\n",
       "Анимационный                  6.5\n",
       "Документальный                7.1\n",
       "Музыкально-развлекательный    6.9\n",
       "Научно-популярный             7.3\n",
       "Прочие                        7.2\n",
       "Художественный                6.6\n",
       "Name: ratings, dtype: float64"
      ]
     },
     "execution_count": 29,
     "metadata": {},
     "output_type": "execute_result"
    }
   ],
   "source": [
    "total_data.groupby('type')['ratings'].median()"
   ]
  },
  {
   "cell_type": "markdown",
   "metadata": {},
   "source": [
    "При групировке видно, что столбец type имеет проблемы, в нем встречаются неявные дубликаты, которые нужно устранить прежде, чем оценивать влияние типа фильма на рейтинг.\n",
    "\n",
    "Также нужно проверить количество пропущенных значений рейтинга для разных типов фильмов.\n",
    "Проведем эту проверку после исправления проблем в категориальных столбцах."
   ]
  },
  {
   "cell_type": "markdown",
   "metadata": {},
   "source": [
    "#### Выводы\n",
    "\n",
    "На этом этапе были удалены из таблицы незначительное количество пропусков в колонках определенных на этапе обзора.\n",
    "\n",
    "Для отдельных столбцов пропущенные значения заполнены на 0 и unknown."
   ]
  },
  {
   "cell_type": "markdown",
   "metadata": {
    "id": "4c6k1t9ygFyQ"
   },
   "source": [
    "### Изучите дубликаты в датафрейме\n",
    "- Проверьте, есть ли в данных дубликаты. Опишите причины, которые могли повлиять на появление дублей."
   ]
  },
  {
   "cell_type": "code",
   "execution_count": 30,
   "metadata": {
    "id": "aKck8RIdgFyQ"
   },
   "outputs": [
    {
     "data": {
      "text/plain": [
       "0"
      ]
     },
     "execution_count": 30,
     "metadata": {},
     "output_type": "execute_result"
    }
   ],
   "source": [
    "total_data.duplicated().sum()"
   ]
  },
  {
   "cell_type": "markdown",
   "metadata": {},
   "source": [
    "Явных дубликатов в данных нет."
   ]
  },
  {
   "cell_type": "code",
   "execution_count": 31,
   "metadata": {
    "scrolled": true
   },
   "outputs": [
    {
     "data": {
      "text/plain": [
       "День святого Валентина_                               5\n",
       "Код доступа \"Кейптаун\"                                4\n",
       "Там, где живут чудовища                               4\n",
       "Белая мгла /По комиксу Грега Рукка и Стива Либера/    4\n",
       "Шерлок Холмс                                          4\n",
       "                                                     ..\n",
       "Горничная                                             1\n",
       "Плейбой под прикрытием                                1\n",
       "Битва с экстрасенсами                                 1\n",
       "Марафон для трех граций                               1\n",
       "Маркиз                                                1\n",
       "Name: title, Length: 6746, dtype: int64"
      ]
     },
     "execution_count": 31,
     "metadata": {},
     "output_type": "execute_result"
    }
   ],
   "source": [
    "total_data.title.value_counts()"
   ]
  },
  {
   "cell_type": "markdown",
   "metadata": {},
   "source": [
    "В столбце название фильма выявлены неявные дубликаты. \n",
    "\n",
    "Причины появления неявных дубликатов в названии могут быть следующие:\n",
    "- Разные фильмы действительно имеют одинаковое название, в этом случае говорить о дублировании нельзя.\n",
    "- Один и тот же фильм получил разные прокатные удостоверения, в этом случае будет дублирование данных, от которого желательно избавиться."
   ]
  },
  {
   "cell_type": "code",
   "execution_count": 32,
   "metadata": {},
   "outputs": [],
   "source": [
    "# чтобы исключить различия в строках из-за разной суммы сборов по разным прокатным удостоверениям введем словарь, \n",
    "#в который будут занесены в качестве ключей уникальные названия фильмов, а значениями будет сумма прокатных сборов\n",
    "box_office_dict = total_data.groupby('title')['box_office'].sum().to_dict()"
   ]
  },
  {
   "cell_type": "code",
   "execution_count": 33,
   "metadata": {},
   "outputs": [],
   "source": [
    "#обновим столбец прокатных сборов для каждого фильма суммой его прокатных сборов\n",
    "total_data['box_office'] = total_data['title'].map(box_office_dict)"
   ]
  },
  {
   "cell_type": "code",
   "execution_count": 34,
   "metadata": {},
   "outputs": [],
   "source": [
    "#Сохраним в отельный датафрейм информацию о прокатных удостоверениях и датах проката\n",
    "pu_data = total_data[['puNumber', 'show_start_date']]"
   ]
  },
  {
   "cell_type": "code",
   "execution_count": 35,
   "metadata": {},
   "outputs": [],
   "source": [
    "#В таблицу для удаления дубликатов сохраним весь исходный датафрейм за исключением столбцов \n",
    "#с датой проката и номером удостверения, которые влияли бы на поиск явных дубликатов\n",
    "filtered_data = total_data.drop(['puNumber', 'show_start_date'], axis=1)"
   ]
  },
  {
   "cell_type": "code",
   "execution_count": 36,
   "metadata": {
    "scrolled": true
   },
   "outputs": [
    {
     "name": "stdout",
     "output_type": "stream",
     "text": [
      "Количество явных дубликатов в отфильтрованной таблице:661\n"
     ]
    }
   ],
   "source": [
    "duplicated = filtered_data.duplicated().sum()\n",
    "print(f'Количество явных дубликатов в отфильтрованной таблице:{duplicated}')"
   ]
  },
  {
   "cell_type": "code",
   "execution_count": 37,
   "metadata": {},
   "outputs": [],
   "source": [
    "#Отбросим все явные дубликаты\n",
    "filtered_data = filtered_data.drop_duplicates()"
   ]
  },
  {
   "cell_type": "code",
   "execution_count": 38,
   "metadata": {},
   "outputs": [],
   "source": [
    "#Объединим таблицы, чтобы вернуть информацию о дате выхода в прокат и номере прокатного удостоверения для фильма.\n",
    "filtered_data = filtered_data.join(pu_data)"
   ]
  },
  {
   "cell_type": "code",
   "execution_count": 39,
   "metadata": {
    "scrolled": true
   },
   "outputs": [],
   "source": [
    "non_dubles = filtered_data.title.value_counts()[filtered_data.title.value_counts() > 1].index"
   ]
  },
  {
   "cell_type": "code",
   "execution_count": 40,
   "metadata": {},
   "outputs": [
    {
     "data": {
      "text/html": [
       "<div>\n",
       "<style scoped>\n",
       "    .dataframe tbody tr th:only-of-type {\n",
       "        vertical-align: middle;\n",
       "    }\n",
       "\n",
       "    .dataframe tbody tr th {\n",
       "        vertical-align: top;\n",
       "    }\n",
       "\n",
       "    .dataframe thead th {\n",
       "        text-align: right;\n",
       "    }\n",
       "</style>\n",
       "<table border=\"1\" class=\"dataframe\">\n",
       "  <thead>\n",
       "    <tr style=\"text-align: right;\">\n",
       "      <th></th>\n",
       "      <th>title</th>\n",
       "      <th>type</th>\n",
       "      <th>film_studio</th>\n",
       "      <th>production_country</th>\n",
       "      <th>director</th>\n",
       "      <th>producer</th>\n",
       "      <th>age_restriction</th>\n",
       "      <th>refundable_support</th>\n",
       "      <th>nonrefundable_support</th>\n",
       "      <th>budget</th>\n",
       "      <th>financing_source</th>\n",
       "      <th>ratings</th>\n",
       "      <th>genres</th>\n",
       "      <th>box_office</th>\n",
       "      <th>puNumber</th>\n",
       "      <th>show_start_date</th>\n",
       "    </tr>\n",
       "  </thead>\n",
       "  <tbody>\n",
       "    <tr>\n",
       "      <th>3887</th>\n",
       "      <td>Принцесса Мононоке</td>\n",
       "      <td>Анимационный</td>\n",
       "      <td>Студия Гибли</td>\n",
       "      <td>Япония</td>\n",
       "      <td>Хаяо Миядзаки</td>\n",
       "      <td>Ютака Нарита, Сейджи Окуда, Тосио Судзуки</td>\n",
       "      <td>«12+» - для детей старше 12 лет</td>\n",
       "      <td>0.0</td>\n",
       "      <td>0.0</td>\n",
       "      <td>0.0</td>\n",
       "      <td>unknown</td>\n",
       "      <td>8.2</td>\n",
       "      <td>аниме,мультфильм,фэнтези</td>\n",
       "      <td>0.0</td>\n",
       "      <td>224010410</td>\n",
       "      <td>2010-05-19 12:00:00+00:00</td>\n",
       "    </tr>\n",
       "    <tr>\n",
       "      <th>7026</th>\n",
       "      <td>Принцесса Мононоке</td>\n",
       "      <td>Анимационный</td>\n",
       "      <td>Дентсу Мьюзик Анд Интертейнмент, Нибарики, Нип...</td>\n",
       "      <td>Япония</td>\n",
       "      <td>Хаяо Миядзаки</td>\n",
       "      <td>Тосио Судзуки</td>\n",
       "      <td>«12+» - для детей старше 12 лет</td>\n",
       "      <td>0.0</td>\n",
       "      <td>0.0</td>\n",
       "      <td>0.0</td>\n",
       "      <td>unknown</td>\n",
       "      <td>8.2</td>\n",
       "      <td>аниме,мультфильм,фэнтези</td>\n",
       "      <td>0.0</td>\n",
       "      <td>124004719</td>\n",
       "      <td>2019-06-20 12:00:00+00:00</td>\n",
       "    </tr>\n",
       "  </tbody>\n",
       "</table>\n",
       "</div>"
      ],
      "text/plain": [
       "                   title          type  \\\n",
       "3887  Принцесса Мононоке  Анимационный   \n",
       "7026  Принцесса Мононоке  Анимационный   \n",
       "\n",
       "                                            film_studio production_country  \\\n",
       "3887                                       Студия Гибли             Япония   \n",
       "7026  Дентсу Мьюзик Анд Интертейнмент, Нибарики, Нип...             Япония   \n",
       "\n",
       "           director                                   producer  \\\n",
       "3887  Хаяо Миядзаки  Ютака Нарита, Сейджи Окуда, Тосио Судзуки   \n",
       "7026  Хаяо Миядзаки                              Тосио Судзуки   \n",
       "\n",
       "                      age_restriction  refundable_support  \\\n",
       "3887  «12+» - для детей старше 12 лет                 0.0   \n",
       "7026  «12+» - для детей старше 12 лет                 0.0   \n",
       "\n",
       "      nonrefundable_support  budget financing_source  ratings  \\\n",
       "3887                    0.0     0.0          unknown      8.2   \n",
       "7026                    0.0     0.0          unknown      8.2   \n",
       "\n",
       "                        genres  box_office   puNumber  \\\n",
       "3887  аниме,мультфильм,фэнтези         0.0  224010410   \n",
       "7026  аниме,мультфильм,фэнтези         0.0  124004719   \n",
       "\n",
       "               show_start_date  \n",
       "3887 2010-05-19 12:00:00+00:00  \n",
       "7026 2019-06-20 12:00:00+00:00  "
      ]
     },
     "execution_count": 40,
     "metadata": {},
     "output_type": "execute_result"
    }
   ],
   "source": [
    "filtered_data[filtered_data['title'] == 'Принцесса Мононоке']"
   ]
  },
  {
   "cell_type": "code",
   "execution_count": 41,
   "metadata": {},
   "outputs": [
    {
     "data": {
      "text/plain": [
       "Index(['Прощание', 'Успех', 'Мысленный волк', 'Три сестры',\n",
       "       'Пина: Танец страсти в 3D', 'Принцесса Мононоке', 'Химера', 'Она',\n",
       "       'Король Лев', 'Вторжение', 'Гладиаторы Рима', 'Господин Никто',\n",
       "       'Шпион по соседству', 'Аниматор', 'Дитя тьмы', 'Мечтатели', 'Валентина',\n",
       "       'Игра с огнем', 'Зверь', 'Супергерои', 'Прощаться не будем', 'Догвилль',\n",
       "       'Турист', 'Альдабра: Путешествие по таинственному острову',\n",
       "       'Джастин и рыцари доблести', 'Матрица', 'Кастинг', 'Мученицы',\n",
       "       'Полицейский с рублевки. Новогодний беспредел', 'Ложные признания',\n",
       "       'Выше неба', 'Морская бригада', 'Клык', 'Большая игра', 'На колесах',\n",
       "       'Нет', 'Отель \"Гранд Будапешт\"', 'Город грехов', 'Ночь живых мертвецов',\n",
       "       'Профессионал', 'Красная шапка против зла', 'Любовницы', 'Невиновен',\n",
       "       'Там, где живут чудовища', 'В тихом омуте',\n",
       "       'Безумный Макс: Дорога ярости', 'Доброе утро',\n",
       "       'Зип и Зап. Клуб стеклянных шариков', 'Квадрат'],\n",
       "      dtype='object')"
      ]
     },
     "execution_count": 41,
     "metadata": {},
     "output_type": "execute_result"
    }
   ],
   "source": [
    "non_dubles"
   ]
  },
  {
   "cell_type": "code",
   "execution_count": 42,
   "metadata": {},
   "outputs": [
    {
     "data": {
      "text/plain": [
       "array(['Альдабра: Путешествие по таинственному острову',\n",
       "       'Безумный Макс: Дорога ярости', 'Большая игра', 'В тихом омуте',\n",
       "       'Гладиаторы Рима', 'Джастин и рыцари доблести', 'Дитя тьмы',\n",
       "       'Зверь', 'Зип и Зап. Клуб стеклянных шариков', 'Игра с огнем',\n",
       "       'Квадрат', 'Красная шапка против зла', 'Ложные признания',\n",
       "       'Мечтатели', 'Морская бригада', 'Мученицы', 'Мысленный волк',\n",
       "       'На колесах', 'Она', 'Отель \"Гранд Будапешт\"',\n",
       "       'Полицейский с рублевки. Новогодний беспредел', 'Профессионал',\n",
       "       'Прощание', 'Прощаться не будем', 'Супергерои', 'Три сестры',\n",
       "       'Успех', 'Химера'], dtype=object)"
      ]
     },
     "execution_count": 42,
     "metadata": {},
     "output_type": "execute_result"
    }
   ],
   "source": [
    "filtered_data.loc[(filtered_data['title'].isin(non_dubles)) & (filtered_data.box_office > 0), ['title', 'box_office']].sort_values(by='title').title.unique()"
   ]
  },
  {
   "cell_type": "code",
   "execution_count": 43,
   "metadata": {},
   "outputs": [
    {
     "data": {
      "text/html": [
       "<div>\n",
       "<style scoped>\n",
       "    .dataframe tbody tr th:only-of-type {\n",
       "        vertical-align: middle;\n",
       "    }\n",
       "\n",
       "    .dataframe tbody tr th {\n",
       "        vertical-align: top;\n",
       "    }\n",
       "\n",
       "    .dataframe thead th {\n",
       "        text-align: right;\n",
       "    }\n",
       "</style>\n",
       "<table border=\"1\" class=\"dataframe\">\n",
       "  <thead>\n",
       "    <tr style=\"text-align: right;\">\n",
       "      <th></th>\n",
       "      <th>title</th>\n",
       "      <th>type</th>\n",
       "      <th>film_studio</th>\n",
       "      <th>production_country</th>\n",
       "      <th>director</th>\n",
       "      <th>producer</th>\n",
       "      <th>age_restriction</th>\n",
       "      <th>refundable_support</th>\n",
       "      <th>nonrefundable_support</th>\n",
       "      <th>budget</th>\n",
       "      <th>financing_source</th>\n",
       "      <th>ratings</th>\n",
       "      <th>genres</th>\n",
       "      <th>box_office</th>\n",
       "      <th>puNumber</th>\n",
       "      <th>show_start_date</th>\n",
       "    </tr>\n",
       "  </thead>\n",
       "  <tbody>\n",
       "    <tr>\n",
       "      <th>6087</th>\n",
       "      <td>Полицейский с рублевки. Новогодний беспредел</td>\n",
       "      <td>Художественный</td>\n",
       "      <td>ООО \"ЛЕГИО ФЕЛИКС\"</td>\n",
       "      <td>Россия</td>\n",
       "      <td>И.Куликов</td>\n",
       "      <td>И.Куликов, А.Семенов</td>\n",
       "      <td>«16+» - для детей старше 16 лет</td>\n",
       "      <td>0.0</td>\n",
       "      <td>0.0</td>\n",
       "      <td>0.0</td>\n",
       "      <td>unknown</td>\n",
       "      <td>5.8</td>\n",
       "      <td>комедия,приключения</td>\n",
       "      <td>1.682680e+09</td>\n",
       "      <td>111012818</td>\n",
       "      <td>2018-12-27 12:00:00+00:00</td>\n",
       "    </tr>\n",
       "    <tr>\n",
       "      <th>6470</th>\n",
       "      <td>Полицейский с рублевки. Новогодний беспредел</td>\n",
       "      <td>Художественный</td>\n",
       "      <td>ООО \"ЛЕГИО ФЕЛИКС\", ООО \"Ника ТВ\"</td>\n",
       "      <td>Россия</td>\n",
       "      <td>И.Куликов</td>\n",
       "      <td>И.Куликов, А.Семенов, ООО \"Ника ТВ\"</td>\n",
       "      <td>«16+» - для детей старше 16 лет</td>\n",
       "      <td>0.0</td>\n",
       "      <td>0.0</td>\n",
       "      <td>0.0</td>\n",
       "      <td>unknown</td>\n",
       "      <td>5.8</td>\n",
       "      <td>комедия,приключения</td>\n",
       "      <td>1.682680e+09</td>\n",
       "      <td>111023318</td>\n",
       "      <td>2018-12-20 12:00:00+00:00</td>\n",
       "    </tr>\n",
       "  </tbody>\n",
       "</table>\n",
       "</div>"
      ],
      "text/plain": [
       "                                             title             type  \\\n",
       "6087  Полицейский с рублевки. Новогодний беспредел   Художественный   \n",
       "6470  Полицейский с рублевки. Новогодний беспредел   Художественный   \n",
       "\n",
       "                            film_studio production_country   director  \\\n",
       "6087                 ООО \"ЛЕГИО ФЕЛИКС\"             Россия  И.Куликов   \n",
       "6470  ООО \"ЛЕГИО ФЕЛИКС\", ООО \"Ника ТВ\"             Россия  И.Куликов   \n",
       "\n",
       "                                 producer                  age_restriction  \\\n",
       "6087                 И.Куликов, А.Семенов  «16+» - для детей старше 16 лет   \n",
       "6470  И.Куликов, А.Семенов, ООО \"Ника ТВ\"  «16+» - для детей старше 16 лет   \n",
       "\n",
       "      refundable_support  nonrefundable_support  budget financing_source  \\\n",
       "6087                 0.0                    0.0     0.0          unknown   \n",
       "6470                 0.0                    0.0     0.0          unknown   \n",
       "\n",
       "      ratings               genres    box_office   puNumber  \\\n",
       "6087      5.8  комедия,приключения  1.682680e+09  111012818   \n",
       "6470      5.8  комедия,приключения  1.682680e+09  111023318   \n",
       "\n",
       "               show_start_date  \n",
       "6087 2018-12-27 12:00:00+00:00  \n",
       "6470 2018-12-20 12:00:00+00:00  "
      ]
     },
     "execution_count": 43,
     "metadata": {},
     "output_type": "execute_result"
    }
   ],
   "source": [
    "filtered_data[filtered_data['title'] == 'Полицейский с рублевки. Новогодний беспредел']"
   ]
  },
  {
   "cell_type": "code",
   "execution_count": 44,
   "metadata": {},
   "outputs": [
    {
     "data": {
      "text/html": [
       "<div>\n",
       "<style scoped>\n",
       "    .dataframe tbody tr th:only-of-type {\n",
       "        vertical-align: middle;\n",
       "    }\n",
       "\n",
       "    .dataframe tbody tr th {\n",
       "        vertical-align: top;\n",
       "    }\n",
       "\n",
       "    .dataframe thead th {\n",
       "        text-align: right;\n",
       "    }\n",
       "</style>\n",
       "<table border=\"1\" class=\"dataframe\">\n",
       "  <thead>\n",
       "    <tr style=\"text-align: right;\">\n",
       "      <th></th>\n",
       "      <th>title</th>\n",
       "      <th>puNumber</th>\n",
       "      <th>show_start_date</th>\n",
       "      <th>type</th>\n",
       "      <th>film_studio</th>\n",
       "      <th>production_country</th>\n",
       "      <th>director</th>\n",
       "      <th>producer</th>\n",
       "      <th>age_restriction</th>\n",
       "      <th>refundable_support</th>\n",
       "      <th>nonrefundable_support</th>\n",
       "      <th>budget</th>\n",
       "      <th>financing_source</th>\n",
       "      <th>ratings</th>\n",
       "      <th>genres</th>\n",
       "      <th>box_office</th>\n",
       "    </tr>\n",
       "  </thead>\n",
       "  <tbody>\n",
       "    <tr>\n",
       "      <th>6087</th>\n",
       "      <td>Полицейский с рублевки. Новогодний беспредел</td>\n",
       "      <td>111012818</td>\n",
       "      <td>2018-12-27 12:00:00+00:00</td>\n",
       "      <td>Художественный</td>\n",
       "      <td>ООО \"ЛЕГИО ФЕЛИКС\"</td>\n",
       "      <td>Россия</td>\n",
       "      <td>И.Куликов</td>\n",
       "      <td>И.Куликов, А.Семенов</td>\n",
       "      <td>«16+» - для детей старше 16 лет</td>\n",
       "      <td>0.0</td>\n",
       "      <td>0.0</td>\n",
       "      <td>0.0</td>\n",
       "      <td>unknown</td>\n",
       "      <td>5.8</td>\n",
       "      <td>комедия,приключения</td>\n",
       "      <td>1.682680e+09</td>\n",
       "    </tr>\n",
       "    <tr>\n",
       "      <th>6470</th>\n",
       "      <td>Полицейский с рублевки. Новогодний беспредел</td>\n",
       "      <td>111023318</td>\n",
       "      <td>2018-12-20 12:00:00+00:00</td>\n",
       "      <td>Художественный</td>\n",
       "      <td>ООО \"ЛЕГИО ФЕЛИКС\", ООО \"Ника ТВ\"</td>\n",
       "      <td>Россия</td>\n",
       "      <td>И.Куликов</td>\n",
       "      <td>И.Куликов, А.Семенов, ООО \"Ника ТВ\"</td>\n",
       "      <td>«16+» - для детей старше 16 лет</td>\n",
       "      <td>0.0</td>\n",
       "      <td>0.0</td>\n",
       "      <td>0.0</td>\n",
       "      <td>unknown</td>\n",
       "      <td>5.8</td>\n",
       "      <td>комедия,приключения</td>\n",
       "      <td>1.682680e+09</td>\n",
       "    </tr>\n",
       "  </tbody>\n",
       "</table>\n",
       "</div>"
      ],
      "text/plain": [
       "                                             title   puNumber  \\\n",
       "6087  Полицейский с рублевки. Новогодний беспредел  111012818   \n",
       "6470  Полицейский с рублевки. Новогодний беспредел  111023318   \n",
       "\n",
       "               show_start_date             type  \\\n",
       "6087 2018-12-27 12:00:00+00:00   Художественный   \n",
       "6470 2018-12-20 12:00:00+00:00   Художественный   \n",
       "\n",
       "                            film_studio production_country   director  \\\n",
       "6087                 ООО \"ЛЕГИО ФЕЛИКС\"             Россия  И.Куликов   \n",
       "6470  ООО \"ЛЕГИО ФЕЛИКС\", ООО \"Ника ТВ\"             Россия  И.Куликов   \n",
       "\n",
       "                                 producer                  age_restriction  \\\n",
       "6087                 И.Куликов, А.Семенов  «16+» - для детей старше 16 лет   \n",
       "6470  И.Куликов, А.Семенов, ООО \"Ника ТВ\"  «16+» - для детей старше 16 лет   \n",
       "\n",
       "      refundable_support  nonrefundable_support  budget financing_source  \\\n",
       "6087                 0.0                    0.0     0.0          unknown   \n",
       "6470                 0.0                    0.0     0.0          unknown   \n",
       "\n",
       "      ratings               genres    box_office  \n",
       "6087      5.8  комедия,приключения  1.682680e+09  \n",
       "6470      5.8  комедия,приключения  1.682680e+09  "
      ]
     },
     "execution_count": 44,
     "metadata": {},
     "output_type": "execute_result"
    }
   ],
   "source": [
    "total_data[total_data['title'] == 'Полицейский с рублевки. Новогодний беспредел']"
   ]
  },
  {
   "cell_type": "code",
   "execution_count": 45,
   "metadata": {
    "scrolled": true
   },
   "outputs": [
    {
     "name": "stdout",
     "output_type": "stream",
     "text": [
      "<class 'pandas.core.frame.DataFrame'>\n",
      "Int64Index: 6798 entries, 0 to 7485\n",
      "Data columns (total 16 columns):\n",
      " #   Column                 Non-Null Count  Dtype              \n",
      "---  ------                 --------------  -----              \n",
      " 0   title                  6798 non-null   object             \n",
      " 1   type                   6798 non-null   object             \n",
      " 2   film_studio            6798 non-null   object             \n",
      " 3   production_country     6798 non-null   object             \n",
      " 4   director               6798 non-null   object             \n",
      " 5   producer               6798 non-null   object             \n",
      " 6   age_restriction        6798 non-null   object             \n",
      " 7   refundable_support     6798 non-null   float64            \n",
      " 8   nonrefundable_support  6798 non-null   float64            \n",
      " 9   budget                 6798 non-null   float64            \n",
      " 10  financing_source       6798 non-null   object             \n",
      " 11  ratings                5856 non-null   float64            \n",
      " 12  genres                 6798 non-null   object             \n",
      " 13  box_office             6798 non-null   float64            \n",
      " 14  puNumber               6798 non-null   int32              \n",
      " 15  show_start_date        6798 non-null   datetime64[ns, UTC]\n",
      "dtypes: datetime64[ns, UTC](1), float64(5), int32(1), object(9)\n",
      "memory usage: 831.3+ KB\n"
     ]
    }
   ],
   "source": [
    "filtered_data.info()"
   ]
  },
  {
   "cell_type": "markdown",
   "metadata": {},
   "source": [
    "#### Выводы\n",
    "\n",
    "На этом этапе из таблицы были удалены дубликаты фильмов, с разными прокатными удостоверениями с заполнением суммы сборов общими сборами по разным прокатным удостоверениям."
   ]
  },
  {
   "cell_type": "markdown",
   "metadata": {
    "id": "52fOPrEBgFyQ"
   },
   "source": [
    "### Изучите категориальные значения\n",
    "\n",
    "- Посмотрите, какая общая проблема встречается почти во всех категориальных столбцах;\n",
    "- Исправьте проблемные значения в поле `type`.\n",
    "\n",
    "<div id=\"accordion\">\n",
    "    <div class=\"card\">\n",
    "        <div class=\"card-header\" id=\"headingThree\">\n",
    "            <button class=\"btn btn-link collapsed\" data-toggle=\"collapse\" data-target=\"#collapseHint_1\" aria-expanded=\"false\" aria-controls=\"collapseHint_1\">Подсказка</button>\n",
    "        </div>\n",
    "        <div id=\"collapseHint_1\" class=\"collapse\" aria-labelledby=\"headingThree\" data-parent=\"#accordion\">\n",
    "            <div class=\"card-body\">\n",
    "В поле <code>type</code> есть несколько значений, у которых появился пробел в начале строки. Самый простой способ их «починить» -- использовать метод <a href=\"https://pandas.pydata.org/docs/reference/api/pandas.Series.str.strip.html#pandas.Series.str.strip\">.str.strip</a>. Этот метод удаляет все пробелы, которые встречаются в начале и в конце строки. Применяют его таким образом:<br>\n",
    "<code>df['type'].str.strip()</code>\n",
    "            </div>\n",
    "        </div>\n",
    "    </div>\n",
    "</div>"
   ]
  },
  {
   "cell_type": "markdown",
   "metadata": {},
   "source": [
    "В столбце type встречаются дублирующие значения, отличающиеся друг от друга только наличием лишних пробелов в начале строки. Исправим эти проблемы.\n",
    "\n",
    "Для этого определим функцию, которая будет отбрасывать все пробелы слева и справа от строки."
   ]
  },
  {
   "cell_type": "code",
   "execution_count": 46,
   "metadata": {},
   "outputs": [
    {
     "name": "stdout",
     "output_type": "stream",
     "text": [
      "['type', 'production_country', 'age_restriction']\n"
     ]
    }
   ],
   "source": [
    "print(categorial_columns)"
   ]
  },
  {
   "cell_type": "code",
   "execution_count": 47,
   "metadata": {
    "id": "PnXKIVdFgFyR"
   },
   "outputs": [],
   "source": [
    "def strip_string(string):\n",
    "    return string.strip()"
   ]
  },
  {
   "cell_type": "markdown",
   "metadata": {},
   "source": [
    "Применим функцию ко всем категориальным столбцам."
   ]
  },
  {
   "cell_type": "code",
   "execution_count": 48,
   "metadata": {},
   "outputs": [],
   "source": [
    "for column in categorial_columns:\n",
    "    try:\n",
    "        filtered_data[column] = filtered_data[column].apply(strip_string)\n",
    "    except:\n",
    "        print(column)"
   ]
  },
  {
   "cell_type": "code",
   "execution_count": 49,
   "metadata": {
    "scrolled": false
   },
   "outputs": [
    {
     "data": {
      "text/plain": [
       "Художественный                5307\n",
       "Анимационный                   775\n",
       "Прочие                         390\n",
       "Документальный                 276\n",
       "Научно-популярный               49\n",
       "Музыкально-развлекательный       1\n",
       "Name: type, dtype: int64"
      ]
     },
     "execution_count": 49,
     "metadata": {},
     "output_type": "execute_result"
    }
   ],
   "source": [
    "filtered_data.type.value_counts()"
   ]
  },
  {
   "cell_type": "markdown",
   "metadata": {},
   "source": [
    "Значения в столбцах с категориальными данными исправлены."
   ]
  },
  {
   "cell_type": "markdown",
   "metadata": {},
   "source": [
    "Проверим возможность заполнения пропущенных значений в столбце рейтинг"
   ]
  },
  {
   "cell_type": "code",
   "execution_count": 50,
   "metadata": {
    "scrolled": false
   },
   "outputs": [
    {
     "data": {
      "text/html": [
       "<div>\n",
       "<style scoped>\n",
       "    .dataframe tbody tr th:only-of-type {\n",
       "        vertical-align: middle;\n",
       "    }\n",
       "\n",
       "    .dataframe tbody tr th {\n",
       "        vertical-align: top;\n",
       "    }\n",
       "\n",
       "    .dataframe thead th {\n",
       "        text-align: right;\n",
       "    }\n",
       "</style>\n",
       "<table border=\"1\" class=\"dataframe\">\n",
       "  <thead>\n",
       "    <tr style=\"text-align: right;\">\n",
       "      <th></th>\n",
       "      <th>titles_without_rating</th>\n",
       "      <th>titles_with_rating</th>\n",
       "      <th>total_titles</th>\n",
       "    </tr>\n",
       "    <tr>\n",
       "      <th>type</th>\n",
       "      <th></th>\n",
       "      <th></th>\n",
       "      <th></th>\n",
       "    </tr>\n",
       "  </thead>\n",
       "  <tbody>\n",
       "    <tr>\n",
       "      <th>Анимационный</th>\n",
       "      <td>256</td>\n",
       "      <td>519</td>\n",
       "      <td>775</td>\n",
       "    </tr>\n",
       "    <tr>\n",
       "      <th>Документальный</th>\n",
       "      <td>119</td>\n",
       "      <td>157</td>\n",
       "      <td>276</td>\n",
       "    </tr>\n",
       "    <tr>\n",
       "      <th>Научно-популярный</th>\n",
       "      <td>15</td>\n",
       "      <td>34</td>\n",
       "      <td>49</td>\n",
       "    </tr>\n",
       "    <tr>\n",
       "      <th>Прочие</th>\n",
       "      <td>193</td>\n",
       "      <td>197</td>\n",
       "      <td>390</td>\n",
       "    </tr>\n",
       "    <tr>\n",
       "      <th>Художественный</th>\n",
       "      <td>359</td>\n",
       "      <td>4948</td>\n",
       "      <td>5307</td>\n",
       "    </tr>\n",
       "  </tbody>\n",
       "</table>\n",
       "</div>"
      ],
      "text/plain": [
       "                   titles_without_rating  titles_with_rating  total_titles\n",
       "type                                                                      \n",
       "Анимационный                         256                 519           775\n",
       "Документальный                       119                 157           276\n",
       "Научно-популярный                     15                  34            49\n",
       "Прочие                               193                 197           390\n",
       "Художественный                       359                4948          5307"
      ]
     },
     "execution_count": 50,
     "metadata": {},
     "output_type": "execute_result"
    }
   ],
   "source": [
    "pd.DataFrame(filtered_data[filtered_data['ratings'].isna()]\n",
    "             .groupby('type')['title']\n",
    "             .count()).rename(columns={'title':'titles_without_rating'})\\\n",
    ".join(\n",
    "pd.DataFrame(filtered_data[filtered_data['ratings'].notna()]\n",
    "             .groupby('type')['title']\n",
    "             .count()).rename(columns={'title':'titles_with_rating'}))\\\n",
    ".join(\n",
    "pd.DataFrame(filtered_data\n",
    "             .groupby('type')['title']\n",
    "             .count()).rename(columns={'title':'total_titles'}))"
   ]
  },
  {
   "cell_type": "markdown",
   "metadata": {},
   "source": [
    "По таблице видно, что доля фильмов без рейтинга для разных типов фильмов различна. В некоторых случаях доходит до 50%. Таким образом заполнять пропуски не целесообразно, потому что для таких типов фильмов информация исказится значительно.\n",
    "\n",
    "Для типа \"Художественный\" можно провести заполнение, но я не буду этого делать, поскольку значений с заполненным рейтингом  и так достаточно для оценки."
   ]
  },
  {
   "cell_type": "markdown",
   "metadata": {},
   "source": [
    "#### Выводы\n",
    "\n",
    "На данном этапе устранена проблема в категориальных столбцах, удалены лишние пробелы.\n",
    "\n",
    "Также на данном этапе рассмотрена соотношение разных типов фильмов с заполненным и пропущенным значением рейтинга. В результате принято решение не заполнять данные о рейтинге средними значениями, потому что для отдельных типов фильмов данные исказятся существенно."
   ]
  },
  {
   "cell_type": "markdown",
   "metadata": {
    "id": "XFSN5lrEgFyR"
   },
   "source": [
    "### Проверьте количественные значения\n",
    "\n",
    "- Проверьте, обнаружились ли в таких столбцах подозрительные данные. Как с такими данными лучше поступить?\n",
    "\n",
    "<div id=\"accordion\">\n",
    "    <div class=\"card\">\n",
    "        <div class=\"card-header\" id=\"headingThree\">\n",
    "            <button class=\"btn btn-link collapsed\" data-toggle=\"collapse\" data-target=\"#collapseHint_budget\" aria-expanded=\"false\" aria-controls=\"collapseHint_budget\">Подсказка</button>\n",
    "        </div>\n",
    "        <div id=\"collapseHint_budget\" class=\"collapse\" aria-labelledby=\"headingThree\" data-parent=\"#accordion\">\n",
    "            <div class=\"card-body\">\n",
    "Обратите внимание на описание столбца <code>budget</code>. Как этот столбец соотносится с двумя другими: <code>refundable_support</code> и <code>nonrefundable_support</code>?\n",
    "            </div>\n",
    "        </div>\n",
    "    </div>\n",
    "</div>"
   ]
  },
  {
   "cell_type": "code",
   "execution_count": 51,
   "metadata": {},
   "outputs": [],
   "source": [
    "total_data['year'] = total_data['show_start_date'].dt.year"
   ]
  },
  {
   "cell_type": "code",
   "execution_count": 52,
   "metadata": {
    "scrolled": true
   },
   "outputs": [
    {
     "data": {
      "text/plain": [
       "year\n",
       "2010    54\n",
       "2011    37\n",
       "2012    36\n",
       "2013    52\n",
       "2014    48\n",
       "2015     9\n",
       "2016     9\n",
       "2019     1\n",
       "Name: title, dtype: int64"
      ]
     },
     "execution_count": 52,
     "metadata": {},
     "output_type": "execute_result"
    }
   ],
   "source": [
    "total_data.query('0 < box_office < 1000 ').groupby('year')['title'].count()"
   ]
  },
  {
   "cell_type": "markdown",
   "metadata": {},
   "source": [
    "В исходной таблице в колонке сборов имеются значения менее 1000 рублей. По всей видимости это не совсем корректные данные. Вероятно при занесении была допущена опечатка. Также видно, что такие значения чаще встречаются для фильмов более раннего выхода в прокат, так что вероятно для них сумма была указана в других единицах измерения. Далее в ходе исследования было установлено, что информация о сумме прокатных сборов начинает появляться для фильмов начиная с 2014 года. Исходя из этого я не буду менять эти значения, поскольку не могу точно оценить действительно ли была допущена опечатка.\n",
    "\n",
    "После деления всех значений столбца на 1000000, для приведения суммы к миллионам рублей все маленькие суммы будут приближаться к нулю и их можно будет игнорировать."
   ]
  },
  {
   "cell_type": "markdown",
   "metadata": {},
   "source": [
    "Для начала откорректируем значение столбцов с количественными значениями для более наглядного восприятия.\n",
    "Округлим значения сумм государственной поддержки и сборов до милионов рублей."
   ]
  },
  {
   "cell_type": "code",
   "execution_count": 53,
   "metadata": {},
   "outputs": [],
   "source": [
    "for column in nas_to_zero:\n",
    "    filtered_data[column] = filtered_data[column].apply(lambda x: round(x/1000000))"
   ]
  },
  {
   "cell_type": "code",
   "execution_count": 54,
   "metadata": {
    "scrolled": true
   },
   "outputs": [
    {
     "data": {
      "text/html": [
       "<div>\n",
       "<style scoped>\n",
       "    .dataframe tbody tr th:only-of-type {\n",
       "        vertical-align: middle;\n",
       "    }\n",
       "\n",
       "    .dataframe tbody tr th {\n",
       "        vertical-align: top;\n",
       "    }\n",
       "\n",
       "    .dataframe thead th {\n",
       "        text-align: right;\n",
       "    }\n",
       "</style>\n",
       "<table border=\"1\" class=\"dataframe\">\n",
       "  <thead>\n",
       "    <tr style=\"text-align: right;\">\n",
       "      <th></th>\n",
       "      <th>refundable_support</th>\n",
       "      <th>nonrefundable_support</th>\n",
       "      <th>budget</th>\n",
       "      <th>ratings</th>\n",
       "      <th>box_office</th>\n",
       "      <th>puNumber</th>\n",
       "    </tr>\n",
       "  </thead>\n",
       "  <tbody>\n",
       "    <tr>\n",
       "      <th>count</th>\n",
       "      <td>6798.000000</td>\n",
       "      <td>6798.000000</td>\n",
       "      <td>6798.000000</td>\n",
       "      <td>5856.000000</td>\n",
       "      <td>6798.000000</td>\n",
       "      <td>6.798000e+03</td>\n",
       "    </tr>\n",
       "    <tr>\n",
       "      <th>mean</th>\n",
       "      <td>0.579435</td>\n",
       "      <td>2.392174</td>\n",
       "      <td>6.212268</td>\n",
       "      <td>6.465130</td>\n",
       "      <td>35.888350</td>\n",
       "      <td>1.307703e+08</td>\n",
       "    </tr>\n",
       "    <tr>\n",
       "      <th>std</th>\n",
       "      <td>6.064057</td>\n",
       "      <td>16.931117</td>\n",
       "      <td>49.836470</td>\n",
       "      <td>1.125841</td>\n",
       "      <td>169.537217</td>\n",
       "      <td>3.408168e+07</td>\n",
       "    </tr>\n",
       "    <tr>\n",
       "      <th>min</th>\n",
       "      <td>0.000000</td>\n",
       "      <td>0.000000</td>\n",
       "      <td>0.000000</td>\n",
       "      <td>1.000000</td>\n",
       "      <td>0.000000</td>\n",
       "      <td>0.000000e+00</td>\n",
       "    </tr>\n",
       "    <tr>\n",
       "      <th>25%</th>\n",
       "      <td>0.000000</td>\n",
       "      <td>0.000000</td>\n",
       "      <td>0.000000</td>\n",
       "      <td>5.800000</td>\n",
       "      <td>0.000000</td>\n",
       "      <td>1.120017e+08</td>\n",
       "    </tr>\n",
       "    <tr>\n",
       "      <th>50%</th>\n",
       "      <td>0.000000</td>\n",
       "      <td>0.000000</td>\n",
       "      <td>0.000000</td>\n",
       "      <td>6.600000</td>\n",
       "      <td>0.000000</td>\n",
       "      <td>1.210133e+08</td>\n",
       "    </tr>\n",
       "    <tr>\n",
       "      <th>75%</th>\n",
       "      <td>0.000000</td>\n",
       "      <td>0.000000</td>\n",
       "      <td>0.000000</td>\n",
       "      <td>7.200000</td>\n",
       "      <td>2.000000</td>\n",
       "      <td>1.240004e+08</td>\n",
       "    </tr>\n",
       "    <tr>\n",
       "      <th>max</th>\n",
       "      <td>180.000000</td>\n",
       "      <td>400.000000</td>\n",
       "      <td>2305.000000</td>\n",
       "      <td>9.900000</td>\n",
       "      <td>3074.000000</td>\n",
       "      <td>2.310010e+08</td>\n",
       "    </tr>\n",
       "  </tbody>\n",
       "</table>\n",
       "</div>"
      ],
      "text/plain": [
       "       refundable_support  nonrefundable_support       budget      ratings  \\\n",
       "count         6798.000000            6798.000000  6798.000000  5856.000000   \n",
       "mean             0.579435               2.392174     6.212268     6.465130   \n",
       "std              6.064057              16.931117    49.836470     1.125841   \n",
       "min              0.000000               0.000000     0.000000     1.000000   \n",
       "25%              0.000000               0.000000     0.000000     5.800000   \n",
       "50%              0.000000               0.000000     0.000000     6.600000   \n",
       "75%              0.000000               0.000000     0.000000     7.200000   \n",
       "max            180.000000             400.000000  2305.000000     9.900000   \n",
       "\n",
       "        box_office      puNumber  \n",
       "count  6798.000000  6.798000e+03  \n",
       "mean     35.888350  1.307703e+08  \n",
       "std     169.537217  3.408168e+07  \n",
       "min       0.000000  0.000000e+00  \n",
       "25%       0.000000  1.120017e+08  \n",
       "50%       0.000000  1.210133e+08  \n",
       "75%       2.000000  1.240004e+08  \n",
       "max    3074.000000  2.310010e+08  "
      ]
     },
     "execution_count": 54,
     "metadata": {},
     "output_type": "execute_result"
    }
   ],
   "source": [
    "filtered_data.describe()"
   ]
  },
  {
   "cell_type": "code",
   "execution_count": 55,
   "metadata": {},
   "outputs": [
    {
     "data": {
      "text/html": [
       "<div>\n",
       "<style scoped>\n",
       "    .dataframe tbody tr th:only-of-type {\n",
       "        vertical-align: middle;\n",
       "    }\n",
       "\n",
       "    .dataframe tbody tr th {\n",
       "        vertical-align: top;\n",
       "    }\n",
       "\n",
       "    .dataframe thead th {\n",
       "        text-align: right;\n",
       "    }\n",
       "</style>\n",
       "<table border=\"1\" class=\"dataframe\">\n",
       "  <thead>\n",
       "    <tr style=\"text-align: right;\">\n",
       "      <th></th>\n",
       "      <th>refundable_support</th>\n",
       "      <th>nonrefundable_support</th>\n",
       "      <th>budget</th>\n",
       "      <th>ratings</th>\n",
       "      <th>box_office</th>\n",
       "      <th>puNumber</th>\n",
       "    </tr>\n",
       "  </thead>\n",
       "  <tbody>\n",
       "    <tr>\n",
       "      <th>count</th>\n",
       "      <td>6798.00</td>\n",
       "      <td>6798.00</td>\n",
       "      <td>6798.00</td>\n",
       "      <td>5856.00</td>\n",
       "      <td>6798.00</td>\n",
       "      <td>6.798000e+03</td>\n",
       "    </tr>\n",
       "    <tr>\n",
       "      <th>mean</th>\n",
       "      <td>0.58</td>\n",
       "      <td>2.39</td>\n",
       "      <td>6.21</td>\n",
       "      <td>6.47</td>\n",
       "      <td>35.89</td>\n",
       "      <td>1.307703e+08</td>\n",
       "    </tr>\n",
       "    <tr>\n",
       "      <th>std</th>\n",
       "      <td>6.06</td>\n",
       "      <td>16.93</td>\n",
       "      <td>49.84</td>\n",
       "      <td>1.13</td>\n",
       "      <td>169.54</td>\n",
       "      <td>3.408168e+07</td>\n",
       "    </tr>\n",
       "    <tr>\n",
       "      <th>min</th>\n",
       "      <td>0.00</td>\n",
       "      <td>0.00</td>\n",
       "      <td>0.00</td>\n",
       "      <td>1.00</td>\n",
       "      <td>0.00</td>\n",
       "      <td>0.000000e+00</td>\n",
       "    </tr>\n",
       "    <tr>\n",
       "      <th>25%</th>\n",
       "      <td>0.00</td>\n",
       "      <td>0.00</td>\n",
       "      <td>0.00</td>\n",
       "      <td>5.80</td>\n",
       "      <td>0.00</td>\n",
       "      <td>1.120017e+08</td>\n",
       "    </tr>\n",
       "    <tr>\n",
       "      <th>50%</th>\n",
       "      <td>0.00</td>\n",
       "      <td>0.00</td>\n",
       "      <td>0.00</td>\n",
       "      <td>6.60</td>\n",
       "      <td>0.00</td>\n",
       "      <td>1.210133e+08</td>\n",
       "    </tr>\n",
       "    <tr>\n",
       "      <th>75%</th>\n",
       "      <td>0.00</td>\n",
       "      <td>0.00</td>\n",
       "      <td>0.00</td>\n",
       "      <td>7.20</td>\n",
       "      <td>2.00</td>\n",
       "      <td>1.240004e+08</td>\n",
       "    </tr>\n",
       "    <tr>\n",
       "      <th>max</th>\n",
       "      <td>180.00</td>\n",
       "      <td>400.00</td>\n",
       "      <td>2305.00</td>\n",
       "      <td>9.90</td>\n",
       "      <td>3074.00</td>\n",
       "      <td>2.310010e+08</td>\n",
       "    </tr>\n",
       "  </tbody>\n",
       "</table>\n",
       "</div>"
      ],
      "text/plain": [
       "       refundable_support  nonrefundable_support   budget  ratings  \\\n",
       "count             6798.00                6798.00  6798.00  5856.00   \n",
       "mean                 0.58                   2.39     6.21     6.47   \n",
       "std                  6.06                  16.93    49.84     1.13   \n",
       "min                  0.00                   0.00     0.00     1.00   \n",
       "25%                  0.00                   0.00     0.00     5.80   \n",
       "50%                  0.00                   0.00     0.00     6.60   \n",
       "75%                  0.00                   0.00     0.00     7.20   \n",
       "max                180.00                 400.00  2305.00     9.90   \n",
       "\n",
       "       box_office      puNumber  \n",
       "count     6798.00  6.798000e+03  \n",
       "mean        35.89  1.307703e+08  \n",
       "std        169.54  3.408168e+07  \n",
       "min          0.00  0.000000e+00  \n",
       "25%          0.00  1.120017e+08  \n",
       "50%          0.00  1.210133e+08  \n",
       "75%          2.00  1.240004e+08  \n",
       "max       3074.00  2.310010e+08  "
      ]
     },
     "execution_count": 55,
     "metadata": {},
     "output_type": "execute_result"
    }
   ],
   "source": [
    "filtered_data.describe().round(2)"
   ]
  },
  {
   "cell_type": "markdown",
   "metadata": {},
   "source": [
    "По логике бюджет фильма не может быть меньше, чем сумма государственной поддержки, он либо больше либо равен ей, в случае если только государство выделило деньги на съемки. Проверим эту гипотезу."
   ]
  },
  {
   "cell_type": "code",
   "execution_count": 56,
   "metadata": {
    "id": "YbzClBxagFyS"
   },
   "outputs": [],
   "source": [
    "#Введем дополнительный столбец, в котором суммируем два вида поддержки\n",
    "filtered_data['total_support'] = filtered_data['refundable_support']+filtered_data['nonrefundable_support']"
   ]
  },
  {
   "cell_type": "code",
   "execution_count": 57,
   "metadata": {
    "scrolled": true
   },
   "outputs": [
    {
     "data": {
      "text/html": [
       "<div>\n",
       "<style scoped>\n",
       "    .dataframe tbody tr th:only-of-type {\n",
       "        vertical-align: middle;\n",
       "    }\n",
       "\n",
       "    .dataframe tbody tr th {\n",
       "        vertical-align: top;\n",
       "    }\n",
       "\n",
       "    .dataframe thead th {\n",
       "        text-align: right;\n",
       "    }\n",
       "</style>\n",
       "<table border=\"1\" class=\"dataframe\">\n",
       "  <thead>\n",
       "    <tr style=\"text-align: right;\">\n",
       "      <th></th>\n",
       "      <th>title</th>\n",
       "      <th>type</th>\n",
       "      <th>film_studio</th>\n",
       "      <th>production_country</th>\n",
       "      <th>director</th>\n",
       "      <th>producer</th>\n",
       "      <th>age_restriction</th>\n",
       "      <th>refundable_support</th>\n",
       "      <th>nonrefundable_support</th>\n",
       "      <th>budget</th>\n",
       "      <th>financing_source</th>\n",
       "      <th>ratings</th>\n",
       "      <th>genres</th>\n",
       "      <th>box_office</th>\n",
       "      <th>puNumber</th>\n",
       "      <th>show_start_date</th>\n",
       "      <th>total_support</th>\n",
       "    </tr>\n",
       "  </thead>\n",
       "  <tbody>\n",
       "    <tr>\n",
       "      <th>2053</th>\n",
       "      <td>14+</td>\n",
       "      <td>Художественный</td>\n",
       "      <td>ООО Киностудия  \"Сентябрь\"</td>\n",
       "      <td>Россия</td>\n",
       "      <td>А.Зайцев</td>\n",
       "      <td>О.Гранина, А.Зайцев</td>\n",
       "      <td>«16+» - для детей старше 16 лет</td>\n",
       "      <td>0</td>\n",
       "      <td>23</td>\n",
       "      <td>0</td>\n",
       "      <td>Министерство культуры, Фонд кино</td>\n",
       "      <td>6.6</td>\n",
       "      <td>мелодрама</td>\n",
       "      <td>10</td>\n",
       "      <td>111023614</td>\n",
       "      <td>2014-12-19 12:00:00+00:00</td>\n",
       "      <td>23</td>\n",
       "    </tr>\n",
       "    <tr>\n",
       "      <th>2058</th>\n",
       "      <td>Дуxless 2</td>\n",
       "      <td>Художественный</td>\n",
       "      <td>ООО \"Киностудия \"Слово\", ООО \"Арт Пикчерс Студия\"</td>\n",
       "      <td>Россия</td>\n",
       "      <td>Р.Прыгунов</td>\n",
       "      <td>П.Ануров, Ф.Бондарчук, Д.Рудовский</td>\n",
       "      <td>«16+» - для детей старше 16 лет</td>\n",
       "      <td>0</td>\n",
       "      <td>75</td>\n",
       "      <td>0</td>\n",
       "      <td>Фонд кино</td>\n",
       "      <td>6.6</td>\n",
       "      <td>драма</td>\n",
       "      <td>446</td>\n",
       "      <td>111000415</td>\n",
       "      <td>2015-01-26 12:00:00+00:00</td>\n",
       "      <td>75</td>\n",
       "    </tr>\n",
       "    <tr>\n",
       "      <th>2472</th>\n",
       "      <td>Воин (2015)</td>\n",
       "      <td>Художественный</td>\n",
       "      <td>ООО \"Форпост Продакшн\", ООО \"Арт Пикчерс Студия\"</td>\n",
       "      <td>Россия</td>\n",
       "      <td>А.Андрианов</td>\n",
       "      <td>ООО \"Арт Пикчерс Студия\"</td>\n",
       "      <td>«12+» - для детей старше 12 лет</td>\n",
       "      <td>10</td>\n",
       "      <td>70</td>\n",
       "      <td>0</td>\n",
       "      <td>Фонд кино</td>\n",
       "      <td>7.8</td>\n",
       "      <td>боевик,драма,криминал</td>\n",
       "      <td>197</td>\n",
       "      <td>111017315</td>\n",
       "      <td>2015-09-28 12:00:00+00:00</td>\n",
       "      <td>80</td>\n",
       "    </tr>\n",
       "    <tr>\n",
       "      <th>2532</th>\n",
       "      <td>Бармен.</td>\n",
       "      <td>Художественный</td>\n",
       "      <td>АО \"ВайТ Медиа\", ООО \"Арт Пикчерс Студия\"</td>\n",
       "      <td>Россия</td>\n",
       "      <td>Д.Штурманова</td>\n",
       "      <td>Т.Вайнштейн</td>\n",
       "      <td>«16+» - для детей старше 16 лет</td>\n",
       "      <td>20</td>\n",
       "      <td>0</td>\n",
       "      <td>0</td>\n",
       "      <td>Фонд кино</td>\n",
       "      <td>6.2</td>\n",
       "      <td>комедия,фэнтези</td>\n",
       "      <td>67</td>\n",
       "      <td>111009615</td>\n",
       "      <td>2015-05-26 12:00:00+00:00</td>\n",
       "      <td>20</td>\n",
       "    </tr>\n",
       "    <tr>\n",
       "      <th>2615</th>\n",
       "      <td>Савва. Сердце воина</td>\n",
       "      <td>Анимационный</td>\n",
       "      <td>ООО \"Глюкоза Продакшн\", ООО \"Арт Пикчерс Студия\"</td>\n",
       "      <td>Россия</td>\n",
       "      <td>М.Фадеев</td>\n",
       "      <td>А.Чистяков</td>\n",
       "      <td>«6+» - для детей старше 6 лет</td>\n",
       "      <td>60</td>\n",
       "      <td>100</td>\n",
       "      <td>0</td>\n",
       "      <td>Фонд кино</td>\n",
       "      <td>4.6</td>\n",
       "      <td>мультфильм,приключения,фэнтези</td>\n",
       "      <td>184</td>\n",
       "      <td>114001715</td>\n",
       "      <td>2015-07-21 12:00:00+00:00</td>\n",
       "      <td>160</td>\n",
       "    </tr>\n",
       "  </tbody>\n",
       "</table>\n",
       "</div>"
      ],
      "text/plain": [
       "                    title            type  \\\n",
       "2053                  14+  Художественный   \n",
       "2058            Дуxless 2  Художественный   \n",
       "2472          Воин (2015)  Художественный   \n",
       "2532              Бармен.  Художественный   \n",
       "2615  Савва. Сердце воина    Анимационный   \n",
       "\n",
       "                                            film_studio production_country  \\\n",
       "2053                         ООО Киностудия  \"Сентябрь\"             Россия   \n",
       "2058  ООО \"Киностудия \"Слово\", ООО \"Арт Пикчерс Студия\"             Россия   \n",
       "2472   ООО \"Форпост Продакшн\", ООО \"Арт Пикчерс Студия\"             Россия   \n",
       "2532          АО \"ВайТ Медиа\", ООО \"Арт Пикчерс Студия\"             Россия   \n",
       "2615   ООО \"Глюкоза Продакшн\", ООО \"Арт Пикчерс Студия\"             Россия   \n",
       "\n",
       "          director                            producer  \\\n",
       "2053      А.Зайцев                 О.Гранина, А.Зайцев   \n",
       "2058    Р.Прыгунов  П.Ануров, Ф.Бондарчук, Д.Рудовский   \n",
       "2472   А.Андрианов            ООО \"Арт Пикчерс Студия\"   \n",
       "2532  Д.Штурманова                         Т.Вайнштейн   \n",
       "2615      М.Фадеев                          А.Чистяков   \n",
       "\n",
       "                      age_restriction  refundable_support  \\\n",
       "2053  «16+» - для детей старше 16 лет                   0   \n",
       "2058  «16+» - для детей старше 16 лет                   0   \n",
       "2472  «12+» - для детей старше 12 лет                  10   \n",
       "2532  «16+» - для детей старше 16 лет                  20   \n",
       "2615    «6+» - для детей старше 6 лет                  60   \n",
       "\n",
       "      nonrefundable_support  budget                  financing_source  \\\n",
       "2053                     23       0  Министерство культуры, Фонд кино   \n",
       "2058                     75       0                         Фонд кино   \n",
       "2472                     70       0                         Фонд кино   \n",
       "2532                      0       0                         Фонд кино   \n",
       "2615                    100       0                         Фонд кино   \n",
       "\n",
       "      ratings                          genres  box_office   puNumber  \\\n",
       "2053      6.6                       мелодрама          10  111023614   \n",
       "2058      6.6                           драма         446  111000415   \n",
       "2472      7.8           боевик,драма,криминал         197  111017315   \n",
       "2532      6.2                 комедия,фэнтези          67  111009615   \n",
       "2615      4.6  мультфильм,приключения,фэнтези         184  114001715   \n",
       "\n",
       "               show_start_date  total_support  \n",
       "2053 2014-12-19 12:00:00+00:00             23  \n",
       "2058 2015-01-26 12:00:00+00:00             75  \n",
       "2472 2015-09-28 12:00:00+00:00             80  \n",
       "2532 2015-05-26 12:00:00+00:00             20  \n",
       "2615 2015-07-21 12:00:00+00:00            160  "
      ]
     },
     "execution_count": 57,
     "metadata": {},
     "output_type": "execute_result"
    }
   ],
   "source": [
    "#Отфильруем данные, где сумма двух видов поддержки больше чем бюджет\n",
    "filtered_data[filtered_data['total_support'] > filtered_data['budget']].head()"
   ]
  },
  {
   "cell_type": "markdown",
   "metadata": {},
   "source": [
    "В таблице имеются данные, для которых значение в колонке бюджет не заполнено, несмотря на то, что фильм получил государственную поддержку. Можно заполнить такие пропуски суммой двух видов поддержки."
   ]
  },
  {
   "cell_type": "code",
   "execution_count": 58,
   "metadata": {},
   "outputs": [],
   "source": [
    "filtered_data.loc[filtered_data['total_support'] > filtered_data['budget'],'budget'] = filtered_data['total_support']"
   ]
  },
  {
   "cell_type": "markdown",
   "metadata": {},
   "source": [
    "Пропуски в колонке бюджет для фильмов, у которых имелась государственная поддержка, заполнены."
   ]
  },
  {
   "cell_type": "markdown",
   "metadata": {},
   "source": [
    "#### Выводы\n",
    "\n",
    "На этом этапе были выявлены аномалии в данных.\n",
    "\n",
    "- Были выявлены фильмы у которых сумма кассовых сборов составляет менее 1000 рублей - вероятно это опечатка или ошибка в данных. Данная ошибка не была исправлена. Поскольку все значения были поделены на 1 миллион, чтобы привести суммы к более воспринимаемому формату, все маленькие значения будут стремиться к нулю. Поскольку таких значений не так много их можно игнорировать.\n",
    "- Были выявлены фильмы с пропущенными значениями в колонке бюджет при наличии заполненных колонок господдержки. Для таких фильмов бюджет приравнян к сумме господдержки"
   ]
  },
  {
   "cell_type": "markdown",
   "metadata": {
    "id": "Eu6oWp2CgFyS"
   },
   "source": [
    "### Добавьте новые столбцы\n",
    "\n",
    "\n",
    "\n"
   ]
  },
  {
   "cell_type": "markdown",
   "metadata": {
    "id": "7GgW-UpAgFyS"
   },
   "source": [
    "- Создайте столбец с информацией о годе проката. Выделите год из даты премьеры фильма."
   ]
  },
  {
   "cell_type": "code",
   "execution_count": 59,
   "metadata": {
    "id": "I-yd1DkWgFyT"
   },
   "outputs": [],
   "source": [
    "filtered_data['year'] = filtered_data['show_start_date'].dt.year"
   ]
  },
  {
   "cell_type": "markdown",
   "metadata": {
    "id": "nFTDLDYOgFyT"
   },
   "source": [
    "- Создайте два столбца: с именем и фамилией главного режиссёра и основным жанром фильма. В столбцы войдут первые значения из списка режиссёров и жанров соответственно.\n",
    "\n",
    "<div id=\"accordion\">\n",
    "    <div class=\"card\">\n",
    "        <div class=\"card-header\" id=\"headingThree\">\n",
    "            <button class=\"btn btn-link collapsed\" data-toggle=\"collapse\" data-target=\"#collapseHint_2\" aria-expanded=\"false\" aria-controls=\"collapseHint_2\">Подсказка</button>\n",
    "        </div>\n",
    "        <div id=\"collapseHint_2\" class=\"collapse\" aria-labelledby=\"headingThree\" data-parent=\"#accordion\">\n",
    "            <div class=\"card-body\">\n",
    "Чтобы создать такие столбцы, лучше всего использовать собственную функцию. Эту функцию можно применить к двум столбцам сразу. \n",
    "            </div>\n",
    "        </div>\n",
    "    </div>\n",
    "</div>"
   ]
  },
  {
   "cell_type": "code",
   "execution_count": 60,
   "metadata": {
    "id": "LSbRZKbMgFyU"
   },
   "outputs": [],
   "source": [
    "# определим функцию, которая будет возвращать элемент строки до первой запятой\n",
    "def get_first_item(string):\n",
    "    temp = string.split(',')\n",
    "    return temp[0]"
   ]
  },
  {
   "cell_type": "code",
   "execution_count": 61,
   "metadata": {
    "id": "LV6qFuZLgFyV"
   },
   "outputs": [],
   "source": [
    "filtered_data['main_genre'] = filtered_data['genres'].apply(get_first_item)"
   ]
  },
  {
   "cell_type": "code",
   "execution_count": 62,
   "metadata": {},
   "outputs": [],
   "source": [
    "filtered_data['main_director'] = filtered_data['director'].apply(get_first_item)"
   ]
  },
  {
   "cell_type": "markdown",
   "metadata": {
    "id": "1FsCXHwdgFyU"
   },
   "source": [
    "- Посчитайте, какую долю от общего бюджета фильма составляет государственная поддержка."
   ]
  },
  {
   "cell_type": "code",
   "execution_count": 63,
   "metadata": {},
   "outputs": [],
   "source": [
    "budget_films = filtered_data[filtered_data['budget']>0].copy()\n",
    "budget_films['support_part'] = budget_films['total_support'] / budget_films['budget']"
   ]
  },
  {
   "cell_type": "code",
   "execution_count": 64,
   "metadata": {
    "scrolled": true
   },
   "outputs": [
    {
     "data": {
      "image/png": "[encoded data removed]",
      "text/plain": [
       "<Figure size 432x288 with 1 Axes>"
      ]
     },
     "metadata": {
      "needs_background": "light"
     },
     "output_type": "display_data"
    }
   ],
   "source": [
    "budget_films.support_part.hist(bins=20)\n",
    "plt.xlabel('Доля господдержки в бюджете фильма')\n",
    "plt.ylabel('Частота')\n",
    "plt.title('Распределение доли господдержки')\n",
    "plt.show()"
   ]
  },
  {
   "cell_type": "markdown",
   "metadata": {},
   "source": [
    "На графике видно, что чаще всего господдержка составляет 65% всего бюджета фильма.\n",
    "Также на графике видно выбросы в районе 1, это те фильмы для которых бюджет мы заполнили самостоятельно. По всей видимости так поступать не совсем корректно. Необходимо было сумму господдержки умножить на коэфициент, чтобы получить более точную сумму."
   ]
  },
  {
   "cell_type": "markdown",
   "metadata": {},
   "source": [
    "#### Выводы\n",
    "\n",
    "На данном этапе в таблицу были добавлены новые столбцы с годом выхода фильма в прокат главным жанром и главным режисером фильма.\n",
    "\n",
    "Также была оценена доля господдержки в бюджете фильмов. Очень редко господдержка превышает 65% доли всего бюджета. При заполнении пропущенных значений в колонке бюджет для фильмов с поддержкой я допустил неточность."
   ]
  },
  {
   "cell_type": "markdown",
   "metadata": {
    "id": "6t4EukPLgFyV"
   },
   "source": [
    "## Проведите исследовательский анализ данных\n"
   ]
  },
  {
   "cell_type": "markdown",
   "metadata": {},
   "source": [
    "### Анализ данных прокатных сборов по годам"
   ]
  },
  {
   "cell_type": "markdown",
   "metadata": {
    "id": "vAH8WCzugFyV"
   },
   "source": [
    "- Посмотрите, сколько фильмов выходило в прокат каждый год. Обратите внимание, что данные о прокате в кинотеатрах известны не для всех фильмов. Посчитайте, какую долю составляют фильмы с указанной информацией о прокате в кинотеатрах."
   ]
  },
  {
   "cell_type": "code",
   "execution_count": 65,
   "metadata": {},
   "outputs": [],
   "source": [
    "films_in_year =filtered_data\\\n",
    ".pivot_table(index='year', \n",
    "             values='title', \n",
    "             aggfunc='count')\\\n",
    ".reset_index()\\\n",
    ".rename(columns={\"title\":\"total_films\"})"
   ]
  },
  {
   "cell_type": "code",
   "execution_count": 66,
   "metadata": {},
   "outputs": [],
   "source": [
    "films_in_year_with_box = filtered_data[filtered_data['box_office']>0]\\\n",
    ".pivot_table(index='year',\n",
    "             values='title',\n",
    "             aggfunc='count')\\\n",
    ".reset_index()\\\n",
    ".rename(columns={\"title\":\"films_with_info\"})"
   ]
  },
  {
   "cell_type": "code",
   "execution_count": 67,
   "metadata": {},
   "outputs": [],
   "source": [
    "films_in_year = films_in_year.merge(films_in_year_with_box, on='year')"
   ]
  },
  {
   "cell_type": "code",
   "execution_count": 68,
   "metadata": {},
   "outputs": [],
   "source": [
    "films_in_year['box_info_part'] = (films_in_year['films_with_info'] / films_in_year['total_films'])"
   ]
  },
  {
   "cell_type": "code",
   "execution_count": 69,
   "metadata": {},
   "outputs": [],
   "source": [
    "films_with_support = filtered_data[filtered_data['budget'] > 0].pivot_table(index='year',\n",
    "                                                       values='title',\n",
    "                                                       aggfunc='count')\\\n",
    ".reset_index()\\\n",
    ".rename(columns={'title':'title_with_support'})"
   ]
  },
  {
   "cell_type": "code",
   "execution_count": 70,
   "metadata": {
    "scrolled": true
   },
   "outputs": [],
   "source": [
    "films_in_year = films_in_year.merge(films_with_support, on='year', how='outer').fillna(0)"
   ]
  },
  {
   "cell_type": "code",
   "execution_count": 71,
   "metadata": {},
   "outputs": [],
   "source": [
    "films_in_year['support_part'] = films_in_year['title_with_support'] / films_in_year['total_films']\n"
   ]
  },
  {
   "cell_type": "code",
   "execution_count": 72,
   "metadata": {
    "scrolled": false
   },
   "outputs": [
    {
     "data": {
      "text/html": [
       "<div>\n",
       "<style scoped>\n",
       "    .dataframe tbody tr th:only-of-type {\n",
       "        vertical-align: middle;\n",
       "    }\n",
       "\n",
       "    .dataframe tbody tr th {\n",
       "        vertical-align: top;\n",
       "    }\n",
       "\n",
       "    .dataframe thead th {\n",
       "        text-align: right;\n",
       "    }\n",
       "</style>\n",
       "<table border=\"1\" class=\"dataframe\">\n",
       "  <thead>\n",
       "    <tr style=\"text-align: right;\">\n",
       "      <th></th>\n",
       "      <th>year</th>\n",
       "      <th>total_films</th>\n",
       "      <th>films_with_info</th>\n",
       "      <th>box_info_part</th>\n",
       "      <th>title_with_support</th>\n",
       "      <th>support_part</th>\n",
       "    </tr>\n",
       "  </thead>\n",
       "  <tbody>\n",
       "    <tr>\n",
       "      <th>0</th>\n",
       "      <td>2010</td>\n",
       "      <td>757</td>\n",
       "      <td>3</td>\n",
       "      <td>0.003963</td>\n",
       "      <td>0.0</td>\n",
       "      <td>0.000000</td>\n",
       "    </tr>\n",
       "    <tr>\n",
       "      <th>1</th>\n",
       "      <td>2011</td>\n",
       "      <td>475</td>\n",
       "      <td>3</td>\n",
       "      <td>0.006316</td>\n",
       "      <td>0.0</td>\n",
       "      <td>0.000000</td>\n",
       "    </tr>\n",
       "    <tr>\n",
       "      <th>2</th>\n",
       "      <td>2012</td>\n",
       "      <td>516</td>\n",
       "      <td>3</td>\n",
       "      <td>0.005814</td>\n",
       "      <td>0.0</td>\n",
       "      <td>0.000000</td>\n",
       "    </tr>\n",
       "    <tr>\n",
       "      <th>3</th>\n",
       "      <td>2013</td>\n",
       "      <td>589</td>\n",
       "      <td>4</td>\n",
       "      <td>0.006791</td>\n",
       "      <td>2.0</td>\n",
       "      <td>0.003396</td>\n",
       "    </tr>\n",
       "    <tr>\n",
       "      <th>4</th>\n",
       "      <td>2014</td>\n",
       "      <td>729</td>\n",
       "      <td>73</td>\n",
       "      <td>0.100137</td>\n",
       "      <td>16.0</td>\n",
       "      <td>0.021948</td>\n",
       "    </tr>\n",
       "    <tr>\n",
       "      <th>5</th>\n",
       "      <td>2015</td>\n",
       "      <td>661</td>\n",
       "      <td>350</td>\n",
       "      <td>0.529501</td>\n",
       "      <td>86.0</td>\n",
       "      <td>0.130106</td>\n",
       "    </tr>\n",
       "    <tr>\n",
       "      <th>6</th>\n",
       "      <td>2016</td>\n",
       "      <td>770</td>\n",
       "      <td>424</td>\n",
       "      <td>0.550649</td>\n",
       "      <td>61.0</td>\n",
       "      <td>0.079221</td>\n",
       "    </tr>\n",
       "    <tr>\n",
       "      <th>7</th>\n",
       "      <td>2017</td>\n",
       "      <td>500</td>\n",
       "      <td>322</td>\n",
       "      <td>0.644000</td>\n",
       "      <td>41.0</td>\n",
       "      <td>0.082000</td>\n",
       "    </tr>\n",
       "    <tr>\n",
       "      <th>8</th>\n",
       "      <td>2018</td>\n",
       "      <td>876</td>\n",
       "      <td>438</td>\n",
       "      <td>0.500000</td>\n",
       "      <td>56.0</td>\n",
       "      <td>0.063927</td>\n",
       "    </tr>\n",
       "    <tr>\n",
       "      <th>9</th>\n",
       "      <td>2019</td>\n",
       "      <td>925</td>\n",
       "      <td>483</td>\n",
       "      <td>0.522162</td>\n",
       "      <td>70.0</td>\n",
       "      <td>0.075676</td>\n",
       "    </tr>\n",
       "  </tbody>\n",
       "</table>\n",
       "</div>"
      ],
      "text/plain": [
       "   year  total_films  films_with_info  box_info_part  title_with_support  \\\n",
       "0  2010          757                3       0.003963                 0.0   \n",
       "1  2011          475                3       0.006316                 0.0   \n",
       "2  2012          516                3       0.005814                 0.0   \n",
       "3  2013          589                4       0.006791                 2.0   \n",
       "4  2014          729               73       0.100137                16.0   \n",
       "5  2015          661              350       0.529501                86.0   \n",
       "6  2016          770              424       0.550649                61.0   \n",
       "7  2017          500              322       0.644000                41.0   \n",
       "8  2018          876              438       0.500000                56.0   \n",
       "9  2019          925              483       0.522162                70.0   \n",
       "\n",
       "   support_part  \n",
       "0      0.000000  \n",
       "1      0.000000  \n",
       "2      0.000000  \n",
       "3      0.003396  \n",
       "4      0.021948  \n",
       "5      0.130106  \n",
       "6      0.079221  \n",
       "7      0.082000  \n",
       "8      0.063927  \n",
       "9      0.075676  "
      ]
     },
     "execution_count": 72,
     "metadata": {},
     "output_type": "execute_result"
    }
   ],
   "source": [
    "films_in_year"
   ]
  },
  {
   "cell_type": "markdown",
   "metadata": {},
   "source": [
    "В сводной таблице видно следующее:\n",
    "- Данные о суммах сборов начинают появляться с 2014 года, за более ранний период оценить сборы не получиться.\n",
    "- Данные о господдержке также появляются начиная с 2014 года."
   ]
  },
  {
   "cell_type": "code",
   "execution_count": 73,
   "metadata": {
    "scrolled": true
   },
   "outputs": [
    {
     "data": {
      "image/png": "[encoded data removed]",
      "text/plain": [
       "<Figure size 1008x360 with 3 Axes>"
      ]
     },
     "metadata": {
      "needs_background": "light"
     },
     "output_type": "display_data"
    }
   ],
   "source": [
    "fig, axes = plt.subplots(1,3, figsize=(14,5))\n",
    "films_in_year.plot(x='year',y='total_films',kind='bar', ax=axes[0], title='Распределение фильмов по годам')\n",
    "axes[0].set_ylabel('Количество фильмов')\n",
    "films_in_year.plot(x='year',y='box_info_part',kind='bar', ax=axes[1], title='Доля фильмов с данными проката')\n",
    "axes[1].set_ylabel('Доля фильмов с данными о прокате')\n",
    "films_in_year.plot(x='year',y='support_part',kind='bar', ax=axes[2], title='Доля фильмов с господдержкой')\n",
    "axes[2].set_ylabel('Доля фильмов с данными о господдержке')\n",
    "plt.show()"
   ]
  },
  {
   "cell_type": "markdown",
   "metadata": {},
   "source": [
    "Для 2017 года имеется больше всего информации о кассовых сборах.\n",
    "\n",
    "В 2015 году наибольшая доля фильмов в прокате имела господдержку."
   ]
  },
  {
   "cell_type": "markdown",
   "metadata": {
    "id": "BEOdcIrIgFyW"
   },
   "source": [
    "- Изучите, как менялась динамика проката по годам. В каком году сумма сборов была минимальной? А максимальной?"
   ]
  },
  {
   "cell_type": "code",
   "execution_count": 74,
   "metadata": {
    "scrolled": true
   },
   "outputs": [
    {
     "data": {
      "image/png": "[encoded data removed]",
      "text/plain": [
       "<Figure size 432x288 with 1 Axes>"
      ]
     },
     "metadata": {
      "needs_background": "light"
     },
     "output_type": "display_data"
    }
   ],
   "source": [
    "filtered_data[filtered_data['year'] > 2013].groupby('year')['box_office'].sum().plot(kind='bar', grid=True)\n",
    "plt.title('Сумма кассовых сборов')\n",
    "plt.xlabel('Год')\n",
    "plt.ylabel('Сумма в млн. руб.')\n",
    "plt.show()"
   ]
  },
  {
   "cell_type": "markdown",
   "metadata": {},
   "source": [
    "Больше всего суммарно на прокате фильмов заработали в 2016 и 2018 году. При этом данные за последние 4 года данные отличаются не сильно. Поскольку в 2014 году данных о прокате было мало, нельзя говорить что сумма сборов в этот год существенно отличалась от сборов в последующие годы."
   ]
  },
  {
   "cell_type": "code",
   "execution_count": 75,
   "metadata": {
    "id": "tfEhofYvgFyX",
    "scrolled": true
   },
   "outputs": [
    {
     "data": {
      "image/png": "[encoded data removed]",
      "text/plain": [
       "<Figure size 432x288 with 1 Axes>"
      ]
     },
     "metadata": {
      "needs_background": "light"
     },
     "output_type": "display_data"
    }
   ],
   "source": [
    "filtered_data[filtered_data['year'] > 2013].groupby('year')['box_office'].mean().plot(kind='bar', grid=True)\n",
    "plt.title('Среднее значение кассовых сборов')\n",
    "plt.xlabel('Год')\n",
    "plt.ylabel('Сумма в млн. руб.')\n",
    "plt.show()"
   ]
  },
  {
   "cell_type": "markdown",
   "metadata": {},
   "source": [
    "В 2017 году собиралось в прокате больше всего в среднем на один фильм."
   ]
  },
  {
   "cell_type": "markdown",
   "metadata": {
    "id": "G-7qS-N-gFyY"
   },
   "source": [
    "- С помощью сводной таблицы посчитайте среднюю и медианную сумму сборов для каждого года."
   ]
  },
  {
   "cell_type": "code",
   "execution_count": 76,
   "metadata": {
    "id": "jmp-rgg9gFyY",
    "scrolled": true
   },
   "outputs": [
    {
     "data": {
      "text/html": [
       "<style  type=\"text/css\" >\n",
       "</style><table id=\"T_29e9c_\" ><thead>    <tr>        <th class=\"blank\" ></th>        <th class=\"index_name level0\" >year</th>        <th class=\"col_heading level0 col0\" >2010</th>        <th class=\"col_heading level0 col1\" >2011</th>        <th class=\"col_heading level0 col2\" >2012</th>        <th class=\"col_heading level0 col3\" >2013</th>        <th class=\"col_heading level0 col4\" >2014</th>        <th class=\"col_heading level0 col5\" >2015</th>        <th class=\"col_heading level0 col6\" >2016</th>        <th class=\"col_heading level0 col7\" >2017</th>        <th class=\"col_heading level0 col8\" >2018</th>        <th class=\"col_heading level0 col9\" >2019</th>    </tr></thead><tbody>\n",
       "                <tr>\n",
       "                        <th id=\"T_29e9c_level0_row0\" class=\"row_heading level0 row0\" >mean</th>\n",
       "                        <th id=\"T_29e9c_level1_row0\" class=\"row_heading level1 row0\" >box_office</th>\n",
       "                        <td id=\"T_29e9c_row0_col0\" class=\"data row0 col0\" >2.67</td>\n",
       "                        <td id=\"T_29e9c_row0_col1\" class=\"data row0 col1\" >9.00</td>\n",
       "                        <td id=\"T_29e9c_row0_col2\" class=\"data row0 col2\" >1.33</td>\n",
       "                        <td id=\"T_29e9c_row0_col3\" class=\"data row0 col3\" >6.50</td>\n",
       "                        <td id=\"T_29e9c_row0_col4\" class=\"data row0 col4\" >100.99</td>\n",
       "                        <td id=\"T_29e9c_row0_col5\" class=\"data row0 col5\" >101.73</td>\n",
       "                        <td id=\"T_29e9c_row0_col6\" class=\"data row0 col6\" >122.21</td>\n",
       "                        <td id=\"T_29e9c_row0_col7\" class=\"data row0 col7\" >150.80</td>\n",
       "                        <td id=\"T_29e9c_row0_col8\" class=\"data row0 col8\" >117.27</td>\n",
       "                        <td id=\"T_29e9c_row0_col9\" class=\"data row0 col9\" >101.84</td>\n",
       "            </tr>\n",
       "            <tr>\n",
       "                        <th id=\"T_29e9c_level0_row1\" class=\"row_heading level0 row1\" >median</th>\n",
       "                        <th id=\"T_29e9c_level1_row1\" class=\"row_heading level1 row1\" >box_office</th>\n",
       "                        <td id=\"T_29e9c_row1_col0\" class=\"data row1 col0\" >2.00</td>\n",
       "                        <td id=\"T_29e9c_row1_col1\" class=\"data row1 col1\" >12.00</td>\n",
       "                        <td id=\"T_29e9c_row1_col2\" class=\"data row1 col2\" >1.00</td>\n",
       "                        <td id=\"T_29e9c_row1_col3\" class=\"data row1 col3\" >2.50</td>\n",
       "                        <td id=\"T_29e9c_row1_col4\" class=\"data row1 col4\" >5.00</td>\n",
       "                        <td id=\"T_29e9c_row1_col5\" class=\"data row1 col5\" >12.00</td>\n",
       "                        <td id=\"T_29e9c_row1_col6\" class=\"data row1 col6\" >12.50</td>\n",
       "                        <td id=\"T_29e9c_row1_col7\" class=\"data row1 col7\" >14.00</td>\n",
       "                        <td id=\"T_29e9c_row1_col8\" class=\"data row1 col8\" >12.00</td>\n",
       "                        <td id=\"T_29e9c_row1_col9\" class=\"data row1 col9\" >6.00</td>\n",
       "            </tr>\n",
       "    </tbody></table>"
      ],
      "text/plain": [
       "<pandas.io.formats.style.Styler at 0x13860a18>"
      ]
     },
     "execution_count": 76,
     "metadata": {},
     "output_type": "execute_result"
    }
   ],
   "source": [
    "filtered_data[filtered_data['box_office'] > 0]\\\n",
    ".pivot_table(index='year',\n",
    "             values='box_office',\n",
    "             aggfunc=['mean', 'median'])\\\n",
    ".T\\\n",
    ".style\\\n",
    ".format('{:.2f}')"
   ]
  },
  {
   "cell_type": "markdown",
   "metadata": {},
   "source": [
    "По сводной таблице видно, что с 2014 года медиана очень сильно отличается от среднего значения кассовых сборов. Большинство фильмов собирает мало, но есть отдельные фильмы, которые собирают очень много."
   ]
  },
  {
   "cell_type": "markdown",
   "metadata": {},
   "source": [
    "#### Выводы\n",
    "\n",
    "Анализ данных показал следующее:\n",
    "- Информация о прокате имеется для фильмов начиная с 2014 года. Для более ранних периодов информация о прокате составляет несущественную долю.\n",
    "- Наибольшая доля фильмов в с господдержкой была выпущена в 2015 году.\n",
    "- Общая сумма кассовых сборов в период с 2015 по 2019 год (период с наибольшим количеством наблюдений) меняется не существенно, можно предположить, что люди ходят в кино постоянно, независимо от количества и качества выпускаемых фильмов. Тоесть рынок кинопроката в целом постоянен и вопрос только в том, какой фильм сможет получить большую часть этого рынка.\n",
    "- Среднее значение прокатных сборов меняется более значительно, в 2017 году зафиксировано наибольшее среднее значение сборов. Это связано с тем, что фильмов в прокат в этом году вышло меньше.\n",
    "- Среднее значение и медиана прокатных сборов отличается очень сильно за все время наблюдений. Это говорит о том, что большинство фильмов собирают незначительные суммы, но имеется несколько кассовых картин, собирающих много."
   ]
  },
  {
   "cell_type": "markdown",
   "metadata": {},
   "source": [
    "### Анализ влияния возрастного ограничения на сумму сборов"
   ]
  },
  {
   "cell_type": "markdown",
   "metadata": {
    "id": "Ok89WFwJgFyZ"
   },
   "source": [
    "- Определите, влияет ли возрастное ограничение аудитории («6+», «12+», «16+», «18+» и т. д.) на сборы фильма в прокате в период с 2015 по 2019 год? Фильмы с каким возрастным ограничением собрали больше всего денег в прокате? Меняется ли картина в зависимости от года? Если да, предположите, с чем это может быть связано."
   ]
  },
  {
   "cell_type": "code",
   "execution_count": 77,
   "metadata": {},
   "outputs": [],
   "source": [
    "def get_number(string):\n",
    "    number = ''\n",
    "    for i in range(5):\n",
    "        if string[i].isdigit():\n",
    "            number += string[i]\n",
    "    return int(number)"
   ]
  },
  {
   "cell_type": "code",
   "execution_count": 78,
   "metadata": {},
   "outputs": [],
   "source": [
    "ages = filtered_data.age_restriction.unique()"
   ]
  },
  {
   "cell_type": "code",
   "execution_count": 79,
   "metadata": {},
   "outputs": [],
   "source": [
    "ages_dict = {}\n",
    "for age in ages:\n",
    "    ages_dict[age] = get_number(age)"
   ]
  },
  {
   "cell_type": "code",
   "execution_count": 80,
   "metadata": {
    "id": "jsSbEqfjgFya"
   },
   "outputs": [],
   "source": [
    "restricted_group_sum = filtered_data[(filtered_data['box_office'] > 0) & (filtered_data['year'] > 2014)]\\\n",
    ".groupby('age_restriction')['box_office']\\\n",
    ".mean()\\\n",
    ".reset_index()\\\n",
    ".rename(columns={'box_office':'all_time_mean'})"
   ]
  },
  {
   "cell_type": "code",
   "execution_count": 81,
   "metadata": {},
   "outputs": [],
   "source": [
    "restricted_group_sum['age_category'] = restricted_group_sum['age_restriction'].map(ages_dict)"
   ]
  },
  {
   "cell_type": "code",
   "execution_count": 82,
   "metadata": {},
   "outputs": [],
   "source": [
    "restricted_group_count = filtered_data[(filtered_data['box_office'] > 0) & (filtered_data['year'] > 2014)]\\\n",
    ".groupby('age_restriction')['title']\\\n",
    ".count()\\\n",
    ".reset_index()\\\n",
    ".rename(columns={'title':'total_titles'})"
   ]
  },
  {
   "cell_type": "code",
   "execution_count": 83,
   "metadata": {},
   "outputs": [],
   "source": [
    "restricted_group_total = filtered_data[(filtered_data['box_office'] > 0) & (filtered_data['year'] > 2014)]\\\n",
    ".groupby('age_restriction')['box_office']\\\n",
    ".sum()\\\n",
    ".reset_index()\\\n",
    ".rename(columns={'box_office':'total_box_office'})"
   ]
  },
  {
   "cell_type": "code",
   "execution_count": 84,
   "metadata": {
    "scrolled": true
   },
   "outputs": [
    {
     "data": {
      "text/html": [
       "<style  type=\"text/css\" >\n",
       "</style><table id=\"T_c99c5_\" ><thead>    <tr>        <th class=\"blank level0\" ></th>        <th class=\"col_heading level0 col0\" >age_restriction</th>        <th class=\"col_heading level0 col1\" >2015</th>        <th class=\"col_heading level0 col2\" >2016</th>        <th class=\"col_heading level0 col3\" >2017</th>        <th class=\"col_heading level0 col4\" >2018</th>        <th class=\"col_heading level0 col5\" >2019</th>        <th class=\"col_heading level0 col6\" >all_time_mean</th>        <th class=\"col_heading level0 col7\" >total_titles</th>        <th class=\"col_heading level0 col8\" >total_box_office</th>    </tr>    <tr>        <th class=\"index_name level0\" >age_category</th>        <th class=\"blank\" ></th>        <th class=\"blank\" ></th>        <th class=\"blank\" ></th>        <th class=\"blank\" ></th>        <th class=\"blank\" ></th>        <th class=\"blank\" ></th>        <th class=\"blank\" ></th>        <th class=\"blank\" ></th>        <th class=\"blank\" ></th>    </tr></thead><tbody>\n",
       "                <tr>\n",
       "                        <th id=\"T_c99c5_level0_row0\" class=\"row_heading level0 row0\" >0</th>\n",
       "                        <td id=\"T_c99c5_row0_col0\" class=\"data row0 col0\" >«0+» - для любой зрительской аудитории</td>\n",
       "                        <td id=\"T_c99c5_row0_col1\" class=\"data row0 col1\" >9.77</td>\n",
       "                        <td id=\"T_c99c5_row0_col2\" class=\"data row0 col2\" >9.64</td>\n",
       "                        <td id=\"T_c99c5_row0_col3\" class=\"data row0 col3\" >76.33</td>\n",
       "                        <td id=\"T_c99c5_row0_col4\" class=\"data row0 col4\" >10.67</td>\n",
       "                        <td id=\"T_c99c5_row0_col5\" class=\"data row0 col5\" >9.00</td>\n",
       "                        <td id=\"T_c99c5_row0_col6\" class=\"data row0 col6\" >12.86</td>\n",
       "                        <td id=\"T_c99c5_row0_col7\" class=\"data row0 col7\" >64</td>\n",
       "                        <td id=\"T_c99c5_row0_col8\" class=\"data row0 col8\" >823</td>\n",
       "            </tr>\n",
       "            <tr>\n",
       "                        <th id=\"T_c99c5_level0_row1\" class=\"row_heading level0 row1\" >6</th>\n",
       "                        <td id=\"T_c99c5_row1_col0\" class=\"data row1 col0\" >«6+» - для детей старше 6 лет</td>\n",
       "                        <td id=\"T_c99c5_row1_col1\" class=\"data row1 col1\" >215.69</td>\n",
       "                        <td id=\"T_c99c5_row1_col2\" class=\"data row1 col2\" >232.81</td>\n",
       "                        <td id=\"T_c99c5_row1_col3\" class=\"data row1 col3\" >294.73</td>\n",
       "                        <td id=\"T_c99c5_row1_col4\" class=\"data row1 col4\" >153.11</td>\n",
       "                        <td id=\"T_c99c5_row1_col5\" class=\"data row1 col5\" >167.00</td>\n",
       "                        <td id=\"T_c99c5_row1_col6\" class=\"data row1 col6\" >202.17</td>\n",
       "                        <td id=\"T_c99c5_row1_col7\" class=\"data row1 col7\" >276</td>\n",
       "                        <td id=\"T_c99c5_row1_col8\" class=\"data row1 col8\" >55799</td>\n",
       "            </tr>\n",
       "            <tr>\n",
       "                        <th id=\"T_c99c5_level0_row2\" class=\"row_heading level0 row2\" >12</th>\n",
       "                        <td id=\"T_c99c5_row2_col0\" class=\"data row2 col0\" >«12+» - для детей старше 12 лет</td>\n",
       "                        <td id=\"T_c99c5_row2_col1\" class=\"data row2 col1\" >230.92</td>\n",
       "                        <td id=\"T_c99c5_row2_col2\" class=\"data row2 col2\" >227.26</td>\n",
       "                        <td id=\"T_c99c5_row2_col3\" class=\"data row2 col3\" >253.23</td>\n",
       "                        <td id=\"T_c99c5_row2_col4\" class=\"data row2 col4\" >246.17</td>\n",
       "                        <td id=\"T_c99c5_row2_col5\" class=\"data row2 col5\" >178.82</td>\n",
       "                        <td id=\"T_c99c5_row2_col6\" class=\"data row2 col6\" >222.33</td>\n",
       "                        <td id=\"T_c99c5_row2_col7\" class=\"data row2 col7\" >273</td>\n",
       "                        <td id=\"T_c99c5_row2_col8\" class=\"data row2 col8\" >60695</td>\n",
       "            </tr>\n",
       "            <tr>\n",
       "                        <th id=\"T_c99c5_level0_row3\" class=\"row_heading level0 row3\" >16</th>\n",
       "                        <td id=\"T_c99c5_row3_col0\" class=\"data row3 col0\" >«16+» - для детей старше 16 лет</td>\n",
       "                        <td id=\"T_c99c5_row3_col1\" class=\"data row3 col1\" >89.34</td>\n",
       "                        <td id=\"T_c99c5_row3_col2\" class=\"data row3 col2\" >115.69</td>\n",
       "                        <td id=\"T_c99c5_row3_col3\" class=\"data row3 col3\" >165.88</td>\n",
       "                        <td id=\"T_c99c5_row3_col4\" class=\"data row3 col4\" >124.55</td>\n",
       "                        <td id=\"T_c99c5_row3_col5\" class=\"data row3 col5\" >81.22</td>\n",
       "                        <td id=\"T_c99c5_row3_col6\" class=\"data row3 col6\" >113.22</td>\n",
       "                        <td id=\"T_c99c5_row3_col7\" class=\"data row3 col7\" >687</td>\n",
       "                        <td id=\"T_c99c5_row3_col8\" class=\"data row3 col8\" >77785</td>\n",
       "            </tr>\n",
       "            <tr>\n",
       "                        <th id=\"T_c99c5_level0_row4\" class=\"row_heading level0 row4\" >18</th>\n",
       "                        <td id=\"T_c99c5_row4_col0\" class=\"data row4 col0\" >«18+» - запрещено для детей</td>\n",
       "                        <td id=\"T_c99c5_row4_col1\" class=\"data row4 col1\" >37.57</td>\n",
       "                        <td id=\"T_c99c5_row4_col2\" class=\"data row4 col2\" >60.22</td>\n",
       "                        <td id=\"T_c99c5_row4_col3\" class=\"data row4 col3\" >72.02</td>\n",
       "                        <td id=\"T_c99c5_row4_col4\" class=\"data row4 col4\" >53.12</td>\n",
       "                        <td id=\"T_c99c5_row4_col5\" class=\"data row4 col5\" >61.62</td>\n",
       "                        <td id=\"T_c99c5_row4_col6\" class=\"data row4 col6\" >57.78</td>\n",
       "                        <td id=\"T_c99c5_row4_col7\" class=\"data row4 col7\" >717</td>\n",
       "                        <td id=\"T_c99c5_row4_col8\" class=\"data row4 col8\" >41430</td>\n",
       "            </tr>\n",
       "    </tbody></table>"
      ],
      "text/plain": [
       "<pandas.io.formats.style.Styler at 0xedceb20>"
      ]
     },
     "execution_count": 84,
     "metadata": {},
     "output_type": "execute_result"
    }
   ],
   "source": [
    "filtered_data[(filtered_data['box_office'] > 0) & (filtered_data['year'] > 2014)] \\\n",
    ".pivot_table(index='age_restriction',\n",
    "             columns='year',\n",
    "             values='box_office',\n",
    "             aggfunc='mean').reset_index()\\\n",
    ".merge(restricted_group_sum, on='age_restriction')\\\n",
    ".merge(restricted_group_count, on='age_restriction')\\\n",
    ".merge(restricted_group_total, on='age_restriction')\\\n",
    ".set_index('age_category')\\\n",
    ".sort_index()\\\n",
    ".style\\\n",
    ".format(formatter={\n",
    "    2015:'{:.2f}',\n",
    "    2016:\"{:.2f}\",\n",
    "    2017:'{:.2f}',\n",
    "    2018:'{:.2f}',\n",
    "    2019:'{:.2f}',\n",
    "    'all_time_mean':\"{:.2f}\"\n",
    "})"
   ]
  },
  {
   "cell_type": "markdown",
   "metadata": {},
   "source": [
    "### Выводы\n",
    "\n",
    "Возрастное ограничение влияет на кассовые сборы:\n",
    "\n",
    "- Больше всего за все время собрали фильмы с категорией 16+, но их было значительно больше, чем фильмов с ограничением ниже.\n",
    "\n",
    "- Самые прибыльные категории 12+ и 6+ - это категории фильмов рассчитанные на максимально широкую аудиторию.\n",
    "\n",
    "- В среднем самая прибыльная категория 12+, но в 2017 году категория 6+ в принесла больше.\n",
    "\n",
    "- Поскольку среднее значение очень сильно зависит от выбросов. Можно предположить, что успешность той или иной категории обусловлена тем, что в определенный год выходило много кассовых премьер.\n",
    "\n",
    "- Низкое среднее значение для категории 18+ обусловлено тем, что фильмы таких категорий рассчитаны на узкую аудиторию. Это могли быть фестивальные картины не рассчитаные на массовый спрос и соответственно не приносящие кассовых сборов."
   ]
  },
  {
   "cell_type": "markdown",
   "metadata": {
    "id": "l_Kg6Ku4gFya"
   },
   "source": [
    "## Исследуйте фильмы, которые получили государственную поддержку\n",
    "\n",
    "На этом этапе нет конкретных инструкций и заданий — поищите интересные закономерности в данных. Посмотрите, сколько выделяют средств на поддержку кино. Проверьте, хорошо ли окупаются такие фильмы, какой у них рейтинг."
   ]
  },
  {
   "cell_type": "markdown",
   "metadata": {},
   "source": [
    "### Общий обзор фильмов с господдержкой"
   ]
  },
  {
   "cell_type": "code",
   "execution_count": 85,
   "metadata": {
    "id": "W9QKpjUdgFyb",
    "scrolled": false
   },
   "outputs": [],
   "source": [
    "budget_films_info = filtered_data[filtered_data['budget'] > 0]\\\n",
    ".pivot_table(index='year',\n",
    "             values=['budget', 'box_office','title', 'ratings'],\n",
    "             aggfunc={'budget':'sum',\n",
    "                      'box_office':'sum',\n",
    "                      'title':'count',\n",
    "                      'ratings':'mean'})\\\n",
    ".rename(columns={'box_office':'total_box_office',\n",
    "                 'budget':'total_budget',\n",
    "                 'title':'total_titles',\n",
    "                 'ratings':'mean_rating'})\\\n",
    ".reset_index()"
   ]
  },
  {
   "cell_type": "code",
   "execution_count": 86,
   "metadata": {},
   "outputs": [],
   "source": [
    "budget_types = filtered_data[filtered_data['budget'] > 0]\\\n",
    ".pivot_table(index='year',\n",
    "             columns='type',\n",
    "             values='title',\n",
    "             aggfunc='count')\\\n",
    ".fillna(0)\\\n",
    ".reset_index()"
   ]
  },
  {
   "cell_type": "code",
   "execution_count": 87,
   "metadata": {
    "scrolled": true
   },
   "outputs": [],
   "source": [
    "budget_films_info = budget_films_info.merge(budget_types)"
   ]
  },
  {
   "cell_type": "code",
   "execution_count": 88,
   "metadata": {
    "scrolled": false
   },
   "outputs": [
    {
     "data": {
      "text/html": [
       "<div>\n",
       "<style scoped>\n",
       "    .dataframe tbody tr th:only-of-type {\n",
       "        vertical-align: middle;\n",
       "    }\n",
       "\n",
       "    .dataframe tbody tr th {\n",
       "        vertical-align: top;\n",
       "    }\n",
       "\n",
       "    .dataframe thead th {\n",
       "        text-align: right;\n",
       "    }\n",
       "</style>\n",
       "<table border=\"1\" class=\"dataframe\">\n",
       "  <thead>\n",
       "    <tr style=\"text-align: right;\">\n",
       "      <th></th>\n",
       "      <th>year</th>\n",
       "      <th>total_box_office</th>\n",
       "      <th>total_budget</th>\n",
       "      <th>mean_rating</th>\n",
       "      <th>total_titles</th>\n",
       "      <th>Анимационный</th>\n",
       "      <th>Документальный</th>\n",
       "      <th>Художественный</th>\n",
       "    </tr>\n",
       "  </thead>\n",
       "  <tbody>\n",
       "    <tr>\n",
       "      <th>0</th>\n",
       "      <td>2013</td>\n",
       "      <td>20</td>\n",
       "      <td>255</td>\n",
       "      <td>6.700000</td>\n",
       "      <td>2</td>\n",
       "      <td>0.0</td>\n",
       "      <td>0.0</td>\n",
       "      <td>2.0</td>\n",
       "    </tr>\n",
       "    <tr>\n",
       "      <th>1</th>\n",
       "      <td>2014</td>\n",
       "      <td>1017</td>\n",
       "      <td>1301</td>\n",
       "      <td>6.006667</td>\n",
       "      <td>16</td>\n",
       "      <td>1.0</td>\n",
       "      <td>0.0</td>\n",
       "      <td>15.0</td>\n",
       "    </tr>\n",
       "    <tr>\n",
       "      <th>2</th>\n",
       "      <td>2015</td>\n",
       "      <td>5782</td>\n",
       "      <td>7734</td>\n",
       "      <td>6.139759</td>\n",
       "      <td>86</td>\n",
       "      <td>7.0</td>\n",
       "      <td>0.0</td>\n",
       "      <td>79.0</td>\n",
       "    </tr>\n",
       "    <tr>\n",
       "      <th>3</th>\n",
       "      <td>2016</td>\n",
       "      <td>6079</td>\n",
       "      <td>7552</td>\n",
       "      <td>5.677193</td>\n",
       "      <td>61</td>\n",
       "      <td>5.0</td>\n",
       "      <td>0.0</td>\n",
       "      <td>56.0</td>\n",
       "    </tr>\n",
       "    <tr>\n",
       "      <th>4</th>\n",
       "      <td>2017</td>\n",
       "      <td>10863</td>\n",
       "      <td>7055</td>\n",
       "      <td>6.000000</td>\n",
       "      <td>41</td>\n",
       "      <td>5.0</td>\n",
       "      <td>0.0</td>\n",
       "      <td>36.0</td>\n",
       "    </tr>\n",
       "    <tr>\n",
       "      <th>5</th>\n",
       "      <td>2018</td>\n",
       "      <td>9934</td>\n",
       "      <td>7001</td>\n",
       "      <td>6.001887</td>\n",
       "      <td>56</td>\n",
       "      <td>8.0</td>\n",
       "      <td>0.0</td>\n",
       "      <td>48.0</td>\n",
       "    </tr>\n",
       "    <tr>\n",
       "      <th>6</th>\n",
       "      <td>2019</td>\n",
       "      <td>8415</td>\n",
       "      <td>12725</td>\n",
       "      <td>6.176119</td>\n",
       "      <td>70</td>\n",
       "      <td>5.0</td>\n",
       "      <td>1.0</td>\n",
       "      <td>64.0</td>\n",
       "    </tr>\n",
       "  </tbody>\n",
       "</table>\n",
       "</div>"
      ],
      "text/plain": [
       "   year  total_box_office  total_budget  mean_rating  total_titles  \\\n",
       "0  2013                20           255     6.700000             2   \n",
       "1  2014              1017          1301     6.006667            16   \n",
       "2  2015              5782          7734     6.139759            86   \n",
       "3  2016              6079          7552     5.677193            61   \n",
       "4  2017             10863          7055     6.000000            41   \n",
       "5  2018              9934          7001     6.001887            56   \n",
       "6  2019              8415         12725     6.176119            70   \n",
       "\n",
       "   Анимационный  Документальный  Художественный  \n",
       "0           0.0             0.0             2.0  \n",
       "1           1.0             0.0            15.0  \n",
       "2           7.0             0.0            79.0  \n",
       "3           5.0             0.0            56.0  \n",
       "4           5.0             0.0            36.0  \n",
       "5           8.0             0.0            48.0  \n",
       "6           5.0             1.0            64.0  "
      ]
     },
     "execution_count": 88,
     "metadata": {},
     "output_type": "execute_result"
    }
   ],
   "source": [
    "budget_films_info"
   ]
  },
  {
   "cell_type": "code",
   "execution_count": 89,
   "metadata": {},
   "outputs": [
    {
     "data": {
      "text/html": [
       "<div>\n",
       "<style scoped>\n",
       "    .dataframe tbody tr th:only-of-type {\n",
       "        vertical-align: middle;\n",
       "    }\n",
       "\n",
       "    .dataframe tbody tr th {\n",
       "        vertical-align: top;\n",
       "    }\n",
       "\n",
       "    .dataframe thead th {\n",
       "        text-align: right;\n",
       "    }\n",
       "</style>\n",
       "<table border=\"1\" class=\"dataframe\">\n",
       "  <thead>\n",
       "    <tr style=\"text-align: right;\">\n",
       "      <th></th>\n",
       "      <th>age_restriction</th>\n",
       "      <th>title_count</th>\n",
       "    </tr>\n",
       "  </thead>\n",
       "  <tbody>\n",
       "    <tr>\n",
       "      <th>0</th>\n",
       "      <td>«0+» - для любой зрительской аудитории</td>\n",
       "      <td>8</td>\n",
       "    </tr>\n",
       "    <tr>\n",
       "      <th>1</th>\n",
       "      <td>«12+» - для детей старше 12 лет</td>\n",
       "      <td>106</td>\n",
       "    </tr>\n",
       "    <tr>\n",
       "      <th>2</th>\n",
       "      <td>«16+» - для детей старше 16 лет</td>\n",
       "      <td>125</td>\n",
       "    </tr>\n",
       "    <tr>\n",
       "      <th>3</th>\n",
       "      <td>«18+» - запрещено для детей</td>\n",
       "      <td>28</td>\n",
       "    </tr>\n",
       "    <tr>\n",
       "      <th>4</th>\n",
       "      <td>«6+» - для детей старше 6 лет</td>\n",
       "      <td>65</td>\n",
       "    </tr>\n",
       "  </tbody>\n",
       "</table>\n",
       "</div>"
      ],
      "text/plain": [
       "                          age_restriction  title_count\n",
       "0  «0+» - для любой зрительской аудитории            8\n",
       "1         «12+» - для детей старше 12 лет          106\n",
       "2         «16+» - для детей старше 16 лет          125\n",
       "3             «18+» - запрещено для детей           28\n",
       "4           «6+» - для детей старше 6 лет           65"
      ]
     },
     "execution_count": 89,
     "metadata": {},
     "output_type": "execute_result"
    }
   ],
   "source": [
    "filtered_data[filtered_data['budget'] > 0]\\\n",
    ".pivot_table(index='age_restriction',\n",
    "             values='title',\n",
    "             aggfunc='count')\\\n",
    ".fillna(0)\\\n",
    ".reset_index().rename(columns={'title':'title_count'})"
   ]
  },
  {
   "cell_type": "code",
   "execution_count": 90,
   "metadata": {},
   "outputs": [
    {
     "name": "stdout",
     "output_type": "stream",
     "text": [
      "Средний рейтинг всех фильмов: 6.47\n",
      "Средний рейтинг всех российских фильмов: 6.16\n",
      "Средний рейтинг фильмов с господдержкой: 6.02\n"
     ]
    }
   ],
   "source": [
    "mean_gos_rating = filtered_data[filtered_data['budget'] > 0]['ratings'].mean()\n",
    "mean_total_rating = filtered_data['ratings'].mean()\n",
    "mean_russian_rating = filtered_data[filtered_data['production_country'].str.contains('Россия')]['ratings'].mean()\n",
    "print(f'Средний рейтинг всех фильмов: {mean_total_rating:.2f}')\n",
    "print(f'Средний рейтинг всех российских фильмов: {mean_russian_rating:.2f}')\n",
    "print(f'Средний рейтинг фильмов с господдержкой: {mean_gos_rating:.2f}')"
   ]
  },
  {
   "cell_type": "markdown",
   "metadata": {},
   "source": [
    "#### Выводы\n",
    "В сводной таблице видно следующее:\n",
    "- Самый продуктивный год 2015 - было выпущено больше всего фильмов с господдержкой, так же в этот год рейтинг фильмов был чуть выше среднего\n",
    "- Самый низкий средний рейтинг был зафиксирован в 2015 году.\n",
    "- Чаже всего поддержку получают художественные фильмы.\n",
    "- Документальные фильмы практически не получают господдержки.\n",
    "- В среднем рейтинг фильмов с господдержкой ниже рейтинга фильмов по всей выборке\n",
    "- Фильмы с господдержкой нацелены на широкую аудиторию, основные категории от 12 лет (молодое поколение)."
   ]
  },
  {
   "cell_type": "markdown",
   "metadata": {},
   "source": [
    "### Оценка коммерческой успешности фильмов с господдержкой"
   ]
  },
  {
   "cell_type": "code",
   "execution_count": 91,
   "metadata": {},
   "outputs": [
    {
     "name": "stdout",
     "output_type": "stream",
     "text": [
      "Всего собрали фильмы с господдержкой: 42110.00\n",
      "Всего бюджет фильмов с господдержкой: 43623.00\n"
     ]
    }
   ],
   "source": [
    "total_gos_box_office = filtered_data[filtered_data['budget'] > 0]['box_office'].sum()\n",
    "total_gos_budget = filtered_data[filtered_data['budget'] > 0]['budget'].sum()\n",
    "print(f'Всего собрали фильмы с господдержкой: {total_gos_box_office:.2f}')\n",
    "print(f'Всего бюджет фильмов с господдержкой: {total_gos_budget:.2f}')"
   ]
  },
  {
   "cell_type": "code",
   "execution_count": 92,
   "metadata": {
    "scrolled": true
   },
   "outputs": [
    {
     "name": "stdout",
     "output_type": "stream",
     "text": [
      "Всего собрали фильмы только с невозвратной поддержкой: 16419.00\n",
      "Всего бюджет фильмов только с невозвратной поддержкой: 20935.00\n"
     ]
    }
   ],
   "source": [
    "total_gos_box_office = filtered_data[(filtered_data['budget'] > 0) \n",
    "                                     & (filtered_data['nonrefundable_support'] != 0)\n",
    "                                    & (filtered_data['refundable_support'] == 0)]['box_office'].sum()\n",
    "\n",
    "total_gos_budget = filtered_data[(filtered_data['budget'] > 0) \n",
    "                                 & (filtered_data['nonrefundable_support'] != 0)\n",
    "                                & (filtered_data['refundable_support'] == 0)]['budget'].sum()\n",
    "print(f'Всего собрали фильмы только с невозвратной поддержкой: {total_gos_box_office:.2f}')\n",
    "print(f'Всего бюджет фильмов только с невозвратной поддержкой: {total_gos_budget:.2f}')"
   ]
  },
  {
   "cell_type": "code",
   "execution_count": 93,
   "metadata": {
    "scrolled": false
   },
   "outputs": [
    {
     "name": "stdout",
     "output_type": "stream",
     "text": [
      "Всего собрали фильмы только с возвратной поддержкой: 2392.00\n",
      "Всего бюджет фильмов только с возвратной поджеркой: 1326.00\n"
     ]
    }
   ],
   "source": [
    "total_gos_box_office = filtered_data[(filtered_data['budget'] > 0) \n",
    "                                     & (filtered_data['refundable_support'] != 0)\n",
    "                                    & (filtered_data['nonrefundable_support'] == 0)]['box_office'].sum()\n",
    "\n",
    "total_gos_budget = filtered_data[(filtered_data['budget'] > 0) \n",
    "                                 & (filtered_data['refundable_support'] != 0)\n",
    "                                & (filtered_data['nonrefundable_support'] == 0)]['budget'].sum()\n",
    "print(f'Всего собрали фильмы только с возвратной поддержкой: {total_gos_box_office:.2f}')\n",
    "print(f'Всего бюджет фильмов только с возвратной поджеркой: {total_gos_budget:.2f}')"
   ]
  },
  {
   "cell_type": "code",
   "execution_count": 94,
   "metadata": {
    "scrolled": true
   },
   "outputs": [
    {
     "name": "stdout",
     "output_type": "stream",
     "text": [
      "Из 332 фильмов имели коммерческий успех 78, что составляет 23.49%\n"
     ]
    }
   ],
   "source": [
    "success_films_total =  filtered_data[(filtered_data['budget'] > 0)\n",
    "              & (filtered_data['box_office'] > filtered_data['budget'])]['title'].count()\n",
    "total_gos_films = filtered_data[(filtered_data['budget'] > 0)]['title'].count()\n",
    "success_part = success_films_total / total_gos_films\n",
    "print(f'Из {total_gos_films} фильмов имели коммерческий успех {success_films_total}, что составляет {success_part:.2%}')"
   ]
  },
  {
   "cell_type": "markdown",
   "metadata": {},
   "source": [
    "#### Графики количества фильмов, бюджетов и сборов по годам"
   ]
  },
  {
   "cell_type": "code",
   "execution_count": 95,
   "metadata": {
    "scrolled": true
   },
   "outputs": [
    {
     "data": {
      "image/png": "[encoded data removed]",
      "text/plain": [
       "<Figure size 1008x360 with 2 Axes>"
      ]
     },
     "metadata": {
      "needs_background": "light"
     },
     "output_type": "display_data"
    }
   ],
   "source": [
    "fig, axes = plt.subplots(1,2, figsize=(14,5))\n",
    "budget_films_info.plot(x='year',y='total_titles',kind='bar', ax=axes[0], title='Распределение количества фильмов по годам')\n",
    "axes[0].set_ylabel('Количество фильмов')\n",
    "axes[0].set_xlabel('Год')\n",
    "budget_films_info.plot(x='year',y=['total_box_office', 'total_budget'],kind='bar', ax=axes[1], title='Соотношение сборов и бюджета по годам')\n",
    "axes[1].set_ylabel('Сумма млн.руб.')\n",
    "axes[1].set_xlabel('Год')\n",
    "plt.show()\n"
   ]
  },
  {
   "cell_type": "markdown",
   "metadata": {},
   "source": [
    "#### Выводы\n",
    "- В общем фильмы с господдержкой не имели коммерческого успеха их бюджет превышает сборы.\n",
    "\n",
    "- При этом фильмы, которые получали только возвратную поддержку заработали больше, чем потратили.\n",
    "\n",
    "- Можно сделать предположение о том, что когда ставиться цель заработать денег, то поддержка направляется на успешные фильмы.\n",
    "\n",
    "- В тоже время вероятно невозвратная поддержка направляется на развитие кино в целом и на просветительские цели, возможно изначально предполагается, что такие фильмы денег не заработают.\n",
    "\n",
    "- 23 процента фильмов с поддержкой имели коммерческий успех."
   ]
  },
  {
   "cell_type": "markdown",
   "metadata": {},
   "source": [
    "###  Анализ доли рынка фильмов с государственной поддержкой"
   ]
  },
  {
   "cell_type": "code",
   "execution_count": 96,
   "metadata": {},
   "outputs": [],
   "source": [
    "box_office_info = filtered_data.pivot_table(index='year',\n",
    "                          values=['title','box_office'],\n",
    "                          aggfunc={'title':'count', 'box_office':'sum'})\\\n",
    ".rename(columns={'box_office':'total_box_office', 'title':'total_titles'})\\\n",
    ".join(\n",
    "filtered_data[filtered_data['budget'] > 0 ].pivot_table(index='year',\n",
    "                                                        values=['title','box_office'],\n",
    "                                                          aggfunc={'title':'count', 'box_office':'sum'})\\\n",
    ".rename(columns={'box_office':'gos_box_office', 'title':'gos_titles'})).fillna(0)"
   ]
  },
  {
   "cell_type": "code",
   "execution_count": 97,
   "metadata": {
    "scrolled": true
   },
   "outputs": [
    {
     "data": {
      "text/html": [
       "<div>\n",
       "<style scoped>\n",
       "    .dataframe tbody tr th:only-of-type {\n",
       "        vertical-align: middle;\n",
       "    }\n",
       "\n",
       "    .dataframe tbody tr th {\n",
       "        vertical-align: top;\n",
       "    }\n",
       "\n",
       "    .dataframe thead th {\n",
       "        text-align: right;\n",
       "    }\n",
       "</style>\n",
       "<table border=\"1\" class=\"dataframe\">\n",
       "  <thead>\n",
       "    <tr style=\"text-align: right;\">\n",
       "      <th></th>\n",
       "      <th>total_box_office</th>\n",
       "      <th>total_titles</th>\n",
       "      <th>gos_box_office</th>\n",
       "      <th>gos_titles</th>\n",
       "      <th>gos_office_part</th>\n",
       "      <th>gos_titles_part</th>\n",
       "    </tr>\n",
       "    <tr>\n",
       "      <th>year</th>\n",
       "      <th></th>\n",
       "      <th></th>\n",
       "      <th></th>\n",
       "      <th></th>\n",
       "      <th></th>\n",
       "      <th></th>\n",
       "    </tr>\n",
       "  </thead>\n",
       "  <tbody>\n",
       "    <tr>\n",
       "      <th>2010</th>\n",
       "      <td>8</td>\n",
       "      <td>757</td>\n",
       "      <td>0.0</td>\n",
       "      <td>0.0</td>\n",
       "      <td>0.000000</td>\n",
       "      <td>0.000000</td>\n",
       "    </tr>\n",
       "    <tr>\n",
       "      <th>2011</th>\n",
       "      <td>27</td>\n",
       "      <td>475</td>\n",
       "      <td>0.0</td>\n",
       "      <td>0.0</td>\n",
       "      <td>0.000000</td>\n",
       "      <td>0.000000</td>\n",
       "    </tr>\n",
       "    <tr>\n",
       "      <th>2012</th>\n",
       "      <td>4</td>\n",
       "      <td>516</td>\n",
       "      <td>0.0</td>\n",
       "      <td>0.0</td>\n",
       "      <td>0.000000</td>\n",
       "      <td>0.000000</td>\n",
       "    </tr>\n",
       "    <tr>\n",
       "      <th>2013</th>\n",
       "      <td>26</td>\n",
       "      <td>589</td>\n",
       "      <td>20.0</td>\n",
       "      <td>2.0</td>\n",
       "      <td>0.769231</td>\n",
       "      <td>0.003396</td>\n",
       "    </tr>\n",
       "    <tr>\n",
       "      <th>2014</th>\n",
       "      <td>7372</td>\n",
       "      <td>729</td>\n",
       "      <td>1017.0</td>\n",
       "      <td>16.0</td>\n",
       "      <td>0.137954</td>\n",
       "      <td>0.021948</td>\n",
       "    </tr>\n",
       "    <tr>\n",
       "      <th>2015</th>\n",
       "      <td>35605</td>\n",
       "      <td>661</td>\n",
       "      <td>5782.0</td>\n",
       "      <td>86.0</td>\n",
       "      <td>0.162393</td>\n",
       "      <td>0.130106</td>\n",
       "    </tr>\n",
       "    <tr>\n",
       "      <th>2016</th>\n",
       "      <td>51815</td>\n",
       "      <td>770</td>\n",
       "      <td>6079.0</td>\n",
       "      <td>61.0</td>\n",
       "      <td>0.117321</td>\n",
       "      <td>0.079221</td>\n",
       "    </tr>\n",
       "    <tr>\n",
       "      <th>2017</th>\n",
       "      <td>48559</td>\n",
       "      <td>500</td>\n",
       "      <td>10863.0</td>\n",
       "      <td>41.0</td>\n",
       "      <td>0.223707</td>\n",
       "      <td>0.082000</td>\n",
       "    </tr>\n",
       "    <tr>\n",
       "      <th>2018</th>\n",
       "      <td>51364</td>\n",
       "      <td>876</td>\n",
       "      <td>9934.0</td>\n",
       "      <td>56.0</td>\n",
       "      <td>0.193404</td>\n",
       "      <td>0.063927</td>\n",
       "    </tr>\n",
       "    <tr>\n",
       "      <th>2019</th>\n",
       "      <td>49189</td>\n",
       "      <td>925</td>\n",
       "      <td>8415.0</td>\n",
       "      <td>70.0</td>\n",
       "      <td>0.171075</td>\n",
       "      <td>0.075676</td>\n",
       "    </tr>\n",
       "  </tbody>\n",
       "</table>\n",
       "</div>"
      ],
      "text/plain": [
       "      total_box_office  total_titles  gos_box_office  gos_titles  \\\n",
       "year                                                               \n",
       "2010                 8           757             0.0         0.0   \n",
       "2011                27           475             0.0         0.0   \n",
       "2012                 4           516             0.0         0.0   \n",
       "2013                26           589            20.0         2.0   \n",
       "2014              7372           729          1017.0        16.0   \n",
       "2015             35605           661          5782.0        86.0   \n",
       "2016             51815           770          6079.0        61.0   \n",
       "2017             48559           500         10863.0        41.0   \n",
       "2018             51364           876          9934.0        56.0   \n",
       "2019             49189           925          8415.0        70.0   \n",
       "\n",
       "      gos_office_part  gos_titles_part  \n",
       "year                                    \n",
       "2010         0.000000         0.000000  \n",
       "2011         0.000000         0.000000  \n",
       "2012         0.000000         0.000000  \n",
       "2013         0.769231         0.003396  \n",
       "2014         0.137954         0.021948  \n",
       "2015         0.162393         0.130106  \n",
       "2016         0.117321         0.079221  \n",
       "2017         0.223707         0.082000  \n",
       "2018         0.193404         0.063927  \n",
       "2019         0.171075         0.075676  "
      ]
     },
     "execution_count": 97,
     "metadata": {},
     "output_type": "execute_result"
    }
   ],
   "source": [
    "box_office_info['gos_office_part'] = box_office_info['gos_box_office'] / box_office_info['total_box_office']\n",
    "box_office_info['gos_titles_part'] = box_office_info['gos_titles'] / box_office_info['total_titles']\n",
    "box_office_info"
   ]
  },
  {
   "cell_type": "markdown",
   "metadata": {},
   "source": [
    "#### Выводы\n",
    "\n",
    "В сводной таблице видно следующее:\n",
    "- Фильмы с государствнной поддержкой занимают существенную долю рынка кинопроката несмотря на невысокую долю таких фильмов в общем количестве фильмов в прокате\n",
    "- В 2017 году эта доля превышала 20%, по всей видимости фильмы с государственной поддеркжой посмотрело большое количество зрителей."
   ]
  },
  {
   "cell_type": "markdown",
   "metadata": {},
   "source": [
    "### Анализ рейтинга и жанров фильмов с господдержкой"
   ]
  },
  {
   "cell_type": "code",
   "execution_count": 98,
   "metadata": {},
   "outputs": [
    {
     "data": {
      "image/png": "[encoded data removed]",
      "text/plain": [
       "<Figure size 1008x360 with 2 Axes>"
      ]
     },
     "metadata": {
      "needs_background": "light"
     },
     "output_type": "display_data"
    }
   ],
   "source": [
    "fig, axes = plt.subplots(1,2, figsize=(14,5))\n",
    "filtered_data['ratings'].plot(kind='hist',ax=axes[0], title='Распределение рейтингов фильмов')\n",
    "axes[0].set_xlabel('Рейтинг')\n",
    "filtered_data[filtered_data['budget'] > 0]['ratings'].plot(kind='hist',ax=axes[1], title='Распределение рейтингов фильмов с господдержкой')\n",
    "axes[1].set_xlabel('Рейтинг')\n",
    "plt.show()"
   ]
  },
  {
   "cell_type": "markdown",
   "metadata": {},
   "source": [
    "Распределение рейтингов фильмов с господдержкой практически совпадает с распределением рейтингов фильмов по всей выборке."
   ]
  },
  {
   "cell_type": "code",
   "execution_count": 99,
   "metadata": {
    "scrolled": false
   },
   "outputs": [
    {
     "data": {
      "image/png": "[encoded data removed]",
      "text/plain": [
       "<Figure size 1008x360 with 2 Axes>"
      ]
     },
     "metadata": {
      "needs_background": "light"
     },
     "output_type": "display_data"
    }
   ],
   "source": [
    "fig, axes = plt.subplots(1,2, figsize=(14,5))\n",
    "filtered_data['main_genre'].value_counts().head().plot(kind='bar',ax=axes[0], title='Топ 5 жанров фильмов')\n",
    "\n",
    "axes[0].set_ylabel('Количество')\n",
    "\n",
    "filtered_data[filtered_data['budget'] > 0]['main_genre']\\\n",
    ".value_counts().head()\\\n",
    ".plot(kind='bar',ax=axes[1], title='Топ 5 жанров фильмов с господдержкой')\n",
    "axes[1].set_ylabel('Количество')\n",
    "\n",
    "plt.show()\n"
   ]
  },
  {
   "cell_type": "markdown",
   "metadata": {},
   "source": [
    "На графика видно, что в топ 5 жанров с господдержкой входят мультипликационные фильмы, которые не попадают в топ 5 по всей выборке.\n",
    "\n",
    "Вероятно государственная политика направлена на воспитание молодежи, а мультфильм это хороший способ донести информацию до юной аудитории.\n",
    "\n",
    "Также на графике видно, что господдержку реже получают боевики. Видимо воспитательной составляющей в фильмах такого жанра мало."
   ]
  },
  {
   "cell_type": "code",
   "execution_count": 100,
   "metadata": {
    "scrolled": false
   },
   "outputs": [
    {
     "name": "stdout",
     "output_type": "stream",
     "text": [
      "Поддержку получает 16.99% фильмов выпускаемых в России\n"
     ]
    }
   ],
   "source": [
    "gos_support_film_part = filtered_data[filtered_data['budget'] > 0]['production_country'].count() / filtered_data[filtered_data['production_country'].str.contains('Россия')]['production_country'].count()\n",
    "print(f'Поддержку получает {gos_support_film_part:.2%} фильмов выпускаемых в России')"
   ]
  },
  {
   "cell_type": "code",
   "execution_count": 101,
   "metadata": {
    "scrolled": true
   },
   "outputs": [
    {
     "data": {
      "text/plain": [
       "Р.Давлетьяров    5\n",
       "С.Андреасян      4\n",
       "Д.Дьяченко       4\n",
       "А.Аксененко      3\n",
       "Н.Хомерики       3\n",
       "К.Шипенко        3\n",
       "С.Мокрицкий      3\n",
       "А.Цицилин        3\n",
       "Д.Шмидт          3\n",
       "А.Котт           3\n",
       "Name: main_director, dtype: int64"
      ]
     },
     "execution_count": 101,
     "metadata": {},
     "output_type": "execute_result"
    }
   ],
   "source": [
    "filtered_data[filtered_data['budget'] > 0]['main_director'].value_counts().head(10)"
   ]
  },
  {
   "cell_type": "markdown",
   "metadata": {},
   "source": [
    "#### Выводы\n",
    "\n",
    "- Рейтинги фильмов с господдержкой распределены также как и рейтинги всех фильмов по выборке. Хотя в среднем рейтинг фильмов с поддержкой несколько ниже, чем остальных фильмов\n",
    "\n",
    "- Поддержку получают самые популярные жанры драма и комедия. Также поддержку получают мультипликационные фильмы.\n",
    "\n",
    "- Из всех фильмов выпущенных в России господдержку получали 17% фильмов.\n",
    "\n",
    "- Некоторые режисеры получали поддержку на свои фильмы несколько раз. Больше всего раз получал поддержку Ренат Давльетьяров (5 раз)"
   ]
  },
  {
   "cell_type": "markdown",
   "metadata": {},
   "source": [
    "###  Выводы по разделу\n",
    "\n",
    "- Рейтинг фильмов с государственной поддержкой немного ниже, чем средний рейтинг фильмов по всей выборке и средний рейтинг всех российских фильмов.\n",
    "\n",
    "- В целом фильмы с поддержкой не имеют коммерческого успеха, хотя фильмы, получающие только возвратную поддержку окупаются.\n",
    "\n",
    "- Фильмы с поддержкой имеют свою долю на рынке кинопроката и эта доля достаточно существенна, это говорит о том, что несмотря на то, что фильмы не окупаются их смотрит довольно большая аудитория.\n",
    "\n",
    "- По распределению жанров и возрастных ограничений видно, что вероятно цель господдеркжи это воспитательная и просветительская деятельность.\n",
    "\n",
    "- В целом можно сделать вывод, что господдержка фильмов имеет смысл. Такие фильмы получают свою долю аудитории, через которую государство продвигает свою политику, несмотря на то, что не всегда такие фильмы имеют коммерческий успех.\n"
   ]
  },
  {
   "cell_type": "markdown",
   "metadata": {
    "id": "V2gYwMcPgFyd"
   },
   "source": [
    "## Напишите общий вывод"
   ]
  },
  {
   "cell_type": "markdown",
   "metadata": {
    "id": "AYRg3dzXgFye"
   },
   "source": [
    "В ходе исследования установлено следующее:\n",
    "\n",
    "1. Рынок кинопроката за период с 2015 по 2019 год изменяется не сильно. По всей видимости люди ходят в кино регулярно не зависимо от того какие фильмы идут в прокате. Соответственно можно получить только часть этого рынка.\n",
    "2. Рейтинг фильмов снятых в России немного ниже рейтинга фильмов по всей выборке, а фильмов с господдержкой еще немного ниже, чем общероссийский.\n",
    "3. Коммерческого успеха картины с господдержкой в общем не добиваются, хотя для картин, которым выделялась возвратная поддержка характерна иная картина. Можно сделать вывод, что в том случае, когда поддержка рассматривается как инвестиция она окупается. В других случаях вероятно поддержка имеет другую мотивацию, скорее просветительскую и воспитательную. И этой цели фильмы добиваются. Несмотря на достаточно небольшое количество фильмов с поддержкой они занимают существенную долю рынка кинопроката.\n",
    "\n",
    "Из всего вышеперечисленного можно сделать вывод, что фильмы с поддержкой востребованы, их смотрят, хотя их рейтинг немного ниже, чем рейтинг других фильмов.\n",
    "\n",
    "Практику государственной поддержки кинематографа имеет смысл продолжать."
   ]
  },
  {
   "cell_type": "markdown",
   "metadata": {},
   "source": []
  }
 ],
 "metadata": {
  "ExecuteTimeLog": [
   {
    "duration": 537,
    "start_time": "2021-07-07T10:12:08.634Z"
   },
   {
    "duration": 206,
    "start_time": "2021-07-07T10:12:30.191Z"
   },
   {
    "duration": 227,
    "start_time": "2021-07-07T10:12:33.078Z"
   },
   {
    "duration": 153,
    "start_time": "2021-07-07T10:13:42.146Z"
   },
   {
    "duration": 233,
    "start_time": "2021-07-07T10:30:09.252Z"
   },
   {
    "duration": 19,
    "start_time": "2021-07-07T10:30:15.577Z"
   },
   {
    "duration": 18,
    "start_time": "2021-07-07T10:30:57.348Z"
   },
   {
    "duration": 19,
    "start_time": "2021-07-07T10:31:17.452Z"
   },
   {
    "duration": 21,
    "start_time": "2021-07-07T10:31:32.227Z"
   },
   {
    "duration": 27,
    "start_time": "2021-07-07T10:32:06.588Z"
   },
   {
    "duration": 23,
    "start_time": "2021-07-07T10:32:43.645Z"
   },
   {
    "duration": 24,
    "start_time": "2021-07-07T10:33:06.948Z"
   },
   {
    "duration": 7,
    "start_time": "2021-07-07T10:33:28.558Z"
   },
   {
    "duration": 23,
    "start_time": "2021-07-07T10:33:43.761Z"
   },
   {
    "duration": 28,
    "start_time": "2021-07-07T10:34:13.466Z"
   },
   {
    "duration": 23,
    "start_time": "2021-07-07T10:35:56.187Z"
   },
   {
    "duration": 6,
    "start_time": "2021-07-07T10:36:48.182Z"
   },
   {
    "duration": 14,
    "start_time": "2021-07-07T10:37:49.641Z"
   },
   {
    "duration": 6,
    "start_time": "2021-07-07T10:38:06.694Z"
   },
   {
    "duration": 6,
    "start_time": "2021-07-07T10:38:13.493Z"
   },
   {
    "duration": 19,
    "start_time": "2021-07-07T10:38:44.056Z"
   },
   {
    "duration": 186,
    "start_time": "2021-07-07T10:48:35.618Z"
   },
   {
    "duration": 24,
    "start_time": "2021-07-07T10:48:51.498Z"
   },
   {
    "duration": 20,
    "start_time": "2021-07-07T10:48:59.415Z"
   },
   {
    "duration": 20,
    "start_time": "2021-07-07T10:53:02.195Z"
   },
   {
    "duration": 188,
    "start_time": "2021-07-07T10:54:40.486Z"
   },
   {
    "duration": 115,
    "start_time": "2021-07-07T10:54:52.552Z"
   },
   {
    "duration": 214,
    "start_time": "2021-07-07T10:54:56.354Z"
   },
   {
    "duration": 47,
    "start_time": "2021-07-07T10:54:58.282Z"
   },
   {
    "duration": 217,
    "start_time": "2021-07-07T10:59:16.075Z"
   },
   {
    "duration": 51,
    "start_time": "2021-07-07T10:59:16.243Z"
   },
   {
    "duration": 578,
    "start_time": "2021-07-07T10:59:18.774Z"
   },
   {
    "duration": 161,
    "start_time": "2021-07-07T10:59:21.238Z"
   },
   {
    "duration": 59,
    "start_time": "2021-07-07T10:59:21.453Z"
   },
   {
    "duration": 3,
    "start_time": "2021-07-07T11:02:10.786Z"
   },
   {
    "duration": 13,
    "start_time": "2021-07-07T11:07:07.722Z"
   },
   {
    "duration": 26,
    "start_time": "2021-07-07T11:07:17.958Z"
   },
   {
    "duration": 22,
    "start_time": "2021-07-07T11:08:17.939Z"
   },
   {
    "duration": 212,
    "start_time": "2021-07-07T11:08:19.665Z"
   },
   {
    "duration": 21,
    "start_time": "2021-07-07T11:08:29.945Z"
   },
   {
    "duration": 31,
    "start_time": "2021-07-07T11:08:38.899Z"
   },
   {
    "duration": 23,
    "start_time": "2021-07-07T11:08:54.527Z"
   },
   {
    "duration": 8,
    "start_time": "2021-07-07T11:18:55.974Z"
   },
   {
    "duration": 7,
    "start_time": "2021-07-07T11:19:03.639Z"
   },
   {
    "duration": 7,
    "start_time": "2021-07-07T11:19:06.444Z"
   },
   {
    "duration": 578,
    "start_time": "2021-07-07T12:09:59.576Z"
   },
   {
    "duration": 195,
    "start_time": "2021-07-07T12:10:00.156Z"
   },
   {
    "duration": 115,
    "start_time": "2021-07-07T12:10:00.353Z"
   },
   {
    "duration": 3,
    "start_time": "2021-07-07T12:10:00.470Z"
   },
   {
    "duration": 32,
    "start_time": "2021-07-07T12:10:00.474Z"
   },
   {
    "duration": 23,
    "start_time": "2021-07-07T12:10:00.508Z"
   },
   {
    "duration": 19,
    "start_time": "2021-07-07T12:10:00.533Z"
   },
   {
    "duration": 44,
    "start_time": "2021-07-07T12:10:00.553Z"
   },
   {
    "duration": 7,
    "start_time": "2021-07-07T12:10:00.600Z"
   },
   {
    "duration": 7,
    "start_time": "2021-07-07T12:19:45.761Z"
   },
   {
    "duration": 21,
    "start_time": "2021-07-07T12:21:35.482Z"
   },
   {
    "duration": 21,
    "start_time": "2021-07-07T12:29:23.569Z"
   },
   {
    "duration": 525,
    "start_time": "2021-07-07T12:29:44.542Z"
   },
   {
    "duration": 214,
    "start_time": "2021-07-07T12:29:45.069Z"
   },
   {
    "duration": 92,
    "start_time": "2021-07-07T12:29:45.285Z"
   },
   {
    "duration": 3,
    "start_time": "2021-07-07T12:29:45.379Z"
   },
   {
    "duration": 28,
    "start_time": "2021-07-07T12:29:45.384Z"
   },
   {
    "duration": 23,
    "start_time": "2021-07-07T12:29:45.413Z"
   },
   {
    "duration": 21,
    "start_time": "2021-07-07T12:29:45.437Z"
   },
   {
    "duration": 41,
    "start_time": "2021-07-07T12:29:45.460Z"
   },
   {
    "duration": 7,
    "start_time": "2021-07-07T12:29:45.502Z"
   },
   {
    "duration": 20,
    "start_time": "2021-07-07T12:29:45.511Z"
   },
   {
    "duration": 12,
    "start_time": "2021-07-07T12:34:02.800Z"
   },
   {
    "duration": 7,
    "start_time": "2021-07-07T12:35:10.479Z"
   },
   {
    "duration": 8,
    "start_time": "2021-07-07T12:35:22.440Z"
   },
   {
    "duration": 6,
    "start_time": "2021-07-07T12:35:35.649Z"
   },
   {
    "duration": 6,
    "start_time": "2021-07-07T12:35:43.107Z"
   },
   {
    "duration": 22,
    "start_time": "2021-07-07T12:38:03.029Z"
   },
   {
    "duration": 10,
    "start_time": "2021-07-07T12:38:06.592Z"
   },
   {
    "duration": 563,
    "start_time": "2021-07-07T12:38:46.493Z"
   },
   {
    "duration": 265,
    "start_time": "2021-07-07T12:38:47.058Z"
   },
   {
    "duration": 94,
    "start_time": "2021-07-07T12:38:47.325Z"
   },
   {
    "duration": 3,
    "start_time": "2021-07-07T12:38:47.422Z"
   },
   {
    "duration": 30,
    "start_time": "2021-07-07T12:38:47.427Z"
   },
   {
    "duration": 16,
    "start_time": "2021-07-07T12:38:53.305Z"
   },
   {
    "duration": 10,
    "start_time": "2021-07-07T12:38:53.499Z"
   },
   {
    "duration": 8,
    "start_time": "2021-07-07T12:39:48.161Z"
   },
   {
    "duration": 27,
    "start_time": "2021-07-07T12:41:17.629Z"
   },
   {
    "duration": 17,
    "start_time": "2021-07-07T12:41:17.867Z"
   },
   {
    "duration": 21,
    "start_time": "2021-07-07T12:41:19.310Z"
   },
   {
    "duration": 7,
    "start_time": "2021-07-07T12:41:19.544Z"
   },
   {
    "duration": 20,
    "start_time": "2021-07-07T12:41:20.504Z"
   },
   {
    "duration": 554,
    "start_time": "2021-07-07T12:56:23.696Z"
   },
   {
    "duration": 200,
    "start_time": "2021-07-07T12:56:25.234Z"
   },
   {
    "duration": 119,
    "start_time": "2021-07-07T12:56:25.480Z"
   },
   {
    "duration": 4,
    "start_time": "2021-07-07T12:56:25.762Z"
   },
   {
    "duration": 26,
    "start_time": "2021-07-07T12:56:27.172Z"
   },
   {
    "duration": 12,
    "start_time": "2021-07-07T12:56:29.051Z"
   },
   {
    "duration": 10,
    "start_time": "2021-07-07T12:56:29.291Z"
   },
   {
    "duration": 8,
    "start_time": "2021-07-07T12:56:29.623Z"
   },
   {
    "duration": 28,
    "start_time": "2021-07-07T12:56:32.137Z"
   },
   {
    "duration": 19,
    "start_time": "2021-07-07T12:56:39.785Z"
   },
   {
    "duration": 20,
    "start_time": "2021-07-07T12:56:44.297Z"
   },
   {
    "duration": 7,
    "start_time": "2021-07-07T12:56:45.392Z"
   },
   {
    "duration": 23,
    "start_time": "2021-07-07T12:56:46.615Z"
   },
   {
    "duration": 4,
    "start_time": "2021-07-07T12:57:06.625Z"
   },
   {
    "duration": 32,
    "start_time": "2021-07-07T12:57:36.690Z"
   },
   {
    "duration": 18,
    "start_time": "2021-07-07T12:58:00.149Z"
   },
   {
    "duration": 15,
    "start_time": "2021-07-07T12:59:16.793Z"
   },
   {
    "duration": 7,
    "start_time": "2021-07-07T13:19:22.624Z"
   },
   {
    "duration": 6,
    "start_time": "2021-07-07T14:17:33.527Z"
   },
   {
    "duration": 9,
    "start_time": "2021-07-07T14:17:48.409Z"
   },
   {
    "duration": 8,
    "start_time": "2021-07-07T14:20:13.060Z"
   },
   {
    "duration": 8,
    "start_time": "2021-07-07T14:20:37.957Z"
   },
   {
    "duration": 8,
    "start_time": "2021-07-07T14:20:47.470Z"
   },
   {
    "duration": 9,
    "start_time": "2021-07-07T14:20:54.503Z"
   },
   {
    "duration": 10,
    "start_time": "2021-07-07T14:28:57.763Z"
   },
   {
    "duration": 3,
    "start_time": "2021-07-07T14:30:23.377Z"
   },
   {
    "duration": 3,
    "start_time": "2021-07-07T14:30:36.489Z"
   },
   {
    "duration": 103,
    "start_time": "2021-07-07T14:30:52.351Z"
   },
   {
    "duration": 8,
    "start_time": "2021-07-07T14:30:54.763Z"
   },
   {
    "duration": 8,
    "start_time": "2021-07-07T14:31:29.301Z"
   },
   {
    "duration": 13,
    "start_time": "2021-07-07T14:31:44.516Z"
   },
   {
    "duration": 7,
    "start_time": "2021-07-07T14:33:10.972Z"
   },
   {
    "duration": 11,
    "start_time": "2021-07-07T14:33:27.780Z"
   },
   {
    "duration": 8,
    "start_time": "2021-07-07T14:34:44.588Z"
   },
   {
    "duration": 57,
    "start_time": "2021-07-07T14:35:59.042Z"
   },
   {
    "duration": 3,
    "start_time": "2021-07-07T14:36:28.168Z"
   },
   {
    "duration": 5,
    "start_time": "2021-07-07T14:36:46.254Z"
   },
   {
    "duration": 4,
    "start_time": "2021-07-07T14:36:52.714Z"
   },
   {
    "duration": 3,
    "start_time": "2021-07-07T14:36:56.612Z"
   },
   {
    "duration": 4,
    "start_time": "2021-07-07T14:36:57.049Z"
   },
   {
    "duration": 3,
    "start_time": "2021-07-07T14:39:21.214Z"
   },
   {
    "duration": 7,
    "start_time": "2021-07-07T14:39:52.406Z"
   },
   {
    "duration": 11,
    "start_time": "2021-07-07T14:39:58.576Z"
   },
   {
    "duration": 9,
    "start_time": "2021-07-07T14:40:26.301Z"
   },
   {
    "duration": 10,
    "start_time": "2021-07-07T14:40:31.704Z"
   },
   {
    "duration": 11,
    "start_time": "2021-07-07T14:40:36.249Z"
   },
   {
    "duration": 10,
    "start_time": "2021-07-07T14:40:39.783Z"
   },
   {
    "duration": 9,
    "start_time": "2021-07-07T14:40:48.558Z"
   },
   {
    "duration": 10,
    "start_time": "2021-07-07T14:40:57.143Z"
   },
   {
    "duration": 9,
    "start_time": "2021-07-07T14:41:06.074Z"
   },
   {
    "duration": 4324,
    "start_time": "2021-07-07T14:41:22.004Z"
   },
   {
    "duration": 11,
    "start_time": "2021-07-07T14:41:33.392Z"
   },
   {
    "duration": 9,
    "start_time": "2021-07-07T14:41:39.288Z"
   },
   {
    "duration": 569,
    "start_time": "2021-07-07T14:42:14.387Z"
   },
   {
    "duration": 197,
    "start_time": "2021-07-07T14:42:14.959Z"
   },
   {
    "duration": 84,
    "start_time": "2021-07-07T14:42:16.052Z"
   },
   {
    "duration": 4,
    "start_time": "2021-07-07T14:42:16.900Z"
   },
   {
    "duration": 27,
    "start_time": "2021-07-07T14:42:19.898Z"
   },
   {
    "duration": 12,
    "start_time": "2021-07-07T14:42:21.577Z"
   },
   {
    "duration": 9,
    "start_time": "2021-07-07T14:42:21.813Z"
   },
   {
    "duration": 9,
    "start_time": "2021-07-07T14:42:22.569Z"
   },
   {
    "duration": 29,
    "start_time": "2021-07-07T14:42:25.837Z"
   },
   {
    "duration": 20,
    "start_time": "2021-07-07T14:42:27.003Z"
   },
   {
    "duration": 21,
    "start_time": "2021-07-07T14:42:28.767Z"
   },
   {
    "duration": 7,
    "start_time": "2021-07-07T14:42:29.838Z"
   },
   {
    "duration": 4,
    "start_time": "2021-07-07T14:43:25.493Z"
   },
   {
    "duration": 7,
    "start_time": "2021-07-07T14:43:26.573Z"
   },
   {
    "duration": 10,
    "start_time": "2021-07-07T14:43:31.639Z"
   },
   {
    "duration": 9,
    "start_time": "2021-07-07T14:43:32.046Z"
   },
   {
    "duration": 10,
    "start_time": "2021-07-07T14:43:33.301Z"
   },
   {
    "duration": 12,
    "start_time": "2021-07-07T14:43:33.658Z"
   },
   {
    "duration": 8,
    "start_time": "2021-07-07T14:43:34.552Z"
   },
   {
    "duration": 9,
    "start_time": "2021-07-07T14:43:35.058Z"
   },
   {
    "duration": 12,
    "start_time": "2021-07-07T14:43:35.914Z"
   },
   {
    "duration": 17,
    "start_time": "2021-07-07T14:45:34.368Z"
   },
   {
    "duration": 512,
    "start_time": "2021-07-07T14:51:58.236Z"
   },
   {
    "duration": 223,
    "start_time": "2021-07-07T14:51:58.750Z"
   },
   {
    "duration": 93,
    "start_time": "2021-07-07T14:51:58.977Z"
   },
   {
    "duration": 4,
    "start_time": "2021-07-07T14:51:59.071Z"
   },
   {
    "duration": 37,
    "start_time": "2021-07-07T14:51:59.077Z"
   },
   {
    "duration": 18,
    "start_time": "2021-07-07T14:51:59.116Z"
   },
   {
    "duration": 10,
    "start_time": "2021-07-07T14:51:59.137Z"
   },
   {
    "duration": 8,
    "start_time": "2021-07-07T14:51:59.149Z"
   },
   {
    "duration": 54,
    "start_time": "2021-07-07T14:51:59.158Z"
   },
   {
    "duration": 18,
    "start_time": "2021-07-07T14:51:59.213Z"
   },
   {
    "duration": 22,
    "start_time": "2021-07-07T14:51:59.232Z"
   },
   {
    "duration": 36,
    "start_time": "2021-07-07T14:51:59.255Z"
   },
   {
    "duration": 7,
    "start_time": "2021-07-07T14:51:59.293Z"
   },
   {
    "duration": 10,
    "start_time": "2021-07-07T14:51:59.302Z"
   },
   {
    "duration": 9,
    "start_time": "2021-07-07T14:51:59.313Z"
   },
   {
    "duration": 11,
    "start_time": "2021-07-07T14:51:59.324Z"
   },
   {
    "duration": 8,
    "start_time": "2021-07-07T14:51:59.337Z"
   },
   {
    "duration": 46,
    "start_time": "2021-07-07T14:51:59.347Z"
   },
   {
    "duration": 22,
    "start_time": "2021-07-07T14:51:59.395Z"
   },
   {
    "duration": 24,
    "start_time": "2021-07-07T14:57:32.911Z"
   },
   {
    "duration": 7,
    "start_time": "2021-07-07T14:58:22.070Z"
   },
   {
    "duration": 4,
    "start_time": "2021-07-07T14:59:11.239Z"
   },
   {
    "duration": 25,
    "start_time": "2021-07-07T15:07:22.208Z"
   },
   {
    "duration": 16,
    "start_time": "2021-07-07T15:08:25.560Z"
   },
   {
    "duration": 15,
    "start_time": "2021-07-07T15:08:40.647Z"
   },
   {
    "duration": 14,
    "start_time": "2021-07-07T15:08:46.669Z"
   },
   {
    "duration": 533,
    "start_time": "2021-07-07T15:18:07.440Z"
   },
   {
    "duration": 173,
    "start_time": "2021-07-07T15:18:07.974Z"
   },
   {
    "duration": 84,
    "start_time": "2021-07-07T15:18:08.149Z"
   },
   {
    "duration": 3,
    "start_time": "2021-07-07T15:18:08.235Z"
   },
   {
    "duration": 30,
    "start_time": "2021-07-07T15:18:08.240Z"
   },
   {
    "duration": 22,
    "start_time": "2021-07-07T15:18:08.272Z"
   },
   {
    "duration": 11,
    "start_time": "2021-07-07T15:18:08.295Z"
   },
   {
    "duration": 11,
    "start_time": "2021-07-07T15:18:08.309Z"
   },
   {
    "duration": 40,
    "start_time": "2021-07-07T15:18:08.322Z"
   },
   {
    "duration": 42,
    "start_time": "2021-07-07T15:18:08.364Z"
   },
   {
    "duration": 22,
    "start_time": "2021-07-07T15:18:08.408Z"
   },
   {
    "duration": 5,
    "start_time": "2021-07-07T15:18:08.432Z"
   },
   {
    "duration": 13,
    "start_time": "2021-07-07T15:18:08.439Z"
   },
   {
    "duration": 9,
    "start_time": "2021-07-07T15:18:08.454Z"
   },
   {
    "duration": 32,
    "start_time": "2021-07-07T15:18:08.465Z"
   },
   {
    "duration": 10,
    "start_time": "2021-07-07T15:18:08.501Z"
   },
   {
    "duration": 7,
    "start_time": "2021-07-07T15:18:08.513Z"
   },
   {
    "duration": 11,
    "start_time": "2021-07-07T15:18:08.521Z"
   },
   {
    "duration": 17,
    "start_time": "2021-07-07T15:18:08.534Z"
   },
   {
    "duration": 44,
    "start_time": "2021-07-07T15:18:08.553Z"
   },
   {
    "duration": 22,
    "start_time": "2021-07-07T15:18:08.599Z"
   },
   {
    "duration": 61,
    "start_time": "2021-07-07T15:18:08.622Z"
   },
   {
    "duration": 7,
    "start_time": "2021-07-07T15:18:39.457Z"
   },
   {
    "duration": 5,
    "start_time": "2021-07-07T16:05:17.020Z"
   },
   {
    "duration": 5,
    "start_time": "2021-07-07T16:51:28.794Z"
   },
   {
    "duration": 546,
    "start_time": "2021-07-07T16:52:26.306Z"
   },
   {
    "duration": 203,
    "start_time": "2021-07-07T16:52:27.523Z"
   },
   {
    "duration": 85,
    "start_time": "2021-07-07T16:52:27.736Z"
   },
   {
    "duration": 4,
    "start_time": "2021-07-07T16:52:27.899Z"
   },
   {
    "duration": 25,
    "start_time": "2021-07-07T16:52:28.674Z"
   },
   {
    "duration": 8,
    "start_time": "2021-07-07T16:52:32.956Z"
   },
   {
    "duration": 18,
    "start_time": "2021-07-07T16:52:35.616Z"
   },
   {
    "duration": 6,
    "start_time": "2021-07-07T16:52:36.913Z"
   },
   {
    "duration": 11,
    "start_time": "2021-07-07T16:52:40.258Z"
   },
   {
    "duration": 10,
    "start_time": "2021-07-07T16:52:46.251Z"
   },
   {
    "duration": 8,
    "start_time": "2021-07-07T16:52:47.182Z"
   },
   {
    "duration": 27,
    "start_time": "2021-07-07T16:53:20.391Z"
   },
   {
    "duration": 20,
    "start_time": "2021-07-07T16:53:22.022Z"
   },
   {
    "duration": 23,
    "start_time": "2021-07-07T16:53:23.690Z"
   },
   {
    "duration": 8,
    "start_time": "2021-07-07T16:53:24.261Z"
   },
   {
    "duration": 4,
    "start_time": "2021-07-07T16:53:38.733Z"
   },
   {
    "duration": 7,
    "start_time": "2021-07-07T16:53:40.445Z"
   },
   {
    "duration": 11,
    "start_time": "2021-07-07T16:53:41.348Z"
   },
   {
    "duration": 13,
    "start_time": "2021-07-07T16:53:45.250Z"
   },
   {
    "duration": 12,
    "start_time": "2021-07-07T16:53:45.467Z"
   },
   {
    "duration": 4,
    "start_time": "2021-07-07T16:55:32.704Z"
   },
   {
    "duration": 12,
    "start_time": "2021-07-07T16:55:49.012Z"
   },
   {
    "duration": 18,
    "start_time": "2021-07-07T16:55:49.547Z"
   },
   {
    "duration": 611,
    "start_time": "2021-07-07T16:58:35.156Z"
   },
   {
    "duration": 200,
    "start_time": "2021-07-07T16:58:35.770Z"
   },
   {
    "duration": 86,
    "start_time": "2021-07-07T16:58:35.972Z"
   },
   {
    "duration": 3,
    "start_time": "2021-07-07T16:58:36.060Z"
   },
   {
    "duration": 27,
    "start_time": "2021-07-07T16:58:36.065Z"
   },
   {
    "duration": 8,
    "start_time": "2021-07-07T16:58:36.094Z"
   },
   {
    "duration": 17,
    "start_time": "2021-07-07T16:58:36.103Z"
   },
   {
    "duration": 5,
    "start_time": "2021-07-07T16:58:36.123Z"
   },
   {
    "duration": 11,
    "start_time": "2021-07-07T16:58:36.130Z"
   },
   {
    "duration": 7,
    "start_time": "2021-07-07T16:58:36.143Z"
   },
   {
    "duration": 37,
    "start_time": "2021-07-07T16:58:36.152Z"
   },
   {
    "duration": 27,
    "start_time": "2021-07-07T16:58:36.191Z"
   },
   {
    "duration": 19,
    "start_time": "2021-07-07T16:58:36.219Z"
   },
   {
    "duration": 49,
    "start_time": "2021-07-07T16:58:36.240Z"
   },
   {
    "duration": 6,
    "start_time": "2021-07-07T16:58:36.291Z"
   },
   {
    "duration": 3,
    "start_time": "2021-07-07T16:58:36.299Z"
   },
   {
    "duration": 13,
    "start_time": "2021-07-07T16:58:36.304Z"
   },
   {
    "duration": 10,
    "start_time": "2021-07-07T16:58:36.319Z"
   },
   {
    "duration": 10,
    "start_time": "2021-07-07T16:58:36.331Z"
   },
   {
    "duration": 44,
    "start_time": "2021-07-07T16:58:36.343Z"
   },
   {
    "duration": 4,
    "start_time": "2021-07-07T16:58:36.388Z"
   },
   {
    "duration": 13,
    "start_time": "2021-07-07T16:58:36.394Z"
   },
   {
    "duration": 16,
    "start_time": "2021-07-07T16:58:36.410Z"
   },
   {
    "duration": 8,
    "start_time": "2021-07-07T17:02:31.629Z"
   },
   {
    "duration": 8,
    "start_time": "2021-07-07T17:02:34.308Z"
   },
   {
    "duration": 6,
    "start_time": "2021-07-07T17:05:13.483Z"
   },
   {
    "duration": 17,
    "start_time": "2021-07-07T17:05:20.606Z"
   },
   {
    "duration": 7,
    "start_time": "2021-07-07T17:05:34.638Z"
   },
   {
    "duration": 3,
    "start_time": "2021-07-07T17:06:31.883Z"
   },
   {
    "duration": 570,
    "start_time": "2021-07-07T17:06:37.165Z"
   },
   {
    "duration": 174,
    "start_time": "2021-07-07T17:06:37.737Z"
   },
   {
    "duration": 47,
    "start_time": "2021-07-07T17:06:37.913Z"
   },
   {
    "duration": 3,
    "start_time": "2021-07-07T17:06:37.962Z"
   },
   {
    "duration": 27,
    "start_time": "2021-07-07T17:06:37.967Z"
   },
   {
    "duration": 7,
    "start_time": "2021-07-07T17:06:37.996Z"
   },
   {
    "duration": 16,
    "start_time": "2021-07-07T17:06:38.005Z"
   },
   {
    "duration": 6,
    "start_time": "2021-07-07T17:06:38.024Z"
   },
   {
    "duration": 12,
    "start_time": "2021-07-07T17:06:38.031Z"
   },
   {
    "duration": 41,
    "start_time": "2021-07-07T17:06:38.045Z"
   },
   {
    "duration": 8,
    "start_time": "2021-07-07T17:06:38.088Z"
   },
   {
    "duration": 26,
    "start_time": "2021-07-07T17:06:38.098Z"
   },
   {
    "duration": 17,
    "start_time": "2021-07-07T17:06:38.126Z"
   },
   {
    "duration": 43,
    "start_time": "2021-07-07T17:06:38.144Z"
   },
   {
    "duration": 6,
    "start_time": "2021-07-07T17:06:38.188Z"
   },
   {
    "duration": 5,
    "start_time": "2021-07-07T17:06:38.195Z"
   },
   {
    "duration": 9,
    "start_time": "2021-07-07T17:06:38.201Z"
   },
   {
    "duration": 12,
    "start_time": "2021-07-07T17:06:38.212Z"
   },
   {
    "duration": 11,
    "start_time": "2021-07-07T17:06:38.226Z"
   },
   {
    "duration": 47,
    "start_time": "2021-07-07T17:06:38.239Z"
   },
   {
    "duration": 4,
    "start_time": "2021-07-07T17:06:38.288Z"
   },
   {
    "duration": 13,
    "start_time": "2021-07-07T17:06:38.293Z"
   },
   {
    "duration": 5,
    "start_time": "2021-07-07T17:06:38.309Z"
   },
   {
    "duration": 18,
    "start_time": "2021-07-07T17:06:38.325Z"
   },
   {
    "duration": 20,
    "start_time": "2021-07-07T17:07:02.805Z"
   },
   {
    "duration": 19,
    "start_time": "2021-07-07T17:07:08.527Z"
   },
   {
    "duration": 19,
    "start_time": "2021-07-07T17:07:12.758Z"
   },
   {
    "duration": 22,
    "start_time": "2021-07-07T17:07:17.497Z"
   },
   {
    "duration": 19,
    "start_time": "2021-07-07T17:07:19.645Z"
   },
   {
    "duration": 10,
    "start_time": "2021-07-07T17:07:34.239Z"
   },
   {
    "duration": 17,
    "start_time": "2021-07-07T17:07:54.144Z"
   },
   {
    "duration": 14,
    "start_time": "2021-07-07T17:08:14.357Z"
   },
   {
    "duration": 616,
    "start_time": "2021-07-07T17:08:45.254Z"
   },
   {
    "duration": 178,
    "start_time": "2021-07-07T17:08:45.872Z"
   },
   {
    "duration": 60,
    "start_time": "2021-07-07T17:08:46.054Z"
   },
   {
    "duration": 3,
    "start_time": "2021-07-07T17:08:46.116Z"
   },
   {
    "duration": 26,
    "start_time": "2021-07-07T17:08:46.121Z"
   },
   {
    "duration": 7,
    "start_time": "2021-07-07T17:08:46.149Z"
   },
   {
    "duration": 17,
    "start_time": "2021-07-07T17:08:46.158Z"
   },
   {
    "duration": 14,
    "start_time": "2021-07-07T17:08:46.176Z"
   },
   {
    "duration": 17,
    "start_time": "2021-07-07T17:08:46.193Z"
   },
   {
    "duration": 9,
    "start_time": "2021-07-07T17:08:46.211Z"
   },
   {
    "duration": 21,
    "start_time": "2021-07-07T17:08:46.221Z"
   },
   {
    "duration": 49,
    "start_time": "2021-07-07T17:08:46.244Z"
   },
   {
    "duration": 24,
    "start_time": "2021-07-07T17:08:46.295Z"
   },
   {
    "duration": 22,
    "start_time": "2021-07-07T17:08:46.321Z"
   },
   {
    "duration": 6,
    "start_time": "2021-07-07T17:08:46.345Z"
   },
   {
    "duration": 5,
    "start_time": "2021-07-07T17:08:46.353Z"
   },
   {
    "duration": 13,
    "start_time": "2021-07-07T17:08:46.386Z"
   },
   {
    "duration": 12,
    "start_time": "2021-07-07T17:08:46.402Z"
   },
   {
    "duration": 10,
    "start_time": "2021-07-07T17:08:46.415Z"
   },
   {
    "duration": 7,
    "start_time": "2021-07-07T17:08:46.427Z"
   },
   {
    "duration": 8,
    "start_time": "2021-07-07T17:08:46.435Z"
   },
   {
    "duration": 68,
    "start_time": "2021-07-07T17:08:46.446Z"
   },
   {
    "duration": 13,
    "start_time": "2021-07-07T17:08:46.516Z"
   },
   {
    "duration": 78,
    "start_time": "2021-07-07T17:08:46.530Z"
   },
   {
    "duration": 40,
    "start_time": "2021-07-07T17:09:08.185Z"
   },
   {
    "duration": 16,
    "start_time": "2021-07-07T17:09:19.324Z"
   },
   {
    "duration": 21,
    "start_time": "2021-07-07T17:09:23.290Z"
   },
   {
    "duration": 13,
    "start_time": "2021-07-07T17:09:54.812Z"
   },
   {
    "duration": 13,
    "start_time": "2021-07-07T17:10:02.039Z"
   },
   {
    "duration": 10,
    "start_time": "2021-07-07T17:10:29.632Z"
   },
   {
    "duration": 13,
    "start_time": "2021-07-07T17:10:52.372Z"
   },
   {
    "duration": 13,
    "start_time": "2021-07-07T17:11:17.270Z"
   },
   {
    "duration": 13,
    "start_time": "2021-07-07T17:14:59.284Z"
   },
   {
    "duration": 547,
    "start_time": "2021-07-07T17:18:52.403Z"
   },
   {
    "duration": 163,
    "start_time": "2021-07-07T17:18:52.952Z"
   },
   {
    "duration": 44,
    "start_time": "2021-07-07T17:18:53.117Z"
   },
   {
    "duration": 3,
    "start_time": "2021-07-07T17:18:53.162Z"
   },
   {
    "duration": 26,
    "start_time": "2021-07-07T17:18:53.167Z"
   },
   {
    "duration": 6,
    "start_time": "2021-07-07T17:18:53.195Z"
   },
   {
    "duration": 15,
    "start_time": "2021-07-07T17:18:53.203Z"
   },
   {
    "duration": 5,
    "start_time": "2021-07-07T17:18:53.220Z"
   },
   {
    "duration": 11,
    "start_time": "2021-07-07T17:18:53.228Z"
   },
   {
    "duration": 9,
    "start_time": "2021-07-07T17:18:53.241Z"
   },
   {
    "duration": 41,
    "start_time": "2021-07-07T17:18:53.252Z"
   },
   {
    "duration": 33,
    "start_time": "2021-07-07T17:18:53.295Z"
   },
   {
    "duration": 19,
    "start_time": "2021-07-07T17:18:53.330Z"
   },
   {
    "duration": 49,
    "start_time": "2021-07-07T17:18:53.350Z"
   },
   {
    "duration": 5,
    "start_time": "2021-07-07T17:18:53.401Z"
   },
   {
    "duration": 5,
    "start_time": "2021-07-07T17:18:53.408Z"
   },
   {
    "duration": 11,
    "start_time": "2021-07-07T17:18:53.414Z"
   },
   {
    "duration": 9,
    "start_time": "2021-07-07T17:18:53.427Z"
   },
   {
    "duration": 10,
    "start_time": "2021-07-07T17:18:53.437Z"
   },
   {
    "duration": 39,
    "start_time": "2021-07-07T17:18:53.448Z"
   },
   {
    "duration": 26,
    "start_time": "2021-07-07T17:18:55.799Z"
   },
   {
    "duration": 598,
    "start_time": "2021-07-07T17:20:17.862Z"
   },
   {
    "duration": 161,
    "start_time": "2021-07-07T17:20:18.462Z"
   },
   {
    "duration": 45,
    "start_time": "2021-07-07T17:20:18.626Z"
   },
   {
    "duration": 4,
    "start_time": "2021-07-07T17:20:18.673Z"
   },
   {
    "duration": 38,
    "start_time": "2021-07-07T17:20:26.877Z"
   },
   {
    "duration": 7,
    "start_time": "2021-07-07T17:20:37.405Z"
   },
   {
    "duration": 19,
    "start_time": "2021-07-07T17:20:51.534Z"
   },
   {
    "duration": 5,
    "start_time": "2021-07-07T17:20:57.228Z"
   },
   {
    "duration": 7,
    "start_time": "2021-07-07T17:21:08.235Z"
   },
   {
    "duration": 19,
    "start_time": "2021-07-07T17:21:42.158Z"
   },
   {
    "duration": 14,
    "start_time": "2021-07-07T17:21:50.225Z"
   },
   {
    "duration": 22,
    "start_time": "2021-07-07T17:22:54.104Z"
   },
   {
    "duration": 5,
    "start_time": "2021-07-07T17:22:56.371Z"
   },
   {
    "duration": 14,
    "start_time": "2021-07-07T17:22:58.316Z"
   },
   {
    "duration": 5,
    "start_time": "2021-07-07T17:22:58.493Z"
   },
   {
    "duration": 35,
    "start_time": "2021-07-07T17:22:59.666Z"
   },
   {
    "duration": 6,
    "start_time": "2021-07-07T17:23:02.410Z"
   },
   {
    "duration": 611,
    "start_time": "2021-07-07T17:24:59.664Z"
   },
   {
    "duration": 178,
    "start_time": "2021-07-07T17:25:01.945Z"
   },
   {
    "duration": 47,
    "start_time": "2021-07-07T17:25:02.125Z"
   },
   {
    "duration": 2,
    "start_time": "2021-07-07T17:25:07.903Z"
   },
   {
    "duration": 254,
    "start_time": "2021-07-07T17:25:08.232Z"
   },
   {
    "duration": 182,
    "start_time": "2021-07-07T17:25:08.671Z"
   },
   {
    "duration": 6,
    "start_time": "2021-07-07T17:25:13.104Z"
   },
   {
    "duration": 36,
    "start_time": "2021-07-07T17:25:13.662Z"
   },
   {
    "duration": 7,
    "start_time": "2021-07-07T17:25:14.528Z"
   },
   {
    "duration": 24,
    "start_time": "2021-07-07T17:25:27.982Z"
   },
   {
    "duration": 3,
    "start_time": "2021-07-07T17:25:48.982Z"
   },
   {
    "duration": 165,
    "start_time": "2021-07-07T17:25:48.987Z"
   },
   {
    "duration": 50,
    "start_time": "2021-07-07T17:25:49.154Z"
   },
   {
    "duration": 4,
    "start_time": "2021-07-07T17:25:49.206Z"
   },
   {
    "duration": 26,
    "start_time": "2021-07-07T17:25:49.212Z"
   },
   {
    "duration": 7,
    "start_time": "2021-07-07T17:25:49.240Z"
   },
   {
    "duration": 16,
    "start_time": "2021-07-07T17:25:49.249Z"
   },
   {
    "duration": 22,
    "start_time": "2021-07-07T17:25:49.266Z"
   },
   {
    "duration": 16,
    "start_time": "2021-07-07T17:25:49.291Z"
   },
   {
    "duration": 9,
    "start_time": "2021-07-07T17:25:49.309Z"
   },
   {
    "duration": 7,
    "start_time": "2021-07-07T17:25:49.319Z"
   },
   {
    "duration": 28,
    "start_time": "2021-07-07T17:25:49.328Z"
   },
   {
    "duration": 44,
    "start_time": "2021-07-07T17:25:49.357Z"
   },
   {
    "duration": 22,
    "start_time": "2021-07-07T17:25:49.403Z"
   },
   {
    "duration": 7,
    "start_time": "2021-07-07T17:25:49.427Z"
   },
   {
    "duration": 3,
    "start_time": "2021-07-07T17:25:49.436Z"
   },
   {
    "duration": 44,
    "start_time": "2021-07-07T17:25:49.441Z"
   },
   {
    "duration": 12,
    "start_time": "2021-07-07T17:25:49.488Z"
   },
   {
    "duration": 13,
    "start_time": "2021-07-07T17:25:49.502Z"
   },
   {
    "duration": 10,
    "start_time": "2021-07-07T17:25:49.516Z"
   },
   {
    "duration": 62,
    "start_time": "2021-07-07T17:25:49.527Z"
   },
   {
    "duration": 26,
    "start_time": "2021-07-07T17:26:51.809Z"
   },
   {
    "duration": 26,
    "start_time": "2021-07-07T17:26:55.759Z"
   },
   {
    "duration": 26,
    "start_time": "2021-07-07T17:27:04.501Z"
   },
   {
    "duration": 25,
    "start_time": "2021-07-07T17:28:24.859Z"
   },
   {
    "duration": 21,
    "start_time": "2021-07-07T17:28:55.250Z"
   },
   {
    "duration": 21,
    "start_time": "2021-07-07T17:28:58.885Z"
   },
   {
    "duration": 7,
    "start_time": "2021-07-07T17:45:40.972Z"
   },
   {
    "duration": 13,
    "start_time": "2021-07-07T17:45:42.529Z"
   },
   {
    "duration": 27,
    "start_time": "2021-07-07T17:45:51.026Z"
   },
   {
    "duration": 518,
    "start_time": "2021-07-07T17:46:15.532Z"
   },
   {
    "duration": 235,
    "start_time": "2021-07-07T17:46:16.053Z"
   },
   {
    "duration": 80,
    "start_time": "2021-07-07T17:46:16.292Z"
   },
   {
    "duration": 5,
    "start_time": "2021-07-07T17:46:16.373Z"
   },
   {
    "duration": 26,
    "start_time": "2021-07-07T17:46:16.380Z"
   },
   {
    "duration": 7,
    "start_time": "2021-07-07T17:46:16.408Z"
   },
   {
    "duration": 16,
    "start_time": "2021-07-07T17:46:16.418Z"
   },
   {
    "duration": 5,
    "start_time": "2021-07-07T17:46:16.436Z"
   },
   {
    "duration": 13,
    "start_time": "2021-07-07T17:46:16.442Z"
   },
   {
    "duration": 35,
    "start_time": "2021-07-07T17:46:16.456Z"
   },
   {
    "duration": 8,
    "start_time": "2021-07-07T17:46:16.493Z"
   },
   {
    "duration": 28,
    "start_time": "2021-07-07T17:46:16.502Z"
   },
   {
    "duration": 17,
    "start_time": "2021-07-07T17:46:16.532Z"
   },
   {
    "duration": 44,
    "start_time": "2021-07-07T17:46:16.551Z"
   },
   {
    "duration": 6,
    "start_time": "2021-07-07T17:46:16.597Z"
   },
   {
    "duration": 4,
    "start_time": "2021-07-07T17:46:16.605Z"
   },
   {
    "duration": 9,
    "start_time": "2021-07-07T17:46:16.610Z"
   },
   {
    "duration": 9,
    "start_time": "2021-07-07T17:46:16.621Z"
   },
   {
    "duration": 10,
    "start_time": "2021-07-07T17:46:16.632Z"
   },
   {
    "duration": 43,
    "start_time": "2021-07-07T17:46:16.644Z"
   },
   {
    "duration": 26,
    "start_time": "2021-07-07T17:46:16.689Z"
   },
   {
    "duration": 19,
    "start_time": "2021-07-07T17:46:16.718Z"
   },
   {
    "duration": 8,
    "start_time": "2021-07-07T17:46:16.738Z"
   },
   {
    "duration": 43,
    "start_time": "2021-07-07T17:46:16.747Z"
   },
   {
    "duration": 19,
    "start_time": "2021-07-07T17:46:16.791Z"
   },
   {
    "duration": 9,
    "start_time": "2021-07-07T17:46:16.812Z"
   },
   {
    "duration": 60,
    "start_time": "2021-07-07T17:46:16.822Z"
   },
   {
    "duration": -8,
    "start_time": "2021-07-07T17:46:16.892Z"
   },
   {
    "duration": 12,
    "start_time": "2021-07-07T17:48:47.707Z"
   },
   {
    "duration": 553,
    "start_time": "2021-07-07T18:10:09.350Z"
   },
   {
    "duration": 230,
    "start_time": "2021-07-07T18:10:09.905Z"
   },
   {
    "duration": 97,
    "start_time": "2021-07-07T18:10:10.137Z"
   },
   {
    "duration": 5,
    "start_time": "2021-07-07T18:10:10.236Z"
   },
   {
    "duration": 29,
    "start_time": "2021-07-07T18:10:10.242Z"
   },
   {
    "duration": 7,
    "start_time": "2021-07-07T18:10:10.272Z"
   },
   {
    "duration": 15,
    "start_time": "2021-07-07T18:10:10.281Z"
   },
   {
    "duration": 4,
    "start_time": "2021-07-07T18:10:10.299Z"
   },
   {
    "duration": 14,
    "start_time": "2021-07-07T18:10:10.305Z"
   },
   {
    "duration": 8,
    "start_time": "2021-07-07T18:10:10.321Z"
   },
   {
    "duration": 8,
    "start_time": "2021-07-07T18:10:10.331Z"
   },
   {
    "duration": 56,
    "start_time": "2021-07-07T18:10:10.341Z"
   },
   {
    "duration": 19,
    "start_time": "2021-07-07T18:10:10.399Z"
   },
   {
    "duration": 23,
    "start_time": "2021-07-07T18:10:10.419Z"
   },
   {
    "duration": 6,
    "start_time": "2021-07-07T18:10:10.444Z"
   },
   {
    "duration": 9,
    "start_time": "2021-07-07T18:10:10.451Z"
   },
   {
    "duration": 30,
    "start_time": "2021-07-07T18:10:10.462Z"
   },
   {
    "duration": 9,
    "start_time": "2021-07-07T18:10:10.494Z"
   },
   {
    "duration": 14,
    "start_time": "2021-07-07T18:10:10.505Z"
   },
   {
    "duration": 7,
    "start_time": "2021-07-07T18:10:10.521Z"
   },
   {
    "duration": 26,
    "start_time": "2021-07-07T18:10:10.530Z"
   },
   {
    "duration": 44,
    "start_time": "2021-07-07T18:10:10.558Z"
   },
   {
    "duration": 7,
    "start_time": "2021-07-07T18:10:10.605Z"
   },
   {
    "duration": 11,
    "start_time": "2021-07-07T18:10:10.614Z"
   },
   {
    "duration": 19,
    "start_time": "2021-07-07T18:10:10.626Z"
   },
   {
    "duration": 44,
    "start_time": "2021-07-07T18:10:10.646Z"
   },
   {
    "duration": 516,
    "start_time": "2021-07-07T18:14:00.826Z"
   },
   {
    "duration": 230,
    "start_time": "2021-07-07T18:14:01.344Z"
   },
   {
    "duration": 105,
    "start_time": "2021-07-07T18:14:01.576Z"
   },
   {
    "duration": 5,
    "start_time": "2021-07-07T18:14:01.683Z"
   },
   {
    "duration": 46,
    "start_time": "2021-07-07T18:14:01.690Z"
   },
   {
    "duration": 7,
    "start_time": "2021-07-07T18:14:01.738Z"
   },
   {
    "duration": 20,
    "start_time": "2021-07-07T18:14:01.747Z"
   },
   {
    "duration": 16,
    "start_time": "2021-07-07T18:14:01.769Z"
   },
   {
    "duration": 14,
    "start_time": "2021-07-07T18:14:01.787Z"
   },
   {
    "duration": 15,
    "start_time": "2021-07-07T18:14:01.803Z"
   },
   {
    "duration": 12,
    "start_time": "2021-07-07T18:14:01.820Z"
   },
   {
    "duration": 35,
    "start_time": "2021-07-07T18:14:01.833Z"
   },
   {
    "duration": 31,
    "start_time": "2021-07-07T18:14:01.869Z"
   },
   {
    "duration": 37,
    "start_time": "2021-07-07T18:14:01.902Z"
   },
   {
    "duration": 8,
    "start_time": "2021-07-07T18:14:01.942Z"
   },
   {
    "duration": 16,
    "start_time": "2021-07-07T18:14:01.952Z"
   },
   {
    "duration": 13,
    "start_time": "2021-07-07T18:14:01.970Z"
   },
   {
    "duration": 32,
    "start_time": "2021-07-07T18:14:01.985Z"
   },
   {
    "duration": 11,
    "start_time": "2021-07-07T18:14:02.019Z"
   },
   {
    "duration": 22,
    "start_time": "2021-07-07T18:14:02.031Z"
   },
   {
    "duration": 27,
    "start_time": "2021-07-07T18:14:02.055Z"
   },
   {
    "duration": 18,
    "start_time": "2021-07-07T18:14:02.084Z"
   },
   {
    "duration": 18,
    "start_time": "2021-07-07T18:14:02.106Z"
   },
   {
    "duration": 11,
    "start_time": "2021-07-07T18:14:02.126Z"
   },
   {
    "duration": 21,
    "start_time": "2021-07-07T18:14:02.138Z"
   },
   {
    "duration": 32,
    "start_time": "2021-07-07T18:14:02.161Z"
   },
   {
    "duration": 28,
    "start_time": "2021-07-07T18:14:44.295Z"
   },
   {
    "duration": 6,
    "start_time": "2021-07-07T18:15:05.834Z"
   },
   {
    "duration": 511,
    "start_time": "2021-07-07T18:15:41.541Z"
   },
   {
    "duration": 183,
    "start_time": "2021-07-07T18:15:42.054Z"
   },
   {
    "duration": 50,
    "start_time": "2021-07-07T18:15:42.239Z"
   },
   {
    "duration": 5,
    "start_time": "2021-07-07T18:15:42.291Z"
   },
   {
    "duration": 48,
    "start_time": "2021-07-07T18:15:42.297Z"
   },
   {
    "duration": 8,
    "start_time": "2021-07-07T18:15:42.346Z"
   },
   {
    "duration": 17,
    "start_time": "2021-07-07T18:15:42.356Z"
   },
   {
    "duration": 15,
    "start_time": "2021-07-07T18:15:42.375Z"
   },
   {
    "duration": 12,
    "start_time": "2021-07-07T18:15:42.392Z"
   },
   {
    "duration": 7,
    "start_time": "2021-07-07T18:15:42.406Z"
   },
   {
    "duration": 7,
    "start_time": "2021-07-07T18:15:42.415Z"
   },
   {
    "duration": 29,
    "start_time": "2021-07-07T18:15:42.423Z"
   },
   {
    "duration": 43,
    "start_time": "2021-07-07T18:15:42.453Z"
   },
   {
    "duration": 18,
    "start_time": "2021-07-07T18:15:42.497Z"
   },
   {
    "duration": 6,
    "start_time": "2021-07-07T18:15:42.516Z"
   },
   {
    "duration": 3,
    "start_time": "2021-07-07T18:15:42.523Z"
   },
   {
    "duration": 18,
    "start_time": "2021-07-07T18:15:42.528Z"
   },
   {
    "duration": 10,
    "start_time": "2021-07-07T18:15:42.547Z"
   },
   {
    "duration": 36,
    "start_time": "2021-07-07T18:15:42.559Z"
   },
   {
    "duration": 8,
    "start_time": "2021-07-07T18:15:42.597Z"
   },
   {
    "duration": 28,
    "start_time": "2021-07-07T18:15:42.606Z"
   },
   {
    "duration": 52,
    "start_time": "2021-07-07T18:15:42.635Z"
   },
   {
    "duration": 7,
    "start_time": "2021-07-07T18:15:42.690Z"
   },
   {
    "duration": 10,
    "start_time": "2021-07-07T18:15:42.699Z"
   },
   {
    "duration": 19,
    "start_time": "2021-07-07T18:15:42.711Z"
   },
   {
    "duration": 9,
    "start_time": "2021-07-07T18:15:42.732Z"
   },
   {
    "duration": 5,
    "start_time": "2021-07-07T18:15:42.743Z"
   },
   {
    "duration": 1450,
    "start_time": "2021-07-07T18:15:51.984Z"
   },
   {
    "duration": 161,
    "start_time": "2021-07-07T18:15:53.435Z"
   },
   {
    "duration": 124,
    "start_time": "2021-07-07T18:15:53.598Z"
   },
   {
    "duration": 5,
    "start_time": "2021-07-07T18:15:53.724Z"
   },
   {
    "duration": 34,
    "start_time": "2021-07-07T18:15:53.730Z"
   },
   {
    "duration": 7,
    "start_time": "2021-07-07T18:15:53.765Z"
   },
   {
    "duration": 15,
    "start_time": "2021-07-07T18:15:53.773Z"
   },
   {
    "duration": 5,
    "start_time": "2021-07-07T18:15:53.791Z"
   },
   {
    "duration": 19,
    "start_time": "2021-07-07T18:15:53.798Z"
   },
   {
    "duration": 9,
    "start_time": "2021-07-07T18:15:53.818Z"
   },
   {
    "duration": 19,
    "start_time": "2021-07-07T18:15:53.828Z"
   },
   {
    "duration": 27,
    "start_time": "2021-07-07T18:15:53.848Z"
   },
   {
    "duration": 16,
    "start_time": "2021-07-07T18:15:53.884Z"
   },
   {
    "duration": 29,
    "start_time": "2021-07-07T18:15:53.901Z"
   },
   {
    "duration": 5,
    "start_time": "2021-07-07T18:15:53.932Z"
   },
   {
    "duration": 15,
    "start_time": "2021-07-07T18:15:53.939Z"
   },
   {
    "duration": 13,
    "start_time": "2021-07-07T18:15:53.956Z"
   },
   {
    "duration": 20,
    "start_time": "2021-07-07T18:15:53.971Z"
   },
   {
    "duration": 14,
    "start_time": "2021-07-07T18:15:53.992Z"
   },
   {
    "duration": 9,
    "start_time": "2021-07-07T18:15:54.009Z"
   },
   {
    "duration": 28,
    "start_time": "2021-07-07T18:15:54.020Z"
   },
   {
    "duration": 50,
    "start_time": "2021-07-07T18:15:54.051Z"
   },
   {
    "duration": 8,
    "start_time": "2021-07-07T18:15:54.105Z"
   },
   {
    "duration": 11,
    "start_time": "2021-07-07T18:15:54.115Z"
   },
   {
    "duration": 20,
    "start_time": "2021-07-07T18:15:54.128Z"
   },
   {
    "duration": 13,
    "start_time": "2021-07-07T18:15:54.184Z"
   },
   {
    "duration": 7,
    "start_time": "2021-07-07T18:15:54.199Z"
   },
   {
    "duration": 7,
    "start_time": "2021-07-07T18:17:08.042Z"
   },
   {
    "duration": 8,
    "start_time": "2021-07-07T18:17:21.008Z"
   },
   {
    "duration": 7,
    "start_time": "2021-07-07T18:17:29.003Z"
   },
   {
    "duration": 8,
    "start_time": "2021-07-07T18:17:32.492Z"
   },
   {
    "duration": 9,
    "start_time": "2021-07-07T18:17:41.758Z"
   },
   {
    "duration": 255,
    "start_time": "2021-07-07T18:20:20.897Z"
   },
   {
    "duration": 173,
    "start_time": "2021-07-07T18:20:26.636Z"
   },
   {
    "duration": 7,
    "start_time": "2021-07-07T18:21:47.164Z"
   },
   {
    "duration": 254,
    "start_time": "2021-07-07T18:23:08.703Z"
   },
   {
    "duration": 21,
    "start_time": "2021-07-07T18:23:22.506Z"
   },
   {
    "duration": 315,
    "start_time": "2021-07-07T18:25:54.801Z"
   },
   {
    "duration": 34,
    "start_time": "2021-07-07T18:26:51.817Z"
   },
   {
    "duration": 327,
    "start_time": "2021-07-07T18:26:56.147Z"
   },
   {
    "duration": 342,
    "start_time": "2021-07-07T18:27:15.887Z"
   },
   {
    "duration": 302,
    "start_time": "2021-07-07T18:28:18.569Z"
   },
   {
    "duration": 226,
    "start_time": "2021-07-07T18:29:20.879Z"
   },
   {
    "duration": 207,
    "start_time": "2021-07-07T18:29:58.114Z"
   },
   {
    "duration": 140,
    "start_time": "2021-07-07T18:32:04.372Z"
   },
   {
    "duration": 158,
    "start_time": "2021-07-07T18:32:32.508Z"
   },
   {
    "duration": 145,
    "start_time": "2021-07-07T18:32:41.365Z"
   },
   {
    "duration": 132,
    "start_time": "2021-07-07T18:32:45.199Z"
   },
   {
    "duration": 11,
    "start_time": "2021-07-07T18:35:24.679Z"
   },
   {
    "duration": 268,
    "start_time": "2021-07-07T18:36:16.145Z"
   },
   {
    "duration": 227,
    "start_time": "2021-07-07T18:37:04.918Z"
   },
   {
    "duration": 3,
    "start_time": "2021-07-07T18:37:33.012Z"
   },
   {
    "duration": 671,
    "start_time": "2021-07-07T18:37:38.295Z"
   },
   {
    "duration": 54,
    "start_time": "2021-07-07T18:37:53.406Z"
   },
   {
    "duration": 631,
    "start_time": "2021-07-07T18:37:56.463Z"
   },
   {
    "duration": 19,
    "start_time": "2021-07-07T18:39:40.535Z"
   },
   {
    "duration": 20,
    "start_time": "2021-07-07T18:40:12.236Z"
   },
   {
    "duration": 633,
    "start_time": "2021-07-07T18:42:00.398Z"
   },
   {
    "duration": 218,
    "start_time": "2021-07-07T18:42:01.033Z"
   },
   {
    "duration": 49,
    "start_time": "2021-07-07T18:42:01.253Z"
   },
   {
    "duration": 5,
    "start_time": "2021-07-07T18:42:01.303Z"
   },
   {
    "duration": 27,
    "start_time": "2021-07-07T18:42:01.310Z"
   },
   {
    "duration": 8,
    "start_time": "2021-07-07T18:42:01.339Z"
   },
   {
    "duration": 20,
    "start_time": "2021-07-07T18:42:01.348Z"
   },
   {
    "duration": 6,
    "start_time": "2021-07-07T18:42:01.386Z"
   },
   {
    "duration": 16,
    "start_time": "2021-07-07T18:42:01.394Z"
   },
   {
    "duration": 9,
    "start_time": "2021-07-07T18:42:01.411Z"
   },
   {
    "duration": 11,
    "start_time": "2021-07-07T18:42:01.421Z"
   },
   {
    "duration": 31,
    "start_time": "2021-07-07T18:42:01.434Z"
   },
   {
    "duration": 18,
    "start_time": "2021-07-07T18:42:01.485Z"
   },
   {
    "duration": 23,
    "start_time": "2021-07-07T18:42:01.505Z"
   },
   {
    "duration": 6,
    "start_time": "2021-07-07T18:42:01.530Z"
   },
   {
    "duration": 10,
    "start_time": "2021-07-07T18:42:01.538Z"
   },
   {
    "duration": 13,
    "start_time": "2021-07-07T18:42:01.550Z"
   },
   {
    "duration": 24,
    "start_time": "2021-07-07T18:42:01.564Z"
   },
   {
    "duration": 20,
    "start_time": "2021-07-07T18:42:01.590Z"
   },
   {
    "duration": 8,
    "start_time": "2021-07-07T18:42:01.611Z"
   },
   {
    "duration": 31,
    "start_time": "2021-07-07T18:42:01.620Z"
   },
   {
    "duration": 39,
    "start_time": "2021-07-07T18:42:01.653Z"
   },
   {
    "duration": 8,
    "start_time": "2021-07-07T18:42:01.696Z"
   },
   {
    "duration": 13,
    "start_time": "2021-07-07T18:42:01.705Z"
   },
   {
    "duration": 20,
    "start_time": "2021-07-07T18:42:01.720Z"
   },
   {
    "duration": 12,
    "start_time": "2021-07-07T18:42:01.741Z"
   },
   {
    "duration": 35,
    "start_time": "2021-07-07T18:42:01.755Z"
   },
   {
    "duration": 14,
    "start_time": "2021-07-07T18:42:01.792Z"
   },
   {
    "duration": 188,
    "start_time": "2021-07-07T18:42:01.808Z"
   },
   {
    "duration": 19,
    "start_time": "2021-07-07T18:42:01.998Z"
   },
   {
    "duration": 175,
    "start_time": "2021-07-07T18:42:02.019Z"
   },
   {
    "duration": 134,
    "start_time": "2021-07-07T18:42:02.196Z"
   },
   {
    "duration": 10,
    "start_time": "2021-07-07T18:42:02.331Z"
   },
   {
    "duration": 19,
    "start_time": "2021-07-07T18:42:02.343Z"
   },
   {
    "duration": 628,
    "start_time": "2021-07-07T18:46:30.701Z"
   },
   {
    "duration": 183,
    "start_time": "2021-07-07T18:46:31.331Z"
   },
   {
    "duration": 48,
    "start_time": "2021-07-07T18:46:31.516Z"
   },
   {
    "duration": 5,
    "start_time": "2021-07-07T18:46:31.566Z"
   },
   {
    "duration": 28,
    "start_time": "2021-07-07T18:46:31.572Z"
   },
   {
    "duration": 8,
    "start_time": "2021-07-07T18:46:31.602Z"
   },
   {
    "duration": 19,
    "start_time": "2021-07-07T18:46:31.611Z"
   },
   {
    "duration": 6,
    "start_time": "2021-07-07T18:46:31.633Z"
   },
   {
    "duration": 17,
    "start_time": "2021-07-07T18:46:31.642Z"
   },
   {
    "duration": 10,
    "start_time": "2021-07-07T18:46:31.684Z"
   },
   {
    "duration": 9,
    "start_time": "2021-07-07T18:46:31.695Z"
   },
   {
    "duration": 28,
    "start_time": "2021-07-07T18:46:31.705Z"
   },
   {
    "duration": 18,
    "start_time": "2021-07-07T18:46:31.735Z"
   },
   {
    "duration": 48,
    "start_time": "2021-07-07T18:46:31.755Z"
   },
   {
    "duration": 6,
    "start_time": "2021-07-07T18:46:31.804Z"
   },
   {
    "duration": 4,
    "start_time": "2021-07-07T18:46:31.812Z"
   },
   {
    "duration": 9,
    "start_time": "2021-07-07T18:46:31.817Z"
   },
   {
    "duration": 10,
    "start_time": "2021-07-07T18:46:31.827Z"
   },
   {
    "duration": 12,
    "start_time": "2021-07-07T18:46:31.838Z"
   },
   {
    "duration": 39,
    "start_time": "2021-07-07T18:46:31.851Z"
   },
   {
    "duration": 24,
    "start_time": "2021-07-07T18:46:31.892Z"
   },
   {
    "duration": 15,
    "start_time": "2021-07-07T18:46:31.918Z"
   },
   {
    "duration": 7,
    "start_time": "2021-07-07T18:46:31.936Z"
   },
   {
    "duration": 8,
    "start_time": "2021-07-07T18:46:31.944Z"
   },
   {
    "duration": 19,
    "start_time": "2021-07-07T18:46:31.984Z"
   },
   {
    "duration": 10,
    "start_time": "2021-07-07T18:46:32.004Z"
   },
   {
    "duration": 5,
    "start_time": "2021-07-07T18:46:32.016Z"
   },
   {
    "duration": 9,
    "start_time": "2021-07-07T18:46:32.023Z"
   },
   {
    "duration": 199,
    "start_time": "2021-07-07T18:46:32.033Z"
   },
   {
    "duration": 19,
    "start_time": "2021-07-07T18:46:32.234Z"
   },
   {
    "duration": 159,
    "start_time": "2021-07-07T18:46:32.255Z"
   },
   {
    "duration": 134,
    "start_time": "2021-07-07T18:46:32.416Z"
   },
   {
    "duration": 10,
    "start_time": "2021-07-07T18:46:32.552Z"
   },
   {
    "duration": 34,
    "start_time": "2021-07-07T18:46:32.563Z"
   },
   {
    "duration": 1039,
    "start_time": "2021-07-08T08:41:09.419Z"
   },
   {
    "duration": 333,
    "start_time": "2021-07-08T08:41:10.459Z"
   },
   {
    "duration": 173,
    "start_time": "2021-07-08T08:41:10.794Z"
   },
   {
    "duration": 5,
    "start_time": "2021-07-08T08:41:10.968Z"
   },
   {
    "duration": 25,
    "start_time": "2021-07-08T08:41:10.975Z"
   },
   {
    "duration": 9,
    "start_time": "2021-07-08T08:41:11.002Z"
   },
   {
    "duration": 18,
    "start_time": "2021-07-08T08:41:11.013Z"
   },
   {
    "duration": 6,
    "start_time": "2021-07-08T08:41:11.033Z"
   },
   {
    "duration": 44,
    "start_time": "2021-07-08T08:41:11.042Z"
   },
   {
    "duration": 10,
    "start_time": "2021-07-08T08:41:11.088Z"
   },
   {
    "duration": 9,
    "start_time": "2021-07-08T08:41:11.100Z"
   },
   {
    "duration": 27,
    "start_time": "2021-07-08T08:41:11.111Z"
   },
   {
    "duration": 46,
    "start_time": "2021-07-08T08:41:11.140Z"
   },
   {
    "duration": 17,
    "start_time": "2021-07-08T08:41:11.187Z"
   },
   {
    "duration": 6,
    "start_time": "2021-07-08T08:41:11.206Z"
   },
   {
    "duration": 5,
    "start_time": "2021-07-08T08:41:11.213Z"
   },
   {
    "duration": 10,
    "start_time": "2021-07-08T08:41:11.219Z"
   },
   {
    "duration": 9,
    "start_time": "2021-07-08T08:41:11.230Z"
   },
   {
    "duration": 45,
    "start_time": "2021-07-08T08:41:11.241Z"
   },
   {
    "duration": 7,
    "start_time": "2021-07-08T08:41:11.287Z"
   },
   {
    "duration": 24,
    "start_time": "2021-07-08T08:41:11.296Z"
   },
   {
    "duration": 16,
    "start_time": "2021-07-08T08:41:11.322Z"
   },
   {
    "duration": 7,
    "start_time": "2021-07-08T08:41:11.341Z"
   },
   {
    "duration": 41,
    "start_time": "2021-07-08T08:41:11.349Z"
   },
   {
    "duration": 17,
    "start_time": "2021-07-08T08:41:11.391Z"
   },
   {
    "duration": 9,
    "start_time": "2021-07-08T08:41:11.410Z"
   },
   {
    "duration": 5,
    "start_time": "2021-07-08T08:41:11.421Z"
   },
   {
    "duration": 6,
    "start_time": "2021-07-08T08:41:11.428Z"
   },
   {
    "duration": 198,
    "start_time": "2021-07-08T08:41:11.435Z"
   },
   {
    "duration": 18,
    "start_time": "2021-07-08T08:41:11.635Z"
   },
   {
    "duration": 155,
    "start_time": "2021-07-08T08:41:11.655Z"
   },
   {
    "duration": 138,
    "start_time": "2021-07-08T08:41:11.811Z"
   },
   {
    "duration": 10,
    "start_time": "2021-07-08T08:41:11.950Z"
   },
   {
    "duration": 29,
    "start_time": "2021-07-08T08:41:11.961Z"
   },
   {
    "duration": 171,
    "start_time": "2021-07-08T08:47:44.522Z"
   },
   {
    "duration": 124,
    "start_time": "2021-07-08T08:47:46.872Z"
   },
   {
    "duration": 191,
    "start_time": "2021-07-08T08:47:58.148Z"
   },
   {
    "duration": 191,
    "start_time": "2021-07-08T08:48:07.412Z"
   },
   {
    "duration": 261,
    "start_time": "2021-07-08T08:48:10.385Z"
   },
   {
    "duration": 255,
    "start_time": "2021-07-08T08:48:14.494Z"
   },
   {
    "duration": 219,
    "start_time": "2021-07-08T08:48:22.752Z"
   },
   {
    "duration": 173,
    "start_time": "2021-07-08T08:49:06.395Z"
   },
   {
    "duration": 180,
    "start_time": "2021-07-08T08:49:21.011Z"
   },
   {
    "duration": 6,
    "start_time": "2021-07-08T08:50:31.697Z"
   },
   {
    "duration": 10,
    "start_time": "2021-07-08T08:50:47.394Z"
   },
   {
    "duration": 11,
    "start_time": "2021-07-08T08:53:49.332Z"
   },
   {
    "duration": 171,
    "start_time": "2021-07-08T08:54:28.408Z"
   },
   {
    "duration": 636,
    "start_time": "2021-07-08T09:02:48.385Z"
   },
   {
    "duration": 227,
    "start_time": "2021-07-08T09:02:49.023Z"
   },
   {
    "duration": 104,
    "start_time": "2021-07-08T09:02:49.252Z"
   },
   {
    "duration": 5,
    "start_time": "2021-07-08T09:02:49.358Z"
   },
   {
    "duration": 27,
    "start_time": "2021-07-08T09:02:49.365Z"
   },
   {
    "duration": 8,
    "start_time": "2021-07-08T09:02:49.394Z"
   },
   {
    "duration": 18,
    "start_time": "2021-07-08T09:02:49.404Z"
   },
   {
    "duration": 6,
    "start_time": "2021-07-08T09:02:49.424Z"
   },
   {
    "duration": 11,
    "start_time": "2021-07-08T09:02:49.433Z"
   },
   {
    "duration": 13,
    "start_time": "2021-07-08T09:02:49.485Z"
   },
   {
    "duration": 9,
    "start_time": "2021-07-08T09:02:49.500Z"
   },
   {
    "duration": 38,
    "start_time": "2021-07-08T09:02:49.511Z"
   },
   {
    "duration": 42,
    "start_time": "2021-07-08T09:02:49.551Z"
   },
   {
    "duration": 21,
    "start_time": "2021-07-08T09:02:49.594Z"
   },
   {
    "duration": 6,
    "start_time": "2021-07-08T09:02:49.616Z"
   },
   {
    "duration": 3,
    "start_time": "2021-07-08T09:02:49.623Z"
   },
   {
    "duration": 9,
    "start_time": "2021-07-08T09:02:49.628Z"
   },
   {
    "duration": 52,
    "start_time": "2021-07-08T09:02:49.638Z"
   },
   {
    "duration": 11,
    "start_time": "2021-07-08T09:02:49.692Z"
   },
   {
    "duration": 8,
    "start_time": "2021-07-08T09:02:49.704Z"
   },
   {
    "duration": 27,
    "start_time": "2021-07-08T09:02:49.713Z"
   },
   {
    "duration": 59,
    "start_time": "2021-07-08T09:02:49.741Z"
   },
   {
    "duration": 8,
    "start_time": "2021-07-08T09:02:49.803Z"
   },
   {
    "duration": 14,
    "start_time": "2021-07-08T09:02:49.813Z"
   },
   {
    "duration": 20,
    "start_time": "2021-07-08T09:02:49.829Z"
   },
   {
    "duration": 44,
    "start_time": "2021-07-08T09:02:49.851Z"
   },
   {
    "duration": 14,
    "start_time": "2021-07-08T09:02:49.896Z"
   },
   {
    "duration": 221,
    "start_time": "2021-07-08T09:02:49.912Z"
   },
   {
    "duration": 6,
    "start_time": "2021-07-08T09:02:50.134Z"
   },
   {
    "duration": 206,
    "start_time": "2021-07-08T09:02:50.142Z"
   },
   {
    "duration": 19,
    "start_time": "2021-07-08T09:02:50.350Z"
   },
   {
    "duration": 21,
    "start_time": "2021-07-08T09:02:50.370Z"
   },
   {
    "duration": 20,
    "start_time": "2021-07-08T09:02:50.393Z"
   },
   {
    "duration": 5,
    "start_time": "2021-07-08T09:02:50.414Z"
   },
   {
    "duration": 5,
    "start_time": "2021-07-08T09:03:34.173Z"
   },
   {
    "duration": 6,
    "start_time": "2021-07-08T09:04:49.062Z"
   },
   {
    "duration": 9,
    "start_time": "2021-07-08T09:04:50.118Z"
   },
   {
    "duration": 14,
    "start_time": "2021-07-08T09:04:58.512Z"
   },
   {
    "duration": 9,
    "start_time": "2021-07-08T09:05:10.988Z"
   },
   {
    "duration": 11,
    "start_time": "2021-07-08T09:05:11.743Z"
   },
   {
    "duration": 7,
    "start_time": "2021-07-08T09:05:25.677Z"
   },
   {
    "duration": 13,
    "start_time": "2021-07-08T09:05:47.189Z"
   },
   {
    "duration": 13,
    "start_time": "2021-07-08T09:05:54.755Z"
   },
   {
    "duration": 4,
    "start_time": "2021-07-08T09:06:29.189Z"
   },
   {
    "duration": 244,
    "start_time": "2021-07-08T09:06:29.195Z"
   },
   {
    "duration": 91,
    "start_time": "2021-07-08T09:06:29.441Z"
   },
   {
    "duration": 4,
    "start_time": "2021-07-08T09:06:29.534Z"
   },
   {
    "duration": 28,
    "start_time": "2021-07-08T09:06:29.540Z"
   },
   {
    "duration": 6,
    "start_time": "2021-07-08T09:06:29.570Z"
   },
   {
    "duration": 18,
    "start_time": "2021-07-08T09:06:29.578Z"
   },
   {
    "duration": 5,
    "start_time": "2021-07-08T09:06:29.597Z"
   },
   {
    "duration": 13,
    "start_time": "2021-07-08T09:06:29.605Z"
   },
   {
    "duration": 8,
    "start_time": "2021-07-08T09:06:29.620Z"
   },
   {
    "duration": 7,
    "start_time": "2021-07-08T09:06:29.630Z"
   },
   {
    "duration": 63,
    "start_time": "2021-07-08T09:06:29.639Z"
   },
   {
    "duration": 17,
    "start_time": "2021-07-08T09:06:29.704Z"
   },
   {
    "duration": 20,
    "start_time": "2021-07-08T09:06:29.723Z"
   },
   {
    "duration": 6,
    "start_time": "2021-07-08T09:06:29.745Z"
   },
   {
    "duration": 3,
    "start_time": "2021-07-08T09:06:29.752Z"
   },
   {
    "duration": 7,
    "start_time": "2021-07-08T09:06:29.785Z"
   },
   {
    "duration": 11,
    "start_time": "2021-07-08T09:06:29.794Z"
   },
   {
    "duration": 15,
    "start_time": "2021-07-08T09:06:29.807Z"
   },
   {
    "duration": 8,
    "start_time": "2021-07-08T09:06:29.823Z"
   },
   {
    "duration": 70,
    "start_time": "2021-07-08T09:06:29.832Z"
   },
   {
    "duration": 17,
    "start_time": "2021-07-08T09:06:29.903Z"
   },
   {
    "duration": 9,
    "start_time": "2021-07-08T09:06:29.921Z"
   },
   {
    "duration": 9,
    "start_time": "2021-07-08T09:06:29.932Z"
   },
   {
    "duration": 57,
    "start_time": "2021-07-08T09:06:29.942Z"
   },
   {
    "duration": 11,
    "start_time": "2021-07-08T09:06:30.001Z"
   },
   {
    "duration": 19,
    "start_time": "2021-07-08T09:06:30.016Z"
   },
   {
    "duration": 217,
    "start_time": "2021-07-08T09:06:30.037Z"
   },
   {
    "duration": 6,
    "start_time": "2021-07-08T09:06:30.255Z"
   },
   {
    "duration": 205,
    "start_time": "2021-07-08T09:06:30.263Z"
   },
   {
    "duration": 27,
    "start_time": "2021-07-08T09:06:30.470Z"
   },
   {
    "duration": 11,
    "start_time": "2021-07-08T09:06:30.500Z"
   },
   {
    "duration": 31,
    "start_time": "2021-07-08T09:06:30.513Z"
   },
   {
    "duration": 18,
    "start_time": "2021-07-08T09:06:30.546Z"
   },
   {
    "duration": 11,
    "start_time": "2021-07-08T09:06:30.566Z"
   },
   {
    "duration": 19,
    "start_time": "2021-07-08T09:06:30.579Z"
   },
   {
    "duration": 20,
    "start_time": "2021-07-08T09:06:49.466Z"
   },
   {
    "duration": 9,
    "start_time": "2021-07-08T09:06:51.994Z"
   },
   {
    "duration": 20,
    "start_time": "2021-07-08T09:06:52.273Z"
   },
   {
    "duration": 246,
    "start_time": "2021-07-08T09:10:21.272Z"
   },
   {
    "duration": 84,
    "start_time": "2021-07-08T09:10:21.436Z"
   },
   {
    "duration": 7,
    "start_time": "2021-07-08T09:10:37.608Z"
   },
   {
    "duration": 189,
    "start_time": "2021-07-08T09:10:38.573Z"
   },
   {
    "duration": 185,
    "start_time": "2021-07-08T09:10:53.181Z"
   },
   {
    "duration": 11,
    "start_time": "2021-07-08T09:10:59.549Z"
   },
   {
    "duration": 42,
    "start_time": "2021-07-08T09:10:59.709Z"
   },
   {
    "duration": 12,
    "start_time": "2021-07-08T09:11:02.857Z"
   },
   {
    "duration": 28,
    "start_time": "2021-07-08T09:11:10.062Z"
   },
   {
    "duration": 249,
    "start_time": "2021-07-08T09:11:37.388Z"
   },
   {
    "duration": 232,
    "start_time": "2021-07-08T09:11:49.485Z"
   },
   {
    "duration": 453,
    "start_time": "2021-07-08T09:12:01.546Z"
   },
   {
    "duration": 440,
    "start_time": "2021-07-08T09:12:12.347Z"
   },
   {
    "duration": 213,
    "start_time": "2021-07-08T09:13:32.196Z"
   },
   {
    "duration": 172,
    "start_time": "2021-07-08T09:14:07.400Z"
   },
   {
    "duration": 185,
    "start_time": "2021-07-08T09:14:14.905Z"
   },
   {
    "duration": 209,
    "start_time": "2021-07-08T09:14:40.109Z"
   },
   {
    "duration": 201,
    "start_time": "2021-07-08T09:14:54.506Z"
   },
   {
    "duration": 622,
    "start_time": "2021-07-08T09:18:14.497Z"
   },
   {
    "duration": 220,
    "start_time": "2021-07-08T09:18:15.121Z"
   },
   {
    "duration": 79,
    "start_time": "2021-07-08T09:18:15.343Z"
   },
   {
    "duration": 4,
    "start_time": "2021-07-08T09:18:15.425Z"
   },
   {
    "duration": 24,
    "start_time": "2021-07-08T09:18:15.431Z"
   },
   {
    "duration": 8,
    "start_time": "2021-07-08T09:18:15.457Z"
   },
   {
    "duration": 16,
    "start_time": "2021-07-08T09:18:15.466Z"
   },
   {
    "duration": 5,
    "start_time": "2021-07-08T09:18:15.484Z"
   },
   {
    "duration": 10,
    "start_time": "2021-07-08T09:18:15.493Z"
   },
   {
    "duration": 8,
    "start_time": "2021-07-08T09:18:15.504Z"
   },
   {
    "duration": 7,
    "start_time": "2021-07-08T09:18:15.513Z"
   },
   {
    "duration": 26,
    "start_time": "2021-07-08T09:18:15.522Z"
   },
   {
    "duration": 49,
    "start_time": "2021-07-08T09:18:15.550Z"
   },
   {
    "duration": 21,
    "start_time": "2021-07-08T09:18:15.601Z"
   },
   {
    "duration": 8,
    "start_time": "2021-07-08T09:18:15.624Z"
   },
   {
    "duration": 3,
    "start_time": "2021-07-08T09:18:15.634Z"
   },
   {
    "duration": 8,
    "start_time": "2021-07-08T09:18:15.639Z"
   },
   {
    "duration": 45,
    "start_time": "2021-07-08T09:18:15.649Z"
   },
   {
    "duration": 13,
    "start_time": "2021-07-08T09:18:15.696Z"
   },
   {
    "duration": 10,
    "start_time": "2021-07-08T09:18:15.711Z"
   },
   {
    "duration": 64,
    "start_time": "2021-07-08T09:18:15.722Z"
   },
   {
    "duration": 19,
    "start_time": "2021-07-08T09:18:15.788Z"
   },
   {
    "duration": 9,
    "start_time": "2021-07-08T09:18:15.809Z"
   },
   {
    "duration": 9,
    "start_time": "2021-07-08T09:18:15.820Z"
   },
   {
    "duration": 18,
    "start_time": "2021-07-08T09:18:15.831Z"
   },
   {
    "duration": 43,
    "start_time": "2021-07-08T09:18:15.851Z"
   },
   {
    "duration": 12,
    "start_time": "2021-07-08T09:18:15.897Z"
   },
   {
    "duration": 219,
    "start_time": "2021-07-08T09:18:15.911Z"
   },
   {
    "duration": 8,
    "start_time": "2021-07-08T09:18:16.132Z"
   },
   {
    "duration": 199,
    "start_time": "2021-07-08T09:18:16.141Z"
   },
   {
    "duration": 18,
    "start_time": "2021-07-08T09:18:16.341Z"
   },
   {
    "duration": 24,
    "start_time": "2021-07-08T09:18:16.361Z"
   },
   {
    "duration": 24,
    "start_time": "2021-07-08T09:18:16.387Z"
   },
   {
    "duration": 211,
    "start_time": "2021-07-08T09:18:16.413Z"
   },
   {
    "duration": 18,
    "start_time": "2021-07-08T09:18:16.626Z"
   },
   {
    "duration": 596,
    "start_time": "2021-07-08T10:06:33.623Z"
   },
   {
    "duration": 181,
    "start_time": "2021-07-08T10:06:34.221Z"
   },
   {
    "duration": 176,
    "start_time": "2021-07-08T10:06:34.635Z"
   },
   {
    "duration": 239,
    "start_time": "2021-07-08T10:06:55.572Z"
   },
   {
    "duration": 6,
    "start_time": "2021-07-08T10:06:57.687Z"
   },
   {
    "duration": 4,
    "start_time": "2021-07-08T10:07:03.956Z"
   },
   {
    "duration": 4,
    "start_time": "2021-07-08T10:07:10.376Z"
   },
   {
    "duration": 4,
    "start_time": "2021-07-08T10:17:19.889Z"
   },
   {
    "duration": 3,
    "start_time": "2021-07-08T10:19:19.407Z"
   },
   {
    "duration": 197,
    "start_time": "2021-07-08T10:19:19.412Z"
   },
   {
    "duration": 127,
    "start_time": "2021-07-08T10:19:19.611Z"
   },
   {
    "duration": 4,
    "start_time": "2021-07-08T10:19:19.740Z"
   },
   {
    "duration": 27,
    "start_time": "2021-07-08T10:19:19.746Z"
   },
   {
    "duration": 7,
    "start_time": "2021-07-08T10:19:19.775Z"
   },
   {
    "duration": 30,
    "start_time": "2021-07-08T10:19:19.784Z"
   },
   {
    "duration": 7,
    "start_time": "2021-07-08T10:19:19.817Z"
   },
   {
    "duration": 26,
    "start_time": "2021-07-08T10:19:19.826Z"
   },
   {
    "duration": 18,
    "start_time": "2021-07-08T10:19:19.854Z"
   },
   {
    "duration": 14,
    "start_time": "2021-07-08T10:19:19.874Z"
   },
   {
    "duration": 48,
    "start_time": "2021-07-08T10:19:19.890Z"
   },
   {
    "duration": 17,
    "start_time": "2021-07-08T10:19:19.940Z"
   },
   {
    "duration": 38,
    "start_time": "2021-07-08T10:19:19.959Z"
   },
   {
    "duration": 8,
    "start_time": "2021-07-08T10:19:19.999Z"
   },
   {
    "duration": 15,
    "start_time": "2021-07-08T10:19:20.009Z"
   },
   {
    "duration": 22,
    "start_time": "2021-07-08T10:19:20.026Z"
   },
   {
    "duration": 10,
    "start_time": "2021-07-08T10:19:20.050Z"
   },
   {
    "duration": 10,
    "start_time": "2021-07-08T10:19:20.062Z"
   },
   {
    "duration": 20,
    "start_time": "2021-07-08T10:19:20.073Z"
   },
   {
    "duration": 29,
    "start_time": "2021-07-08T10:19:20.095Z"
   },
   {
    "duration": 17,
    "start_time": "2021-07-08T10:19:20.126Z"
   },
   {
    "duration": 40,
    "start_time": "2021-07-08T10:19:20.146Z"
   },
   {
    "duration": 15,
    "start_time": "2021-07-08T10:19:20.189Z"
   },
   {
    "duration": 19,
    "start_time": "2021-07-08T10:19:20.206Z"
   },
   {
    "duration": 10,
    "start_time": "2021-07-08T10:19:20.226Z"
   },
   {
    "duration": 11,
    "start_time": "2021-07-08T10:19:20.238Z"
   },
   {
    "duration": 297,
    "start_time": "2021-07-08T10:19:20.250Z"
   },
   {
    "duration": 6,
    "start_time": "2021-07-08T10:19:20.549Z"
   },
   {
    "duration": 191,
    "start_time": "2021-07-08T10:19:20.557Z"
   },
   {
    "duration": 19,
    "start_time": "2021-07-08T10:19:20.750Z"
   },
   {
    "duration": 20,
    "start_time": "2021-07-08T10:19:20.771Z"
   },
   {
    "duration": 15,
    "start_time": "2021-07-08T10:19:20.793Z"
   },
   {
    "duration": 222,
    "start_time": "2021-07-08T10:19:20.809Z"
   },
   {
    "duration": 20,
    "start_time": "2021-07-08T10:19:21.033Z"
   },
   {
    "duration": 27,
    "start_time": "2021-07-08T10:45:04.055Z"
   },
   {
    "duration": 8,
    "start_time": "2021-07-08T10:45:08.478Z"
   },
   {
    "duration": 8,
    "start_time": "2021-07-08T10:45:31.982Z"
   },
   {
    "duration": 10,
    "start_time": "2021-07-08T10:46:01.221Z"
   },
   {
    "duration": 17,
    "start_time": "2021-07-08T10:46:40.011Z"
   },
   {
    "duration": 193,
    "start_time": "2021-07-08T10:48:19.471Z"
   },
   {
    "duration": 225,
    "start_time": "2021-07-08T10:49:26.480Z"
   },
   {
    "duration": 204,
    "start_time": "2021-07-08T10:49:59.992Z"
   },
   {
    "duration": 435,
    "start_time": "2021-07-08T10:50:06.779Z"
   },
   {
    "duration": 199,
    "start_time": "2021-07-08T10:50:14.891Z"
   },
   {
    "duration": 204,
    "start_time": "2021-07-08T10:50:18.501Z"
   },
   {
    "duration": 244,
    "start_time": "2021-07-08T10:50:23.359Z"
   },
   {
    "duration": 192,
    "start_time": "2021-07-08T10:50:29.135Z"
   },
   {
    "duration": 218,
    "start_time": "2021-07-08T10:50:33.092Z"
   },
   {
    "duration": 207,
    "start_time": "2021-07-08T10:52:45.381Z"
   },
   {
    "duration": 5,
    "start_time": "2021-07-08T10:53:34.641Z"
   },
   {
    "duration": 196,
    "start_time": "2021-07-08T10:53:41.478Z"
   },
   {
    "duration": 43,
    "start_time": "2021-07-08T10:53:50.335Z"
   },
   {
    "duration": 32,
    "start_time": "2021-07-08T10:53:55.294Z"
   },
   {
    "duration": 55,
    "start_time": "2021-07-08T10:54:09.675Z"
   },
   {
    "duration": 16,
    "start_time": "2021-07-08T10:54:12.260Z"
   },
   {
    "duration": 15,
    "start_time": "2021-07-08T10:54:49.150Z"
   },
   {
    "duration": 20,
    "start_time": "2021-07-08T10:56:07.596Z"
   },
   {
    "duration": 16,
    "start_time": "2021-07-08T10:58:26.276Z"
   },
   {
    "duration": 22,
    "start_time": "2021-07-08T10:59:00.486Z"
   },
   {
    "duration": 18,
    "start_time": "2021-07-08T11:02:09.653Z"
   },
   {
    "duration": 10,
    "start_time": "2021-07-08T11:03:44.331Z"
   },
   {
    "duration": 10,
    "start_time": "2021-07-08T11:03:54.055Z"
   },
   {
    "duration": 12,
    "start_time": "2021-07-08T11:04:41.967Z"
   },
   {
    "duration": 24,
    "start_time": "2021-07-08T11:07:30.732Z"
   },
   {
    "duration": 6,
    "start_time": "2021-07-08T11:07:37.364Z"
   },
   {
    "duration": 16,
    "start_time": "2021-07-08T11:08:01.819Z"
   },
   {
    "duration": 17,
    "start_time": "2021-07-08T11:09:47.488Z"
   },
   {
    "duration": 246,
    "start_time": "2021-07-08T11:10:00.830Z"
   },
   {
    "duration": 18,
    "start_time": "2021-07-08T11:13:55.195Z"
   },
   {
    "duration": 204,
    "start_time": "2021-07-08T11:14:04.951Z"
   },
   {
    "duration": 19,
    "start_time": "2021-07-08T11:15:10.613Z"
   },
   {
    "duration": 680,
    "start_time": "2021-07-08T11:16:25.793Z"
   },
   {
    "duration": 451,
    "start_time": "2021-07-08T11:16:40.313Z"
   },
   {
    "duration": 469,
    "start_time": "2021-07-08T11:17:21.286Z"
   },
   {
    "duration": 20,
    "start_time": "2021-07-08T11:19:12.554Z"
   },
   {
    "duration": 35,
    "start_time": "2021-07-08T11:20:05.484Z"
   },
   {
    "duration": 53,
    "start_time": "2021-07-08T11:21:40.050Z"
   },
   {
    "duration": 13,
    "start_time": "2021-07-08T11:22:26.059Z"
   },
   {
    "duration": 19,
    "start_time": "2021-07-08T11:22:47.419Z"
   },
   {
    "duration": 25,
    "start_time": "2021-07-08T11:23:19.958Z"
   },
   {
    "duration": 29,
    "start_time": "2021-07-08T11:23:25.415Z"
   },
   {
    "duration": 10,
    "start_time": "2021-07-08T11:24:45.138Z"
   },
   {
    "duration": 19,
    "start_time": "2021-07-08T11:24:54.498Z"
   },
   {
    "duration": 12,
    "start_time": "2021-07-08T11:25:32.225Z"
   },
   {
    "duration": 19,
    "start_time": "2021-07-08T11:25:37.092Z"
   },
   {
    "duration": 17,
    "start_time": "2021-07-08T11:25:58.116Z"
   },
   {
    "duration": 15,
    "start_time": "2021-07-08T11:26:02.258Z"
   },
   {
    "duration": 8,
    "start_time": "2021-07-08T11:26:59.682Z"
   },
   {
    "duration": 184,
    "start_time": "2021-07-08T11:27:21.894Z"
   },
   {
    "duration": 8,
    "start_time": "2021-07-08T11:27:23.824Z"
   },
   {
    "duration": 202,
    "start_time": "2021-07-08T11:27:23.962Z"
   },
   {
    "duration": 360,
    "start_time": "2021-07-08T11:28:33.215Z"
   },
   {
    "duration": 231,
    "start_time": "2021-07-08T11:32:05.542Z"
   },
   {
    "duration": 607,
    "start_time": "2021-07-08T11:36:27.854Z"
   },
   {
    "duration": 241,
    "start_time": "2021-07-08T11:36:28.463Z"
   },
   {
    "duration": 67,
    "start_time": "2021-07-08T11:36:28.709Z"
   },
   {
    "duration": 5,
    "start_time": "2021-07-08T11:36:28.778Z"
   },
   {
    "duration": 32,
    "start_time": "2021-07-08T11:36:28.784Z"
   },
   {
    "duration": 11,
    "start_time": "2021-07-08T11:36:28.819Z"
   },
   {
    "duration": 20,
    "start_time": "2021-07-08T11:36:28.834Z"
   },
   {
    "duration": 36,
    "start_time": "2021-07-08T11:36:28.857Z"
   },
   {
    "duration": 16,
    "start_time": "2021-07-08T11:36:28.895Z"
   },
   {
    "duration": 14,
    "start_time": "2021-07-08T11:36:28.913Z"
   },
   {
    "duration": 9,
    "start_time": "2021-07-08T11:36:28.930Z"
   },
   {
    "duration": 55,
    "start_time": "2021-07-08T11:36:28.941Z"
   },
   {
    "duration": 27,
    "start_time": "2021-07-08T11:36:28.999Z"
   },
   {
    "duration": 30,
    "start_time": "2021-07-08T11:36:29.028Z"
   },
   {
    "duration": 31,
    "start_time": "2021-07-08T11:36:29.060Z"
   },
   {
    "duration": 3,
    "start_time": "2021-07-08T11:36:29.093Z"
   },
   {
    "duration": 12,
    "start_time": "2021-07-08T11:36:29.099Z"
   },
   {
    "duration": 11,
    "start_time": "2021-07-08T11:36:29.112Z"
   },
   {
    "duration": 12,
    "start_time": "2021-07-08T11:36:29.125Z"
   },
   {
    "duration": 9,
    "start_time": "2021-07-08T11:36:29.139Z"
   },
   {
    "duration": 31,
    "start_time": "2021-07-08T11:36:29.191Z"
   },
   {
    "duration": 17,
    "start_time": "2021-07-08T11:36:29.226Z"
   },
   {
    "duration": 7,
    "start_time": "2021-07-08T11:36:29.245Z"
   },
   {
    "duration": 10,
    "start_time": "2021-07-08T11:36:29.254Z"
   },
   {
    "duration": 30,
    "start_time": "2021-07-08T11:36:29.292Z"
   },
   {
    "duration": 11,
    "start_time": "2021-07-08T11:36:29.324Z"
   },
   {
    "duration": 11,
    "start_time": "2021-07-08T11:36:29.337Z"
   },
   {
    "duration": 230,
    "start_time": "2021-07-08T11:36:29.349Z"
   },
   {
    "duration": 13,
    "start_time": "2021-07-08T11:36:29.588Z"
   },
   {
    "duration": 205,
    "start_time": "2021-07-08T11:36:29.603Z"
   },
   {
    "duration": 20,
    "start_time": "2021-07-08T11:36:29.810Z"
   },
   {
    "duration": 9,
    "start_time": "2021-07-08T11:36:29.832Z"
   },
   {
    "duration": 16,
    "start_time": "2021-07-08T11:36:29.843Z"
   },
   {
    "duration": 283,
    "start_time": "2021-07-08T11:36:29.861Z"
   },
   {
    "duration": 50,
    "start_time": "2021-07-08T11:36:30.146Z"
   },
   {
    "duration": 14,
    "start_time": "2021-07-08T11:36:30.198Z"
   },
   {
    "duration": 11,
    "start_time": "2021-07-08T11:36:30.214Z"
   },
   {
    "duration": 245,
    "start_time": "2021-07-08T11:36:30.227Z"
   },
   {
    "duration": 439,
    "start_time": "2021-07-08T11:36:30.474Z"
   },
   {
    "duration": 210,
    "start_time": "2021-07-08T11:36:30.915Z"
   },
   {
    "duration": 15,
    "start_time": "2021-07-08T11:36:31.127Z"
   },
   {
    "duration": 17,
    "start_time": "2021-07-08T11:38:20.451Z"
   },
   {
    "duration": 642,
    "start_time": "2021-07-08T11:46:17.881Z"
   },
   {
    "duration": 210,
    "start_time": "2021-07-08T11:46:18.525Z"
   },
   {
    "duration": 104,
    "start_time": "2021-07-08T11:46:18.741Z"
   },
   {
    "duration": 8,
    "start_time": "2021-07-08T11:46:18.847Z"
   },
   {
    "duration": 25,
    "start_time": "2021-07-08T11:46:18.857Z"
   },
   {
    "duration": 14,
    "start_time": "2021-07-08T11:46:18.884Z"
   },
   {
    "duration": 22,
    "start_time": "2021-07-08T11:46:18.900Z"
   },
   {
    "duration": 5,
    "start_time": "2021-07-08T11:46:18.924Z"
   },
   {
    "duration": 13,
    "start_time": "2021-07-08T11:46:18.931Z"
   },
   {
    "duration": 45,
    "start_time": "2021-07-08T11:46:18.946Z"
   },
   {
    "duration": 12,
    "start_time": "2021-07-08T11:46:18.993Z"
   },
   {
    "duration": 38,
    "start_time": "2021-07-08T11:46:19.006Z"
   },
   {
    "duration": 50,
    "start_time": "2021-07-08T11:46:19.046Z"
   },
   {
    "duration": 29,
    "start_time": "2021-07-08T11:46:19.099Z"
   },
   {
    "duration": 7,
    "start_time": "2021-07-08T11:46:19.130Z"
   },
   {
    "duration": 3,
    "start_time": "2021-07-08T11:46:19.139Z"
   },
   {
    "duration": 11,
    "start_time": "2021-07-08T11:46:19.144Z"
   },
   {
    "duration": 40,
    "start_time": "2021-07-08T11:46:19.157Z"
   },
   {
    "duration": 15,
    "start_time": "2021-07-08T11:46:19.199Z"
   },
   {
    "duration": 10,
    "start_time": "2021-07-08T11:46:19.217Z"
   },
   {
    "duration": 68,
    "start_time": "2021-07-08T11:46:19.230Z"
   },
   {
    "duration": 17,
    "start_time": "2021-07-08T11:46:19.301Z"
   },
   {
    "duration": 7,
    "start_time": "2021-07-08T11:46:19.321Z"
   },
   {
    "duration": 11,
    "start_time": "2021-07-08T11:46:19.330Z"
   },
   {
    "duration": 59,
    "start_time": "2021-07-08T11:46:19.343Z"
   },
   {
    "duration": 17,
    "start_time": "2021-07-08T11:46:19.405Z"
   },
   {
    "duration": 16,
    "start_time": "2021-07-08T11:46:19.424Z"
   },
   {
    "duration": 252,
    "start_time": "2021-07-08T11:46:19.443Z"
   },
   {
    "duration": 9,
    "start_time": "2021-07-08T11:46:19.697Z"
   },
   {
    "duration": 224,
    "start_time": "2021-07-08T11:46:19.708Z"
   },
   {
    "duration": 21,
    "start_time": "2021-07-08T11:46:19.934Z"
   },
   {
    "duration": 9,
    "start_time": "2021-07-08T11:46:19.956Z"
   },
   {
    "duration": 32,
    "start_time": "2021-07-08T11:46:19.967Z"
   },
   {
    "duration": 288,
    "start_time": "2021-07-08T11:46:20.004Z"
   },
   {
    "duration": 23,
    "start_time": "2021-07-08T11:46:20.300Z"
   },
   {
    "duration": 11,
    "start_time": "2021-07-08T11:46:20.325Z"
   },
   {
    "duration": 11,
    "start_time": "2021-07-08T11:46:20.339Z"
   },
   {
    "duration": 259,
    "start_time": "2021-07-08T11:46:20.352Z"
   },
   {
    "duration": 438,
    "start_time": "2021-07-08T11:46:20.613Z"
   },
   {
    "duration": 207,
    "start_time": "2021-07-08T11:46:21.054Z"
   },
   {
    "duration": 27,
    "start_time": "2021-07-08T11:46:21.262Z"
   },
   {
    "duration": 19,
    "start_time": "2021-07-08T11:46:21.291Z"
   },
   {
    "duration": 820,
    "start_time": "2021-07-08T11:49:01.655Z"
   },
   {
    "duration": 372,
    "start_time": "2021-07-08T11:49:02.478Z"
   },
   {
    "duration": 98,
    "start_time": "2021-07-08T11:49:02.853Z"
   },
   {
    "duration": 6,
    "start_time": "2021-07-08T11:49:02.953Z"
   },
   {
    "duration": 39,
    "start_time": "2021-07-08T11:49:02.960Z"
   },
   {
    "duration": 9,
    "start_time": "2021-07-08T11:49:03.003Z"
   },
   {
    "duration": 23,
    "start_time": "2021-07-08T11:49:03.014Z"
   },
   {
    "duration": 6,
    "start_time": "2021-07-08T11:49:03.041Z"
   },
   {
    "duration": 20,
    "start_time": "2021-07-08T11:49:03.049Z"
   },
   {
    "duration": 18,
    "start_time": "2021-07-08T11:49:03.084Z"
   },
   {
    "duration": 14,
    "start_time": "2021-07-08T11:49:03.104Z"
   },
   {
    "duration": 39,
    "start_time": "2021-07-08T11:49:03.119Z"
   },
   {
    "duration": 38,
    "start_time": "2021-07-08T11:49:03.160Z"
   },
   {
    "duration": 26,
    "start_time": "2021-07-08T11:49:03.200Z"
   },
   {
    "duration": 7,
    "start_time": "2021-07-08T11:49:03.227Z"
   },
   {
    "duration": 4,
    "start_time": "2021-07-08T11:49:03.236Z"
   },
   {
    "duration": 15,
    "start_time": "2021-07-08T11:49:03.243Z"
   },
   {
    "duration": 21,
    "start_time": "2021-07-08T11:49:03.285Z"
   },
   {
    "duration": 17,
    "start_time": "2021-07-08T11:49:03.309Z"
   },
   {
    "duration": 10,
    "start_time": "2021-07-08T11:49:03.328Z"
   },
   {
    "duration": 65,
    "start_time": "2021-07-08T11:49:03.340Z"
   },
   {
    "duration": 18,
    "start_time": "2021-07-08T11:49:03.407Z"
   },
   {
    "duration": 8,
    "start_time": "2021-07-08T11:49:03.428Z"
   },
   {
    "duration": 15,
    "start_time": "2021-07-08T11:49:03.438Z"
   },
   {
    "duration": 40,
    "start_time": "2021-07-08T11:49:03.455Z"
   },
   {
    "duration": 12,
    "start_time": "2021-07-08T11:49:03.497Z"
   },
   {
    "duration": 29,
    "start_time": "2021-07-08T11:49:03.511Z"
   },
   {
    "duration": 285,
    "start_time": "2021-07-08T11:49:03.542Z"
   },
   {
    "duration": 8,
    "start_time": "2021-07-08T11:49:03.829Z"
   },
   {
    "duration": 227,
    "start_time": "2021-07-08T11:49:03.838Z"
   },
   {
    "duration": 40,
    "start_time": "2021-07-08T11:49:04.066Z"
   },
   {
    "duration": 10,
    "start_time": "2021-07-08T11:49:04.108Z"
   },
   {
    "duration": 26,
    "start_time": "2021-07-08T11:49:04.121Z"
   },
   {
    "duration": 290,
    "start_time": "2021-07-08T11:49:04.149Z"
   },
   {
    "duration": 26,
    "start_time": "2021-07-08T11:49:04.441Z"
   },
   {
    "duration": 31,
    "start_time": "2021-07-08T11:49:04.470Z"
   },
   {
    "duration": 14,
    "start_time": "2021-07-08T11:49:04.503Z"
   },
   {
    "duration": 259,
    "start_time": "2021-07-08T11:49:04.521Z"
   },
   {
    "duration": 480,
    "start_time": "2021-07-08T11:49:04.782Z"
   },
   {
    "duration": 225,
    "start_time": "2021-07-08T11:49:05.264Z"
   },
   {
    "duration": 22,
    "start_time": "2021-07-08T11:49:05.491Z"
   },
   {
    "duration": 24,
    "start_time": "2021-07-08T11:49:05.515Z"
   },
   {
    "duration": 634,
    "start_time": "2021-07-08T11:52:24.960Z"
   },
   {
    "duration": 199,
    "start_time": "2021-07-08T11:52:25.599Z"
   },
   {
    "duration": 106,
    "start_time": "2021-07-08T11:52:25.803Z"
   },
   {
    "duration": 7,
    "start_time": "2021-07-08T11:52:25.911Z"
   },
   {
    "duration": 29,
    "start_time": "2021-07-08T11:52:25.920Z"
   },
   {
    "duration": 7,
    "start_time": "2021-07-08T11:52:25.951Z"
   },
   {
    "duration": 26,
    "start_time": "2021-07-08T11:52:25.961Z"
   },
   {
    "duration": 11,
    "start_time": "2021-07-08T11:52:25.990Z"
   },
   {
    "duration": 29,
    "start_time": "2021-07-08T11:52:26.005Z"
   },
   {
    "duration": 9,
    "start_time": "2021-07-08T11:52:26.036Z"
   },
   {
    "duration": 8,
    "start_time": "2021-07-08T11:52:26.047Z"
   },
   {
    "duration": 63,
    "start_time": "2021-07-08T11:52:26.057Z"
   },
   {
    "duration": 17,
    "start_time": "2021-07-08T11:52:26.122Z"
   },
   {
    "duration": 43,
    "start_time": "2021-07-08T11:52:26.142Z"
   },
   {
    "duration": 17,
    "start_time": "2021-07-08T11:52:26.187Z"
   },
   {
    "duration": 5,
    "start_time": "2021-07-08T11:52:26.206Z"
   },
   {
    "duration": 12,
    "start_time": "2021-07-08T11:52:26.212Z"
   },
   {
    "duration": 11,
    "start_time": "2021-07-08T11:52:26.226Z"
   },
   {
    "duration": 12,
    "start_time": "2021-07-08T11:52:26.238Z"
   },
   {
    "duration": 38,
    "start_time": "2021-07-08T11:52:26.252Z"
   },
   {
    "duration": 40,
    "start_time": "2021-07-08T11:52:26.292Z"
   },
   {
    "duration": 17,
    "start_time": "2021-07-08T11:52:26.336Z"
   },
   {
    "duration": 39,
    "start_time": "2021-07-08T11:52:26.355Z"
   },
   {
    "duration": 11,
    "start_time": "2021-07-08T11:52:26.395Z"
   },
   {
    "duration": 23,
    "start_time": "2021-07-08T11:52:26.408Z"
   },
   {
    "duration": 12,
    "start_time": "2021-07-08T11:52:26.432Z"
   },
   {
    "duration": 41,
    "start_time": "2021-07-08T11:52:26.446Z"
   },
   {
    "duration": 215,
    "start_time": "2021-07-08T11:52:26.493Z"
   },
   {
    "duration": 8,
    "start_time": "2021-07-08T11:52:26.710Z"
   },
   {
    "duration": 228,
    "start_time": "2021-07-08T11:52:26.720Z"
   },
   {
    "duration": 18,
    "start_time": "2021-07-08T11:52:26.950Z"
   },
   {
    "duration": 35,
    "start_time": "2021-07-08T11:52:26.969Z"
   },
   {
    "duration": 23,
    "start_time": "2021-07-08T11:52:27.006Z"
   },
   {
    "duration": 258,
    "start_time": "2021-07-08T11:52:27.030Z"
   },
   {
    "duration": 24,
    "start_time": "2021-07-08T11:52:27.290Z"
   },
   {
    "duration": 12,
    "start_time": "2021-07-08T11:52:27.316Z"
   },
   {
    "duration": 10,
    "start_time": "2021-07-08T11:52:27.329Z"
   },
   {
    "duration": 298,
    "start_time": "2021-07-08T11:52:27.341Z"
   },
   {
    "duration": 436,
    "start_time": "2021-07-08T11:52:27.641Z"
   },
   {
    "duration": 216,
    "start_time": "2021-07-08T11:52:28.079Z"
   },
   {
    "duration": 20,
    "start_time": "2021-07-08T11:52:28.297Z"
   },
   {
    "duration": 17,
    "start_time": "2021-07-08T11:52:28.319Z"
   },
   {
    "duration": 1832,
    "start_time": "2021-07-12T07:10:38.391Z"
   },
   {
    "duration": 3,
    "start_time": "2021-07-12T07:12:13.905Z"
   },
   {
    "duration": 315,
    "start_time": "2021-07-12T07:28:44.394Z"
   },
   {
    "duration": 17,
    "start_time": "2021-07-12T07:28:55.176Z"
   },
   {
    "duration": 12,
    "start_time": "2021-07-12T07:29:04.235Z"
   },
   {
    "duration": 8,
    "start_time": "2021-07-12T07:29:28.542Z"
   },
   {
    "duration": 988,
    "start_time": "2021-07-12T07:30:58.218Z"
   },
   {
    "duration": 11,
    "start_time": "2021-07-12T07:31:38.748Z"
   },
   {
    "duration": 271,
    "start_time": "2021-07-12T07:32:13.765Z"
   },
   {
    "duration": 24,
    "start_time": "2021-07-12T07:32:20.269Z"
   },
   {
    "duration": 1034,
    "start_time": "2021-07-12T07:33:32.808Z"
   },
   {
    "duration": 5,
    "start_time": "2021-07-12T07:34:31.478Z"
   },
   {
    "duration": 10,
    "start_time": "2021-07-12T07:34:50.144Z"
   },
   {
    "duration": 255,
    "start_time": "2021-07-12T07:35:20.380Z"
   },
   {
    "duration": 5,
    "start_time": "2021-07-12T07:35:24.923Z"
   },
   {
    "duration": 6,
    "start_time": "2021-07-12T07:35:39.438Z"
   },
   {
    "duration": 7,
    "start_time": "2021-07-12T07:35:43.148Z"
   },
   {
    "duration": 4,
    "start_time": "2021-07-12T07:36:59.934Z"
   },
   {
    "duration": 294,
    "start_time": "2021-07-12T07:38:54.387Z"
   },
   {
    "duration": 3,
    "start_time": "2021-07-12T07:39:23.282Z"
   },
   {
    "duration": 3,
    "start_time": "2021-07-12T07:39:36.499Z"
   },
   {
    "duration": 3,
    "start_time": "2021-07-12T07:40:45.660Z"
   },
   {
    "duration": 4,
    "start_time": "2021-07-12T07:40:46.377Z"
   },
   {
    "duration": 82,
    "start_time": "2021-07-12T07:42:17.914Z"
   },
   {
    "duration": 98,
    "start_time": "2021-07-12T07:42:24.628Z"
   },
   {
    "duration": 321,
    "start_time": "2021-07-12T07:42:28.146Z"
   },
   {
    "duration": 3,
    "start_time": "2021-07-12T07:42:54.519Z"
   },
   {
    "duration": 8,
    "start_time": "2021-07-12T07:43:26.800Z"
   },
   {
    "duration": 4,
    "start_time": "2021-07-12T07:44:21.838Z"
   },
   {
    "duration": 1345,
    "start_time": "2021-07-12T07:44:23.068Z"
   },
   {
    "duration": 4,
    "start_time": "2021-07-12T08:57:41.634Z"
   },
   {
    "duration": 365,
    "start_time": "2021-07-12T08:57:59.671Z"
   },
   {
    "duration": 3,
    "start_time": "2021-07-12T08:58:03.580Z"
   },
   {
    "duration": 3,
    "start_time": "2021-07-12T08:58:08.814Z"
   },
   {
    "duration": 4,
    "start_time": "2021-07-12T08:58:11.844Z"
   },
   {
    "duration": 4,
    "start_time": "2021-07-12T08:58:15.761Z"
   },
   {
    "duration": 3,
    "start_time": "2021-07-12T08:58:44.205Z"
   },
   {
    "duration": 3,
    "start_time": "2021-07-12T08:58:45.113Z"
   },
   {
    "duration": 4,
    "start_time": "2021-07-12T08:58:46.566Z"
   },
   {
    "duration": 3,
    "start_time": "2021-07-12T08:59:00.352Z"
   },
   {
    "duration": 4,
    "start_time": "2021-07-12T08:59:00.906Z"
   },
   {
    "duration": 2,
    "start_time": "2021-07-12T08:59:14.068Z"
   },
   {
    "duration": 5,
    "start_time": "2021-07-12T08:59:14.668Z"
   },
   {
    "duration": 6,
    "start_time": "2021-07-12T08:59:58.257Z"
   },
   {
    "duration": 4,
    "start_time": "2021-07-12T09:00:12.814Z"
   },
   {
    "duration": 1057,
    "start_time": "2021-07-12T09:00:41.040Z"
   },
   {
    "duration": 5,
    "start_time": "2021-07-12T09:00:45.372Z"
   },
   {
    "duration": 10,
    "start_time": "2021-07-12T09:01:02.776Z"
   },
   {
    "duration": 5,
    "start_time": "2021-07-12T09:06:04.350Z"
   },
   {
    "duration": 4,
    "start_time": "2021-07-12T09:06:34.718Z"
   },
   {
    "duration": 3,
    "start_time": "2021-07-12T09:07:05.716Z"
   },
   {
    "duration": 2,
    "start_time": "2021-07-12T09:07:47.878Z"
   },
   {
    "duration": 6,
    "start_time": "2021-07-12T09:07:56.431Z"
   },
   {
    "duration": 10,
    "start_time": "2021-07-12T09:08:02.001Z"
   },
   {
    "duration": 7,
    "start_time": "2021-07-12T09:09:24.936Z"
   },
   {
    "duration": 14,
    "start_time": "2021-07-12T09:09:31.768Z"
   },
   {
    "duration": 6,
    "start_time": "2021-07-12T09:10:05.191Z"
   },
   {
    "duration": 4,
    "start_time": "2021-07-12T09:10:17.527Z"
   },
   {
    "duration": 9,
    "start_time": "2021-07-12T09:10:28.998Z"
   },
   {
    "duration": 256,
    "start_time": "2021-07-12T09:12:06.542Z"
   },
   {
    "duration": 12,
    "start_time": "2021-07-12T09:12:12.062Z"
   },
   {
    "duration": 12,
    "start_time": "2021-07-12T09:12:20.476Z"
   },
   {
    "duration": 13,
    "start_time": "2021-07-12T09:12:40.948Z"
   },
   {
    "duration": 262,
    "start_time": "2021-07-12T09:13:51.139Z"
   },
   {
    "duration": 25,
    "start_time": "2021-07-12T09:14:04.456Z"
   },
   {
    "duration": 4,
    "start_time": "2021-07-12T09:26:58.976Z"
   },
   {
    "duration": 6,
    "start_time": "2021-07-12T09:27:13.777Z"
   },
   {
    "duration": 10,
    "start_time": "2021-07-12T09:27:34.616Z"
   },
   {
    "duration": 8,
    "start_time": "2021-07-12T09:28:08.926Z"
   },
   {
    "duration": 9,
    "start_time": "2021-07-12T09:28:22.496Z"
   },
   {
    "duration": 9,
    "start_time": "2021-07-12T09:28:41.984Z"
   },
   {
    "duration": 6,
    "start_time": "2021-07-12T09:28:53.624Z"
   },
   {
    "duration": 6,
    "start_time": "2021-07-12T09:29:08.048Z"
   },
   {
    "duration": 6,
    "start_time": "2021-07-12T09:29:20.928Z"
   },
   {
    "duration": 7,
    "start_time": "2021-07-12T09:29:27.761Z"
   },
   {
    "duration": 7,
    "start_time": "2021-07-12T09:29:34.284Z"
   },
   {
    "duration": 7,
    "start_time": "2021-07-12T09:29:46.257Z"
   },
   {
    "duration": 7,
    "start_time": "2021-07-12T09:29:59.202Z"
   },
   {
    "duration": 10,
    "start_time": "2021-07-12T09:32:55.895Z"
   },
   {
    "duration": 9,
    "start_time": "2021-07-12T09:33:07.905Z"
   },
   {
    "duration": 15,
    "start_time": "2021-07-12T09:33:16.366Z"
   },
   {
    "duration": 5,
    "start_time": "2021-07-12T09:33:56.432Z"
   },
   {
    "duration": 18,
    "start_time": "2021-07-12T09:34:39.583Z"
   },
   {
    "duration": 15,
    "start_time": "2021-07-12T09:34:43.454Z"
   },
   {
    "duration": 13,
    "start_time": "2021-07-12T09:40:11.874Z"
   },
   {
    "duration": 292,
    "start_time": "2021-07-12T09:53:35.477Z"
   },
   {
    "duration": 1084,
    "start_time": "2021-07-12T09:53:50.268Z"
   },
   {
    "duration": 292,
    "start_time": "2021-07-12T09:53:51.354Z"
   },
   {
    "duration": 10,
    "start_time": "2021-07-12T09:53:51.648Z"
   },
   {
    "duration": 16,
    "start_time": "2021-07-12T09:53:51.660Z"
   },
   {
    "duration": 5,
    "start_time": "2021-07-12T09:53:51.677Z"
   },
   {
    "duration": 10,
    "start_time": "2021-07-12T09:53:51.683Z"
   },
   {
    "duration": 6,
    "start_time": "2021-07-12T09:53:51.694Z"
   },
   {
    "duration": 12,
    "start_time": "2021-07-12T09:53:51.702Z"
   },
   {
    "duration": 34,
    "start_time": "2021-07-12T09:53:51.715Z"
   },
   {
    "duration": 5,
    "start_time": "2021-07-12T09:53:51.751Z"
   },
   {
    "duration": 27,
    "start_time": "2021-07-12T09:53:51.758Z"
   },
   {
    "duration": 7,
    "start_time": "2021-07-12T09:53:51.786Z"
   },
   {
    "duration": 6,
    "start_time": "2021-07-12T09:53:51.794Z"
   },
   {
    "duration": 4,
    "start_time": "2021-07-12T09:53:51.802Z"
   },
   {
    "duration": 37,
    "start_time": "2021-07-12T09:53:51.807Z"
   },
   {
    "duration": 5,
    "start_time": "2021-07-12T09:53:51.845Z"
   },
   {
    "duration": 20,
    "start_time": "2021-07-12T09:53:51.852Z"
   },
   {
    "duration": 8,
    "start_time": "2021-07-12T10:32:43.751Z"
   },
   {
    "duration": 41,
    "start_time": "2021-07-12T10:33:16.817Z"
   },
   {
    "duration": 7,
    "start_time": "2021-07-12T10:33:28.185Z"
   },
   {
    "duration": 5,
    "start_time": "2021-07-12T10:34:30.624Z"
   },
   {
    "duration": 4,
    "start_time": "2021-07-12T10:35:45.772Z"
   },
   {
    "duration": 3,
    "start_time": "2021-07-12T10:35:55.770Z"
   },
   {
    "duration": 3,
    "start_time": "2021-07-12T10:36:08.480Z"
   },
   {
    "duration": 5,
    "start_time": "2021-07-12T10:36:48.385Z"
   },
   {
    "duration": 23,
    "start_time": "2021-07-12T10:36:58.573Z"
   },
   {
    "duration": 1088,
    "start_time": "2021-07-12T10:37:29.150Z"
   },
   {
    "duration": 225,
    "start_time": "2021-07-12T10:37:30.240Z"
   },
   {
    "duration": 10,
    "start_time": "2021-07-12T10:37:30.467Z"
   },
   {
    "duration": 42,
    "start_time": "2021-07-12T10:37:30.478Z"
   },
   {
    "duration": 25,
    "start_time": "2021-07-12T10:37:30.521Z"
   },
   {
    "duration": 34,
    "start_time": "2021-07-12T10:37:30.547Z"
   },
   {
    "duration": 26,
    "start_time": "2021-07-12T10:37:30.582Z"
   },
   {
    "duration": 29,
    "start_time": "2021-07-12T10:37:30.610Z"
   },
   {
    "duration": 21,
    "start_time": "2021-07-12T10:37:30.641Z"
   },
   {
    "duration": 41,
    "start_time": "2021-07-12T10:37:30.663Z"
   },
   {
    "duration": 28,
    "start_time": "2021-07-12T10:37:30.705Z"
   },
   {
    "duration": 22,
    "start_time": "2021-07-12T10:37:30.735Z"
   },
   {
    "duration": 18,
    "start_time": "2021-07-12T10:37:30.758Z"
   },
   {
    "duration": 15,
    "start_time": "2021-07-12T10:37:30.778Z"
   },
   {
    "duration": 6,
    "start_time": "2021-07-12T10:37:30.794Z"
   },
   {
    "duration": 16,
    "start_time": "2021-07-12T10:37:30.801Z"
   },
   {
    "duration": 39,
    "start_time": "2021-07-12T10:37:30.819Z"
   },
   {
    "duration": 18,
    "start_time": "2021-07-12T10:37:30.859Z"
   },
   {
    "duration": 304,
    "start_time": "2021-07-12T10:39:00.444Z"
   },
   {
    "duration": 3,
    "start_time": "2021-07-12T10:39:04.732Z"
   },
   {
    "duration": 246,
    "start_time": "2021-07-12T10:39:06.958Z"
   },
   {
    "duration": 1116,
    "start_time": "2021-07-12T10:39:19.424Z"
   },
   {
    "duration": 252,
    "start_time": "2021-07-12T10:39:20.542Z"
   },
   {
    "duration": 11,
    "start_time": "2021-07-12T10:39:20.796Z"
   },
   {
    "duration": 19,
    "start_time": "2021-07-12T10:39:20.809Z"
   },
   {
    "duration": 16,
    "start_time": "2021-07-12T10:39:20.830Z"
   },
   {
    "duration": 16,
    "start_time": "2021-07-12T10:39:20.848Z"
   },
   {
    "duration": 12,
    "start_time": "2021-07-12T10:39:20.866Z"
   },
   {
    "duration": 17,
    "start_time": "2021-07-12T10:39:20.880Z"
   },
   {
    "duration": 9,
    "start_time": "2021-07-12T10:39:20.899Z"
   },
   {
    "duration": 8,
    "start_time": "2021-07-12T10:39:20.910Z"
   },
   {
    "duration": 13,
    "start_time": "2021-07-12T10:39:20.920Z"
   },
   {
    "duration": 14,
    "start_time": "2021-07-12T10:39:20.935Z"
   },
   {
    "duration": 18,
    "start_time": "2021-07-12T10:39:20.951Z"
   },
   {
    "duration": 18,
    "start_time": "2021-07-12T10:39:20.971Z"
   },
   {
    "duration": 18,
    "start_time": "2021-07-12T10:39:20.991Z"
   },
   {
    "duration": 349,
    "start_time": "2021-07-12T10:39:21.011Z"
   },
   {
    "duration": -170,
    "start_time": "2021-07-12T10:39:21.532Z"
   },
   {
    "duration": 11,
    "start_time": "2021-07-12T10:42:48.264Z"
   },
   {
    "duration": 1294,
    "start_time": "2021-07-12T10:43:42.273Z"
   },
   {
    "duration": 252,
    "start_time": "2021-07-12T10:44:11.268Z"
   },
   {
    "duration": 4,
    "start_time": "2021-07-12T10:44:54.800Z"
   },
   {
    "duration": 9,
    "start_time": "2021-07-12T10:45:06.087Z"
   },
   {
    "duration": 256,
    "start_time": "2021-07-12T10:46:06.700Z"
   },
   {
    "duration": 288,
    "start_time": "2021-07-12T10:49:22.315Z"
   },
   {
    "duration": 6,
    "start_time": "2021-07-12T10:49:43.814Z"
   },
   {
    "duration": 15,
    "start_time": "2021-07-12T10:49:59.325Z"
   },
   {
    "duration": 9,
    "start_time": "2021-07-12T10:50:22.883Z"
   },
   {
    "duration": 5,
    "start_time": "2021-07-12T10:50:41.591Z"
   },
   {
    "duration": 7,
    "start_time": "2021-07-12T10:50:50.705Z"
   },
   {
    "duration": 276,
    "start_time": "2021-07-12T10:52:33.839Z"
   },
   {
    "duration": 3,
    "start_time": "2021-07-12T10:52:39.560Z"
   },
   {
    "duration": 6,
    "start_time": "2021-07-12T10:53:45.219Z"
   },
   {
    "duration": 10,
    "start_time": "2021-07-12T10:53:57.176Z"
   },
   {
    "duration": 16,
    "start_time": "2021-07-12T10:55:24.825Z"
   },
   {
    "duration": 3,
    "start_time": "2021-07-12T11:04:10.809Z"
   },
   {
    "duration": 6,
    "start_time": "2021-07-12T11:05:02.435Z"
   },
   {
    "duration": 3,
    "start_time": "2021-07-12T11:05:27.446Z"
   },
   {
    "duration": 5,
    "start_time": "2021-07-12T11:06:03.665Z"
   },
   {
    "duration": 15,
    "start_time": "2021-07-12T11:06:08.912Z"
   },
   {
    "duration": 2,
    "start_time": "2021-07-12T11:06:31.303Z"
   },
   {
    "duration": 6,
    "start_time": "2021-07-12T11:06:33.445Z"
   },
   {
    "duration": 16,
    "start_time": "2021-07-12T11:06:34.289Z"
   },
   {
    "duration": 10,
    "start_time": "2021-07-12T11:06:44.433Z"
   },
   {
    "duration": 20,
    "start_time": "2021-07-12T11:07:39.579Z"
   },
   {
    "duration": 713,
    "start_time": "2021-07-12T11:09:01.650Z"
   },
   {
    "duration": 1144,
    "start_time": "2021-07-12T11:10:40.902Z"
   },
   {
    "duration": 281,
    "start_time": "2021-07-12T11:10:42.048Z"
   },
   {
    "duration": 12,
    "start_time": "2021-07-12T11:10:42.332Z"
   },
   {
    "duration": 20,
    "start_time": "2021-07-12T11:10:42.346Z"
   },
   {
    "duration": 16,
    "start_time": "2021-07-12T11:10:42.368Z"
   },
   {
    "duration": 15,
    "start_time": "2021-07-12T11:10:42.386Z"
   },
   {
    "duration": 10,
    "start_time": "2021-07-12T11:10:42.402Z"
   },
   {
    "duration": 25,
    "start_time": "2021-07-12T11:10:42.414Z"
   },
   {
    "duration": 18,
    "start_time": "2021-07-12T11:10:42.441Z"
   },
   {
    "duration": 12,
    "start_time": "2021-07-12T11:10:42.461Z"
   },
   {
    "duration": 11,
    "start_time": "2021-07-12T11:10:42.475Z"
   },
   {
    "duration": 8,
    "start_time": "2021-07-12T11:10:42.488Z"
   },
   {
    "duration": 22,
    "start_time": "2021-07-12T11:10:42.498Z"
   },
   {
    "duration": 13,
    "start_time": "2021-07-12T11:10:42.521Z"
   },
   {
    "duration": 17,
    "start_time": "2021-07-12T11:10:42.536Z"
   },
   {
    "duration": 16,
    "start_time": "2021-07-12T11:10:42.554Z"
   },
   {
    "duration": 14,
    "start_time": "2021-07-12T11:10:42.571Z"
   },
   {
    "duration": 19,
    "start_time": "2021-07-12T11:10:42.587Z"
   },
   {
    "duration": 21,
    "start_time": "2021-07-12T11:10:42.608Z"
   },
   {
    "duration": 11,
    "start_time": "2021-07-12T11:10:42.631Z"
   },
   {
    "duration": 22,
    "start_time": "2021-07-12T11:10:42.644Z"
   },
   {
    "duration": 27,
    "start_time": "2021-07-12T11:10:42.667Z"
   },
   {
    "duration": 1439,
    "start_time": "2021-07-12T11:10:42.697Z"
   },
   {
    "duration": 21,
    "start_time": "2021-07-12T11:10:44.138Z"
   },
   {
    "duration": 9,
    "start_time": "2021-07-12T11:13:55.379Z"
   },
   {
    "duration": 7,
    "start_time": "2021-07-12T11:14:23.703Z"
   },
   {
    "duration": 363,
    "start_time": "2021-07-12T11:14:34.472Z"
   },
   {
    "duration": 12,
    "start_time": "2021-07-12T11:14:47.343Z"
   },
   {
    "duration": 1676,
    "start_time": "2021-07-12T11:15:01.686Z"
   },
   {
    "duration": 1778,
    "start_time": "2021-07-12T11:15:53.258Z"
   },
   {
    "duration": 14,
    "start_time": "2021-07-12T11:16:48.193Z"
   },
   {
    "duration": 235,
    "start_time": "2021-07-12T11:17:26.431Z"
   },
   {
    "duration": 5,
    "start_time": "2021-07-12T11:25:19.543Z"
   },
   {
    "duration": 11,
    "start_time": "2021-07-12T11:25:31.203Z"
   },
   {
    "duration": 19,
    "start_time": "2021-07-12T11:31:17.510Z"
   },
   {
    "duration": 78,
    "start_time": "2021-07-12T11:31:53.300Z"
   },
   {
    "duration": 3,
    "start_time": "2021-07-12T11:36:39.246Z"
   },
   {
    "duration": 9266,
    "start_time": "2021-07-12T11:37:21.113Z"
   },
   {
    "duration": 7,
    "start_time": "2021-07-12T11:37:46.556Z"
   },
   {
    "duration": 6,
    "start_time": "2021-07-12T11:38:00.053Z"
   },
   {
    "duration": 3,
    "start_time": "2021-07-12T11:42:45.096Z"
   },
   {
    "duration": 7,
    "start_time": "2021-07-12T11:42:47.120Z"
   },
   {
    "duration": 5,
    "start_time": "2021-07-12T11:42:47.710Z"
   },
   {
    "duration": 7,
    "start_time": "2021-07-12T11:42:58.075Z"
   },
   {
    "duration": 3,
    "start_time": "2021-07-12T11:45:18.613Z"
   },
   {
    "duration": 2,
    "start_time": "2021-07-12T11:45:52.397Z"
   },
   {
    "duration": 1443,
    "start_time": "2021-07-12T11:46:36.378Z"
   },
   {
    "duration": 13,
    "start_time": "2021-07-12T11:47:15.050Z"
   },
   {
    "duration": 3,
    "start_time": "2021-07-12T11:48:35.750Z"
   },
   {
    "duration": 4,
    "start_time": "2021-07-12T11:48:38.093Z"
   },
   {
    "duration": 3,
    "start_time": "2021-07-12T11:48:41.703Z"
   },
   {
    "duration": 1309,
    "start_time": "2021-07-12T11:48:45.965Z"
   },
   {
    "duration": 5,
    "start_time": "2021-07-12T11:49:32.243Z"
   },
   {
    "duration": 6,
    "start_time": "2021-07-12T11:49:50.091Z"
   },
   {
    "duration": 12,
    "start_time": "2021-07-12T11:50:23.864Z"
   },
   {
    "duration": 7,
    "start_time": "2021-07-12T11:50:44.055Z"
   },
   {
    "duration": 6,
    "start_time": "2021-07-12T11:50:49.681Z"
   },
   {
    "duration": 6,
    "start_time": "2021-07-12T11:50:56.374Z"
   },
   {
    "duration": 4,
    "start_time": "2021-07-12T11:51:05.061Z"
   },
   {
    "duration": 10,
    "start_time": "2021-07-12T11:51:08.101Z"
   },
   {
    "duration": 14,
    "start_time": "2021-07-12T11:51:10.343Z"
   },
   {
    "duration": 17,
    "start_time": "2021-07-12T11:51:33.708Z"
   },
   {
    "duration": 5,
    "start_time": "2021-07-12T11:51:36.449Z"
   },
   {
    "duration": 8,
    "start_time": "2021-07-12T11:51:47.880Z"
   },
   {
    "duration": 8,
    "start_time": "2021-07-12T11:55:27.442Z"
   },
   {
    "duration": 14,
    "start_time": "2021-07-12T11:55:58.322Z"
   },
   {
    "duration": 7,
    "start_time": "2021-07-12T11:58:03.016Z"
   },
   {
    "duration": 5,
    "start_time": "2021-07-12T11:58:21.794Z"
   },
   {
    "duration": 8,
    "start_time": "2021-07-12T11:58:32.035Z"
   },
   {
    "duration": 4,
    "start_time": "2021-07-12T11:58:57.811Z"
   },
   {
    "duration": 5,
    "start_time": "2021-07-12T11:59:09.863Z"
   },
   {
    "duration": 291,
    "start_time": "2021-07-12T12:00:53.315Z"
   },
   {
    "duration": 16,
    "start_time": "2021-07-12T12:01:08.771Z"
   },
   {
    "duration": 277,
    "start_time": "2021-07-12T12:02:01.817Z"
   },
   {
    "duration": 9,
    "start_time": "2021-07-12T12:03:21.633Z"
   },
   {
    "duration": 8,
    "start_time": "2021-07-12T12:03:43.493Z"
   },
   {
    "duration": 281,
    "start_time": "2021-07-12T12:04:20.492Z"
   },
   {
    "duration": 17,
    "start_time": "2021-07-12T12:04:41.645Z"
   },
   {
    "duration": 369,
    "start_time": "2021-07-13T06:29:15.813Z"
   },
   {
    "duration": 1140,
    "start_time": "2021-07-13T06:29:19.417Z"
   },
   {
    "duration": 311,
    "start_time": "2021-07-13T06:29:21.193Z"
   },
   {
    "duration": 12,
    "start_time": "2021-07-13T06:29:22.587Z"
   },
   {
    "duration": 18,
    "start_time": "2021-07-13T06:29:24.277Z"
   },
   {
    "duration": 5,
    "start_time": "2021-07-13T06:29:27.640Z"
   },
   {
    "duration": 6,
    "start_time": "2021-07-13T06:29:28.606Z"
   },
   {
    "duration": 7,
    "start_time": "2021-07-13T06:30:18.612Z"
   },
   {
    "duration": 5,
    "start_time": "2021-07-13T06:30:21.003Z"
   },
   {
    "duration": 12,
    "start_time": "2021-07-13T06:30:29.588Z"
   },
   {
    "duration": 12,
    "start_time": "2021-07-13T06:30:31.088Z"
   },
   {
    "duration": 443,
    "start_time": "2021-07-13T06:34:03.377Z"
   },
   {
    "duration": 421,
    "start_time": "2021-07-13T06:36:57.183Z"
   },
   {
    "duration": 5,
    "start_time": "2021-07-13T06:37:08.028Z"
   },
   {
    "duration": 7,
    "start_time": "2021-07-13T06:37:15.216Z"
   },
   {
    "duration": 5,
    "start_time": "2021-07-13T06:37:31.079Z"
   },
   {
    "duration": 287,
    "start_time": "2021-07-13T06:41:05.467Z"
   },
   {
    "duration": 278,
    "start_time": "2021-07-13T06:42:15.603Z"
   },
   {
    "duration": 87,
    "start_time": "2021-07-13T06:42:39.835Z"
   },
   {
    "duration": 6,
    "start_time": "2021-07-13T06:42:46.513Z"
   },
   {
    "duration": 5,
    "start_time": "2021-07-13T06:43:35.409Z"
   },
   {
    "duration": 4,
    "start_time": "2021-07-13T06:47:50.340Z"
   },
   {
    "duration": 5,
    "start_time": "2021-07-13T06:47:52.810Z"
   },
   {
    "duration": 5,
    "start_time": "2021-07-13T06:47:53.382Z"
   },
   {
    "duration": 9,
    "start_time": "2021-07-13T06:48:44.359Z"
   },
   {
    "duration": 648,
    "start_time": "2021-07-13T06:49:13.995Z"
   },
   {
    "duration": 612,
    "start_time": "2021-07-13T07:02:01.906Z"
   },
   {
    "duration": 554,
    "start_time": "2021-07-13T07:02:33.725Z"
   },
   {
    "duration": 2,
    "start_time": "2021-07-13T07:10:07.373Z"
   },
   {
    "duration": 3,
    "start_time": "2021-07-13T07:10:09.159Z"
   },
   {
    "duration": 3,
    "start_time": "2021-07-13T07:10:10.270Z"
   },
   {
    "duration": 2,
    "start_time": "2021-07-13T07:10:11.938Z"
   },
   {
    "duration": 3,
    "start_time": "2021-07-13T07:10:12.347Z"
   },
   {
    "duration": 3,
    "start_time": "2021-07-13T07:10:12.639Z"
   },
   {
    "duration": 6,
    "start_time": "2021-07-13T07:10:55.362Z"
   },
   {
    "duration": 8,
    "start_time": "2021-07-13T07:10:55.965Z"
   },
   {
    "duration": 3,
    "start_time": "2021-07-13T07:10:57.857Z"
   },
   {
    "duration": 7,
    "start_time": "2021-07-13T07:10:58.967Z"
   },
   {
    "duration": 6,
    "start_time": "2021-07-13T07:10:59.624Z"
   },
   {
    "duration": 4,
    "start_time": "2021-07-13T07:11:14.248Z"
   },
   {
    "duration": 8,
    "start_time": "2021-07-13T07:12:52.340Z"
   },
   {
    "duration": 9,
    "start_time": "2021-07-13T07:13:51.141Z"
   },
   {
    "duration": 11,
    "start_time": "2021-07-13T07:14:02.643Z"
   },
   {
    "duration": 1095,
    "start_time": "2021-07-13T07:14:27.548Z"
   },
   {
    "duration": 248,
    "start_time": "2021-07-13T07:14:28.645Z"
   },
   {
    "duration": 14,
    "start_time": "2021-07-13T07:14:28.896Z"
   },
   {
    "duration": 20,
    "start_time": "2021-07-13T07:14:28.913Z"
   },
   {
    "duration": 6,
    "start_time": "2021-07-13T07:14:28.935Z"
   },
   {
    "duration": 10,
    "start_time": "2021-07-13T07:14:28.943Z"
   },
   {
    "duration": 9,
    "start_time": "2021-07-13T07:14:28.955Z"
   },
   {
    "duration": 5,
    "start_time": "2021-07-13T07:14:28.967Z"
   },
   {
    "duration": 17,
    "start_time": "2021-07-13T07:14:28.974Z"
   },
   {
    "duration": 14,
    "start_time": "2021-07-13T07:14:28.993Z"
   },
   {
    "duration": 543,
    "start_time": "2021-07-13T07:14:29.009Z"
   },
   {
    "duration": 517,
    "start_time": "2021-07-13T07:14:29.554Z"
   },
   {
    "duration": 3,
    "start_time": "2021-07-13T07:14:30.073Z"
   },
   {
    "duration": 8,
    "start_time": "2021-07-13T07:14:30.077Z"
   },
   {
    "duration": 9,
    "start_time": "2021-07-13T07:14:30.086Z"
   },
   {
    "duration": 18,
    "start_time": "2021-07-13T07:14:30.097Z"
   },
   {
    "duration": 7,
    "start_time": "2021-07-13T07:14:30.117Z"
   },
   {
    "duration": 10,
    "start_time": "2021-07-13T07:14:30.125Z"
   },
   {
    "duration": 18,
    "start_time": "2021-07-13T07:14:30.141Z"
   },
   {
    "duration": 6,
    "start_time": "2021-07-13T07:14:30.161Z"
   },
   {
    "duration": 16,
    "start_time": "2021-07-13T07:14:30.169Z"
   },
   {
    "duration": 11,
    "start_time": "2021-07-13T07:14:30.186Z"
   },
   {
    "duration": 8,
    "start_time": "2021-07-13T07:14:30.200Z"
   },
   {
    "duration": 11,
    "start_time": "2021-07-13T07:14:30.210Z"
   },
   {
    "duration": 8,
    "start_time": "2021-07-13T07:14:30.222Z"
   },
   {
    "duration": 12,
    "start_time": "2021-07-13T07:14:30.232Z"
   },
   {
    "duration": 12,
    "start_time": "2021-07-13T07:14:30.246Z"
   },
   {
    "duration": 18,
    "start_time": "2021-07-13T07:14:30.260Z"
   },
   {
    "duration": 26,
    "start_time": "2021-07-13T07:14:30.280Z"
   },
   {
    "duration": 20,
    "start_time": "2021-07-13T07:14:30.307Z"
   },
   {
    "duration": 12,
    "start_time": "2021-07-13T07:14:30.329Z"
   },
   {
    "duration": 39,
    "start_time": "2021-07-13T07:14:30.343Z"
   },
   {
    "duration": 25,
    "start_time": "2021-07-13T07:14:30.384Z"
   },
   {
    "duration": 2,
    "start_time": "2021-07-13T07:14:30.411Z"
   },
   {
    "duration": 25,
    "start_time": "2021-07-13T07:14:30.415Z"
   },
   {
    "duration": 19,
    "start_time": "2021-07-13T07:14:30.442Z"
   },
   {
    "duration": 8,
    "start_time": "2021-07-13T07:14:30.463Z"
   },
   {
    "duration": 15,
    "start_time": "2021-07-13T07:14:30.472Z"
   },
   {
    "duration": 24,
    "start_time": "2021-07-13T07:14:30.488Z"
   },
   {
    "duration": 20,
    "start_time": "2021-07-13T07:14:30.513Z"
   },
   {
    "duration": 36,
    "start_time": "2021-07-13T07:14:30.535Z"
   },
   {
    "duration": 1107,
    "start_time": "2021-07-13T07:17:07.101Z"
   },
   {
    "duration": 203,
    "start_time": "2021-07-13T07:17:08.209Z"
   },
   {
    "duration": 10,
    "start_time": "2021-07-13T07:17:08.416Z"
   },
   {
    "duration": 16,
    "start_time": "2021-07-13T07:17:08.428Z"
   },
   {
    "duration": 5,
    "start_time": "2021-07-13T07:17:08.445Z"
   },
   {
    "duration": 10,
    "start_time": "2021-07-13T07:17:08.451Z"
   },
   {
    "duration": 3,
    "start_time": "2021-07-13T07:19:44.110Z"
   },
   {
    "duration": 3,
    "start_time": "2021-07-13T07:19:45.204Z"
   },
   {
    "duration": 2,
    "start_time": "2021-07-13T07:19:48.286Z"
   },
   {
    "duration": 269,
    "start_time": "2021-07-13T07:19:48.636Z"
   },
   {
    "duration": 11,
    "start_time": "2021-07-13T07:19:49.566Z"
   },
   {
    "duration": 14,
    "start_time": "2021-07-13T07:19:50.372Z"
   },
   {
    "duration": 6,
    "start_time": "2021-07-13T07:19:51.958Z"
   },
   {
    "duration": 7,
    "start_time": "2021-07-13T07:19:52.938Z"
   },
   {
    "duration": 8,
    "start_time": "2021-07-13T07:19:56.126Z"
   },
   {
    "duration": 5,
    "start_time": "2021-07-13T07:19:57.739Z"
   },
   {
    "duration": 364,
    "start_time": "2021-07-13T07:19:58.868Z"
   },
   {
    "duration": 17,
    "start_time": "2021-07-13T07:19:59.314Z"
   },
   {
    "duration": 612,
    "start_time": "2021-07-13T07:20:01.372Z"
   },
   {
    "duration": 508,
    "start_time": "2021-07-13T07:20:03.477Z"
   },
   {
    "duration": 3,
    "start_time": "2021-07-13T07:20:06.438Z"
   },
   {
    "duration": 3,
    "start_time": "2021-07-13T07:20:07.322Z"
   },
   {
    "duration": 3,
    "start_time": "2021-07-13T07:20:09.788Z"
   },
   {
    "duration": 12,
    "start_time": "2021-07-13T07:20:14.697Z"
   },
   {
    "duration": 8,
    "start_time": "2021-07-13T07:20:15.299Z"
   },
   {
    "duration": 3,
    "start_time": "2021-07-13T07:20:18.271Z"
   },
   {
    "duration": 6,
    "start_time": "2021-07-13T07:20:19.118Z"
   },
   {
    "duration": 5,
    "start_time": "2021-07-13T07:20:21.105Z"
   },
   {
    "duration": 9,
    "start_time": "2021-07-13T07:20:26.645Z"
   },
   {
    "duration": 10,
    "start_time": "2021-07-13T07:20:27.320Z"
   },
   {
    "duration": 3,
    "start_time": "2021-07-13T07:20:37.309Z"
   },
   {
    "duration": 6,
    "start_time": "2021-07-13T07:20:59.959Z"
   },
   {
    "duration": 6,
    "start_time": "2021-07-13T07:21:14.934Z"
   },
   {
    "duration": 11,
    "start_time": "2021-07-13T07:21:15.974Z"
   },
   {
    "duration": 22,
    "start_time": "2021-07-13T07:21:21.633Z"
   },
   {
    "duration": 151,
    "start_time": "2021-07-13T07:24:49.268Z"
   },
   {
    "duration": 231,
    "start_time": "2021-07-13T07:25:05.036Z"
   },
   {
    "duration": 370,
    "start_time": "2021-07-13T07:25:08.473Z"
   },
   {
    "duration": 230,
    "start_time": "2021-07-13T07:25:13.131Z"
   },
   {
    "duration": 24,
    "start_time": "2021-07-13T07:26:49.862Z"
   },
   {
    "duration": 10,
    "start_time": "2021-07-13T07:27:49.015Z"
   },
   {
    "duration": 16,
    "start_time": "2021-07-13T07:28:35.113Z"
   },
   {
    "duration": 18,
    "start_time": "2021-07-13T07:36:08.773Z"
   },
   {
    "duration": 10,
    "start_time": "2021-07-13T07:36:30.217Z"
   },
   {
    "duration": 6,
    "start_time": "2021-07-13T07:37:05.608Z"
   },
   {
    "duration": 7,
    "start_time": "2021-07-13T07:37:16.042Z"
   },
   {
    "duration": 4,
    "start_time": "2021-07-13T07:37:52.160Z"
   },
   {
    "duration": 375,
    "start_time": "2021-07-13T07:38:03.028Z"
   },
   {
    "duration": 11,
    "start_time": "2021-07-13T07:38:19.523Z"
   },
   {
    "duration": 276,
    "start_time": "2021-07-13T07:38:54.510Z"
   },
   {
    "duration": 4,
    "start_time": "2021-07-13T07:39:23.452Z"
   },
   {
    "duration": 10,
    "start_time": "2021-07-13T07:40:14.139Z"
   },
   {
    "duration": 7,
    "start_time": "2021-07-13T07:40:32.510Z"
   },
   {
    "duration": 8,
    "start_time": "2021-07-13T07:40:58.537Z"
   },
   {
    "duration": 5,
    "start_time": "2021-07-13T07:41:05.419Z"
   },
   {
    "duration": 3,
    "start_time": "2021-07-13T07:41:21.634Z"
   },
   {
    "duration": 7,
    "start_time": "2021-07-13T07:41:50.354Z"
   },
   {
    "duration": 26,
    "start_time": "2021-07-13T07:41:58.209Z"
   },
   {
    "duration": 23,
    "start_time": "2021-07-13T07:43:20.640Z"
   },
   {
    "duration": 26,
    "start_time": "2021-07-13T07:43:45.965Z"
   },
   {
    "duration": 8,
    "start_time": "2021-07-13T07:44:16.319Z"
   },
   {
    "duration": 25,
    "start_time": "2021-07-13T07:44:30.891Z"
   },
   {
    "duration": 5,
    "start_time": "2021-07-13T07:46:32.208Z"
   },
   {
    "duration": 14,
    "start_time": "2021-07-13T07:46:48.160Z"
   },
   {
    "duration": 278,
    "start_time": "2021-07-13T07:47:02.735Z"
   },
   {
    "duration": 20,
    "start_time": "2021-07-13T07:47:14.305Z"
   },
   {
    "duration": 18,
    "start_time": "2021-07-13T07:47:18.105Z"
   },
   {
    "duration": 5,
    "start_time": "2021-07-13T07:47:38.042Z"
   },
   {
    "duration": 19,
    "start_time": "2021-07-13T07:47:40.056Z"
   },
   {
    "duration": 14,
    "start_time": "2021-07-13T07:47:59.967Z"
   },
   {
    "duration": 64,
    "start_time": "2021-07-13T08:25:16.581Z"
   },
   {
    "duration": 38,
    "start_time": "2021-07-13T08:25:56.829Z"
   },
   {
    "duration": 21,
    "start_time": "2021-07-13T08:26:44.865Z"
   },
   {
    "duration": 39,
    "start_time": "2021-07-13T08:27:07.743Z"
   },
   {
    "duration": 15,
    "start_time": "2021-07-13T08:27:46.124Z"
   },
   {
    "duration": 10,
    "start_time": "2021-07-13T08:28:16.086Z"
   },
   {
    "duration": 15,
    "start_time": "2021-07-13T08:28:20.197Z"
   },
   {
    "duration": 6642,
    "start_time": "2021-07-13T08:32:32.153Z"
   },
   {
    "duration": 4,
    "start_time": "2021-07-13T08:32:44.098Z"
   },
   {
    "duration": 7,
    "start_time": "2021-07-13T08:32:51.670Z"
   },
   {
    "duration": 262,
    "start_time": "2021-07-13T08:33:20.808Z"
   },
   {
    "duration": 34,
    "start_time": "2021-07-13T08:34:20.099Z"
   },
   {
    "duration": 17,
    "start_time": "2021-07-13T08:34:34.404Z"
   },
   {
    "duration": 27,
    "start_time": "2021-07-13T08:34:53.503Z"
   },
   {
    "duration": 8,
    "start_time": "2021-07-13T08:35:16.273Z"
   },
   {
    "duration": 11,
    "start_time": "2021-07-13T08:35:24.509Z"
   },
   {
    "duration": 15,
    "start_time": "2021-07-13T08:35:53.294Z"
   },
   {
    "duration": 7,
    "start_time": "2021-07-13T08:36:01.561Z"
   },
   {
    "duration": 9,
    "start_time": "2021-07-13T08:36:53.444Z"
   },
   {
    "duration": 96,
    "start_time": "2021-07-13T08:37:07.314Z"
   },
   {
    "duration": 9,
    "start_time": "2021-07-13T08:37:12.925Z"
   },
   {
    "duration": 8,
    "start_time": "2021-07-13T08:37:19.529Z"
   },
   {
    "duration": 260,
    "start_time": "2021-07-13T08:37:27.991Z"
   },
   {
    "duration": 12,
    "start_time": "2021-07-13T08:37:33.525Z"
   },
   {
    "duration": 7,
    "start_time": "2021-07-13T08:39:08.662Z"
   },
   {
    "duration": 7,
    "start_time": "2021-07-13T08:39:24.022Z"
   },
   {
    "duration": 297,
    "start_time": "2021-07-13T08:40:02.520Z"
   },
   {
    "duration": 17,
    "start_time": "2021-07-13T08:40:12.812Z"
   },
   {
    "duration": 4,
    "start_time": "2021-07-13T08:41:27.924Z"
   },
   {
    "duration": 9,
    "start_time": "2021-07-13T08:41:32.378Z"
   },
   {
    "duration": 91,
    "start_time": "2021-07-13T08:41:45.054Z"
   },
   {
    "duration": 10,
    "start_time": "2021-07-13T08:41:49.871Z"
   },
   {
    "duration": 8,
    "start_time": "2021-07-13T08:42:00.175Z"
   },
   {
    "duration": 282,
    "start_time": "2021-07-13T08:42:10.349Z"
   },
   {
    "duration": 5,
    "start_time": "2021-07-13T08:42:13.454Z"
   },
   {
    "duration": 5,
    "start_time": "2021-07-13T08:42:18.626Z"
   },
   {
    "duration": 3,
    "start_time": "2021-07-13T08:42:29.206Z"
   },
   {
    "duration": 24,
    "start_time": "2021-07-13T08:42:39.480Z"
   },
   {
    "duration": 10,
    "start_time": "2021-07-13T08:43:29.096Z"
   },
   {
    "duration": 13,
    "start_time": "2021-07-13T08:44:00.373Z"
   },
   {
    "duration": 19,
    "start_time": "2021-07-13T08:44:04.686Z"
   },
   {
    "duration": 29,
    "start_time": "2021-07-13T08:46:01.774Z"
   },
   {
    "duration": 15,
    "start_time": "2021-07-13T08:51:02.764Z"
   },
   {
    "duration": 27,
    "start_time": "2021-07-13T08:51:23.615Z"
   },
   {
    "duration": 15,
    "start_time": "2021-07-13T08:51:57.697Z"
   },
   {
    "duration": 11,
    "start_time": "2021-07-13T09:05:40.944Z"
   },
   {
    "duration": 10,
    "start_time": "2021-07-13T09:05:45.262Z"
   },
   {
    "duration": 24,
    "start_time": "2021-07-13T09:05:50.562Z"
   },
   {
    "duration": 29,
    "start_time": "2021-07-13T09:06:20.608Z"
   },
   {
    "duration": 4,
    "start_time": "2021-07-13T09:06:49.295Z"
   },
   {
    "duration": 5,
    "start_time": "2021-07-13T09:06:52.170Z"
   },
   {
    "duration": 18,
    "start_time": "2021-07-13T09:06:53.774Z"
   },
   {
    "duration": 16,
    "start_time": "2021-07-13T09:07:09.528Z"
   },
   {
    "duration": 7,
    "start_time": "2021-07-13T09:07:15.254Z"
   },
   {
    "duration": 304,
    "start_time": "2021-07-13T09:07:32.368Z"
   },
   {
    "duration": 10,
    "start_time": "2021-07-13T09:07:37.542Z"
   },
   {
    "duration": 21,
    "start_time": "2021-07-13T09:08:11.595Z"
   },
   {
    "duration": 12,
    "start_time": "2021-07-13T09:08:33.828Z"
   },
   {
    "duration": 4,
    "start_time": "2021-07-13T09:08:34.703Z"
   },
   {
    "duration": 4,
    "start_time": "2021-07-13T09:08:35.267Z"
   },
   {
    "duration": 18,
    "start_time": "2021-07-13T09:08:36.197Z"
   },
   {
    "duration": 18,
    "start_time": "2021-07-13T09:08:37.825Z"
   },
   {
    "duration": 7,
    "start_time": "2021-07-13T09:08:38.874Z"
   },
   {
    "duration": 9,
    "start_time": "2021-07-13T09:08:55.444Z"
   },
   {
    "duration": 20,
    "start_time": "2021-07-13T09:09:29.734Z"
   },
   {
    "duration": 19,
    "start_time": "2021-07-13T09:09:55.399Z"
   },
   {
    "duration": 9,
    "start_time": "2021-07-13T09:10:51.353Z"
   },
   {
    "duration": 9,
    "start_time": "2021-07-13T09:14:21.374Z"
   },
   {
    "duration": 2,
    "start_time": "2021-07-13T09:25:24.355Z"
   },
   {
    "duration": 3,
    "start_time": "2021-07-13T09:26:04.763Z"
   },
   {
    "duration": 3,
    "start_time": "2021-07-13T09:26:13.164Z"
   },
   {
    "duration": 8,
    "start_time": "2021-07-13T09:26:14.918Z"
   },
   {
    "duration": 6,
    "start_time": "2021-07-13T09:26:19.842Z"
   },
   {
    "duration": 6,
    "start_time": "2021-07-13T09:26:35.015Z"
   },
   {
    "duration": 2,
    "start_time": "2021-07-13T09:27:23.004Z"
   },
   {
    "duration": 7,
    "start_time": "2021-07-13T09:27:27.119Z"
   },
   {
    "duration": 7,
    "start_time": "2021-07-13T09:27:28.790Z"
   },
   {
    "duration": 7,
    "start_time": "2021-07-13T09:27:34.546Z"
   },
   {
    "duration": 7,
    "start_time": "2021-07-13T09:27:41.405Z"
   },
   {
    "duration": 7,
    "start_time": "2021-07-13T09:27:50.133Z"
   },
   {
    "duration": 3,
    "start_time": "2021-07-13T09:28:56.864Z"
   },
   {
    "duration": 298,
    "start_time": "2021-07-13T09:29:12.683Z"
   },
   {
    "duration": 1103,
    "start_time": "2021-07-13T09:29:33.949Z"
   },
   {
    "duration": 277,
    "start_time": "2021-07-13T09:29:35.054Z"
   },
   {
    "duration": 10,
    "start_time": "2021-07-13T09:29:35.333Z"
   },
   {
    "duration": 18,
    "start_time": "2021-07-13T09:29:35.345Z"
   },
   {
    "duration": 5,
    "start_time": "2021-07-13T09:29:35.364Z"
   },
   {
    "duration": 7,
    "start_time": "2021-07-13T09:29:35.371Z"
   },
   {
    "duration": 7,
    "start_time": "2021-07-13T09:29:35.380Z"
   },
   {
    "duration": 19,
    "start_time": "2021-07-13T09:29:35.389Z"
   },
   {
    "duration": 17,
    "start_time": "2021-07-13T09:29:35.410Z"
   },
   {
    "duration": 12,
    "start_time": "2021-07-13T09:29:35.429Z"
   },
   {
    "duration": 527,
    "start_time": "2021-07-13T09:29:35.443Z"
   },
   {
    "duration": 494,
    "start_time": "2021-07-13T09:29:35.972Z"
   },
   {
    "duration": 2,
    "start_time": "2021-07-13T09:29:36.468Z"
   },
   {
    "duration": 13,
    "start_time": "2021-07-13T09:29:36.472Z"
   },
   {
    "duration": 9,
    "start_time": "2021-07-13T09:29:36.487Z"
   },
   {
    "duration": 6,
    "start_time": "2021-07-13T09:29:36.498Z"
   },
   {
    "duration": 15,
    "start_time": "2021-07-13T09:29:36.505Z"
   },
   {
    "duration": 6,
    "start_time": "2021-07-13T09:29:36.521Z"
   },
   {
    "duration": 3,
    "start_time": "2021-07-13T09:29:36.529Z"
   },
   {
    "duration": 5,
    "start_time": "2021-07-13T09:29:36.541Z"
   },
   {
    "duration": 8,
    "start_time": "2021-07-13T09:29:36.547Z"
   },
   {
    "duration": 11,
    "start_time": "2021-07-13T09:29:36.557Z"
   },
   {
    "duration": 9,
    "start_time": "2021-07-13T09:29:36.572Z"
   },
   {
    "duration": 3,
    "start_time": "2021-07-13T09:29:36.583Z"
   },
   {
    "duration": 8,
    "start_time": "2021-07-13T09:29:36.588Z"
   },
   {
    "duration": 5,
    "start_time": "2021-07-13T09:29:36.598Z"
   },
   {
    "duration": 13,
    "start_time": "2021-07-13T09:29:36.604Z"
   },
   {
    "duration": 21,
    "start_time": "2021-07-13T09:29:36.641Z"
   },
   {
    "duration": 8,
    "start_time": "2021-07-13T09:29:36.664Z"
   },
   {
    "duration": 12,
    "start_time": "2021-07-13T09:29:36.674Z"
   },
   {
    "duration": 9,
    "start_time": "2021-07-13T09:29:36.687Z"
   },
   {
    "duration": 9,
    "start_time": "2021-07-13T09:29:36.697Z"
   },
   {
    "duration": 7,
    "start_time": "2021-07-13T09:29:36.708Z"
   },
   {
    "duration": 39,
    "start_time": "2021-07-13T09:29:36.716Z"
   },
   {
    "duration": 16,
    "start_time": "2021-07-13T09:29:36.757Z"
   },
   {
    "duration": 6,
    "start_time": "2021-07-13T09:29:36.775Z"
   },
   {
    "duration": 2,
    "start_time": "2021-07-13T09:29:36.783Z"
   },
   {
    "duration": 5,
    "start_time": "2021-07-13T09:29:36.787Z"
   },
   {
    "duration": 10,
    "start_time": "2021-07-13T09:29:36.793Z"
   },
   {
    "duration": 9,
    "start_time": "2021-07-13T09:29:36.805Z"
   },
   {
    "duration": 366,
    "start_time": "2021-07-13T09:29:36.841Z"
   },
   {
    "duration": -84,
    "start_time": "2021-07-13T09:29:37.293Z"
   },
   {
    "duration": -89,
    "start_time": "2021-07-13T09:29:37.299Z"
   },
   {
    "duration": -91,
    "start_time": "2021-07-13T09:29:37.302Z"
   },
   {
    "duration": -94,
    "start_time": "2021-07-13T09:29:37.306Z"
   },
   {
    "duration": -96,
    "start_time": "2021-07-13T09:29:37.309Z"
   },
   {
    "duration": 6,
    "start_time": "2021-07-13T09:31:19.846Z"
   },
   {
    "duration": 9,
    "start_time": "2021-07-13T09:31:28.560Z"
   },
   {
    "duration": 4,
    "start_time": "2021-07-13T09:31:47.177Z"
   },
   {
    "duration": 158,
    "start_time": "2021-07-13T09:33:20.473Z"
   },
   {
    "duration": 20,
    "start_time": "2021-07-13T09:34:34.741Z"
   },
   {
    "duration": 4,
    "start_time": "2021-07-13T09:35:37.631Z"
   },
   {
    "duration": 5,
    "start_time": "2021-07-13T09:35:46.478Z"
   },
   {
    "duration": 7,
    "start_time": "2021-07-13T09:35:59.589Z"
   },
   {
    "duration": 5,
    "start_time": "2021-07-13T09:36:05.899Z"
   },
   {
    "duration": 5,
    "start_time": "2021-07-13T09:36:20.718Z"
   },
   {
    "duration": 4,
    "start_time": "2021-07-13T09:41:09.110Z"
   },
   {
    "duration": 24,
    "start_time": "2021-07-13T09:41:41.113Z"
   },
   {
    "duration": 8,
    "start_time": "2021-07-13T09:41:50.162Z"
   },
   {
    "duration": 85,
    "start_time": "2021-07-13T09:41:53.991Z"
   },
   {
    "duration": 1240,
    "start_time": "2021-07-13T10:14:29.516Z"
   },
   {
    "duration": 2,
    "start_time": "2021-07-13T10:15:41.635Z"
   },
   {
    "duration": 4,
    "start_time": "2021-07-13T10:16:28.504Z"
   },
   {
    "duration": 2,
    "start_time": "2021-07-13T10:16:40.474Z"
   },
   {
    "duration": 4,
    "start_time": "2021-07-13T10:16:41.018Z"
   },
   {
    "duration": 4,
    "start_time": "2021-07-13T10:17:06.396Z"
   },
   {
    "duration": 4,
    "start_time": "2021-07-13T10:17:14.795Z"
   },
   {
    "duration": 4,
    "start_time": "2021-07-13T10:17:18.225Z"
   },
   {
    "duration": 4,
    "start_time": "2021-07-13T10:17:21.105Z"
   },
   {
    "duration": 3,
    "start_time": "2021-07-13T10:17:27.628Z"
   },
   {
    "duration": 1222,
    "start_time": "2021-07-13T10:19:33.973Z"
   },
   {
    "duration": 9,
    "start_time": "2021-07-13T10:19:48.262Z"
   },
   {
    "duration": 11,
    "start_time": "2021-07-13T10:20:02.993Z"
   },
   {
    "duration": 10,
    "start_time": "2021-07-13T10:20:47.380Z"
   },
   {
    "duration": 11,
    "start_time": "2021-07-13T10:20:54.236Z"
   },
   {
    "duration": 12,
    "start_time": "2021-07-13T10:24:52.967Z"
   },
   {
    "duration": 16,
    "start_time": "2021-07-13T10:25:06.347Z"
   },
   {
    "duration": 16,
    "start_time": "2021-07-13T10:25:25.645Z"
   },
   {
    "duration": 3,
    "start_time": "2021-07-13T10:27:57.018Z"
   },
   {
    "duration": 16,
    "start_time": "2021-07-13T10:28:56.380Z"
   },
   {
    "duration": 29,
    "start_time": "2021-07-13T10:29:04.134Z"
   },
   {
    "duration": 4,
    "start_time": "2021-07-13T10:29:27.675Z"
   },
   {
    "duration": 28,
    "start_time": "2021-07-13T10:29:31.267Z"
   },
   {
    "duration": 20,
    "start_time": "2021-07-13T10:29:42.641Z"
   },
   {
    "duration": 172,
    "start_time": "2021-07-13T10:30:21.747Z"
   },
   {
    "duration": 200,
    "start_time": "2021-07-13T10:30:32.142Z"
   },
   {
    "duration": 231,
    "start_time": "2021-07-13T10:30:36.370Z"
   },
   {
    "duration": 306,
    "start_time": "2021-07-13T10:30:42.992Z"
   },
   {
    "duration": 133,
    "start_time": "2021-07-13T10:30:54.724Z"
   },
   {
    "duration": 137,
    "start_time": "2021-07-13T10:31:14.624Z"
   },
   {
    "duration": 130,
    "start_time": "2021-07-13T10:31:36.503Z"
   },
   {
    "duration": 125,
    "start_time": "2021-07-13T10:31:44.193Z"
   },
   {
    "duration": 125,
    "start_time": "2021-07-13T10:32:08.084Z"
   },
   {
    "duration": 159,
    "start_time": "2021-07-13T10:32:39.161Z"
   },
   {
    "duration": 284,
    "start_time": "2021-07-13T10:32:46.987Z"
   },
   {
    "duration": 1640,
    "start_time": "2021-07-13T10:32:51.323Z"
   },
   {
    "duration": 414,
    "start_time": "2021-07-13T10:32:58.447Z"
   },
   {
    "duration": 4,
    "start_time": "2021-07-13T10:33:53.782Z"
   },
   {
    "duration": 3,
    "start_time": "2021-07-13T10:34:19.924Z"
   },
   {
    "duration": 3,
    "start_time": "2021-07-13T10:34:20.365Z"
   },
   {
    "duration": 5,
    "start_time": "2021-07-13T10:34:31.163Z"
   },
   {
    "duration": 4,
    "start_time": "2021-07-13T10:34:34.177Z"
   },
   {
    "duration": 4,
    "start_time": "2021-07-13T10:34:35.885Z"
   },
   {
    "duration": 4,
    "start_time": "2021-07-13T10:36:09.539Z"
   },
   {
    "duration": 107,
    "start_time": "2021-07-13T10:36:56.272Z"
   },
   {
    "duration": 113,
    "start_time": "2021-07-13T10:37:08.667Z"
   },
   {
    "duration": 235,
    "start_time": "2021-07-13T10:37:36.884Z"
   },
   {
    "duration": 4,
    "start_time": "2021-07-13T10:37:50.584Z"
   },
   {
    "duration": 6,
    "start_time": "2021-07-13T10:38:00.828Z"
   },
   {
    "duration": 6,
    "start_time": "2021-07-13T10:38:11.041Z"
   },
   {
    "duration": 694,
    "start_time": "2021-07-13T10:38:23.071Z"
   },
   {
    "duration": 9,
    "start_time": "2021-07-13T10:38:41.497Z"
   },
   {
    "duration": 6,
    "start_time": "2021-07-13T10:39:32.869Z"
   },
   {
    "duration": 3,
    "start_time": "2021-07-13T10:39:41.921Z"
   },
   {
    "duration": 5,
    "start_time": "2021-07-13T10:39:51.085Z"
   },
   {
    "duration": 4,
    "start_time": "2021-07-13T10:40:59.320Z"
   },
   {
    "duration": 4,
    "start_time": "2021-07-13T10:41:05.704Z"
   },
   {
    "duration": 5,
    "start_time": "2021-07-13T10:41:39.527Z"
   },
   {
    "duration": 5,
    "start_time": "2021-07-13T10:41:47.256Z"
   },
   {
    "duration": 5,
    "start_time": "2021-07-13T10:42:03.704Z"
   },
   {
    "duration": 746,
    "start_time": "2021-07-13T10:42:17.800Z"
   },
   {
    "duration": 295,
    "start_time": "2021-07-13T10:44:17.801Z"
   },
   {
    "duration": 3,
    "start_time": "2021-07-13T10:44:35.857Z"
   },
   {
    "duration": 297,
    "start_time": "2021-07-13T10:44:49.103Z"
   },
   {
    "duration": 1118,
    "start_time": "2021-07-13T10:45:41.931Z"
   },
   {
    "duration": 319,
    "start_time": "2021-07-13T10:45:43.050Z"
   },
   {
    "duration": 11,
    "start_time": "2021-07-13T10:45:43.371Z"
   },
   {
    "duration": 18,
    "start_time": "2021-07-13T10:45:43.383Z"
   },
   {
    "duration": 5,
    "start_time": "2021-07-13T10:45:43.402Z"
   },
   {
    "duration": 13,
    "start_time": "2021-07-13T10:45:43.409Z"
   },
   {
    "duration": 8,
    "start_time": "2021-07-13T10:45:43.424Z"
   },
   {
    "duration": 10,
    "start_time": "2021-07-13T10:45:43.434Z"
   },
   {
    "duration": 13,
    "start_time": "2021-07-13T10:45:43.446Z"
   },
   {
    "duration": 11,
    "start_time": "2021-07-13T10:45:43.461Z"
   },
   {
    "duration": 523,
    "start_time": "2021-07-13T10:45:43.473Z"
   },
   {
    "duration": 741,
    "start_time": "2021-07-13T10:45:43.998Z"
   },
   {
    "duration": 3,
    "start_time": "2021-07-13T10:45:44.741Z"
   },
   {
    "duration": 12,
    "start_time": "2021-07-13T10:45:44.745Z"
   },
   {
    "duration": 13,
    "start_time": "2021-07-13T10:45:44.758Z"
   },
   {
    "duration": 11,
    "start_time": "2021-07-13T10:45:44.773Z"
   },
   {
    "duration": 22,
    "start_time": "2021-07-13T10:45:44.785Z"
   },
   {
    "duration": 12,
    "start_time": "2021-07-13T10:45:44.809Z"
   },
   {
    "duration": 13,
    "start_time": "2021-07-13T10:45:44.822Z"
   },
   {
    "duration": 16,
    "start_time": "2021-07-13T10:45:44.836Z"
   },
   {
    "duration": 16,
    "start_time": "2021-07-13T10:45:44.853Z"
   },
   {
    "duration": 13,
    "start_time": "2021-07-13T10:45:44.871Z"
   },
   {
    "duration": 9,
    "start_time": "2021-07-13T10:45:44.888Z"
   },
   {
    "duration": 3,
    "start_time": "2021-07-13T10:45:44.899Z"
   },
   {
    "duration": 18,
    "start_time": "2021-07-13T10:45:44.904Z"
   },
   {
    "duration": 13,
    "start_time": "2021-07-13T10:45:44.923Z"
   },
   {
    "duration": 20,
    "start_time": "2021-07-13T10:45:44.937Z"
   },
   {
    "duration": 27,
    "start_time": "2021-07-13T10:45:44.958Z"
   },
   {
    "duration": 8,
    "start_time": "2021-07-13T10:45:44.987Z"
   },
   {
    "duration": 25,
    "start_time": "2021-07-13T10:45:44.997Z"
   },
   {
    "duration": 16,
    "start_time": "2021-07-13T10:45:45.024Z"
   },
   {
    "duration": 24,
    "start_time": "2021-07-13T10:45:45.042Z"
   },
   {
    "duration": 9,
    "start_time": "2021-07-13T10:45:45.068Z"
   },
   {
    "duration": 21,
    "start_time": "2021-07-13T10:45:45.078Z"
   },
   {
    "duration": 17,
    "start_time": "2021-07-13T10:45:45.100Z"
   },
   {
    "duration": 6,
    "start_time": "2021-07-13T10:45:45.118Z"
   },
   {
    "duration": 3,
    "start_time": "2021-07-13T10:45:45.126Z"
   },
   {
    "duration": 7,
    "start_time": "2021-07-13T10:45:45.130Z"
   },
   {
    "duration": 11,
    "start_time": "2021-07-13T10:45:45.138Z"
   },
   {
    "duration": 10,
    "start_time": "2021-07-13T10:45:45.150Z"
   },
   {
    "duration": 33,
    "start_time": "2021-07-13T10:45:45.161Z"
   },
   {
    "duration": 30,
    "start_time": "2021-07-13T10:45:45.195Z"
   },
   {
    "duration": 3,
    "start_time": "2021-07-13T10:45:45.227Z"
   },
   {
    "duration": 140,
    "start_time": "2021-07-13T10:45:45.231Z"
   },
   {
    "duration": 211,
    "start_time": "2021-07-13T10:45:45.373Z"
   },
   {
    "duration": 132,
    "start_time": "2021-07-13T10:45:45.585Z"
   },
   {
    "duration": 4,
    "start_time": "2021-07-13T10:45:45.718Z"
   },
   {
    "duration": 6,
    "start_time": "2021-07-13T10:45:45.723Z"
   },
   {
    "duration": 13,
    "start_time": "2021-07-13T10:45:45.731Z"
   },
   {
    "duration": 5,
    "start_time": "2021-07-13T10:45:45.746Z"
   },
   {
    "duration": 432,
    "start_time": "2021-07-13T10:45:45.752Z"
   },
   {
    "duration": -74,
    "start_time": "2021-07-13T10:45:46.260Z"
   },
   {
    "duration": -82,
    "start_time": "2021-07-13T10:45:46.269Z"
   },
   {
    "duration": 1224,
    "start_time": "2021-07-13T10:53:32.357Z"
   },
   {
    "duration": 196,
    "start_time": "2021-07-13T10:53:33.582Z"
   },
   {
    "duration": 10,
    "start_time": "2021-07-13T10:53:33.780Z"
   },
   {
    "duration": 354,
    "start_time": "2021-07-13T10:53:50.762Z"
   },
   {
    "duration": 11,
    "start_time": "2021-07-13T10:53:55.497Z"
   },
   {
    "duration": 7,
    "start_time": "2021-07-13T10:54:18.203Z"
   },
   {
    "duration": 8,
    "start_time": "2021-07-13T10:54:26.963Z"
   },
   {
    "duration": 11,
    "start_time": "2021-07-13T10:54:47.508Z"
   },
   {
    "duration": 15,
    "start_time": "2021-07-13T10:54:48.095Z"
   },
   {
    "duration": 6,
    "start_time": "2021-07-13T10:54:50.073Z"
   },
   {
    "duration": 7,
    "start_time": "2021-07-13T10:54:50.786Z"
   },
   {
    "duration": 8,
    "start_time": "2021-07-13T10:54:55.581Z"
   },
   {
    "duration": 5,
    "start_time": "2021-07-13T10:54:56.169Z"
   },
   {
    "duration": 12,
    "start_time": "2021-07-13T10:55:03.104Z"
   },
   {
    "duration": 12,
    "start_time": "2021-07-13T10:55:04.509Z"
   },
   {
    "duration": 623,
    "start_time": "2021-07-13T10:55:07.491Z"
   },
   {
    "duration": 536,
    "start_time": "2021-07-13T10:55:09.676Z"
   },
   {
    "duration": 3,
    "start_time": "2021-07-13T10:55:13.024Z"
   },
   {
    "duration": 2,
    "start_time": "2021-07-13T10:55:13.506Z"
   },
   {
    "duration": 3,
    "start_time": "2021-07-13T10:55:13.962Z"
   },
   {
    "duration": 4,
    "start_time": "2021-07-13T10:55:14.642Z"
   },
   {
    "duration": 9,
    "start_time": "2021-07-13T10:55:18.266Z"
   },
   {
    "duration": 10,
    "start_time": "2021-07-13T10:55:19.049Z"
   },
   {
    "duration": 3,
    "start_time": "2021-07-13T10:55:21.412Z"
   },
   {
    "duration": 6,
    "start_time": "2021-07-13T10:55:22.097Z"
   },
   {
    "duration": 4,
    "start_time": "2021-07-13T10:55:22.435Z"
   },
   {
    "duration": 13,
    "start_time": "2021-07-13T10:55:25.038Z"
   },
   {
    "duration": 12,
    "start_time": "2021-07-13T10:55:25.514Z"
   },
   {
    "duration": 3,
    "start_time": "2021-07-13T10:55:27.298Z"
   },
   {
    "duration": 6,
    "start_time": "2021-07-13T10:55:27.950Z"
   },
   {
    "duration": 6,
    "start_time": "2021-07-13T10:55:30.031Z"
   },
   {
    "duration": 10,
    "start_time": "2021-07-13T10:55:34.180Z"
   },
   {
    "duration": 24,
    "start_time": "2021-07-13T10:55:39.768Z"
   },
   {
    "duration": 10,
    "start_time": "2021-07-13T10:55:44.766Z"
   },
   {
    "duration": 20,
    "start_time": "2021-07-13T10:55:49.633Z"
   },
   {
    "duration": 10,
    "start_time": "2021-07-13T10:55:50.021Z"
   },
   {
    "duration": 4,
    "start_time": "2021-07-13T10:55:50.409Z"
   },
   {
    "duration": 5,
    "start_time": "2021-07-13T10:55:50.805Z"
   },
   {
    "duration": 27,
    "start_time": "2021-07-13T10:55:51.434Z"
   },
   {
    "duration": 17,
    "start_time": "2021-07-13T10:55:53.706Z"
   },
   {
    "duration": 6,
    "start_time": "2021-07-13T10:55:54.972Z"
   },
   {
    "duration": 12,
    "start_time": "2021-07-13T10:56:09.945Z"
   },
   {
    "duration": 2,
    "start_time": "2021-07-13T10:56:37.307Z"
   },
   {
    "duration": 5,
    "start_time": "2021-07-13T10:56:45.761Z"
   },
   {
    "duration": 13,
    "start_time": "2021-07-13T10:56:47.770Z"
   },
   {
    "duration": 18,
    "start_time": "2021-07-13T10:56:59.061Z"
   },
   {
    "duration": 10,
    "start_time": "2021-07-13T10:57:00.132Z"
   },
   {
    "duration": 12,
    "start_time": "2021-07-13T10:57:02.323Z"
   },
   {
    "duration": 75,
    "start_time": "2021-07-13T10:57:02.515Z"
   },
   {
    "duration": 4,
    "start_time": "2021-07-13T10:57:02.704Z"
   },
   {
    "duration": 5,
    "start_time": "2021-07-13T10:57:04.085Z"
   },
   {
    "duration": 17,
    "start_time": "2021-07-13T10:57:04.483Z"
   },
   {
    "duration": 18,
    "start_time": "2021-07-13T10:57:04.686Z"
   },
   {
    "duration": 7,
    "start_time": "2021-07-13T10:57:05.066Z"
   },
   {
    "duration": 11,
    "start_time": "2021-07-13T10:57:05.602Z"
   },
   {
    "duration": 5,
    "start_time": "2021-07-13T10:57:16.243Z"
   },
   {
    "duration": 4,
    "start_time": "2021-07-13T10:57:17.046Z"
   },
   {
    "duration": 9,
    "start_time": "2021-07-13T10:57:18.717Z"
   },
   {
    "duration": 7,
    "start_time": "2021-07-13T10:57:20.373Z"
   },
   {
    "duration": 17,
    "start_time": "2021-07-13T10:57:28.518Z"
   },
   {
    "duration": 24,
    "start_time": "2021-07-13T10:57:38.003Z"
   },
   {
    "duration": 5,
    "start_time": "2021-07-13T10:57:43.651Z"
   },
   {
    "duration": 20,
    "start_time": "2021-07-13T10:58:13.889Z"
   },
   {
    "duration": 2,
    "start_time": "2021-07-13T11:09:10.989Z"
   },
   {
    "duration": 5,
    "start_time": "2021-07-13T11:09:18.985Z"
   },
   {
    "duration": 3,
    "start_time": "2021-07-13T11:09:20.453Z"
   },
   {
    "duration": 6,
    "start_time": "2021-07-13T11:09:20.800Z"
   },
   {
    "duration": 7,
    "start_time": "2021-07-13T11:09:21.127Z"
   },
   {
    "duration": 18,
    "start_time": "2021-07-13T11:10:36.729Z"
   },
   {
    "duration": 163,
    "start_time": "2021-07-13T11:11:00.000Z"
   },
   {
    "duration": 16,
    "start_time": "2021-07-13T11:11:38.426Z"
   },
   {
    "duration": 9,
    "start_time": "2021-07-13T11:12:08.232Z"
   },
   {
    "duration": 536,
    "start_time": "2021-07-13T11:12:22.868Z"
   },
   {
    "duration": 12,
    "start_time": "2021-07-13T11:12:54.684Z"
   },
   {
    "duration": 314,
    "start_time": "2021-07-13T11:13:06.384Z"
   },
   {
    "duration": 9,
    "start_time": "2021-07-13T11:13:15.538Z"
   },
   {
    "duration": 13,
    "start_time": "2021-07-13T11:13:26.755Z"
   },
   {
    "duration": 7,
    "start_time": "2021-07-13T11:13:28.377Z"
   },
   {
    "duration": 12,
    "start_time": "2021-07-13T11:13:37.964Z"
   },
   {
    "duration": 6,
    "start_time": "2021-07-13T11:14:02.928Z"
   },
   {
    "duration": 274,
    "start_time": "2021-07-13T11:14:17.752Z"
   },
   {
    "duration": 281,
    "start_time": "2021-07-13T11:15:13.353Z"
   },
   {
    "duration": 440,
    "start_time": "2021-07-13T11:15:20.443Z"
   },
   {
    "duration": 290,
    "start_time": "2021-07-13T11:16:05.706Z"
   },
   {
    "duration": 11,
    "start_time": "2021-07-13T11:16:24.214Z"
   },
   {
    "duration": 9,
    "start_time": "2021-07-13T11:16:31.655Z"
   },
   {
    "duration": 12,
    "start_time": "2021-07-13T11:16:43.334Z"
   },
   {
    "duration": 17,
    "start_time": "2021-07-13T11:26:08.247Z"
   },
   {
    "duration": 11,
    "start_time": "2021-07-13T11:26:23.287Z"
   },
   {
    "duration": 102,
    "start_time": "2021-07-13T11:26:48.228Z"
   },
   {
    "duration": 19,
    "start_time": "2021-07-13T11:27:00.836Z"
   },
   {
    "duration": 12,
    "start_time": "2021-07-13T11:27:41.377Z"
   },
   {
    "duration": 9,
    "start_time": "2021-07-13T11:27:44.128Z"
   },
   {
    "duration": 5,
    "start_time": "2021-07-13T11:28:00.723Z"
   },
   {
    "duration": 19,
    "start_time": "2021-07-13T11:28:39.139Z"
   },
   {
    "duration": 5,
    "start_time": "2021-07-13T11:28:41.931Z"
   },
   {
    "duration": 4,
    "start_time": "2021-07-13T11:29:29.291Z"
   },
   {
    "duration": 15,
    "start_time": "2021-07-13T11:29:38.140Z"
   },
   {
    "duration": 11,
    "start_time": "2021-07-13T11:29:53.290Z"
   },
   {
    "duration": 12,
    "start_time": "2021-07-13T11:29:53.826Z"
   },
   {
    "duration": 5,
    "start_time": "2021-07-13T11:29:54.305Z"
   },
   {
    "duration": 4,
    "start_time": "2021-07-13T11:29:54.673Z"
   },
   {
    "duration": 8,
    "start_time": "2021-07-13T11:29:54.969Z"
   },
   {
    "duration": 4,
    "start_time": "2021-07-13T11:30:18.260Z"
   },
   {
    "duration": 8,
    "start_time": "2021-07-13T11:30:20.661Z"
   },
   {
    "duration": 3,
    "start_time": "2021-07-13T11:30:33.208Z"
   },
   {
    "duration": 8,
    "start_time": "2021-07-13T11:30:34.492Z"
   },
   {
    "duration": 164,
    "start_time": "2021-07-13T11:30:51.217Z"
   },
   {
    "duration": 20,
    "start_time": "2021-07-13T11:30:52.655Z"
   },
   {
    "duration": 32,
    "start_time": "2021-07-13T11:31:34.430Z"
   },
   {
    "duration": 10,
    "start_time": "2021-07-13T11:32:08.012Z"
   },
   {
    "duration": 10,
    "start_time": "2021-07-13T11:34:22.842Z"
   },
   {
    "duration": 9,
    "start_time": "2021-07-13T11:34:45.924Z"
   },
   {
    "duration": 21,
    "start_time": "2021-07-13T11:35:57.062Z"
   },
   {
    "duration": 22,
    "start_time": "2021-07-13T11:36:21.997Z"
   },
   {
    "duration": 1489,
    "start_time": "2021-07-14T07:25:34.869Z"
   },
   {
    "duration": 368,
    "start_time": "2021-07-14T07:25:36.361Z"
   },
   {
    "duration": 16,
    "start_time": "2021-07-14T07:25:36.736Z"
   },
   {
    "duration": 26,
    "start_time": "2021-07-14T07:25:36.754Z"
   },
   {
    "duration": 7,
    "start_time": "2021-07-14T07:25:36.783Z"
   },
   {
    "duration": 13,
    "start_time": "2021-07-14T07:25:36.793Z"
   },
   {
    "duration": 12,
    "start_time": "2021-07-14T07:25:36.811Z"
   },
   {
    "duration": 9,
    "start_time": "2021-07-14T07:25:36.826Z"
   },
   {
    "duration": 48,
    "start_time": "2021-07-14T07:25:36.837Z"
   },
   {
    "duration": 16,
    "start_time": "2021-07-14T07:25:36.888Z"
   },
   {
    "duration": 839,
    "start_time": "2021-07-14T07:25:36.907Z"
   },
   {
    "duration": 711,
    "start_time": "2021-07-14T07:25:37.748Z"
   },
   {
    "duration": 4,
    "start_time": "2021-07-14T07:25:38.462Z"
   },
   {
    "duration": 19,
    "start_time": "2021-07-14T07:25:38.469Z"
   },
   {
    "duration": 6,
    "start_time": "2021-07-14T07:25:38.491Z"
   },
   {
    "duration": 7,
    "start_time": "2021-07-14T07:25:38.500Z"
   },
   {
    "duration": 17,
    "start_time": "2021-07-14T07:25:38.510Z"
   },
   {
    "duration": 10,
    "start_time": "2021-07-14T07:25:38.529Z"
   },
   {
    "duration": 5,
    "start_time": "2021-07-14T07:25:38.542Z"
   },
   {
    "duration": 9,
    "start_time": "2021-07-14T07:25:38.586Z"
   },
   {
    "duration": 14,
    "start_time": "2021-07-14T07:25:38.598Z"
   },
   {
    "duration": 12,
    "start_time": "2021-07-14T07:25:38.619Z"
   },
   {
    "duration": 13,
    "start_time": "2021-07-14T07:25:38.634Z"
   },
   {
    "duration": 36,
    "start_time": "2021-07-14T07:25:38.650Z"
   },
   {
    "duration": 12,
    "start_time": "2021-07-14T07:25:38.689Z"
   },
   {
    "duration": 8,
    "start_time": "2021-07-14T07:25:38.703Z"
   },
   {
    "duration": 18,
    "start_time": "2021-07-14T07:25:38.713Z"
   },
   {
    "duration": 71,
    "start_time": "2021-07-14T07:25:38.734Z"
   },
   {
    "duration": 14,
    "start_time": "2021-07-14T07:25:38.807Z"
   },
   {
    "duration": 17,
    "start_time": "2021-07-14T07:25:38.823Z"
   },
   {
    "duration": 12,
    "start_time": "2021-07-14T07:25:38.842Z"
   },
   {
    "duration": 32,
    "start_time": "2021-07-14T07:25:38.857Z"
   },
   {
    "duration": 16,
    "start_time": "2021-07-14T07:25:38.891Z"
   },
   {
    "duration": 35,
    "start_time": "2021-07-14T07:25:38.909Z"
   },
   {
    "duration": 52,
    "start_time": "2021-07-14T07:25:38.948Z"
   },
   {
    "duration": 12,
    "start_time": "2021-07-14T07:25:39.003Z"
   },
   {
    "duration": 18,
    "start_time": "2021-07-14T07:25:39.018Z"
   },
   {
    "duration": 5,
    "start_time": "2021-07-14T07:25:39.039Z"
   },
   {
    "duration": 4,
    "start_time": "2021-07-14T07:25:39.086Z"
   },
   {
    "duration": 14,
    "start_time": "2021-07-14T07:25:39.094Z"
   },
   {
    "duration": 11,
    "start_time": "2021-07-14T07:25:39.111Z"
   },
   {
    "duration": 65,
    "start_time": "2021-07-14T07:25:39.125Z"
   },
   {
    "duration": 40,
    "start_time": "2021-07-14T07:25:39.193Z"
   },
   {
    "duration": 5,
    "start_time": "2021-07-14T07:25:39.236Z"
   },
   {
    "duration": 6,
    "start_time": "2021-07-14T07:25:39.244Z"
   },
   {
    "duration": 36,
    "start_time": "2021-07-14T07:25:39.252Z"
   },
   {
    "duration": 7,
    "start_time": "2021-07-14T07:25:39.291Z"
   },
   {
    "duration": 11,
    "start_time": "2021-07-14T07:25:39.301Z"
   },
   {
    "duration": 15,
    "start_time": "2021-07-14T07:25:39.315Z"
   },
   {
    "duration": 23,
    "start_time": "2021-07-14T07:25:39.332Z"
   },
   {
    "duration": 40,
    "start_time": "2021-07-14T07:25:39.357Z"
   },
   {
    "duration": 7,
    "start_time": "2021-07-14T07:25:39.400Z"
   },
   {
    "duration": 8,
    "start_time": "2021-07-14T07:25:39.410Z"
   },
   {
    "duration": 16,
    "start_time": "2021-07-14T07:25:39.421Z"
   },
   {
    "duration": 300,
    "start_time": "2021-07-14T07:25:39.440Z"
   },
   {
    "duration": 50,
    "start_time": "2021-07-14T07:25:39.742Z"
   },
   {
    "duration": 12,
    "start_time": "2021-07-14T07:25:39.795Z"
   },
   {
    "duration": 128,
    "start_time": "2021-07-14T07:25:39.809Z"
   },
   {
    "duration": 37,
    "start_time": "2021-07-14T07:30:05.601Z"
   },
   {
    "duration": 3,
    "start_time": "2021-07-14T07:30:32.435Z"
   },
   {
    "duration": 26,
    "start_time": "2021-07-14T07:31:44.701Z"
   },
   {
    "duration": 46,
    "start_time": "2021-07-14T07:32:11.134Z"
   },
   {
    "duration": 4,
    "start_time": "2021-07-14T07:32:56.530Z"
   },
   {
    "duration": 3,
    "start_time": "2021-07-14T07:32:58.231Z"
   },
   {
    "duration": 6,
    "start_time": "2021-07-14T07:34:24.754Z"
   },
   {
    "duration": 12,
    "start_time": "2021-07-14T07:34:25.397Z"
   },
   {
    "duration": 280,
    "start_time": "2021-07-14T07:34:50.766Z"
   },
   {
    "duration": 278,
    "start_time": "2021-07-14T07:34:59.489Z"
   },
   {
    "duration": 305,
    "start_time": "2021-07-14T07:35:08.887Z"
   },
   {
    "duration": 12,
    "start_time": "2021-07-14T07:48:41.256Z"
   },
   {
    "duration": 427,
    "start_time": "2021-07-14T07:48:56.669Z"
   },
   {
    "duration": 270,
    "start_time": "2021-07-14T07:49:08.156Z"
   },
   {
    "duration": 394,
    "start_time": "2021-07-14T07:49:19.898Z"
   },
   {
    "duration": 365,
    "start_time": "2021-07-14T07:49:23.767Z"
   },
   {
    "duration": 356,
    "start_time": "2021-07-14T07:49:40.554Z"
   },
   {
    "duration": 6,
    "start_time": "2021-07-14T07:50:00.594Z"
   },
   {
    "duration": 211,
    "start_time": "2021-07-14T07:50:16.233Z"
   },
   {
    "duration": 198,
    "start_time": "2021-07-14T07:50:20.712Z"
   },
   {
    "duration": 196,
    "start_time": "2021-07-14T07:53:31.735Z"
   },
   {
    "duration": 309,
    "start_time": "2021-07-14T07:54:36.253Z"
   },
   {
    "duration": 313,
    "start_time": "2021-07-14T07:55:34.326Z"
   },
   {
    "duration": 370,
    "start_time": "2021-07-14T07:55:59.028Z"
   },
   {
    "duration": 677,
    "start_time": "2021-07-14T07:58:14.418Z"
   },
   {
    "duration": 392,
    "start_time": "2021-07-14T07:58:26.556Z"
   },
   {
    "duration": 355,
    "start_time": "2021-07-14T07:58:32.319Z"
   },
   {
    "duration": 351,
    "start_time": "2021-07-14T07:59:14.499Z"
   },
   {
    "duration": 353,
    "start_time": "2021-07-14T07:59:45.623Z"
   },
   {
    "duration": 346,
    "start_time": "2021-07-14T08:01:08.294Z"
   },
   {
    "duration": 189,
    "start_time": "2021-07-14T08:01:19.617Z"
   },
   {
    "duration": 8,
    "start_time": "2021-07-14T08:01:44.799Z"
   },
   {
    "duration": 9,
    "start_time": "2021-07-14T08:01:56.211Z"
   },
   {
    "duration": 335,
    "start_time": "2021-07-14T08:02:41.141Z"
   },
   {
    "duration": 10,
    "start_time": "2021-07-14T08:02:49.694Z"
   },
   {
    "duration": 10,
    "start_time": "2021-07-14T08:02:58.071Z"
   },
   {
    "duration": 15,
    "start_time": "2021-07-14T08:04:04.626Z"
   },
   {
    "duration": 11,
    "start_time": "2021-07-14T08:05:29.173Z"
   },
   {
    "duration": 9,
    "start_time": "2021-07-14T08:06:03.668Z"
   },
   {
    "duration": 11,
    "start_time": "2021-07-14T08:07:01.218Z"
   },
   {
    "duration": 728,
    "start_time": "2021-07-14T08:09:02.681Z"
   },
   {
    "duration": 12,
    "start_time": "2021-07-14T08:09:10.150Z"
   },
   {
    "duration": 12,
    "start_time": "2021-07-14T08:10:55.681Z"
   },
   {
    "duration": 11,
    "start_time": "2021-07-14T08:13:21.122Z"
   },
   {
    "duration": 15,
    "start_time": "2021-07-14T08:13:46.648Z"
   },
   {
    "duration": 10,
    "start_time": "2021-07-14T08:14:03.951Z"
   },
   {
    "duration": 13,
    "start_time": "2021-07-14T08:14:12.948Z"
   },
   {
    "duration": 11,
    "start_time": "2021-07-14T08:14:27.809Z"
   },
   {
    "duration": 12,
    "start_time": "2021-07-14T08:16:44.193Z"
   },
   {
    "duration": 12,
    "start_time": "2021-07-14T08:16:56.404Z"
   },
   {
    "duration": 13,
    "start_time": "2021-07-14T08:17:27.591Z"
   },
   {
    "duration": 15,
    "start_time": "2021-07-14T08:18:13.902Z"
   },
   {
    "duration": 16,
    "start_time": "2021-07-14T08:18:41.594Z"
   },
   {
    "duration": 316,
    "start_time": "2021-07-14T08:19:38.736Z"
   },
   {
    "duration": 24,
    "start_time": "2021-07-14T08:19:49.538Z"
   },
   {
    "duration": 30,
    "start_time": "2021-07-14T08:21:16.229Z"
   },
   {
    "duration": 1555,
    "start_time": "2021-07-14T08:26:51.306Z"
   },
   {
    "duration": 370,
    "start_time": "2021-07-14T08:26:52.864Z"
   },
   {
    "duration": 15,
    "start_time": "2021-07-14T08:26:53.237Z"
   },
   {
    "duration": 26,
    "start_time": "2021-07-14T08:26:53.255Z"
   },
   {
    "duration": 9,
    "start_time": "2021-07-14T08:26:53.283Z"
   },
   {
    "duration": 9,
    "start_time": "2021-07-14T08:26:53.295Z"
   },
   {
    "duration": 12,
    "start_time": "2021-07-14T08:26:53.308Z"
   },
   {
    "duration": 8,
    "start_time": "2021-07-14T08:26:53.326Z"
   },
   {
    "duration": 61,
    "start_time": "2021-07-14T08:26:53.338Z"
   },
   {
    "duration": 19,
    "start_time": "2021-07-14T08:26:53.401Z"
   },
   {
    "duration": 865,
    "start_time": "2021-07-14T08:26:53.422Z"
   },
   {
    "duration": 688,
    "start_time": "2021-07-14T08:26:54.290Z"
   },
   {
    "duration": 5,
    "start_time": "2021-07-14T08:26:54.981Z"
   },
   {
    "duration": 8,
    "start_time": "2021-07-14T08:26:54.992Z"
   },
   {
    "duration": 6,
    "start_time": "2021-07-14T08:26:55.002Z"
   },
   {
    "duration": 8,
    "start_time": "2021-07-14T08:26:55.011Z"
   },
   {
    "duration": 22,
    "start_time": "2021-07-14T08:26:55.021Z"
   },
   {
    "duration": 48,
    "start_time": "2021-07-14T08:26:55.046Z"
   },
   {
    "duration": 5,
    "start_time": "2021-07-14T08:26:55.096Z"
   },
   {
    "duration": 12,
    "start_time": "2021-07-14T08:26:55.104Z"
   },
   {
    "duration": 12,
    "start_time": "2021-07-14T08:26:55.119Z"
   },
   {
    "duration": 52,
    "start_time": "2021-07-14T08:26:55.133Z"
   },
   {
    "duration": 15,
    "start_time": "2021-07-14T08:26:55.191Z"
   },
   {
    "duration": 4,
    "start_time": "2021-07-14T08:26:55.211Z"
   },
   {
    "duration": 9,
    "start_time": "2021-07-14T08:26:55.218Z"
   },
   {
    "duration": 8,
    "start_time": "2021-07-14T08:26:55.230Z"
   },
   {
    "duration": 55,
    "start_time": "2021-07-14T08:26:55.241Z"
   },
   {
    "duration": 12,
    "start_time": "2021-07-14T08:26:55.299Z"
   },
   {
    "duration": 75,
    "start_time": "2021-07-14T08:26:55.314Z"
   },
   {
    "duration": 16,
    "start_time": "2021-07-14T08:26:55.392Z"
   },
   {
    "duration": 19,
    "start_time": "2021-07-14T08:26:55.411Z"
   },
   {
    "duration": 14,
    "start_time": "2021-07-14T08:26:55.432Z"
   },
   {
    "duration": 41,
    "start_time": "2021-07-14T08:26:55.449Z"
   },
   {
    "duration": 10,
    "start_time": "2021-07-14T08:26:55.493Z"
   },
   {
    "duration": 37,
    "start_time": "2021-07-14T08:26:55.505Z"
   },
   {
    "duration": 62,
    "start_time": "2021-07-14T08:26:55.545Z"
   },
   {
    "duration": 11,
    "start_time": "2021-07-14T08:26:55.610Z"
   },
   {
    "duration": 17,
    "start_time": "2021-07-14T08:26:55.623Z"
   },
   {
    "duration": 5,
    "start_time": "2021-07-14T08:26:55.642Z"
   },
   {
    "duration": 37,
    "start_time": "2021-07-14T08:26:55.650Z"
   },
   {
    "duration": 15,
    "start_time": "2021-07-14T08:26:55.690Z"
   },
   {
    "duration": 14,
    "start_time": "2021-07-14T08:26:55.707Z"
   },
   {
    "duration": 30,
    "start_time": "2021-07-14T08:26:55.723Z"
   },
   {
    "duration": 25,
    "start_time": "2021-07-14T08:26:55.787Z"
   },
   {
    "duration": 41,
    "start_time": "2021-07-14T08:26:55.814Z"
   },
   {
    "duration": 28,
    "start_time": "2021-07-14T08:26:55.857Z"
   },
   {
    "duration": 5,
    "start_time": "2021-07-14T08:26:55.888Z"
   },
   {
    "duration": 6,
    "start_time": "2021-07-14T08:26:55.895Z"
   },
   {
    "duration": 10,
    "start_time": "2021-07-14T08:26:55.904Z"
   },
   {
    "duration": 15,
    "start_time": "2021-07-14T08:26:55.916Z"
   },
   {
    "duration": 4,
    "start_time": "2021-07-14T08:26:55.934Z"
   },
   {
    "duration": 12,
    "start_time": "2021-07-14T08:26:55.941Z"
   },
   {
    "duration": 38,
    "start_time": "2021-07-14T08:26:55.955Z"
   },
   {
    "duration": 43,
    "start_time": "2021-07-14T08:26:55.995Z"
   },
   {
    "duration": 47,
    "start_time": "2021-07-14T08:26:56.041Z"
   },
   {
    "duration": 19,
    "start_time": "2021-07-14T08:26:56.090Z"
   },
   {
    "duration": 7,
    "start_time": "2021-07-14T08:26:56.111Z"
   },
   {
    "duration": 9,
    "start_time": "2021-07-14T08:26:56.121Z"
   },
   {
    "duration": 13,
    "start_time": "2021-07-14T08:26:56.132Z"
   },
   {
    "duration": 307,
    "start_time": "2021-07-14T08:26:56.147Z"
   },
   {
    "duration": 51,
    "start_time": "2021-07-14T08:26:56.456Z"
   },
   {
    "duration": 13,
    "start_time": "2021-07-14T08:26:56.510Z"
   },
   {
    "duration": 132,
    "start_time": "2021-07-14T08:26:56.525Z"
   },
   {
    "duration": 6,
    "start_time": "2021-07-14T08:33:03.077Z"
   },
   {
    "duration": 36,
    "start_time": "2021-07-14T08:33:50.033Z"
   },
   {
    "duration": 28,
    "start_time": "2021-07-14T08:34:27.183Z"
   },
   {
    "duration": 516,
    "start_time": "2021-07-14T08:36:52.104Z"
   },
   {
    "duration": 6,
    "start_time": "2021-07-14T08:36:57.445Z"
   },
   {
    "duration": 801,
    "start_time": "2021-07-14T08:37:04.855Z"
   },
   {
    "duration": 8,
    "start_time": "2021-07-14T08:38:15.654Z"
   },
   {
    "duration": 7,
    "start_time": "2021-07-14T08:38:29.625Z"
   },
   {
    "duration": 17,
    "start_time": "2021-07-14T08:38:37.687Z"
   },
   {
    "duration": 414,
    "start_time": "2021-07-14T08:39:55.084Z"
   },
   {
    "duration": 49,
    "start_time": "2021-07-14T08:40:01.059Z"
   },
   {
    "duration": 17,
    "start_time": "2021-07-14T08:40:20.955Z"
   },
   {
    "duration": 16,
    "start_time": "2021-07-14T08:40:27.036Z"
   },
   {
    "duration": 327,
    "start_time": "2021-07-14T08:43:20.517Z"
   },
   {
    "duration": 21,
    "start_time": "2021-07-14T08:43:28.232Z"
   },
   {
    "duration": 23,
    "start_time": "2021-07-14T08:44:30.554Z"
   },
   {
    "duration": 25,
    "start_time": "2021-07-14T08:44:59.324Z"
   },
   {
    "duration": 18,
    "start_time": "2021-07-14T08:45:29.387Z"
   },
   {
    "duration": 17,
    "start_time": "2021-07-14T08:47:44.142Z"
   },
   {
    "duration": 9,
    "start_time": "2021-07-14T08:50:07.714Z"
   },
   {
    "duration": 13,
    "start_time": "2021-07-14T08:50:19.485Z"
   },
   {
    "duration": 14,
    "start_time": "2021-07-14T08:50:22.641Z"
   },
   {
    "duration": 13,
    "start_time": "2021-07-14T08:50:29.112Z"
   },
   {
    "duration": 12,
    "start_time": "2021-07-14T08:50:53.608Z"
   },
   {
    "duration": 10,
    "start_time": "2021-07-14T08:50:55.753Z"
   },
   {
    "duration": 14,
    "start_time": "2021-07-14T08:50:56.213Z"
   },
   {
    "duration": 261,
    "start_time": "2021-07-14T08:51:52.625Z"
   },
   {
    "duration": 270,
    "start_time": "2021-07-14T08:52:01.227Z"
   },
   {
    "duration": 315,
    "start_time": "2021-07-14T08:52:29.945Z"
   },
   {
    "duration": 95,
    "start_time": "2021-07-14T08:57:22.145Z"
   },
   {
    "duration": 898,
    "start_time": "2021-07-14T08:57:37.180Z"
   },
   {
    "duration": 1240,
    "start_time": "2021-07-14T08:58:28.471Z"
   },
   {
    "duration": 314,
    "start_time": "2021-07-14T08:58:42.574Z"
   },
   {
    "duration": 547,
    "start_time": "2021-07-14T09:02:20.892Z"
   },
   {
    "duration": 526,
    "start_time": "2021-07-14T09:03:22.892Z"
   },
   {
    "duration": 467,
    "start_time": "2021-07-14T09:03:32.007Z"
   },
   {
    "duration": 854,
    "start_time": "2021-07-14T09:04:36.165Z"
   },
   {
    "duration": 486,
    "start_time": "2021-07-14T09:04:44.907Z"
   },
   {
    "duration": 490,
    "start_time": "2021-07-14T09:04:52.139Z"
   },
   {
    "duration": 490,
    "start_time": "2021-07-14T09:05:17.899Z"
   },
   {
    "duration": 476,
    "start_time": "2021-07-14T09:05:26.485Z"
   },
   {
    "duration": 484,
    "start_time": "2021-07-14T09:05:34.574Z"
   },
   {
    "duration": 673,
    "start_time": "2021-07-14T09:06:20.301Z"
   },
   {
    "duration": 477,
    "start_time": "2021-07-14T09:06:27.520Z"
   },
   {
    "duration": 459,
    "start_time": "2021-07-14T09:08:08.239Z"
   },
   {
    "duration": 492,
    "start_time": "2021-07-14T09:08:17.535Z"
   },
   {
    "duration": 285,
    "start_time": "2021-07-14T09:09:38.825Z"
   },
   {
    "duration": 437,
    "start_time": "2021-07-14T09:10:30.259Z"
   },
   {
    "duration": 284,
    "start_time": "2021-07-14T09:10:38.597Z"
   },
   {
    "duration": 258,
    "start_time": "2021-07-14T09:11:02.894Z"
   },
   {
    "duration": 262,
    "start_time": "2021-07-14T09:11:26.313Z"
   },
   {
    "duration": 17,
    "start_time": "2021-07-14T09:13:23.575Z"
   },
   {
    "duration": 33,
    "start_time": "2021-07-14T09:14:14.613Z"
   },
   {
    "duration": 267,
    "start_time": "2021-07-14T09:15:34.414Z"
   },
   {
    "duration": 32,
    "start_time": "2021-07-14T09:15:40.715Z"
   },
   {
    "duration": 34,
    "start_time": "2021-07-14T09:15:57.667Z"
   },
   {
    "duration": 6,
    "start_time": "2021-07-14T09:17:12.176Z"
   },
   {
    "duration": 20,
    "start_time": "2021-07-14T09:17:53.639Z"
   },
   {
    "duration": 22,
    "start_time": "2021-07-14T09:18:05.797Z"
   },
   {
    "duration": 12,
    "start_time": "2021-07-14T09:19:11.031Z"
   },
   {
    "duration": 8,
    "start_time": "2021-07-14T09:19:32.546Z"
   },
   {
    "duration": 24,
    "start_time": "2021-07-14T09:20:13.424Z"
   },
   {
    "duration": 24,
    "start_time": "2021-07-14T09:20:53.714Z"
   },
   {
    "duration": 418,
    "start_time": "2021-07-14T11:11:13.448Z"
   },
   {
    "duration": 1427,
    "start_time": "2021-07-14T11:11:27.741Z"
   },
   {
    "duration": 317,
    "start_time": "2021-07-14T11:11:29.171Z"
   },
   {
    "duration": 15,
    "start_time": "2021-07-14T11:11:29.494Z"
   },
   {
    "duration": 31,
    "start_time": "2021-07-14T11:11:29.512Z"
   },
   {
    "duration": 8,
    "start_time": "2021-07-14T11:11:29.545Z"
   },
   {
    "duration": 17,
    "start_time": "2021-07-14T11:11:29.556Z"
   },
   {
    "duration": 31,
    "start_time": "2021-07-14T11:11:29.578Z"
   },
   {
    "duration": 12,
    "start_time": "2021-07-14T11:11:29.613Z"
   },
   {
    "duration": 20,
    "start_time": "2021-07-14T11:11:29.628Z"
   },
   {
    "duration": 50,
    "start_time": "2021-07-14T11:11:29.651Z"
   },
   {
    "duration": 827,
    "start_time": "2021-07-14T11:11:29.703Z"
   },
   {
    "duration": 627,
    "start_time": "2021-07-14T11:11:30.534Z"
   },
   {
    "duration": 5,
    "start_time": "2021-07-14T11:11:31.165Z"
   },
   {
    "duration": 28,
    "start_time": "2021-07-14T11:11:31.173Z"
   },
   {
    "duration": 10,
    "start_time": "2021-07-14T11:11:31.203Z"
   },
   {
    "duration": 10,
    "start_time": "2021-07-14T11:11:31.216Z"
   },
   {
    "duration": 27,
    "start_time": "2021-07-14T11:11:31.228Z"
   },
   {
    "duration": 11,
    "start_time": "2021-07-14T11:11:31.257Z"
   },
   {
    "duration": 30,
    "start_time": "2021-07-14T11:11:31.271Z"
   },
   {
    "duration": 14,
    "start_time": "2021-07-14T11:11:31.304Z"
   },
   {
    "duration": 24,
    "start_time": "2021-07-14T11:11:31.321Z"
   },
   {
    "duration": 25,
    "start_time": "2021-07-14T11:11:31.352Z"
   },
   {
    "duration": 18,
    "start_time": "2021-07-14T11:11:31.382Z"
   },
   {
    "duration": 4,
    "start_time": "2021-07-14T11:11:31.403Z"
   },
   {
    "duration": 15,
    "start_time": "2021-07-14T11:11:31.410Z"
   },
   {
    "duration": 15,
    "start_time": "2021-07-14T11:11:31.427Z"
   },
   {
    "duration": 18,
    "start_time": "2021-07-14T11:11:31.445Z"
   },
   {
    "duration": 37,
    "start_time": "2021-07-14T11:11:31.465Z"
   },
   {
    "duration": 34,
    "start_time": "2021-07-14T11:11:31.504Z"
   },
   {
    "duration": 14,
    "start_time": "2021-07-14T11:11:31.540Z"
   },
   {
    "duration": 48,
    "start_time": "2021-07-14T11:11:31.557Z"
   },
   {
    "duration": 13,
    "start_time": "2021-07-14T11:11:31.608Z"
   },
   {
    "duration": 16,
    "start_time": "2021-07-14T11:11:31.624Z"
   },
   {
    "duration": 17,
    "start_time": "2021-07-14T11:11:31.642Z"
   },
   {
    "duration": 39,
    "start_time": "2021-07-14T11:11:31.662Z"
   },
   {
    "duration": 26,
    "start_time": "2021-07-14T11:11:31.704Z"
   },
   {
    "duration": 9,
    "start_time": "2021-07-14T11:11:31.732Z"
   },
   {
    "duration": 17,
    "start_time": "2021-07-14T11:11:31.744Z"
   },
   {
    "duration": 38,
    "start_time": "2021-07-14T11:11:31.763Z"
   },
   {
    "duration": 11,
    "start_time": "2021-07-14T11:11:31.804Z"
   },
   {
    "duration": 24,
    "start_time": "2021-07-14T11:11:31.817Z"
   },
   {
    "duration": 19,
    "start_time": "2021-07-14T11:11:31.844Z"
   },
   {
    "duration": 43,
    "start_time": "2021-07-14T11:11:31.866Z"
   },
   {
    "duration": 25,
    "start_time": "2021-07-14T11:11:31.912Z"
   },
   {
    "duration": 64,
    "start_time": "2021-07-14T11:11:31.939Z"
   },
   {
    "duration": 5,
    "start_time": "2021-07-14T11:11:32.005Z"
   },
   {
    "duration": 36,
    "start_time": "2021-07-14T11:11:32.013Z"
   },
   {
    "duration": 9,
    "start_time": "2021-07-14T11:11:32.051Z"
   },
   {
    "duration": 17,
    "start_time": "2021-07-14T11:11:32.062Z"
   },
   {
    "duration": 4,
    "start_time": "2021-07-14T11:11:32.101Z"
   },
   {
    "duration": 17,
    "start_time": "2021-07-14T11:11:32.108Z"
   },
   {
    "duration": 17,
    "start_time": "2021-07-14T11:11:32.128Z"
   },
   {
    "duration": 32,
    "start_time": "2021-07-14T11:11:32.148Z"
   },
   {
    "duration": 48,
    "start_time": "2021-07-14T11:11:32.182Z"
   },
   {
    "duration": 18,
    "start_time": "2021-07-14T11:11:32.232Z"
   },
   {
    "duration": 7,
    "start_time": "2021-07-14T11:11:32.253Z"
   },
   {
    "duration": 9,
    "start_time": "2021-07-14T11:11:32.263Z"
   },
   {
    "duration": 35,
    "start_time": "2021-07-14T11:11:32.274Z"
   },
   {
    "duration": 14,
    "start_time": "2021-07-14T11:11:32.312Z"
   },
   {
    "duration": 19,
    "start_time": "2021-07-14T11:11:32.328Z"
   },
   {
    "duration": 279,
    "start_time": "2021-07-14T11:11:32.349Z"
   },
   {
    "duration": 338,
    "start_time": "2021-07-14T11:11:32.631Z"
   },
   {
    "duration": 46,
    "start_time": "2021-07-14T11:11:32.972Z"
   },
   {
    "duration": 13,
    "start_time": "2021-07-14T11:11:33.020Z"
   },
   {
    "duration": 56,
    "start_time": "2021-07-14T11:11:33.036Z"
   },
   {
    "duration": 29,
    "start_time": "2021-07-14T11:11:33.094Z"
   },
   {
    "duration": 7,
    "start_time": "2021-07-14T11:11:33.130Z"
   },
   {
    "duration": 10,
    "start_time": "2021-07-14T11:11:33.139Z"
   },
   {
    "duration": 410,
    "start_time": "2021-07-14T11:12:21.874Z"
   },
   {
    "duration": 42,
    "start_time": "2021-07-14T11:12:26.176Z"
   },
   {
    "duration": 6,
    "start_time": "2021-07-14T11:12:55.660Z"
   },
   {
    "duration": 43,
    "start_time": "2021-07-14T11:13:19.193Z"
   },
   {
    "duration": 9,
    "start_time": "2021-07-14T11:14:19.713Z"
   },
   {
    "duration": 1915,
    "start_time": "2021-07-14T11:14:34.575Z"
   },
   {
    "duration": 1848,
    "start_time": "2021-07-14T11:15:12.942Z"
   },
   {
    "duration": 1944,
    "start_time": "2021-07-14T11:15:22.031Z"
   },
   {
    "duration": 44,
    "start_time": "2021-07-14T11:15:42.378Z"
   },
   {
    "duration": 8,
    "start_time": "2021-07-14T11:16:15.819Z"
   },
   {
    "duration": 6,
    "start_time": "2021-07-14T11:16:34.495Z"
   },
   {
    "duration": 7,
    "start_time": "2021-07-14T11:16:39.005Z"
   },
   {
    "duration": 285,
    "start_time": "2021-07-14T11:16:49.839Z"
   },
   {
    "duration": 325,
    "start_time": "2021-07-14T11:19:07.203Z"
   },
   {
    "duration": 319,
    "start_time": "2021-07-14T11:19:16.962Z"
   },
   {
    "duration": 5,
    "start_time": "2021-07-14T11:23:05.729Z"
   },
   {
    "duration": 13,
    "start_time": "2021-07-14T11:23:12.812Z"
   },
   {
    "duration": 343,
    "start_time": "2021-07-14T11:28:31.380Z"
   },
   {
    "duration": 296,
    "start_time": "2021-07-14T11:30:30.962Z"
   },
   {
    "duration": 666,
    "start_time": "2021-07-14T11:31:02.225Z"
   },
   {
    "duration": 636,
    "start_time": "2021-07-14T11:31:12.180Z"
   },
   {
    "duration": 779,
    "start_time": "2021-07-14T11:31:32.176Z"
   },
   {
    "duration": 930,
    "start_time": "2021-07-14T11:31:39.116Z"
   },
   {
    "duration": 744,
    "start_time": "2021-07-14T11:31:44.310Z"
   },
   {
    "duration": 814,
    "start_time": "2021-07-14T11:32:09.078Z"
   },
   {
    "duration": 969,
    "start_time": "2021-07-14T11:32:19.517Z"
   },
   {
    "duration": 836,
    "start_time": "2021-07-14T11:32:40.010Z"
   },
   {
    "duration": 1114,
    "start_time": "2021-07-14T11:50:09.798Z"
   },
   {
    "duration": 965,
    "start_time": "2021-07-14T11:50:29.621Z"
   },
   {
    "duration": 856,
    "start_time": "2021-07-14T11:50:37.399Z"
   },
   {
    "duration": 854,
    "start_time": "2021-07-14T11:51:24.560Z"
   },
   {
    "duration": 880,
    "start_time": "2021-07-14T11:51:35.207Z"
   },
   {
    "duration": 984,
    "start_time": "2021-07-14T11:55:28.226Z"
   },
   {
    "duration": 866,
    "start_time": "2021-07-14T11:56:07.237Z"
   },
   {
    "duration": 862,
    "start_time": "2021-07-14T11:56:22.120Z"
   },
   {
    "duration": 885,
    "start_time": "2021-07-14T11:56:44.196Z"
   },
   {
    "duration": 1011,
    "start_time": "2021-07-14T11:57:03.377Z"
   },
   {
    "duration": 937,
    "start_time": "2021-07-14T11:57:35.713Z"
   },
   {
    "duration": 1215,
    "start_time": "2021-07-14T11:57:50.895Z"
   },
   {
    "duration": 10,
    "start_time": "2021-07-14T12:05:01.342Z"
   },
   {
    "duration": 87,
    "start_time": "2021-07-14T12:06:08.553Z"
   },
   {
    "duration": 13,
    "start_time": "2021-07-14T12:06:16.809Z"
   },
   {
    "duration": 9,
    "start_time": "2021-07-14T12:06:23.115Z"
   },
   {
    "duration": 64,
    "start_time": "2021-07-14T12:07:08.930Z"
   },
   {
    "duration": 12,
    "start_time": "2021-07-14T12:07:16.822Z"
   },
   {
    "duration": 283,
    "start_time": "2021-07-14T12:07:17.363Z"
   },
   {
    "duration": 34,
    "start_time": "2021-07-14T12:07:36.282Z"
   },
   {
    "duration": 11,
    "start_time": "2021-07-14T12:07:40.164Z"
   },
   {
    "duration": 301,
    "start_time": "2021-07-14T12:07:50.116Z"
   },
   {
    "duration": 371,
    "start_time": "2021-07-14T12:07:55.633Z"
   },
   {
    "duration": 32,
    "start_time": "2021-07-14T12:08:10.335Z"
   },
   {
    "duration": 13,
    "start_time": "2021-07-14T12:08:51.217Z"
   },
   {
    "duration": 33,
    "start_time": "2021-07-14T12:08:52.736Z"
   },
   {
    "duration": 39,
    "start_time": "2021-07-14T12:09:13.103Z"
   },
   {
    "duration": 42,
    "start_time": "2021-07-14T12:10:15.529Z"
   },
   {
    "duration": 13,
    "start_time": "2021-07-14T12:10:17.408Z"
   },
   {
    "duration": 46,
    "start_time": "2021-07-14T12:10:18.345Z"
   },
   {
    "duration": 15,
    "start_time": "2021-07-14T12:10:36.344Z"
   },
   {
    "duration": 36,
    "start_time": "2021-07-14T12:10:36.892Z"
   },
   {
    "duration": 13,
    "start_time": "2021-07-14T12:11:20.221Z"
   },
   {
    "duration": 38,
    "start_time": "2021-07-14T12:11:20.711Z"
   },
   {
    "duration": 13,
    "start_time": "2021-07-14T12:11:44.823Z"
   },
   {
    "duration": 41,
    "start_time": "2021-07-14T12:11:45.230Z"
   },
   {
    "duration": 14,
    "start_time": "2021-07-14T12:14:00.124Z"
   },
   {
    "duration": 48,
    "start_time": "2021-07-14T12:14:22.810Z"
   },
   {
    "duration": 14,
    "start_time": "2021-07-14T12:15:56.161Z"
   },
   {
    "duration": 48,
    "start_time": "2021-07-14T12:16:16.403Z"
   },
   {
    "duration": 48,
    "start_time": "2021-07-14T12:17:12.687Z"
   },
   {
    "duration": 51,
    "start_time": "2021-07-14T12:18:31.818Z"
   },
   {
    "duration": 48,
    "start_time": "2021-07-14T12:21:16.782Z"
   },
   {
    "duration": 43,
    "start_time": "2021-07-14T12:21:50.416Z"
   },
   {
    "duration": 45,
    "start_time": "2021-07-14T12:22:06.308Z"
   },
   {
    "duration": 44,
    "start_time": "2021-07-14T12:22:14.134Z"
   },
   {
    "duration": 45,
    "start_time": "2021-07-14T12:22:16.541Z"
   },
   {
    "duration": 43,
    "start_time": "2021-07-14T12:22:19.277Z"
   },
   {
    "duration": 45,
    "start_time": "2021-07-14T12:23:06.656Z"
   },
   {
    "duration": 45,
    "start_time": "2021-07-14T12:23:10.974Z"
   },
   {
    "duration": 43,
    "start_time": "2021-07-14T12:24:30.996Z"
   },
   {
    "duration": 44,
    "start_time": "2021-07-14T12:26:10.334Z"
   },
   {
    "duration": 45,
    "start_time": "2021-07-14T12:26:17.139Z"
   },
   {
    "duration": 44,
    "start_time": "2021-07-14T12:26:50.123Z"
   },
   {
    "duration": 44,
    "start_time": "2021-07-14T12:27:20.515Z"
   },
   {
    "duration": 13,
    "start_time": "2021-07-14T12:27:36.531Z"
   },
   {
    "duration": 14,
    "start_time": "2021-07-14T12:27:36.854Z"
   },
   {
    "duration": 13,
    "start_time": "2021-07-14T12:27:37.279Z"
   },
   {
    "duration": 46,
    "start_time": "2021-07-14T12:27:37.720Z"
   },
   {
    "duration": 53,
    "start_time": "2021-07-14T12:28:07.796Z"
   },
   {
    "duration": 324,
    "start_time": "2021-07-14T12:44:22.091Z"
   },
   {
    "duration": 5448,
    "start_time": "2021-07-14T12:44:38.590Z"
   },
   {
    "duration": 25,
    "start_time": "2021-07-14T12:44:47.483Z"
   },
   {
    "duration": 275,
    "start_time": "2021-07-14T12:45:19.508Z"
   },
   {
    "duration": 297,
    "start_time": "2021-07-14T12:45:28.670Z"
   },
   {
    "duration": 27,
    "start_time": "2021-07-14T12:47:44.853Z"
   },
   {
    "duration": 29,
    "start_time": "2021-07-14T12:49:10.887Z"
   },
   {
    "duration": 23,
    "start_time": "2021-07-14T12:50:11.819Z"
   },
   {
    "duration": 12,
    "start_time": "2021-07-14T12:50:18.569Z"
   },
   {
    "duration": 21,
    "start_time": "2021-07-14T12:50:33.027Z"
   },
   {
    "duration": 10,
    "start_time": "2021-07-14T12:50:33.507Z"
   },
   {
    "duration": 23,
    "start_time": "2021-07-14T12:50:46.685Z"
   },
   {
    "duration": 10,
    "start_time": "2021-07-14T12:50:47.139Z"
   },
   {
    "duration": 269,
    "start_time": "2021-07-14T12:51:21.207Z"
   },
   {
    "duration": 276,
    "start_time": "2021-07-14T12:51:32.162Z"
   },
   {
    "duration": 6994,
    "start_time": "2021-07-14T12:53:18.257Z"
   },
   {
    "duration": 771,
    "start_time": "2021-07-14T12:53:33.018Z"
   },
   {
    "duration": 758,
    "start_time": "2021-07-14T12:53:44.194Z"
   },
   {
    "duration": 774,
    "start_time": "2021-07-14T12:53:49.182Z"
   },
   {
    "duration": 1004,
    "start_time": "2021-07-14T12:53:54.140Z"
   },
   {
    "duration": 834,
    "start_time": "2021-07-14T12:54:21.732Z"
   },
   {
    "duration": 815,
    "start_time": "2021-07-14T12:54:25.422Z"
   },
   {
    "duration": 23,
    "start_time": "2021-07-14T13:01:39.817Z"
   },
   {
    "duration": 10,
    "start_time": "2021-07-14T13:01:41.425Z"
   },
   {
    "duration": 25,
    "start_time": "2021-07-14T13:02:05.898Z"
   },
   {
    "duration": 10,
    "start_time": "2021-07-14T13:02:06.619Z"
   },
   {
    "duration": 317,
    "start_time": "2021-07-14T13:05:04.140Z"
   },
   {
    "duration": 51,
    "start_time": "2021-07-14T13:05:08.162Z"
   },
   {
    "duration": 53,
    "start_time": "2021-07-14T13:05:24.540Z"
   },
   {
    "duration": 31,
    "start_time": "2021-07-14T13:06:09.855Z"
   },
   {
    "duration": 33,
    "start_time": "2021-07-14T13:06:57.512Z"
   },
   {
    "duration": 22,
    "start_time": "2021-07-14T13:07:10.461Z"
   },
   {
    "duration": 9,
    "start_time": "2021-07-14T13:07:42.686Z"
   },
   {
    "duration": 16,
    "start_time": "2021-07-14T13:07:47.068Z"
   },
   {
    "duration": 1102,
    "start_time": "2021-07-15T05:19:18.306Z"
   },
   {
    "duration": 302,
    "start_time": "2021-07-15T05:19:19.410Z"
   },
   {
    "duration": 11,
    "start_time": "2021-07-15T05:19:19.713Z"
   },
   {
    "duration": 19,
    "start_time": "2021-07-15T05:19:19.726Z"
   },
   {
    "duration": 6,
    "start_time": "2021-07-15T05:19:19.747Z"
   },
   {
    "duration": 9,
    "start_time": "2021-07-15T05:19:19.754Z"
   },
   {
    "duration": 10,
    "start_time": "2021-07-15T05:19:19.764Z"
   },
   {
    "duration": 10,
    "start_time": "2021-07-15T05:19:19.776Z"
   },
   {
    "duration": 12,
    "start_time": "2021-07-15T05:19:19.788Z"
   },
   {
    "duration": 12,
    "start_time": "2021-07-15T05:19:19.801Z"
   },
   {
    "duration": 656,
    "start_time": "2021-07-15T05:19:19.815Z"
   },
   {
    "duration": 317,
    "start_time": "2021-07-15T05:19:20.473Z"
   },
   {
    "duration": 4,
    "start_time": "2021-07-15T05:19:20.792Z"
   },
   {
    "duration": 6,
    "start_time": "2021-07-15T05:19:20.798Z"
   },
   {
    "duration": 5,
    "start_time": "2021-07-15T05:19:20.806Z"
   },
   {
    "duration": 5,
    "start_time": "2021-07-15T05:19:20.813Z"
   },
   {
    "duration": 16,
    "start_time": "2021-07-15T05:19:20.819Z"
   },
   {
    "duration": 8,
    "start_time": "2021-07-15T05:19:20.836Z"
   },
   {
    "duration": 3,
    "start_time": "2021-07-15T05:19:20.846Z"
   },
   {
    "duration": 39,
    "start_time": "2021-07-15T05:19:20.850Z"
   },
   {
    "duration": 11,
    "start_time": "2021-07-15T05:19:20.890Z"
   },
   {
    "duration": 9,
    "start_time": "2021-07-15T05:19:20.903Z"
   },
   {
    "duration": 10,
    "start_time": "2021-07-15T05:19:20.915Z"
   },
   {
    "duration": 2,
    "start_time": "2021-07-15T05:19:20.928Z"
   },
   {
    "duration": 6,
    "start_time": "2021-07-15T05:19:20.932Z"
   },
   {
    "duration": 5,
    "start_time": "2021-07-15T05:19:20.940Z"
   },
   {
    "duration": 40,
    "start_time": "2021-07-15T05:19:20.947Z"
   },
   {
    "duration": 6,
    "start_time": "2021-07-15T05:19:20.989Z"
   },
   {
    "duration": 24,
    "start_time": "2021-07-15T05:19:20.997Z"
   },
   {
    "duration": 11,
    "start_time": "2021-07-15T05:19:21.022Z"
   },
   {
    "duration": 14,
    "start_time": "2021-07-15T05:19:21.034Z"
   },
   {
    "duration": 38,
    "start_time": "2021-07-15T05:19:21.049Z"
   },
   {
    "duration": 6,
    "start_time": "2021-07-15T05:19:21.089Z"
   },
   {
    "duration": 6,
    "start_time": "2021-07-15T05:19:21.097Z"
   },
   {
    "duration": 21,
    "start_time": "2021-07-15T05:19:21.104Z"
   },
   {
    "duration": 18,
    "start_time": "2021-07-15T05:19:21.127Z"
   },
   {
    "duration": 7,
    "start_time": "2021-07-15T05:19:21.146Z"
   },
   {
    "duration": 38,
    "start_time": "2021-07-15T05:19:21.154Z"
   },
   {
    "duration": 4,
    "start_time": "2021-07-15T05:19:21.194Z"
   },
   {
    "duration": 6,
    "start_time": "2021-07-15T05:19:21.199Z"
   },
   {
    "duration": 10,
    "start_time": "2021-07-15T05:19:21.206Z"
   },
   {
    "duration": 8,
    "start_time": "2021-07-15T05:19:21.217Z"
   },
   {
    "duration": 21,
    "start_time": "2021-07-15T05:19:21.227Z"
   },
   {
    "duration": 46,
    "start_time": "2021-07-15T05:19:21.250Z"
   },
   {
    "duration": 25,
    "start_time": "2021-07-15T05:19:21.298Z"
   },
   {
    "duration": 4,
    "start_time": "2021-07-15T05:19:21.325Z"
   },
   {
    "duration": 18,
    "start_time": "2021-07-15T05:19:21.330Z"
   },
   {
    "duration": 5,
    "start_time": "2021-07-15T05:19:21.350Z"
   },
   {
    "duration": 30,
    "start_time": "2021-07-15T05:19:21.357Z"
   },
   {
    "duration": 4,
    "start_time": "2021-07-15T05:19:21.389Z"
   },
   {
    "duration": 9,
    "start_time": "2021-07-15T05:19:21.394Z"
   },
   {
    "duration": 9,
    "start_time": "2021-07-15T05:19:21.404Z"
   },
   {
    "duration": 11,
    "start_time": "2021-07-15T05:19:21.414Z"
   },
   {
    "duration": 220,
    "start_time": "2021-07-15T05:19:21.427Z"
   },
   {
    "duration": 12,
    "start_time": "2021-07-15T05:19:21.649Z"
   },
   {
    "duration": 25,
    "start_time": "2021-07-15T05:19:21.662Z"
   },
   {
    "duration": 5,
    "start_time": "2021-07-15T05:19:21.689Z"
   },
   {
    "duration": 11,
    "start_time": "2021-07-15T05:19:21.696Z"
   },
   {
    "duration": 99,
    "start_time": "2021-07-15T05:19:21.709Z"
   },
   {
    "duration": 6,
    "start_time": "2021-07-15T05:19:21.810Z"
   },
   {
    "duration": 6,
    "start_time": "2021-07-15T05:19:21.818Z"
   },
   {
    "duration": 12,
    "start_time": "2021-07-15T05:19:21.826Z"
   },
   {
    "duration": 586,
    "start_time": "2021-07-15T05:19:21.840Z"
   },
   {
    "duration": 176,
    "start_time": "2021-07-15T05:19:22.428Z"
   },
   {
    "duration": 170,
    "start_time": "2021-07-15T05:19:22.606Z"
   },
   {
    "duration": 28,
    "start_time": "2021-07-15T05:19:22.778Z"
   },
   {
    "duration": 9,
    "start_time": "2021-07-15T05:19:22.807Z"
   },
   {
    "duration": 8,
    "start_time": "2021-07-15T05:19:22.821Z"
   },
   {
    "duration": 8,
    "start_time": "2021-07-15T05:19:22.831Z"
   },
   {
    "duration": 58,
    "start_time": "2021-07-15T05:19:22.841Z"
   },
   {
    "duration": 14,
    "start_time": "2021-07-15T05:19:22.901Z"
   },
   {
    "duration": 17,
    "start_time": "2021-07-15T05:19:22.917Z"
   },
   {
    "duration": 6,
    "start_time": "2021-07-15T05:19:22.935Z"
   },
   {
    "duration": 16,
    "start_time": "2021-07-15T05:19:22.943Z"
   },
   {
    "duration": 594,
    "start_time": "2021-07-15T05:19:22.961Z"
   },
   {
    "duration": 213,
    "start_time": "2021-07-15T05:19:23.557Z"
   },
   {
    "duration": 191,
    "start_time": "2021-07-15T05:19:23.771Z"
   },
   {
    "duration": 8,
    "start_time": "2021-07-15T05:35:11.591Z"
   },
   {
    "duration": 11,
    "start_time": "2021-07-15T05:35:30.682Z"
   },
   {
    "duration": 12,
    "start_time": "2021-07-15T05:35:38.637Z"
   },
   {
    "duration": 7,
    "start_time": "2021-07-15T05:35:44.160Z"
   },
   {
    "duration": 12,
    "start_time": "2021-07-15T05:36:09.182Z"
   },
   {
    "duration": 8,
    "start_time": "2021-07-15T05:36:40.360Z"
   },
   {
    "duration": 254,
    "start_time": "2021-07-15T05:37:08.433Z"
   },
   {
    "duration": 179,
    "start_time": "2021-07-15T05:37:13.760Z"
   },
   {
    "duration": 9,
    "start_time": "2021-07-15T05:37:36.236Z"
   },
   {
    "duration": 12,
    "start_time": "2021-07-15T05:37:52.525Z"
   },
   {
    "duration": 9,
    "start_time": "2021-07-15T05:38:09.574Z"
   },
   {
    "duration": 7,
    "start_time": "2021-07-15T05:38:18.958Z"
   },
   {
    "duration": 198,
    "start_time": "2021-07-15T05:41:58.680Z"
   },
   {
    "duration": 539,
    "start_time": "2021-07-15T05:42:31.962Z"
   },
   {
    "duration": 489,
    "start_time": "2021-07-15T05:42:44.181Z"
   },
   {
    "duration": 378,
    "start_time": "2021-07-15T05:43:17.959Z"
   },
   {
    "duration": 383,
    "start_time": "2021-07-15T05:43:28.522Z"
   },
   {
    "duration": 378,
    "start_time": "2021-07-15T05:46:03.170Z"
   },
   {
    "duration": 385,
    "start_time": "2021-07-15T05:46:32.836Z"
   },
   {
    "duration": 391,
    "start_time": "2021-07-15T05:46:44.387Z"
   },
   {
    "duration": 477,
    "start_time": "2021-07-15T05:46:54.397Z"
   },
   {
    "duration": 28,
    "start_time": "2021-07-15T05:48:32.752Z"
   },
   {
    "duration": 25,
    "start_time": "2021-07-15T05:50:34.017Z"
   },
   {
    "duration": 23,
    "start_time": "2021-07-15T05:51:28.371Z"
   },
   {
    "duration": 4,
    "start_time": "2021-07-15T05:52:05.300Z"
   },
   {
    "duration": 179,
    "start_time": "2021-07-15T05:52:24.778Z"
   },
   {
    "duration": 5,
    "start_time": "2021-07-15T05:52:29.962Z"
   },
   {
    "duration": 8,
    "start_time": "2021-07-15T05:53:11.830Z"
   },
   {
    "duration": 3,
    "start_time": "2021-07-15T05:54:36.314Z"
   },
   {
    "duration": 4,
    "start_time": "2021-07-15T05:54:50.381Z"
   },
   {
    "duration": 344,
    "start_time": "2021-07-15T05:55:38.797Z"
   },
   {
    "duration": 8,
    "start_time": "2021-07-15T05:55:51.364Z"
   },
   {
    "duration": 4,
    "start_time": "2021-07-15T05:56:03.948Z"
   },
   {
    "duration": 5,
    "start_time": "2021-07-15T05:56:29.515Z"
   },
   {
    "duration": 3,
    "start_time": "2021-07-15T05:56:42.340Z"
   },
   {
    "duration": 3,
    "start_time": "2021-07-15T05:57:23.505Z"
   },
   {
    "duration": 4,
    "start_time": "2021-07-15T05:57:28.047Z"
   },
   {
    "duration": 4,
    "start_time": "2021-07-15T05:59:07.409Z"
   },
   {
    "duration": 6,
    "start_time": "2021-07-15T05:59:07.414Z"
   },
   {
    "duration": 343,
    "start_time": "2021-07-15T05:59:07.422Z"
   },
   {
    "duration": 4,
    "start_time": "2021-07-15T05:59:07.865Z"
   },
   {
    "duration": 3,
    "start_time": "2021-07-15T05:59:21.226Z"
   },
   {
    "duration": 4,
    "start_time": "2021-07-15T05:59:22.060Z"
   },
   {
    "duration": 357,
    "start_time": "2021-07-15T05:59:22.333Z"
   },
   {
    "duration": 3,
    "start_time": "2021-07-15T05:59:33.601Z"
   },
   {
    "duration": 3,
    "start_time": "2021-07-15T05:59:34.044Z"
   },
   {
    "duration": 3,
    "start_time": "2021-07-15T05:59:34.358Z"
   },
   {
    "duration": 5,
    "start_time": "2021-07-15T05:59:36.236Z"
   },
   {
    "duration": 4,
    "start_time": "2021-07-15T06:00:54.190Z"
   },
   {
    "duration": 9,
    "start_time": "2021-07-15T06:00:55.398Z"
   },
   {
    "duration": 10,
    "start_time": "2021-07-15T06:00:55.667Z"
   },
   {
    "duration": 29,
    "start_time": "2021-07-15T06:00:55.960Z"
   },
   {
    "duration": 316,
    "start_time": "2021-07-15T06:01:21.676Z"
   },
   {
    "duration": 30,
    "start_time": "2021-07-15T06:01:33.355Z"
   },
   {
    "duration": 30,
    "start_time": "2021-07-15T06:02:37.043Z"
   },
   {
    "duration": 1164,
    "start_time": "2021-07-15T06:05:28.668Z"
   },
   {
    "duration": 347,
    "start_time": "2021-07-15T06:05:29.833Z"
   },
   {
    "duration": 15,
    "start_time": "2021-07-15T06:05:30.181Z"
   },
   {
    "duration": 18,
    "start_time": "2021-07-15T06:05:30.199Z"
   },
   {
    "duration": 5,
    "start_time": "2021-07-15T06:05:30.218Z"
   },
   {
    "duration": 18,
    "start_time": "2021-07-15T06:05:30.225Z"
   },
   {
    "duration": 19,
    "start_time": "2021-07-15T06:05:30.245Z"
   },
   {
    "duration": 10,
    "start_time": "2021-07-15T06:05:30.267Z"
   },
   {
    "duration": 19,
    "start_time": "2021-07-15T06:05:30.284Z"
   },
   {
    "duration": 14,
    "start_time": "2021-07-15T06:05:30.305Z"
   },
   {
    "duration": 647,
    "start_time": "2021-07-15T06:05:30.321Z"
   },
   {
    "duration": 294,
    "start_time": "2021-07-15T06:05:30.970Z"
   },
   {
    "duration": 3,
    "start_time": "2021-07-15T06:05:31.266Z"
   },
   {
    "duration": 7,
    "start_time": "2021-07-15T06:05:31.270Z"
   },
   {
    "duration": 8,
    "start_time": "2021-07-15T06:05:31.278Z"
   },
   {
    "duration": 7,
    "start_time": "2021-07-15T06:05:31.288Z"
   },
   {
    "duration": 18,
    "start_time": "2021-07-15T06:05:31.298Z"
   },
   {
    "duration": 9,
    "start_time": "2021-07-15T06:05:31.317Z"
   },
   {
    "duration": 5,
    "start_time": "2021-07-15T06:05:31.328Z"
   },
   {
    "duration": 9,
    "start_time": "2021-07-15T06:05:31.335Z"
   },
   {
    "duration": 6,
    "start_time": "2021-07-15T06:05:31.346Z"
   },
   {
    "duration": 10,
    "start_time": "2021-07-15T06:05:31.354Z"
   },
   {
    "duration": 24,
    "start_time": "2021-07-15T06:05:31.368Z"
   },
   {
    "duration": 4,
    "start_time": "2021-07-15T06:05:31.396Z"
   },
   {
    "duration": 7,
    "start_time": "2021-07-15T06:05:31.402Z"
   },
   {
    "duration": 10,
    "start_time": "2021-07-15T06:05:31.411Z"
   },
   {
    "duration": 12,
    "start_time": "2021-07-15T06:05:31.423Z"
   },
   {
    "duration": 8,
    "start_time": "2021-07-15T06:05:31.437Z"
   },
   {
    "duration": 58,
    "start_time": "2021-07-15T06:05:31.446Z"
   },
   {
    "duration": 10,
    "start_time": "2021-07-15T06:05:31.506Z"
   },
   {
    "duration": 15,
    "start_time": "2021-07-15T06:05:31.518Z"
   },
   {
    "duration": 8,
    "start_time": "2021-07-15T06:05:31.534Z"
   },
   {
    "duration": 9,
    "start_time": "2021-07-15T06:05:31.544Z"
   },
   {
    "duration": 30,
    "start_time": "2021-07-15T06:05:31.555Z"
   },
   {
    "duration": 28,
    "start_time": "2021-07-15T06:05:31.588Z"
   },
   {
    "duration": 17,
    "start_time": "2021-07-15T06:05:31.617Z"
   },
   {
    "duration": 7,
    "start_time": "2021-07-15T06:05:31.636Z"
   },
   {
    "duration": 14,
    "start_time": "2021-07-15T06:05:31.645Z"
   },
   {
    "duration": 26,
    "start_time": "2021-07-15T06:05:31.661Z"
   },
   {
    "duration": 7,
    "start_time": "2021-07-15T06:05:31.689Z"
   },
   {
    "duration": 15,
    "start_time": "2021-07-15T06:05:31.698Z"
   },
   {
    "duration": 10,
    "start_time": "2021-07-15T06:05:31.714Z"
   },
   {
    "duration": 20,
    "start_time": "2021-07-15T06:05:31.725Z"
   },
   {
    "duration": 43,
    "start_time": "2021-07-15T06:05:31.747Z"
   },
   {
    "duration": 31,
    "start_time": "2021-07-15T06:05:31.792Z"
   },
   {
    "duration": 4,
    "start_time": "2021-07-15T06:05:31.824Z"
   },
   {
    "duration": 19,
    "start_time": "2021-07-15T06:05:31.830Z"
   },
   {
    "duration": 5,
    "start_time": "2021-07-15T06:05:31.851Z"
   },
   {
    "duration": 28,
    "start_time": "2021-07-15T06:05:31.857Z"
   },
   {
    "duration": 3,
    "start_time": "2021-07-15T06:05:31.887Z"
   },
   {
    "duration": 18,
    "start_time": "2021-07-15T06:05:31.892Z"
   },
   {
    "duration": 11,
    "start_time": "2021-07-15T06:05:31.911Z"
   },
   {
    "duration": 11,
    "start_time": "2021-07-15T06:05:31.924Z"
   },
   {
    "duration": 227,
    "start_time": "2021-07-15T06:05:31.936Z"
   },
   {
    "duration": 21,
    "start_time": "2021-07-15T06:05:32.165Z"
   },
   {
    "duration": 15,
    "start_time": "2021-07-15T06:05:32.189Z"
   },
   {
    "duration": 6,
    "start_time": "2021-07-15T06:05:32.205Z"
   },
   {
    "duration": 6,
    "start_time": "2021-07-15T06:05:32.212Z"
   },
   {
    "duration": 110,
    "start_time": "2021-07-15T06:05:32.220Z"
   },
   {
    "duration": 12,
    "start_time": "2021-07-15T06:05:32.332Z"
   },
   {
    "duration": 9,
    "start_time": "2021-07-15T06:05:32.346Z"
   },
   {
    "duration": 19,
    "start_time": "2021-07-15T06:05:32.356Z"
   },
   {
    "duration": 587,
    "start_time": "2021-07-15T06:05:32.376Z"
   },
   {
    "duration": 180,
    "start_time": "2021-07-15T06:05:32.965Z"
   },
   {
    "duration": 180,
    "start_time": "2021-07-15T06:05:33.146Z"
   },
   {
    "duration": 22,
    "start_time": "2021-07-15T06:05:33.327Z"
   },
   {
    "duration": 3,
    "start_time": "2021-07-15T06:05:33.350Z"
   },
   {
    "duration": 3,
    "start_time": "2021-07-15T06:05:33.358Z"
   },
   {
    "duration": 24,
    "start_time": "2021-07-15T06:05:33.362Z"
   },
   {
    "duration": 8,
    "start_time": "2021-07-15T06:05:33.388Z"
   },
   {
    "duration": 12,
    "start_time": "2021-07-15T06:05:33.398Z"
   },
   {
    "duration": 3,
    "start_time": "2021-07-15T06:05:33.412Z"
   },
   {
    "duration": 9,
    "start_time": "2021-07-15T06:05:33.417Z"
   },
   {
    "duration": 8,
    "start_time": "2021-07-15T06:05:33.428Z"
   },
   {
    "duration": 55,
    "start_time": "2021-07-15T06:05:33.437Z"
   },
   {
    "duration": 16,
    "start_time": "2021-07-15T06:05:33.494Z"
   },
   {
    "duration": 14,
    "start_time": "2021-07-15T06:05:33.512Z"
   },
   {
    "duration": 6,
    "start_time": "2021-07-15T06:05:33.527Z"
   },
   {
    "duration": 11,
    "start_time": "2021-07-15T06:05:33.534Z"
   },
   {
    "duration": 435,
    "start_time": "2021-07-15T06:05:33.546Z"
   },
   {
    "duration": 218,
    "start_time": "2021-07-15T06:05:33.985Z"
   },
   {
    "duration": 186,
    "start_time": "2021-07-15T06:05:34.205Z"
   },
   {
    "duration": 10,
    "start_time": "2021-07-15T06:05:34.393Z"
   },
   {
    "duration": 6,
    "start_time": "2021-07-15T06:05:34.405Z"
   },
   {
    "duration": 8,
    "start_time": "2021-07-15T06:05:34.412Z"
   },
   {
    "duration": 5,
    "start_time": "2021-07-15T06:05:34.422Z"
   },
   {
    "duration": 14,
    "start_time": "2021-07-15T06:05:34.428Z"
   },
   {
    "duration": 7,
    "start_time": "2021-07-15T06:22:47.012Z"
   },
   {
    "duration": 11,
    "start_time": "2021-07-15T06:23:19.484Z"
   },
   {
    "duration": 12,
    "start_time": "2021-07-15T06:23:26.545Z"
   },
   {
    "duration": 27,
    "start_time": "2021-07-15T06:23:40.602Z"
   },
   {
    "duration": 28,
    "start_time": "2021-07-15T06:24:31.444Z"
   },
   {
    "duration": 29,
    "start_time": "2021-07-15T06:25:16.277Z"
   },
   {
    "duration": 338,
    "start_time": "2021-07-15T06:29:48.890Z"
   },
   {
    "duration": 191,
    "start_time": "2021-07-15T06:29:57.159Z"
   },
   {
    "duration": 28,
    "start_time": "2021-07-15T06:30:24.197Z"
   },
   {
    "duration": 11,
    "start_time": "2021-07-15T06:31:05.835Z"
   },
   {
    "duration": 5,
    "start_time": "2021-07-15T06:31:56.148Z"
   },
   {
    "duration": 12,
    "start_time": "2021-07-15T06:32:00.256Z"
   },
   {
    "duration": 3,
    "start_time": "2021-07-15T06:43:38.337Z"
   },
   {
    "duration": 216,
    "start_time": "2021-07-15T06:44:08.026Z"
   },
   {
    "duration": 177,
    "start_time": "2021-07-15T07:17:18.314Z"
   },
   {
    "duration": 180,
    "start_time": "2021-07-15T07:17:46.965Z"
   },
   {
    "duration": 583,
    "start_time": "2021-07-15T07:18:16.707Z"
   },
   {
    "duration": 496,
    "start_time": "2021-07-15T07:18:51.608Z"
   },
   {
    "duration": 371,
    "start_time": "2021-07-15T07:19:07.063Z"
   },
   {
    "duration": 397,
    "start_time": "2021-07-15T07:21:00.571Z"
   },
   {
    "duration": 392,
    "start_time": "2021-07-15T07:21:37.156Z"
   },
   {
    "duration": 152,
    "start_time": "2021-07-15T07:22:18.581Z"
   },
   {
    "duration": 332,
    "start_time": "2021-07-15T07:29:28.070Z"
   },
   {
    "duration": 332,
    "start_time": "2021-07-15T07:30:12.094Z"
   },
   {
    "duration": 336,
    "start_time": "2021-07-15T07:31:10.486Z"
   },
   {
    "duration": 26,
    "start_time": "2021-07-15T07:33:10.412Z"
   },
   {
    "duration": 10,
    "start_time": "2021-07-15T07:34:07.856Z"
   },
   {
    "duration": 7,
    "start_time": "2021-07-15T07:34:58.462Z"
   },
   {
    "duration": 6,
    "start_time": "2021-07-15T07:35:14.710Z"
   },
   {
    "duration": 5,
    "start_time": "2021-07-15T07:39:09.023Z"
   },
   {
    "duration": 8,
    "start_time": "2021-07-15T07:39:33.507Z"
   },
   {
    "duration": 6,
    "start_time": "2021-07-15T07:41:10.713Z"
   },
   {
    "duration": 6,
    "start_time": "2021-07-15T07:41:30.924Z"
   },
   {
    "duration": 8,
    "start_time": "2021-07-15T07:43:45.738Z"
   },
   {
    "duration": 7,
    "start_time": "2021-07-15T07:43:56.260Z"
   },
   {
    "duration": 8,
    "start_time": "2021-07-15T07:46:14.782Z"
   },
   {
    "duration": 10,
    "start_time": "2021-07-15T07:48:13.620Z"
   },
   {
    "duration": 9,
    "start_time": "2021-07-15T07:48:42.164Z"
   },
   {
    "duration": 10,
    "start_time": "2021-07-15T07:49:13.222Z"
   },
   {
    "duration": 10,
    "start_time": "2021-07-15T07:49:50.982Z"
   },
   {
    "duration": 10,
    "start_time": "2021-07-15T07:50:20.141Z"
   },
   {
    "duration": 10,
    "start_time": "2021-07-15T07:50:33.581Z"
   },
   {
    "duration": 11,
    "start_time": "2021-07-15T08:00:54.197Z"
   },
   {
    "duration": 12,
    "start_time": "2021-07-15T08:01:18.216Z"
   },
   {
    "duration": 84,
    "start_time": "2021-07-15T08:01:59.610Z"
   },
   {
    "duration": 12,
    "start_time": "2021-07-15T08:02:04.736Z"
   },
   {
    "duration": 16,
    "start_time": "2021-07-15T08:02:16.293Z"
   },
   {
    "duration": 10,
    "start_time": "2021-07-15T08:02:55.129Z"
   },
   {
    "duration": 11,
    "start_time": "2021-07-15T08:03:25.936Z"
   },
   {
    "duration": 11,
    "start_time": "2021-07-15T08:03:55.577Z"
   },
   {
    "duration": 7,
    "start_time": "2021-07-15T08:10:45.821Z"
   },
   {
    "duration": 8,
    "start_time": "2021-07-15T08:12:27.322Z"
   },
   {
    "duration": 14,
    "start_time": "2021-07-15T08:14:09.002Z"
   },
   {
    "duration": 266,
    "start_time": "2021-07-15T08:15:07.018Z"
   },
   {
    "duration": 62,
    "start_time": "2021-07-15T08:16:01.152Z"
   },
   {
    "duration": 58,
    "start_time": "2021-07-15T08:16:10.661Z"
   },
   {
    "duration": 65,
    "start_time": "2021-07-15T08:16:16.147Z"
   },
   {
    "duration": 25,
    "start_time": "2021-07-15T08:16:21.141Z"
   },
   {
    "duration": 24,
    "start_time": "2021-07-15T08:16:51.120Z"
   },
   {
    "duration": 203,
    "start_time": "2021-07-15T08:17:05.054Z"
   },
   {
    "duration": 24,
    "start_time": "2021-07-15T08:17:11.480Z"
   },
   {
    "duration": 24,
    "start_time": "2021-07-15T08:17:17.964Z"
   },
   {
    "duration": 19,
    "start_time": "2021-07-15T08:17:54.100Z"
   },
   {
    "duration": 9,
    "start_time": "2021-07-15T08:18:58.718Z"
   },
   {
    "duration": 11,
    "start_time": "2021-07-15T08:22:23.455Z"
   },
   {
    "duration": 9,
    "start_time": "2021-07-15T08:41:25.082Z"
   },
   {
    "duration": 8,
    "start_time": "2021-07-15T08:41:33.648Z"
   },
   {
    "duration": 13,
    "start_time": "2021-07-15T08:48:53.479Z"
   },
   {
    "duration": 22,
    "start_time": "2021-07-15T08:54:36.840Z"
   },
   {
    "duration": 22,
    "start_time": "2021-07-15T08:55:12.059Z"
   },
   {
    "duration": 16,
    "start_time": "2021-07-15T08:55:45.059Z"
   },
   {
    "duration": 1091,
    "start_time": "2021-07-15T09:00:51.912Z"
   },
   {
    "duration": 282,
    "start_time": "2021-07-15T09:00:53.004Z"
   },
   {
    "duration": 13,
    "start_time": "2021-07-15T09:00:53.288Z"
   },
   {
    "duration": 19,
    "start_time": "2021-07-15T09:00:53.304Z"
   },
   {
    "duration": 6,
    "start_time": "2021-07-15T09:00:53.325Z"
   },
   {
    "duration": 9,
    "start_time": "2021-07-15T09:00:53.333Z"
   },
   {
    "duration": 8,
    "start_time": "2021-07-15T09:00:53.343Z"
   },
   {
    "duration": 5,
    "start_time": "2021-07-15T09:00:53.386Z"
   },
   {
    "duration": 19,
    "start_time": "2021-07-15T09:00:53.394Z"
   },
   {
    "duration": 12,
    "start_time": "2021-07-15T09:00:53.414Z"
   },
   {
    "duration": 627,
    "start_time": "2021-07-15T09:00:53.427Z"
   },
   {
    "duration": 316,
    "start_time": "2021-07-15T09:00:54.056Z"
   },
   {
    "duration": 3,
    "start_time": "2021-07-15T09:00:54.374Z"
   },
   {
    "duration": 4,
    "start_time": "2021-07-15T09:00:54.379Z"
   },
   {
    "duration": 4,
    "start_time": "2021-07-15T09:00:54.384Z"
   },
   {
    "duration": 4,
    "start_time": "2021-07-15T09:00:54.390Z"
   },
   {
    "duration": 13,
    "start_time": "2021-07-15T09:00:54.395Z"
   },
   {
    "duration": 6,
    "start_time": "2021-07-15T09:00:54.410Z"
   },
   {
    "duration": 3,
    "start_time": "2021-07-15T09:00:54.418Z"
   },
   {
    "duration": 10,
    "start_time": "2021-07-15T09:00:54.423Z"
   },
   {
    "duration": 5,
    "start_time": "2021-07-15T09:00:54.435Z"
   },
   {
    "duration": 9,
    "start_time": "2021-07-15T09:00:54.442Z"
   },
   {
    "duration": 40,
    "start_time": "2021-07-15T09:00:54.455Z"
   },
   {
    "duration": 3,
    "start_time": "2021-07-15T09:00:54.498Z"
   },
   {
    "duration": 14,
    "start_time": "2021-07-15T09:00:54.502Z"
   },
   {
    "duration": 14,
    "start_time": "2021-07-15T09:00:54.517Z"
   },
   {
    "duration": 12,
    "start_time": "2021-07-15T09:00:54.533Z"
   },
   {
    "duration": 7,
    "start_time": "2021-07-15T09:00:54.547Z"
   },
   {
    "duration": 44,
    "start_time": "2021-07-15T09:00:54.555Z"
   },
   {
    "duration": 9,
    "start_time": "2021-07-15T09:00:54.601Z"
   },
   {
    "duration": 13,
    "start_time": "2021-07-15T09:00:54.612Z"
   },
   {
    "duration": 8,
    "start_time": "2021-07-15T09:00:54.627Z"
   },
   {
    "duration": 6,
    "start_time": "2021-07-15T09:00:54.637Z"
   },
   {
    "duration": 7,
    "start_time": "2021-07-15T09:00:54.644Z"
   },
   {
    "duration": 44,
    "start_time": "2021-07-15T09:00:54.652Z"
   },
   {
    "duration": 17,
    "start_time": "2021-07-15T09:00:54.698Z"
   },
   {
    "duration": 7,
    "start_time": "2021-07-15T09:00:54.716Z"
   },
   {
    "duration": 11,
    "start_time": "2021-07-15T09:00:54.725Z"
   },
   {
    "duration": 3,
    "start_time": "2021-07-15T09:00:54.738Z"
   },
   {
    "duration": 5,
    "start_time": "2021-07-15T09:00:54.742Z"
   },
   {
    "duration": 38,
    "start_time": "2021-07-15T09:00:54.749Z"
   },
   {
    "duration": 9,
    "start_time": "2021-07-15T09:00:54.789Z"
   },
   {
    "duration": 25,
    "start_time": "2021-07-15T09:00:54.799Z"
   },
   {
    "duration": 4,
    "start_time": "2021-07-15T09:00:54.825Z"
   },
   {
    "duration": 12,
    "start_time": "2021-07-15T09:00:54.831Z"
   },
   {
    "duration": 45,
    "start_time": "2021-07-15T09:00:54.845Z"
   },
   {
    "duration": 29,
    "start_time": "2021-07-15T09:00:54.892Z"
   },
   {
    "duration": 3,
    "start_time": "2021-07-15T09:00:54.923Z"
   },
   {
    "duration": 19,
    "start_time": "2021-07-15T09:00:54.928Z"
   },
   {
    "duration": 6,
    "start_time": "2021-07-15T09:00:54.948Z"
   },
   {
    "duration": 33,
    "start_time": "2021-07-15T09:00:54.955Z"
   },
   {
    "duration": 3,
    "start_time": "2021-07-15T09:00:54.990Z"
   },
   {
    "duration": 10,
    "start_time": "2021-07-15T09:00:54.995Z"
   },
   {
    "duration": 6,
    "start_time": "2021-07-15T09:00:55.007Z"
   },
   {
    "duration": 12,
    "start_time": "2021-07-15T09:00:55.015Z"
   },
   {
    "duration": 227,
    "start_time": "2021-07-15T09:00:55.029Z"
   },
   {
    "duration": 11,
    "start_time": "2021-07-15T09:00:55.258Z"
   },
   {
    "duration": 12,
    "start_time": "2021-07-15T09:00:55.284Z"
   },
   {
    "duration": 5,
    "start_time": "2021-07-15T09:00:55.297Z"
   },
   {
    "duration": 4,
    "start_time": "2021-07-15T09:00:55.304Z"
   },
   {
    "duration": 99,
    "start_time": "2021-07-15T09:00:55.310Z"
   },
   {
    "duration": 6,
    "start_time": "2021-07-15T09:00:55.410Z"
   },
   {
    "duration": 7,
    "start_time": "2021-07-15T09:00:55.418Z"
   },
   {
    "duration": 10,
    "start_time": "2021-07-15T09:00:55.427Z"
   },
   {
    "duration": 578,
    "start_time": "2021-07-15T09:00:55.439Z"
   },
   {
    "duration": 178,
    "start_time": "2021-07-15T09:00:56.019Z"
   },
   {
    "duration": 174,
    "start_time": "2021-07-15T09:00:56.199Z"
   },
   {
    "duration": 21,
    "start_time": "2021-07-15T09:00:56.386Z"
   },
   {
    "duration": 3,
    "start_time": "2021-07-15T09:00:56.410Z"
   },
   {
    "duration": 8,
    "start_time": "2021-07-15T09:00:56.415Z"
   },
   {
    "duration": 3,
    "start_time": "2021-07-15T09:00:56.425Z"
   },
   {
    "duration": 9,
    "start_time": "2021-07-15T09:00:56.430Z"
   },
   {
    "duration": 3,
    "start_time": "2021-07-15T09:00:56.441Z"
   },
   {
    "duration": 39,
    "start_time": "2021-07-15T09:00:56.446Z"
   },
   {
    "duration": 9,
    "start_time": "2021-07-15T09:00:56.486Z"
   },
   {
    "duration": 30,
    "start_time": "2021-07-15T09:00:56.496Z"
   },
   {
    "duration": 16,
    "start_time": "2021-07-15T09:00:56.527Z"
   },
   {
    "duration": 22,
    "start_time": "2021-07-15T09:00:56.545Z"
   },
   {
    "duration": 6,
    "start_time": "2021-07-15T09:00:56.584Z"
   },
   {
    "duration": 10,
    "start_time": "2021-07-15T09:00:56.592Z"
   },
   {
    "duration": 14,
    "start_time": "2021-07-15T09:00:56.604Z"
   },
   {
    "duration": 10,
    "start_time": "2021-07-15T09:00:56.620Z"
   },
   {
    "duration": 6,
    "start_time": "2021-07-15T09:00:56.631Z"
   },
   {
    "duration": 9,
    "start_time": "2021-07-15T09:00:56.639Z"
   },
   {
    "duration": 42,
    "start_time": "2021-07-15T09:00:56.650Z"
   },
   {
    "duration": 7,
    "start_time": "2021-07-15T09:00:56.694Z"
   },
   {
    "duration": 421,
    "start_time": "2021-07-15T09:00:56.703Z"
   },
   {
    "duration": 19,
    "start_time": "2021-07-15T09:00:57.125Z"
   },
   {
    "duration": 9,
    "start_time": "2021-07-15T09:00:57.146Z"
   },
   {
    "duration": 405,
    "start_time": "2021-07-15T09:00:57.157Z"
   },
   {
    "duration": 341,
    "start_time": "2021-07-15T09:00:57.563Z"
   },
   {
    "duration": 10,
    "start_time": "2021-07-15T09:00:57.906Z"
   },
   {
    "duration": 8,
    "start_time": "2021-07-15T09:00:57.917Z"
   },
   {
    "duration": 371,
    "start_time": "2021-07-15T09:01:35.504Z"
   },
   {
    "duration": 446,
    "start_time": "2021-07-15T09:01:42.147Z"
   },
   {
    "duration": 376,
    "start_time": "2021-07-15T09:01:51.025Z"
   },
   {
    "duration": 369,
    "start_time": "2021-07-15T09:02:01.117Z"
   },
   {
    "duration": 312,
    "start_time": "2021-07-15T09:02:11.872Z"
   },
   {
    "duration": 574,
    "start_time": "2021-07-15T09:02:24.681Z"
   },
   {
    "duration": 331,
    "start_time": "2021-07-15T09:15:03.274Z"
   },
   {
    "duration": 21,
    "start_time": "2021-07-15T09:16:00.266Z"
   },
   {
    "duration": 11,
    "start_time": "2021-07-15T09:16:01.929Z"
   },
   {
    "duration": 13,
    "start_time": "2021-07-15T09:16:30.913Z"
   },
   {
    "duration": 1122,
    "start_time": "2021-07-15T09:17:52.082Z"
   },
   {
    "duration": 273,
    "start_time": "2021-07-15T09:17:53.205Z"
   },
   {
    "duration": 11,
    "start_time": "2021-07-15T09:17:53.480Z"
   },
   {
    "duration": 20,
    "start_time": "2021-07-15T09:17:53.493Z"
   },
   {
    "duration": 7,
    "start_time": "2021-07-15T09:17:53.515Z"
   },
   {
    "duration": 8,
    "start_time": "2021-07-15T09:17:53.523Z"
   },
   {
    "duration": 10,
    "start_time": "2021-07-15T09:17:53.532Z"
   },
   {
    "duration": 4,
    "start_time": "2021-07-15T09:17:53.545Z"
   },
   {
    "duration": 36,
    "start_time": "2021-07-15T09:17:53.551Z"
   },
   {
    "duration": 12,
    "start_time": "2021-07-15T09:17:53.589Z"
   },
   {
    "duration": 557,
    "start_time": "2021-07-15T09:17:53.602Z"
   },
   {
    "duration": 288,
    "start_time": "2021-07-15T09:17:54.161Z"
   },
   {
    "duration": 3,
    "start_time": "2021-07-15T09:17:54.451Z"
   },
   {
    "duration": 6,
    "start_time": "2021-07-15T09:17:54.455Z"
   },
   {
    "duration": 5,
    "start_time": "2021-07-15T09:17:54.463Z"
   },
   {
    "duration": 15,
    "start_time": "2021-07-15T09:17:54.470Z"
   },
   {
    "duration": 16,
    "start_time": "2021-07-15T09:17:54.486Z"
   },
   {
    "duration": 7,
    "start_time": "2021-07-15T09:17:54.503Z"
   },
   {
    "duration": 4,
    "start_time": "2021-07-15T09:17:54.511Z"
   },
   {
    "duration": 14,
    "start_time": "2021-07-15T09:17:54.517Z"
   },
   {
    "duration": 5,
    "start_time": "2021-07-15T09:17:54.533Z"
   },
   {
    "duration": 10,
    "start_time": "2021-07-15T09:17:54.539Z"
   },
   {
    "duration": 34,
    "start_time": "2021-07-15T09:17:54.552Z"
   },
   {
    "duration": 3,
    "start_time": "2021-07-15T09:17:54.588Z"
   },
   {
    "duration": 6,
    "start_time": "2021-07-15T09:17:54.593Z"
   },
   {
    "duration": 6,
    "start_time": "2021-07-15T09:17:54.600Z"
   },
   {
    "duration": 14,
    "start_time": "2021-07-15T09:17:54.607Z"
   },
   {
    "duration": 5,
    "start_time": "2021-07-15T09:17:54.623Z"
   },
   {
    "duration": 22,
    "start_time": "2021-07-15T09:17:54.630Z"
   },
   {
    "duration": 36,
    "start_time": "2021-07-15T09:17:54.654Z"
   },
   {
    "duration": 11,
    "start_time": "2021-07-15T09:17:54.692Z"
   },
   {
    "duration": 8,
    "start_time": "2021-07-15T09:17:54.705Z"
   },
   {
    "duration": 5,
    "start_time": "2021-07-15T09:17:54.715Z"
   },
   {
    "duration": 10,
    "start_time": "2021-07-15T09:17:54.721Z"
   },
   {
    "duration": 21,
    "start_time": "2021-07-15T09:17:54.732Z"
   },
   {
    "duration": 42,
    "start_time": "2021-07-15T09:17:54.755Z"
   },
   {
    "duration": 7,
    "start_time": "2021-07-15T09:17:54.799Z"
   },
   {
    "duration": 12,
    "start_time": "2021-07-15T09:17:54.808Z"
   },
   {
    "duration": 3,
    "start_time": "2021-07-15T09:17:54.821Z"
   },
   {
    "duration": 4,
    "start_time": "2021-07-15T09:17:54.826Z"
   },
   {
    "duration": 8,
    "start_time": "2021-07-15T09:17:54.832Z"
   },
   {
    "duration": 9,
    "start_time": "2021-07-15T09:17:54.842Z"
   },
   {
    "duration": 49,
    "start_time": "2021-07-15T09:17:54.852Z"
   },
   {
    "duration": 4,
    "start_time": "2021-07-15T09:17:54.902Z"
   },
   {
    "duration": 11,
    "start_time": "2021-07-15T09:17:54.908Z"
   },
   {
    "duration": 16,
    "start_time": "2021-07-15T09:17:54.921Z"
   },
   {
    "duration": 55,
    "start_time": "2021-07-15T09:17:54.938Z"
   },
   {
    "duration": 4,
    "start_time": "2021-07-15T09:17:54.994Z"
   },
   {
    "duration": 19,
    "start_time": "2021-07-15T09:17:54.999Z"
   },
   {
    "duration": 5,
    "start_time": "2021-07-15T09:17:55.020Z"
   },
   {
    "duration": 6,
    "start_time": "2021-07-15T09:17:55.027Z"
   },
   {
    "duration": 5,
    "start_time": "2021-07-15T09:17:55.035Z"
   },
   {
    "duration": 16,
    "start_time": "2021-07-15T09:17:55.042Z"
   },
   {
    "duration": 26,
    "start_time": "2021-07-15T09:17:55.059Z"
   },
   {
    "duration": 14,
    "start_time": "2021-07-15T09:17:55.087Z"
   },
   {
    "duration": 209,
    "start_time": "2021-07-15T09:17:55.103Z"
   },
   {
    "duration": 10,
    "start_time": "2021-07-15T09:17:55.314Z"
   },
   {
    "duration": 11,
    "start_time": "2021-07-15T09:17:55.325Z"
   },
   {
    "duration": 4,
    "start_time": "2021-07-15T09:17:55.337Z"
   },
   {
    "duration": 5,
    "start_time": "2021-07-15T09:17:55.343Z"
   },
   {
    "duration": 101,
    "start_time": "2021-07-15T09:17:55.349Z"
   },
   {
    "duration": 5,
    "start_time": "2021-07-15T09:17:55.452Z"
   },
   {
    "duration": 6,
    "start_time": "2021-07-15T09:17:55.459Z"
   },
   {
    "duration": 22,
    "start_time": "2021-07-15T09:17:55.467Z"
   },
   {
    "duration": 541,
    "start_time": "2021-07-15T09:17:55.491Z"
   },
   {
    "duration": 172,
    "start_time": "2021-07-15T09:17:56.034Z"
   },
   {
    "duration": 164,
    "start_time": "2021-07-15T09:17:56.208Z"
   },
   {
    "duration": 21,
    "start_time": "2021-07-15T09:17:56.384Z"
   },
   {
    "duration": 3,
    "start_time": "2021-07-15T09:17:56.407Z"
   },
   {
    "duration": 8,
    "start_time": "2021-07-15T09:17:56.411Z"
   },
   {
    "duration": 3,
    "start_time": "2021-07-15T09:17:56.421Z"
   },
   {
    "duration": 9,
    "start_time": "2021-07-15T09:17:56.426Z"
   },
   {
    "duration": 3,
    "start_time": "2021-07-15T09:17:56.437Z"
   },
   {
    "duration": 9,
    "start_time": "2021-07-15T09:17:56.442Z"
   },
   {
    "duration": 36,
    "start_time": "2021-07-15T09:17:56.452Z"
   },
   {
    "duration": 29,
    "start_time": "2021-07-15T09:17:56.490Z"
   },
   {
    "duration": 15,
    "start_time": "2021-07-15T09:17:56.521Z"
   },
   {
    "duration": 19,
    "start_time": "2021-07-15T09:17:56.538Z"
   },
   {
    "duration": 6,
    "start_time": "2021-07-15T09:17:56.559Z"
   },
   {
    "duration": 9,
    "start_time": "2021-07-15T09:17:56.585Z"
   },
   {
    "duration": 15,
    "start_time": "2021-07-15T09:17:56.596Z"
   },
   {
    "duration": 12,
    "start_time": "2021-07-15T09:17:56.612Z"
   },
   {
    "duration": 6,
    "start_time": "2021-07-15T09:17:56.625Z"
   },
   {
    "duration": 10,
    "start_time": "2021-07-15T09:17:56.633Z"
   },
   {
    "duration": 44,
    "start_time": "2021-07-15T09:17:56.644Z"
   },
   {
    "duration": 7,
    "start_time": "2021-07-15T09:17:56.690Z"
   },
   {
    "duration": 398,
    "start_time": "2021-07-15T09:17:56.698Z"
   },
   {
    "duration": 22,
    "start_time": "2021-07-15T09:17:57.098Z"
   },
   {
    "duration": 12,
    "start_time": "2021-07-15T09:17:57.122Z"
   },
   {
    "duration": 397,
    "start_time": "2021-07-15T09:17:57.136Z"
   },
   {
    "duration": 320,
    "start_time": "2021-07-15T09:17:57.535Z"
   },
   {
    "duration": 10,
    "start_time": "2021-07-15T09:17:57.857Z"
   },
   {
    "duration": 21,
    "start_time": "2021-07-15T09:17:57.869Z"
   },
   {
    "duration": 1597,
    "start_time": "2021-07-15T12:16:07.572Z"
   },
   {
    "duration": 296,
    "start_time": "2021-07-15T12:16:09.171Z"
   },
   {
    "duration": 16,
    "start_time": "2021-07-15T12:16:09.470Z"
   },
   {
    "duration": 27,
    "start_time": "2021-07-15T12:16:09.489Z"
   },
   {
    "duration": 7,
    "start_time": "2021-07-15T12:16:09.518Z"
   },
   {
    "duration": 44,
    "start_time": "2021-07-15T12:16:09.527Z"
   },
   {
    "duration": 10,
    "start_time": "2021-07-15T12:16:09.574Z"
   },
   {
    "duration": 24,
    "start_time": "2021-07-15T12:16:09.586Z"
   },
   {
    "duration": 20,
    "start_time": "2021-07-15T12:16:09.614Z"
   },
   {
    "duration": 33,
    "start_time": "2021-07-15T12:16:09.637Z"
   },
   {
    "duration": 860,
    "start_time": "2021-07-15T12:16:09.673Z"
   },
   {
    "duration": 785,
    "start_time": "2021-07-15T12:16:10.535Z"
   },
   {
    "duration": 4,
    "start_time": "2021-07-15T12:16:11.323Z"
   },
   {
    "duration": 17,
    "start_time": "2021-07-15T12:16:11.329Z"
   },
   {
    "duration": 11,
    "start_time": "2021-07-15T12:16:11.348Z"
   },
   {
    "duration": 15,
    "start_time": "2021-07-15T12:16:11.361Z"
   },
   {
    "duration": 27,
    "start_time": "2021-07-15T12:16:11.378Z"
   },
   {
    "duration": 13,
    "start_time": "2021-07-15T12:16:11.407Z"
   },
   {
    "duration": 9,
    "start_time": "2021-07-15T12:16:11.423Z"
   },
   {
    "duration": 19,
    "start_time": "2021-07-15T12:16:11.435Z"
   },
   {
    "duration": 22,
    "start_time": "2021-07-15T12:16:11.456Z"
   },
   {
    "duration": 19,
    "start_time": "2021-07-15T12:16:11.481Z"
   },
   {
    "duration": 29,
    "start_time": "2021-07-15T12:16:11.503Z"
   },
   {
    "duration": 7,
    "start_time": "2021-07-15T12:16:11.535Z"
   },
   {
    "duration": 12,
    "start_time": "2021-07-15T12:16:11.544Z"
   },
   {
    "duration": 24,
    "start_time": "2021-07-15T12:16:11.558Z"
   },
   {
    "duration": 27,
    "start_time": "2021-07-15T12:16:11.588Z"
   },
   {
    "duration": 9,
    "start_time": "2021-07-15T12:16:11.619Z"
   },
   {
    "duration": 44,
    "start_time": "2021-07-15T12:16:11.630Z"
   },
   {
    "duration": 13,
    "start_time": "2021-07-15T12:16:11.677Z"
   },
   {
    "duration": 21,
    "start_time": "2021-07-15T12:16:11.692Z"
   },
   {
    "duration": 15,
    "start_time": "2021-07-15T12:16:11.715Z"
   },
   {
    "duration": 34,
    "start_time": "2021-07-15T12:16:11.733Z"
   },
   {
    "duration": 24,
    "start_time": "2021-07-15T12:16:11.769Z"
   },
   {
    "duration": 36,
    "start_time": "2021-07-15T12:16:11.796Z"
   },
   {
    "duration": 25,
    "start_time": "2021-07-15T12:16:11.835Z"
   },
   {
    "duration": 10,
    "start_time": "2021-07-15T12:16:11.863Z"
   },
   {
    "duration": 22,
    "start_time": "2021-07-15T12:16:11.875Z"
   },
   {
    "duration": 4,
    "start_time": "2021-07-15T12:16:11.899Z"
   },
   {
    "duration": 14,
    "start_time": "2021-07-15T12:16:11.905Z"
   },
   {
    "duration": 21,
    "start_time": "2021-07-15T12:16:11.922Z"
   },
   {
    "duration": 30,
    "start_time": "2021-07-15T12:16:11.945Z"
   },
   {
    "duration": 36,
    "start_time": "2021-07-15T12:16:11.977Z"
   },
   {
    "duration": 6,
    "start_time": "2021-07-15T12:16:12.015Z"
   },
   {
    "duration": 21,
    "start_time": "2021-07-15T12:16:12.023Z"
   },
   {
    "duration": 26,
    "start_time": "2021-07-15T12:16:12.066Z"
   },
   {
    "duration": 55,
    "start_time": "2021-07-15T12:16:12.094Z"
   },
   {
    "duration": 5,
    "start_time": "2021-07-15T12:16:12.151Z"
   },
   {
    "duration": 38,
    "start_time": "2021-07-15T12:16:12.167Z"
   },
   {
    "duration": 8,
    "start_time": "2021-07-15T12:16:12.207Z"
   },
   {
    "duration": 12,
    "start_time": "2021-07-15T12:16:12.218Z"
   },
   {
    "duration": 5,
    "start_time": "2021-07-15T12:16:12.232Z"
   },
   {
    "duration": 36,
    "start_time": "2021-07-15T12:16:12.239Z"
   },
   {
    "duration": 14,
    "start_time": "2021-07-15T12:16:12.278Z"
   },
   {
    "duration": 16,
    "start_time": "2021-07-15T12:16:12.295Z"
   },
   {
    "duration": 354,
    "start_time": "2021-07-15T12:16:12.313Z"
   },
   {
    "duration": 15,
    "start_time": "2021-07-15T12:16:12.670Z"
   },
   {
    "duration": 16,
    "start_time": "2021-07-15T12:16:12.688Z"
   },
   {
    "duration": 7,
    "start_time": "2021-07-15T12:16:12.707Z"
   },
   {
    "duration": 7,
    "start_time": "2021-07-15T12:16:12.717Z"
   },
   {
    "duration": 145,
    "start_time": "2021-07-15T12:16:12.727Z"
   },
   {
    "duration": 10,
    "start_time": "2021-07-15T12:16:12.874Z"
   },
   {
    "duration": 12,
    "start_time": "2021-07-15T12:16:12.887Z"
   },
   {
    "duration": 21,
    "start_time": "2021-07-15T12:16:12.901Z"
   },
   {
    "duration": 926,
    "start_time": "2021-07-15T12:16:12.924Z"
   },
   {
    "duration": 277,
    "start_time": "2021-07-15T12:16:13.852Z"
   },
   {
    "duration": 280,
    "start_time": "2021-07-15T12:16:14.131Z"
   },
   {
    "duration": 34,
    "start_time": "2021-07-15T12:16:14.413Z"
   },
   {
    "duration": 4,
    "start_time": "2021-07-15T12:16:14.467Z"
   },
   {
    "duration": 11,
    "start_time": "2021-07-15T12:16:14.473Z"
   },
   {
    "duration": 13,
    "start_time": "2021-07-15T12:16:14.486Z"
   },
   {
    "duration": 22,
    "start_time": "2021-07-15T12:16:14.501Z"
   },
   {
    "duration": 8,
    "start_time": "2021-07-15T12:16:14.525Z"
   },
   {
    "duration": 34,
    "start_time": "2021-07-15T12:16:14.536Z"
   },
   {
    "duration": 12,
    "start_time": "2021-07-15T12:16:14.572Z"
   },
   {
    "duration": 81,
    "start_time": "2021-07-15T12:16:14.587Z"
   },
   {
    "duration": 22,
    "start_time": "2021-07-15T12:16:14.671Z"
   },
   {
    "duration": 27,
    "start_time": "2021-07-15T12:16:14.695Z"
   },
   {
    "duration": 8,
    "start_time": "2021-07-15T12:16:14.725Z"
   },
   {
    "duration": 40,
    "start_time": "2021-07-15T12:16:14.735Z"
   },
   {
    "duration": 22,
    "start_time": "2021-07-15T12:16:14.783Z"
   },
   {
    "duration": 18,
    "start_time": "2021-07-15T12:16:14.808Z"
   },
   {
    "duration": 42,
    "start_time": "2021-07-15T12:16:14.829Z"
   },
   {
    "duration": 18,
    "start_time": "2021-07-15T12:16:14.873Z"
   },
   {
    "duration": 17,
    "start_time": "2021-07-15T12:16:14.893Z"
   },
   {
    "duration": 16,
    "start_time": "2021-07-15T12:16:14.912Z"
   },
   {
    "duration": 644,
    "start_time": "2021-07-15T12:16:14.968Z"
   },
   {
    "duration": 33,
    "start_time": "2021-07-15T12:16:15.614Z"
   },
   {
    "duration": 31,
    "start_time": "2021-07-15T12:16:15.650Z"
   },
   {
    "duration": 636,
    "start_time": "2021-07-15T12:16:15.684Z"
   },
   {
    "duration": 653,
    "start_time": "2021-07-15T12:16:16.322Z"
   },
   {
    "duration": 14,
    "start_time": "2021-07-15T12:16:16.977Z"
   },
   {
    "duration": 25,
    "start_time": "2021-07-15T12:16:16.993Z"
   },
   {
    "duration": 316,
    "start_time": "2021-07-16T05:29:53.121Z"
   },
   {
    "duration": 1174,
    "start_time": "2021-07-19T05:06:31.737Z"
   },
   {
    "duration": 544,
    "start_time": "2021-07-19T05:06:32.912Z"
   },
   {
    "duration": 11,
    "start_time": "2021-07-19T05:06:33.458Z"
   },
   {
    "duration": 18,
    "start_time": "2021-07-19T05:06:33.471Z"
   },
   {
    "duration": 12,
    "start_time": "2021-07-19T05:06:33.490Z"
   },
   {
    "duration": 19,
    "start_time": "2021-07-19T05:06:33.503Z"
   },
   {
    "duration": 9,
    "start_time": "2021-07-19T05:06:33.523Z"
   },
   {
    "duration": 9,
    "start_time": "2021-07-19T05:06:33.534Z"
   },
   {
    "duration": 33,
    "start_time": "2021-07-19T05:06:33.545Z"
   },
   {
    "duration": 11,
    "start_time": "2021-07-19T05:06:33.580Z"
   },
   {
    "duration": 594,
    "start_time": "2021-07-19T05:06:33.593Z"
   },
   {
    "duration": 856,
    "start_time": "2021-07-19T05:06:34.188Z"
   },
   {
    "duration": 3,
    "start_time": "2021-07-19T05:06:35.047Z"
   },
   {
    "duration": 5,
    "start_time": "2021-07-19T05:06:35.052Z"
   },
   {
    "duration": 5,
    "start_time": "2021-07-19T05:06:35.058Z"
   },
   {
    "duration": 6,
    "start_time": "2021-07-19T05:06:35.065Z"
   },
   {
    "duration": 13,
    "start_time": "2021-07-19T05:06:35.072Z"
   },
   {
    "duration": 9,
    "start_time": "2021-07-19T05:06:35.086Z"
   },
   {
    "duration": 4,
    "start_time": "2021-07-19T05:06:35.098Z"
   },
   {
    "duration": 8,
    "start_time": "2021-07-19T05:06:35.104Z"
   },
   {
    "duration": 6,
    "start_time": "2021-07-19T05:06:35.141Z"
   },
   {
    "duration": 12,
    "start_time": "2021-07-19T05:06:35.149Z"
   },
   {
    "duration": 12,
    "start_time": "2021-07-19T05:06:35.166Z"
   },
   {
    "duration": 3,
    "start_time": "2021-07-19T05:06:35.181Z"
   },
   {
    "duration": 6,
    "start_time": "2021-07-19T05:06:35.186Z"
   },
   {
    "duration": 5,
    "start_time": "2021-07-19T05:06:35.194Z"
   },
   {
    "duration": 9,
    "start_time": "2021-07-19T05:06:35.201Z"
   },
   {
    "duration": 7,
    "start_time": "2021-07-19T05:06:35.240Z"
   },
   {
    "duration": 27,
    "start_time": "2021-07-19T05:06:35.250Z"
   },
   {
    "duration": 9,
    "start_time": "2021-07-19T05:06:35.278Z"
   },
   {
    "duration": 10,
    "start_time": "2021-07-19T05:06:35.289Z"
   },
   {
    "duration": 7,
    "start_time": "2021-07-19T05:06:35.301Z"
   },
   {
    "duration": 31,
    "start_time": "2021-07-19T05:06:35.310Z"
   },
   {
    "duration": 9,
    "start_time": "2021-07-19T05:06:35.344Z"
   },
   {
    "duration": 25,
    "start_time": "2021-07-19T05:06:35.354Z"
   },
   {
    "duration": 21,
    "start_time": "2021-07-19T05:06:35.381Z"
   },
   {
    "duration": 6,
    "start_time": "2021-07-19T05:06:35.404Z"
   },
   {
    "duration": 11,
    "start_time": "2021-07-19T05:06:35.411Z"
   },
   {
    "duration": 4,
    "start_time": "2021-07-19T05:06:35.440Z"
   },
   {
    "duration": 8,
    "start_time": "2021-07-19T05:06:35.446Z"
   },
   {
    "duration": 11,
    "start_time": "2021-07-19T05:06:35.456Z"
   },
   {
    "duration": 10,
    "start_time": "2021-07-19T05:06:35.469Z"
   },
   {
    "duration": 20,
    "start_time": "2021-07-19T05:06:35.480Z"
   },
   {
    "duration": 4,
    "start_time": "2021-07-19T05:06:35.501Z"
   },
   {
    "duration": 39,
    "start_time": "2021-07-19T05:06:35.507Z"
   },
   {
    "duration": 21,
    "start_time": "2021-07-19T05:06:35.548Z"
   },
   {
    "duration": 24,
    "start_time": "2021-07-19T05:06:35.571Z"
   },
   {
    "duration": 24,
    "start_time": "2021-07-19T05:06:35.597Z"
   },
   {
    "duration": 4,
    "start_time": "2021-07-19T05:06:35.642Z"
   },
   {
    "duration": 22,
    "start_time": "2021-07-19T05:06:35.648Z"
   },
   {
    "duration": 14,
    "start_time": "2021-07-19T05:06:35.672Z"
   },
   {
    "duration": 11,
    "start_time": "2021-07-19T05:06:35.688Z"
   },
   {
    "duration": 4,
    "start_time": "2021-07-19T05:06:35.701Z"
   },
   {
    "duration": 9,
    "start_time": "2021-07-19T05:06:35.707Z"
   },
   {
    "duration": 6,
    "start_time": "2021-07-19T05:06:35.717Z"
   },
   {
    "duration": 27,
    "start_time": "2021-07-19T05:06:35.724Z"
   },
   {
    "duration": 197,
    "start_time": "2021-07-19T05:06:35.753Z"
   },
   {
    "duration": 14,
    "start_time": "2021-07-19T05:06:35.952Z"
   },
   {
    "duration": 21,
    "start_time": "2021-07-19T05:06:35.968Z"
   },
   {
    "duration": 6,
    "start_time": "2021-07-19T05:06:35.990Z"
   },
   {
    "duration": 5,
    "start_time": "2021-07-19T05:06:35.998Z"
   },
   {
    "duration": 114,
    "start_time": "2021-07-19T05:06:36.005Z"
   },
   {
    "duration": 8,
    "start_time": "2021-07-19T05:06:36.121Z"
   },
   {
    "duration": 11,
    "start_time": "2021-07-19T05:06:36.130Z"
   },
   {
    "duration": 12,
    "start_time": "2021-07-19T05:06:36.142Z"
   },
   {
    "duration": 512,
    "start_time": "2021-07-19T05:06:36.155Z"
   },
   {
    "duration": 155,
    "start_time": "2021-07-19T05:06:36.668Z"
   },
   {
    "duration": 160,
    "start_time": "2021-07-19T05:06:36.829Z"
   },
   {
    "duration": 23,
    "start_time": "2021-07-19T05:06:36.992Z"
   },
   {
    "duration": 5,
    "start_time": "2021-07-19T05:06:37.017Z"
   },
   {
    "duration": 4,
    "start_time": "2021-07-19T05:06:37.041Z"
   },
   {
    "duration": 8,
    "start_time": "2021-07-19T05:06:37.046Z"
   },
   {
    "duration": 11,
    "start_time": "2021-07-19T05:06:37.056Z"
   },
   {
    "duration": 5,
    "start_time": "2021-07-19T05:06:37.069Z"
   },
   {
    "duration": 11,
    "start_time": "2021-07-19T05:06:37.076Z"
   },
   {
    "duration": 10,
    "start_time": "2021-07-19T05:06:37.089Z"
   },
   {
    "duration": 55,
    "start_time": "2021-07-19T05:06:37.100Z"
   },
   {
    "duration": 15,
    "start_time": "2021-07-19T05:06:37.156Z"
   },
   {
    "duration": 18,
    "start_time": "2021-07-19T05:06:37.172Z"
   },
   {
    "duration": 6,
    "start_time": "2021-07-19T05:06:37.191Z"
   },
   {
    "duration": 11,
    "start_time": "2021-07-19T05:06:37.199Z"
   },
   {
    "duration": 36,
    "start_time": "2021-07-19T05:06:37.212Z"
   },
   {
    "duration": 13,
    "start_time": "2021-07-19T05:06:37.250Z"
   },
   {
    "duration": 7,
    "start_time": "2021-07-19T05:06:37.265Z"
   },
   {
    "duration": 10,
    "start_time": "2021-07-19T05:06:37.274Z"
   },
   {
    "duration": 15,
    "start_time": "2021-07-19T05:06:37.285Z"
   },
   {
    "duration": 7,
    "start_time": "2021-07-19T05:06:37.301Z"
   },
   {
    "duration": 371,
    "start_time": "2021-07-19T05:06:37.341Z"
   },
   {
    "duration": 29,
    "start_time": "2021-07-19T05:06:37.713Z"
   },
   {
    "duration": 13,
    "start_time": "2021-07-19T05:06:37.744Z"
   },
   {
    "duration": 361,
    "start_time": "2021-07-19T05:06:37.759Z"
   },
   {
    "duration": 304,
    "start_time": "2021-07-19T05:06:38.122Z"
   },
   {
    "duration": 17,
    "start_time": "2021-07-19T05:06:38.428Z"
   },
   {
    "duration": 22,
    "start_time": "2021-07-19T05:06:38.446Z"
   },
   {
    "duration": 10,
    "start_time": "2021-07-19T05:07:55.155Z"
   },
   {
    "duration": 7062,
    "start_time": "2021-07-19T05:08:20.800Z"
   },
   {
    "duration": 23,
    "start_time": "2021-07-19T05:08:37.726Z"
   },
   {
    "duration": 10,
    "start_time": "2021-07-19T05:09:01.166Z"
   },
   {
    "duration": 13,
    "start_time": "2021-07-19T05:09:21.399Z"
   },
   {
    "duration": 15,
    "start_time": "2021-07-19T05:09:44.266Z"
   },
   {
    "duration": 15,
    "start_time": "2021-07-19T05:10:15.193Z"
   },
   {
    "duration": 12,
    "start_time": "2021-07-19T05:10:35.904Z"
   },
   {
    "duration": 11,
    "start_time": "2021-07-19T05:10:47.964Z"
   },
   {
    "duration": 298,
    "start_time": "2021-07-19T05:11:00.660Z"
   },
   {
    "duration": 4,
    "start_time": "2021-07-19T05:11:17.628Z"
   },
   {
    "duration": 284,
    "start_time": "2021-07-19T05:11:25.346Z"
   },
   {
    "duration": 89,
    "start_time": "2021-07-19T05:11:39.484Z"
   },
   {
    "duration": 31,
    "start_time": "2021-07-19T05:11:56.536Z"
   },
   {
    "duration": 51,
    "start_time": "2021-07-19T05:12:35.341Z"
   },
   {
    "duration": 15,
    "start_time": "2021-07-19T05:16:33.676Z"
   },
   {
    "duration": 21,
    "start_time": "2021-07-19T05:17:10.181Z"
   },
   {
    "duration": 12,
    "start_time": "2021-07-19T05:27:54.620Z"
   },
   {
    "duration": 13,
    "start_time": "2021-07-19T05:28:58.750Z"
   },
   {
    "duration": 11,
    "start_time": "2021-07-19T05:29:37.449Z"
   },
   {
    "duration": 278,
    "start_time": "2021-07-19T05:34:11.357Z"
   },
   {
    "duration": 9,
    "start_time": "2021-07-19T05:34:15.806Z"
   },
   {
    "duration": 9,
    "start_time": "2021-07-19T05:34:44.948Z"
   },
   {
    "duration": 9,
    "start_time": "2021-07-19T05:34:48.670Z"
   },
   {
    "duration": 16,
    "start_time": "2021-07-19T05:40:44.432Z"
   },
   {
    "duration": 16,
    "start_time": "2021-07-19T05:41:30.846Z"
   }
  ],
  "colab": {
   "name": "DA+. Сборный проект 1. Шаблон (1).ipynb",
   "provenance": []
  },
  "kernelspec": {
   "display_name": "Python 3",
   "language": "python",
   "name": "python3"
  },
  "language_info": {
   "codemirror_mode": {
    "name": "ipython",
    "version": 3
   },
   "file_extension": ".py",
   "mimetype": "text/x-python",
   "name": "python",
   "nbconvert_exporter": "python",
   "pygments_lexer": "ipython3",
   "version": "3.9.2"
  },
  "toc": {
   "base_numbering": 1,
   "nav_menu": {},
   "number_sections": true,
   "sideBar": true,
   "skip_h1_title": true,
   "title_cell": "Table of Contents",
   "title_sidebar": "Contents",
   "toc_cell": false,
   "toc_position": {
    "height": "calc(100% - 180px)",
    "left": "10px",
    "top": "150px",
    "width": "375.391px"
   },
   "toc_section_display": true,
   "toc_window_display": false
  }
 },
 "nbformat": 4,
 "nbformat_minor": 1
}
